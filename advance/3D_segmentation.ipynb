{
  "nbformat": 4,
  "nbformat_minor": 0,
  "metadata": {
    "colab": {
      "name": "3D segmentation.ipynb",
      "provenance": [],
      "collapsed_sections": [],
      "include_colab_link": true
    },
    "kernelspec": {
      "name": "python3",
      "display_name": "Python 3"
    },
    "language_info": {
      "name": "python"
    },
    "accelerator": "GPU"
  },
  "cells": [
    {
      "cell_type": "markdown",
      "metadata": {
        "id": "view-in-github",
        "colab_type": "text"
      },
      "source": [
        "<a href=\"https://colab.research.google.com/github/talhaanwarch/my_pytorch/blob/master/advance/3D_segmentation.ipynb\" target=\"_parent\"><img src=\"https://colab.research.google.com/assets/colab-badge.svg\" alt=\"Open In Colab\"/></a>"
      ]
    },
    {
      "cell_type": "code",
      "metadata": {
        "colab": {
          "base_uri": "https://localhost:8080/"
        },
        "id": "EcrJtYfu5xow",
        "outputId": "6963f0aa-a5ff-4086-effe-d857619dd261"
      },
      "source": [
        "from google.colab import drive\n",
        "drive.mount('/content/drive/',force_remount=True)"
      ],
      "execution_count": 1,
      "outputs": [
        {
          "output_type": "stream",
          "text": [
            "Mounted at /content/drive/\n"
          ],
          "name": "stdout"
        }
      ]
    },
    {
      "cell_type": "code",
      "metadata": {
        "id": "AQ-y91_AK0kf"
      },
      "source": [
        "%%capture\n",
        "#!pip install cloud-tpu-client==0.10 https://storage.googleapis.com/tpu-pytorch/wheels/torch_xla-1.9-cp37-cp37m-linux_x86_64.whl\n",
        "!pip install \"monai-weekly[nibabel]\"\n",
        "!pip install -U pytorch-lightning\n",
        "!pip install torchmetrics\n",
        "!pip install -U tqdm\n",
        "%matplotlib inline"
      ],
      "execution_count": 2,
      "outputs": []
    },
    {
      "cell_type": "code",
      "metadata": {
        "id": "EwmWcfXr6wM3",
        "colab": {
          "base_uri": "https://localhost:8080/"
        },
        "outputId": "11bc5eb4-bf04-41c4-f2be-244e57e90c88"
      },
      "source": [
        "!nvidia-smi -L"
      ],
      "execution_count": 3,
      "outputs": [
        {
          "output_type": "stream",
          "text": [
            "GPU 0: Tesla T4 (UUID: GPU-1606217d-5e2f-b5ce-dd69-b1bde23b6d37)\n"
          ],
          "name": "stdout"
        }
      ]
    },
    {
      "cell_type": "code",
      "metadata": {
        "id": "pUk7RIxBXdQx",
        "colab": {
          "base_uri": "https://localhost:8080/"
        },
        "outputId": "61f82113-850c-483c-ce7a-bfad2c5e876a"
      },
      "source": [
        "import tqdm\n",
        "print(tqdm.__version__)\n",
        "assert tqdm.__version__ >='4.47.0', 'tqdm version >=4.47.0'"
      ],
      "execution_count": 4,
      "outputs": [
        {
          "output_type": "stream",
          "text": [
            "4.61.2\n"
          ],
          "name": "stdout"
        }
      ]
    },
    {
      "cell_type": "code",
      "metadata": {
        "id": "0xa2AdN8LAcE"
      },
      "source": [
        "#download data\n",
        "import os\n",
        "if os.path.isfile('Task09_Spleen.tar') is False:\n",
        "  !wget https://msd-for-monai.s3-us-west-2.amazonaws.com/Task09_Spleen.tar"
      ],
      "execution_count": 5,
      "outputs": []
    },
    {
      "cell_type": "code",
      "metadata": {
        "id": "3pQOtW-nLTxv"
      },
      "source": [
        "import tarfile\n",
        "if os.path.isdir('Task09_Spleen') is False:\n",
        "  my_tar = tarfile.open('/content/Task09_Spleen.tar')\n",
        "  my_tar.extractall('/content/')\n",
        "  my_tar.close()"
      ],
      "execution_count": 6,
      "outputs": []
    },
    {
      "cell_type": "code",
      "metadata": {
        "id": "yKoRDTNJLmnh"
      },
      "source": [
        "from glob import glob\n",
        "import os\n",
        "images = sorted(glob(\"Task09_Spleen/imagesTr/*.nii.gz\"))\n",
        "segs = sorted(glob(\"Task09_Spleen/labelsTr/*.nii.gz\"))\n",
        "data_dicts = [\n",
        "            {\"image\": image_name, \"label\": label_name}\n",
        "            for image_name, label_name in zip(images, segs)\n",
        "        ]\n",
        "train_files, val_files = data_dicts[:-9], data_dicts[-9:]"
      ],
      "execution_count": 7,
      "outputs": []
    },
    {
      "cell_type": "code",
      "metadata": {
        "colab": {
          "base_uri": "https://localhost:8080/"
        },
        "id": "5kM8C9QHWZKG",
        "outputId": "ee2c4014-37e7-4258-c9d9-c2bc7642aaf8"
      },
      "source": [
        "import nibabel as nib\n",
        "for i in range(len(train_files)):\n",
        "  img = nib.load(train_files[i]['image']).get_fdata()\n",
        "  lab = nib.load(train_files[i]['label']).get_fdata()\n",
        "  print(img.shape,lab.shape)\n",
        "  break"
      ],
      "execution_count": 8,
      "outputs": [
        {
          "output_type": "stream",
          "text": [
            "(512, 512, 55) (512, 512, 55)\n"
          ],
          "name": "stdout"
        }
      ]
    },
    {
      "cell_type": "code",
      "metadata": {
        "id": "UZrRuf1rWkzb",
        "colab": {
          "base_uri": "https://localhost:8080/"
        },
        "outputId": "78433ddf-6266-49a3-c3f2-e03222af4a4e"
      },
      "source": [
        "import nibabel as nib\n",
        "raw_val_data=[]\n",
        "for i in range(len(val_files)):\n",
        "  img = nib.load(val_files[i]['image']).get_fdata()\n",
        "  lab = nib.load(val_files[i]['label']).get_fdata()\n",
        "  print(img.shape,lab.shape)\n",
        "  raw_val_data.append((img,lab))\n",
        "  "
      ],
      "execution_count": 9,
      "outputs": [
        {
          "output_type": "stream",
          "text": [
            "(512, 512, 33) (512, 512, 33)\n",
            "(512, 512, 50) (512, 512, 50)\n",
            "(512, 512, 135) (512, 512, 135)\n",
            "(512, 512, 97) (512, 512, 97)\n",
            "(512, 512, 101) (512, 512, 101)\n",
            "(512, 512, 80) (512, 512, 80)\n",
            "(512, 512, 60) (512, 512, 60)\n",
            "(512, 512, 31) (512, 512, 31)\n",
            "(512, 512, 41) (512, 512, 41)\n"
          ],
          "name": "stdout"
        }
      ]
    },
    {
      "cell_type": "code",
      "metadata": {
        "id": "7TWU_LU4O7d7"
      },
      "source": [
        "from  monai import transforms as T\n",
        "train_transforms = T.Compose(\n",
        "            [\n",
        "        T.LoadImaged(keys=[\"image\", \"label\"]),\n",
        "        T.AddChanneld(keys=[\"image\", \"label\"]),\n",
        "        T.Spacingd(keys=[\"image\", \"label\"],pixdim=(1.5, 1.5, 2.0),mode=(\"bilinear\", \"nearest\")),\n",
        "        T.ScaleIntensityd(keys=[\"image\"]),\n",
        "        T.CropForegroundd(keys=[\"image\", \"label\"], source_key=\"image\"),\n",
        "        T.RandCropByPosNegLabeld(\n",
        "            keys=[\"image\", \"label\"],\n",
        "            label_key=\"label\",\n",
        "            spatial_size=(64, 64, 64),\n",
        "            pos=1,\n",
        "            neg=1,\n",
        "            num_samples=8,\n",
        "            image_key=\"image\",\n",
        "            image_threshold=0,\n",
        "        ),\n",
        "        T.ToTensord(keys=[\"image\", \"label\"]),\n",
        "            ]\n",
        "        )\n",
        "\n",
        "val_transforms = T.Compose(\n",
        "            [\n",
        "        T.LoadImaged(keys=[\"image\", \"label\"]),\n",
        "        T.AddChanneld(keys=[\"image\", \"label\"]),\n",
        "        T.Spacingd(keys=[\"image\", \"label\"],pixdim=(1.5, 1.5, 2.0),mode=(\"bilinear\", \"nearest\")),\n",
        "        T.ScaleIntensityd(keys=[\"image\"]),\n",
        "        T.CropForegroundd(keys=[\"image\", \"label\"], source_key=\"image\"),\n",
        "        T.ToTensord(keys=[\"image\", \"label\"]),\n",
        "            ]\n",
        "        )\n",
        "\n",
        "test_transforms = T.Compose(\n",
        "            [\n",
        "        T.LoadImaged(keys=[\"image\"]),\n",
        "        T.AddChanneld(keys=[\"image\"]),\n",
        "        T.Spacingd(keys=[\"image\"],pixdim=(1.5, 1.5, 2.0),mode=(\"bilinear\", \"nearest\")),\n",
        "        T.ScaleIntensityd(keys=[\"image\"]),\n",
        "        T.CropForegroundd(keys=[\"image\"], source_key=\"image\"),\n",
        "        T.RandCropByPosNegLabeld(\n",
        "            keys=[\"image\"],\n",
        "            spatial_size=(64, 64, 64),\n",
        "            pos=1,\n",
        "            neg=1,\n",
        "            num_samples=8,\n",
        "            image_key=\"image\",\n",
        "            image_threshold=0,\n",
        "        ),\n",
        "        T.ToTensord(keys=[\"image\"]),\n",
        "            ]\n",
        "        )\n",
        "\n",
        "\n",
        "post_trans = T.Compose(\n",
        "    [T.ToTensor(), T.Activations(sigmoid=True), T.AsDiscrete(threshold_values=True)]\n",
        ")"
      ],
      "execution_count": 10,
      "outputs": []
    },
    {
      "cell_type": "code",
      "metadata": {
        "id": "ynLP69IUQUhb"
      },
      "source": [
        "from pytorch_lightning import seed_everything, LightningModule, Trainer\n",
        "from pytorch_lightning.callbacks import EarlyStopping,ModelCheckpoint\n",
        "from monai.losses import DiceLoss\n",
        "from torch.utils.data import DataLoader, Dataset\n",
        "from monai.data import CacheDataset, list_data_collate\n",
        "from pytorch_lightning.loggers import TensorBoardLogger\n",
        "from monai.networks.nets import UNet\n",
        "import torch.nn as nn\n",
        "import torch\n",
        "import torchmetrics\n"
      ],
      "execution_count": 11,
      "outputs": []
    },
    {
      "cell_type": "code",
      "metadata": {
        "id": "Xb79fFU3PP71"
      },
      "source": [
        "from monai.networks.layers import Norm\n",
        "from monai.inferers import sliding_window_inference\n",
        "\n",
        "class OurModel(LightningModule):\n",
        "  def __init__(self):\n",
        "    super(OurModel,self).__init__()\n",
        "    #architecute\n",
        "    self.layer = UNet(\n",
        "                      dimensions=3,\n",
        "                      in_channels=1,\n",
        "                      out_channels=2,\n",
        "                      channels=(16, 32, 64, 128, 256),\n",
        "                      strides=(2, 2, 2, 2),\n",
        "                      num_res_units=2,\n",
        "                      norm=Norm.BATCH,\n",
        "                  )\n",
        "\n",
        "  #parameters\n",
        "    self.lr=1e-4\n",
        "    self.bs=16\n",
        "    self.numworker=2\n",
        "    self.criterion=DiceLoss(to_onehot_y=True, softmax=True)\n",
        "    self.metrics = torchmetrics.IoU(num_classes=2)\n",
        "  def forward(self,x):\n",
        "    return self.layer(x)\n",
        "\n",
        "\n",
        "  def configure_optimizers(self):\n",
        "    opt=torch.optim.Adam(self.parameters(), lr=self.lr)\n",
        "    return opt\n",
        "\n",
        "  def train_dataloader(self):\n",
        "    ds = CacheDataset(data=train_files, transform=train_transforms,cache_rate=1.0, num_workers=self.numworker)\n",
        "    loader=DataLoader(ds, batch_size=self.bs, shuffle=True,num_workers=self.numworker, collate_fn=list_data_collate)\n",
        "    return loader\n",
        "\n",
        "  def training_step(self,batch,batch_idx):\n",
        "    image,segment=batch[\"image\"], batch[\"label\"]\n",
        "    out=self(image)\n",
        "    loss=self.criterion(out,segment)\n",
        "\n",
        "    self.log('train/loss', loss, on_epoch=True,prog_bar=True)\n",
        "    return loss\n",
        "\n",
        "  def val_dataloader(self):\n",
        "    ds = CacheDataset(data=val_files, transform=train_transforms,cache_rate=1.0, num_workers=self.numworker)\n",
        "    loader=DataLoader(ds, batch_size=self.bs, shuffle=False,num_workers=self.numworker, collate_fn=list_data_collate)\n",
        "    return loader\n",
        "    \n",
        "  def validation_step(self,batch,batch_idx):\n",
        "    image,segment=batch[\"image\"], batch[\"label\"]\n",
        "    roi_size = (32, 32, 32)\n",
        "    sw_batch_size = 2\n",
        "    outputs = sliding_window_inference(image, roi_size, sw_batch_size, self.forward)\n",
        "    loss=self.criterion(outputs,segment)\n",
        "    iou=self.metrics(outputs.type(torch.float),segment.type(torch.long))\n",
        "    self.log('val/loss', loss, on_epoch=True,prog_bar=True)\n",
        "    self.log('val/iou', iou, on_epoch=True,prog_bar=True)\n",
        "    return loss\n"
      ],
      "execution_count": 12,
      "outputs": []
    },
    {
      "cell_type": "code",
      "metadata": {
        "id": "Q43xvi7eQYPG"
      },
      "source": [
        "model = OurModel()\n",
        "# logger = TensorBoardLogger(\"logs\", name=\"my_logs\")\n",
        "# checkpoint_callback = ModelCheckpoint(monitor='val/loss',dirpath='/content/drive/MyDrive/',\n",
        "#                                       filename='spleen200' )\n",
        "# trainer = Trainer(max_epochs=600, auto_lr_find=False, auto_scale_batch_size=False,\n",
        "#                   #tpu_cores=8,precision=16,\n",
        "#                   gpus=-1,\n",
        "#                   logger=logger,\n",
        "#                   progress_bar_refresh_rate=30,\n",
        "#                   #resume_from_checkpoint='/content/drive/MyDrive/spleen200-v1.ckpt',\n",
        "#                   callbacks=[checkpoint_callback]\n",
        "#                   )"
      ],
      "execution_count": 13,
      "outputs": []
    },
    {
      "cell_type": "code",
      "metadata": {
        "id": "d01MTfk5QlQa"
      },
      "source": [
        "#trainer.fit(model)"
      ],
      "execution_count": 14,
      "outputs": []
    },
    {
      "cell_type": "code",
      "metadata": {
        "id": "issHrvMU2aqZ"
      },
      "source": [
        "# torch.save(model.state_dict(), '/content/drive/MyDrive/spleen_state600.pt')"
      ],
      "execution_count": 15,
      "outputs": []
    },
    {
      "cell_type": "code",
      "metadata": {
        "colab": {
          "base_uri": "https://localhost:8080/"
        },
        "id": "2OX3sQXZ8JFB",
        "outputId": "96cfff8f-3be6-42a4-8ba5-8e198ee8d222"
      },
      "source": [
        "model.load_state_dict(torch.load('/content/drive/MyDrive/spleen_state600.pt'))\n"
      ],
      "execution_count": 16,
      "outputs": [
        {
          "output_type": "execute_result",
          "data": {
            "text/plain": [
              "<All keys matched successfully>"
            ]
          },
          "metadata": {
            "tags": []
          },
          "execution_count": 16
        }
      ]
    },
    {
      "cell_type": "markdown",
      "metadata": {
        "id": "zoocH1vL2K34"
      },
      "source": [
        "# inference"
      ]
    },
    {
      "cell_type": "code",
      "metadata": {
        "id": "ZIM97omx2Mao"
      },
      "source": [
        ""
      ],
      "execution_count": 16,
      "outputs": []
    },
    {
      "cell_type": "code",
      "metadata": {
        "id": "aynhhqga1QO7"
      },
      "source": [
        "post_transforms = T.Compose([\n",
        "        T.ToTensord(keys=\"pred\"), \n",
        "        T.Activationsd(keys=\"pred\", sigmoid=True),\n",
        "        T.AsDiscreted(keys=\"pred\", threshold_values=True),\n",
        "        T.Invertd(\n",
        "            keys=[\"pred\",'label'],  # invert the `pred` data field, also support multiple fields\n",
        "            transform=train_transforms,\n",
        "            orig_keys=\"image\",  # get the previously applied pre_transforms information on the `img` data field,\n",
        "                              # then invert `pred` based on this information. we can use same info\n",
        "                              # for multiple fields, also support different orig_keys for different fields\n",
        "            meta_keys=[\"pred_meta_dict\",\"label_meta_dict\"],  # key field to save inverted meta data, every item maps to `keys`\n",
        "            orig_meta_keys=\"image_meta_dict\",  # get the meta data from `img_meta_dict` field when inverting,\n",
        "                                             # for example, may need the `affine` to invert `Spacingd` transform,\n",
        "                                             # multiple fields can use the same meta data to invert\n",
        "            meta_key_postfix=\"meta_dict\",  # if `meta_keys=None`, use \"{keys}_{meta_key_postfix}\" as the meta key,\n",
        "                                           # if `orig_meta_keys=None`, use \"{orig_keys}_{meta_key_postfix}\",\n",
        "                                           # otherwise, no need this arg during inverting\n",
        "            nearest_interp=True,  # change to use \"nearest\" mode in interpolation when inverting\n",
        "            to_tensor=True,  # convert to PyTorch Tensor after inverting\n",
        "        ),\n",
        "        #SaveImaged(keys=\"pred\", meta_keys=\"pred_meta_dict\", output_dir=\"./out\", output_postfix=\"seg\", resample=False),\n",
        "    ])"
      ],
      "execution_count": 17,
      "outputs": []
    },
    {
      "cell_type": "code",
      "metadata": {
        "colab": {
          "base_uri": "https://localhost:8080/"
        },
        "id": "WMHDy6ls3ZrI",
        "outputId": "49b82220-872c-4dc2-e8ec-5de38caca5cd"
      },
      "source": [
        "val_dataloader=model.val_dataloader()"
      ],
      "execution_count": 18,
      "outputs": [
        {
          "output_type": "stream",
          "text": [
            "Loading dataset: 100%|██████████| 9/9 [00:18<00:00,  2.09s/it]\n"
          ],
          "name": "stderr"
        }
      ]
    },
    {
      "cell_type": "code",
      "metadata": {
        "id": "_wwkhkWMQ1mu",
        "colab": {
          "base_uri": "https://localhost:8080/",
          "height": 359
        },
        "outputId": "4ef1d03a-c5f1-4d49-fe72-e9df8777ebe3"
      },
      "source": [
        "import matplotlib.pyplot as plt\n",
        "import numpy as np\n",
        "model.eval()\n",
        "device = torch.device(\"cuda:0\")\n",
        "model.to(device)\n",
        "ch=32\n",
        "with torch.no_grad():\n",
        "    for i, val_data in enumerate(val_dataloader):\n",
        "        roi_size = (32, 32, 32)\n",
        "        sw_batch_size = 2\n",
        "        output = sliding_window_inference(\n",
        "            val_data[\"image\"].to(device), roi_size, sw_batch_size, model\n",
        "        )\n",
        "        # plot the slice [:, :, 80]\n",
        "        \n",
        "        plt.figure(\"check\", (18, 6))\n",
        "        plt.subplot(1, 3, 1)\n",
        "        plt.title(f\"image {i}\")\n",
        "        plt.imshow(val_data[\"image\"][0, 0, :, :, ch], cmap=\"gray\")\n",
        "        plt.subplot(1, 3, 2)\n",
        "        plt.title(f\"label {i}\")\n",
        "        plt.imshow(val_data[\"label\"][0, 0, :, :, ch])\n",
        "        plt.subplot(1, 3, 3)\n",
        "        plt.title(f\"output {i}\")\n",
        "        plt.imshow(torch.argmax(\n",
        "            output, dim=1).detach().cpu()[0, :, :, ch])\n",
        "        plt.show()\n",
        "        break\n",
        "        "
      ],
      "execution_count": 19,
      "outputs": [
        {
          "output_type": "display_data",
          "data": {
            "image/png": "[encoded data removed]",
            "text/plain": [
              "<Figure size 1296x432 with 3 Axes>"
            ]
          },
          "metadata": {
            "tags": [],
            "needs_background": "light"
          }
        }
      ]
    },
    {
      "cell_type": "code",
      "metadata": {
        "id": "Pk_IbrDM0s2i"
      },
      "source": [
        "from monai.data import decollate_batch\n",
        "model.eval()\n",
        "post_data=[]\n",
        "with torch.no_grad():\n",
        "  for d in val_dataloader:\n",
        "    images = d[\"image\"].to(device)\n",
        "    # define sliding window size and batch size for windows inference\n",
        "    infer_outputs = sliding_window_inference(inputs=images, roi_size=(32 , 32, 32), sw_batch_size=2, predictor=model)\n",
        "    infer_outputs = decollate_batch(infer_outputs)\n",
        "    for (infer_output, infer_output_data) in zip(infer_outputs, decollate_batch(d)):\n",
        "      infer_output_data[\"pred\"] = infer_output\n",
        "      post_data.append(post_transforms(infer_output_data))\n",
        "      break\n",
        "    break\n",
        "    "
      ],
      "execution_count": 20,
      "outputs": []
    },
    {
      "cell_type": "code",
      "metadata": {
        "id": "qRNvjEmwt_OY",
        "colab": {
          "base_uri": "https://localhost:8080/"
        },
        "outputId": "67e60d60-00a8-432f-d5d6-9a2357b03e9e"
      },
      "source": [
        "out=post_data[0]\n",
        "out['image'].shape,out['label'].shape,out['pred'].shape"
      ],
      "execution_count": 21,
      "outputs": [
        {
          "output_type": "execute_result",
          "data": {
            "text/plain": [
              "(torch.Size([1, 64, 64, 64]),\n",
              " torch.Size([1, 512, 512, 33]),\n",
              " torch.Size([2, 512, 512, 33]))"
            ]
          },
          "metadata": {
            "tags": []
          },
          "execution_count": 21
        }
      ]
    },
    {
      "cell_type": "code",
      "metadata": {
        "colab": {
          "base_uri": "https://localhost:8080/"
        },
        "id": "brFu3ulGkQHQ",
        "outputId": "a4746f91-1e02-46b1-dc13-90b97864e8e3"
      },
      "source": [
        "raw_val=raw_val_data[0]\n",
        "raw_val[0].shape,raw_val[1].shape#raw label and segment"
      ],
      "execution_count": 22,
      "outputs": [
        {
          "output_type": "execute_result",
          "data": {
            "text/plain": [
              "((512, 512, 33), (512, 512, 33))"
            ]
          },
          "metadata": {
            "tags": []
          },
          "execution_count": 22
        }
      ]
    },
    {
      "cell_type": "code",
      "metadata": {
        "colab": {
          "base_uri": "https://localhost:8080/",
          "height": 1000
        },
        "id": "l_VsnhOFkTZF",
        "outputId": "bc7c0e1a-f785-4114-925b-4afebd55eed3"
      },
      "source": [
        "fig,ax=plt.subplots(33,3,figsize=(10,60))\n",
        "\n",
        "for i in range(33):\n",
        "  ax[i,0].imshow(raw_val[1][:,:,i],cmap='gray')#raw image\n",
        "  ax[i,1].imshow(out['label'][0,:,:,i],cmap='gray')#inverted image\n",
        "  ax[i,2].imshow(torch.argmax(out['pred'],0)[:,:,i],cmap='gray')#predicted image\n",
        "plt.subplots_adjust(wspace=0, hspace=-.5)\n"
      ],
      "execution_count": 23,
      "outputs": [
        {
          "output_type": "display_data",
          "data": {
            "image/png": "[encoded data removed]",
            "text/plain": [
              "<Figure size 720x4320 with 99 Axes>"
            ]
          },
          "metadata": {
            "tags": [],
            "needs_background": "light"
          }
        }
      ]
    },
    {
      "cell_type": "markdown",
      "metadata": {
        "id": "BfSaZf_53gBc"
      },
      "source": [
        "# test"
      ]
    },
    {
      "cell_type": "code",
      "metadata": {
        "id": "Ouxsplbx7XAe"
      },
      "source": [
        "post_transforms = T.Compose([\n",
        "        T.ToTensord(keys=\"pred\"), \n",
        "        T.Activationsd(keys=\"pred\", sigmoid=True),\n",
        "        T.AsDiscreted(keys=\"pred\", threshold_values=True),\n",
        "        T.Invertd(\n",
        "            keys=[\"pred\",'label'],  # invert the `pred` data field, also support multiple fields\n",
        "            transform=val_transforms,\n",
        "            orig_keys=\"image\",  # get the previously applied pre_transforms information on the `img` data field,\n",
        "                              # then invert `pred` based on this information. we can use same info\n",
        "                              # for multiple fields, also support different orig_keys for different fields\n",
        "            meta_keys=[\"pred_meta_dict\",\"label_meta_dict\"],  # key field to save inverted meta data, every item maps to `keys`\n",
        "            orig_meta_keys=\"image_meta_dict\",  # get the meta data from `img_meta_dict` field when inverting,\n",
        "                                             # for example, may need the `affine` to invert `Spacingd` transform,\n",
        "                                             # multiple fields can use the same meta data to invert\n",
        "            meta_key_postfix=\"meta_dict\",  # if `meta_keys=None`, use \"{keys}_{meta_key_postfix}\" as the meta key,\n",
        "                                           # if `orig_meta_keys=None`, use \"{orig_keys}_{meta_key_postfix}\",\n",
        "                                           # otherwise, no need this arg during inverting\n",
        "            nearest_interp=True,  # change to use \"nearest\" mode in interpolation when inverting\n",
        "            to_tensor=True,  # convert to PyTorch Tensor after inverting\n",
        "        ),\n",
        "        #SaveImaged(keys=\"pred\", meta_keys=\"pred_meta_dict\", output_dir=\"./out\", output_postfix=\"seg\", resample=False),\n",
        "    ])"
      ],
      "execution_count": 24,
      "outputs": []
    },
    {
      "cell_type": "code",
      "metadata": {
        "id": "1HBGAModr6tc",
        "colab": {
          "base_uri": "https://localhost:8080/"
        },
        "outputId": "f8507f38-e505-4293-d567-347d4caa2bb8"
      },
      "source": [
        "ds = CacheDataset(data=val_files, transform=val_transforms,cache_rate=1.0, num_workers=2)\n",
        "test_loader=DataLoader(ds, batch_size=1, shuffle=False,num_workers=2, collate_fn=list_data_collate)\n",
        "sample=next(iter(test_loader))"
      ],
      "execution_count": 25,
      "outputs": [
        {
          "output_type": "stream",
          "text": [
            "Loading dataset: 100%|██████████| 9/9 [00:18<00:00,  2.10s/it]\n"
          ],
          "name": "stderr"
        }
      ]
    },
    {
      "cell_type": "code",
      "metadata": {
        "colab": {
          "base_uri": "https://localhost:8080/"
        },
        "id": "cTKKDo5Q3iJs",
        "outputId": "e0ecc699-ca33-4c54-f9b4-becb20255a5d"
      },
      "source": [
        "sample['image'].shape,sample['label'].shape"
      ],
      "execution_count": 26,
      "outputs": [
        {
          "output_type": "execute_result",
          "data": {
            "text/plain": [
              "(torch.Size([1, 1, 239, 239, 113]), torch.Size([1, 1, 239, 239, 113]))"
            ]
          },
          "metadata": {
            "tags": []
          },
          "execution_count": 26
        }
      ]
    },
    {
      "cell_type": "code",
      "metadata": {
        "id": "L43zhXRV3jm6"
      },
      "source": [
        "post_data=[]\n",
        "for d in test_loader:\n",
        "    images = d[\"image\"].to(device)\n",
        "    # define sliding window size and batch size for windows inference\n",
        "    infer_outputs = sliding_window_inference(inputs=images, roi_size=(32 , 32, 32), sw_batch_size=2, predictor=model)\n",
        "    infer_outputs = decollate_batch(infer_outputs)\n",
        "    for (infer_output, infer_output_data) in zip(infer_outputs, decollate_batch(d)):\n",
        "      infer_output_data[\"pred\"] = infer_output\n",
        "      post_data.append(post_transforms(infer_output_data))\n",
        "      break\n",
        "    break"
      ],
      "execution_count": 27,
      "outputs": []
    },
    {
      "cell_type": "code",
      "metadata": {
        "colab": {
          "base_uri": "https://localhost:8080/"
        },
        "id": "Ew50Owyu5Hpe",
        "outputId": "cce24b68-bc37-4334-b71f-d162b5e9583d"
      },
      "source": [
        "out=post_data[0]\n",
        "out['image'].shape,out['label'].shape,out['pred'].shape"
      ],
      "execution_count": 28,
      "outputs": [
        {
          "output_type": "execute_result",
          "data": {
            "text/plain": [
              "(torch.Size([1, 239, 239, 113]),\n",
              " torch.Size([1, 512, 512, 33]),\n",
              " torch.Size([2, 512, 512, 33]))"
            ]
          },
          "metadata": {
            "tags": []
          },
          "execution_count": 28
        }
      ]
    },
    {
      "cell_type": "code",
      "metadata": {
        "colab": {
          "base_uri": "https://localhost:8080/"
        },
        "id": "bA09Z7Zn-jRA",
        "outputId": "e97902bf-7941-4c5a-c46b-66d4036de64f"
      },
      "source": [
        "raw_val=raw_val_data[0]\n",
        "raw_val[0].shape,raw_val[1].shape#raw label and segment"
      ],
      "execution_count": 29,
      "outputs": [
        {
          "output_type": "execute_result",
          "data": {
            "text/plain": [
              "((512, 512, 33), (512, 512, 33))"
            ]
          },
          "metadata": {
            "tags": []
          },
          "execution_count": 29
        }
      ]
    },
    {
      "cell_type": "code",
      "metadata": {
        "id": "HJl2ZIJm-RMR"
      },
      "source": [
        "fig,ax=plt.subplots(33,3,figsize=(10,60))\n",
        "\n",
        "for i in range(33):\n",
        "  ax[i,0].imshow(raw_val[1][:,:,i],cmap='gray')#raw image\n",
        "  ax[i,1].imshow(out['label'][0,:,:,i],cmap='gray')#inverted image\n",
        "  ax[i,2].imshow(torch.argmax(out['pred'],0)[:,:,i],cmap='gray')#predicted image\n",
        "plt.subplots_adjust(wspace=0, hspace=-.5)\n"
      ],
      "execution_count": null,
      "outputs": []
    },
    {
      "cell_type": "code",
      "metadata": {
        "id": "veBdNKPU-PvZ"
      },
      "source": [
        ""
      ],
      "execution_count": null,
      "outputs": []
    }
  ]
}