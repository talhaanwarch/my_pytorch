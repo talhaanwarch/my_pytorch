{
  "nbformat": 4,
  "nbformat_minor": 0,
  "metadata": {
    "colab": {
      "name": "3D segmentation.ipynb",
      "provenance": [],
      "collapsed_sections": [],
      "include_colab_link": true
    },
    "kernelspec": {
      "name": "python3",
      "display_name": "Python 3"
    },
    "language_info": {
      "name": "python"
    },
    "accelerator": "GPU"
  },
  "cells": [
    {
      "cell_type": "markdown",
      "metadata": {
        "id": "view-in-github",
        "colab_type": "text"
      },
      "source": [
        "<a href=\"https://colab.research.google.com/github/talhaanwarch/my_pytorch/blob/master/advance/3D_segmentation.ipynb\" target=\"_parent\"><img src=\"https://colab.research.google.com/assets/colab-badge.svg\" alt=\"Open In Colab\"/></a>"
      ]
    },
    {
      "cell_type": "code",
      "metadata": {
        "colab": {
          "base_uri": "https://localhost:8080/"
        },
        "id": "EcrJtYfu5xow",
        "outputId": "0cad840c-1ed6-48ad-b99b-f01a5863aafa"
      },
      "source": [
        "from google.colab import drive\n",
        "drive.mount('/content/drive/',force_remount=True)"
      ],
      "execution_count": 1,
      "outputs": [
        {
          "output_type": "stream",
          "text": [
            "Mounted at /content/drive/\n"
          ],
          "name": "stdout"
        }
      ]
    },
    {
      "cell_type": "code",
      "metadata": {
        "id": "AQ-y91_AK0kf"
      },
      "source": [
        "%%capture\n",
        "#!pip install cloud-tpu-client==0.10 https://storage.googleapis.com/tpu-pytorch/wheels/torch_xla-1.9-cp37-cp37m-linux_x86_64.whl\n",
        "!pip install \"monai-weekly[nibabel]\"\n",
        "!pip install -U pytorch-lightning\n",
        "!pip install torchmetrics\n",
        "!pip install -U tqdm\n",
        "%matplotlib inline"
      ],
      "execution_count": 2,
      "outputs": []
    },
    {
      "cell_type": "code",
      "metadata": {
        "id": "EwmWcfXr6wM3",
        "colab": {
          "base_uri": "https://localhost:8080/"
        },
        "outputId": "4bc0fb97-1b87-4639-ed47-4741c3e5424e"
      },
      "source": [
        "!nvidia-smi -L"
      ],
      "execution_count": 3,
      "outputs": [
        {
          "output_type": "stream",
          "text": [
            "GPU 0: Tesla K80 (UUID: GPU-1ffeec40-8c47-f749-8ca2-3450c0bccf52)\n"
          ],
          "name": "stdout"
        }
      ]
    },
    {
      "cell_type": "code",
      "metadata": {
        "id": "pUk7RIxBXdQx",
        "colab": {
          "base_uri": "https://localhost:8080/"
        },
        "outputId": "da402e1e-73e9-4923-e382-ab14ad896b22"
      },
      "source": [
        "import tqdm\n",
        "print(tqdm.__version__)\n",
        "assert tqdm.__version__ >='4.47.0', 'tqdm version >=4.47.0'"
      ],
      "execution_count": 4,
      "outputs": [
        {
          "output_type": "stream",
          "text": [
            "4.61.2\n"
          ],
          "name": "stdout"
        }
      ]
    },
    {
      "cell_type": "code",
      "metadata": {
        "id": "0xa2AdN8LAcE",
        "outputId": "5d53f187-61d7-44ef-d935-c71cb4d3476c",
        "colab": {
          "base_uri": "https://localhost:8080/"
        }
      },
      "source": [
        "#download data\n",
        "import os\n",
        "if os.path.isfile('Task09_Spleen.tar') is False:\n",
        "  !wget https://msd-for-monai.s3-us-west-2.amazonaws.com/Task09_Spleen.tar"
      ],
      "execution_count": 5,
      "outputs": [
        {
          "output_type": "stream",
          "text": [
            "--2021-07-14 10:10:27--  https://msd-for-monai.s3-us-west-2.amazonaws.com/Task09_Spleen.tar\n",
            "Resolving msd-for-monai.s3-us-west-2.amazonaws.com (msd-for-monai.s3-us-west-2.amazonaws.com)... 52.218.193.113\n",
            "Connecting to msd-for-monai.s3-us-west-2.amazonaws.com (msd-for-monai.s3-us-west-2.amazonaws.com)|52.218.193.113|:443... connected.\n",
            "HTTP request sent, awaiting response... 200 OK\n",
            "Length: 1610352640 (1.5G) [application/x-tar]\n",
            "Saving to: ‘Task09_Spleen.tar’\n",
            "\n",
            "Task09_Spleen.tar   100%[===================>]   1.50G  21.7MB/s    in 72s     \n",
            "\n",
            "2021-07-14 10:11:39 (21.5 MB/s) - ‘Task09_Spleen.tar’ saved [1610352640/1610352640]\n",
            "\n"
          ],
          "name": "stdout"
        }
      ]
    },
    {
      "cell_type": "code",
      "metadata": {
        "id": "3pQOtW-nLTxv"
      },
      "source": [
        "import tarfile\n",
        "if os.path.isdir('Task09_Spleen') is False:\n",
        "  my_tar = tarfile.open('/content/Task09_Spleen.tar')\n",
        "  my_tar.extractall('/content/')\n",
        "  my_tar.close()"
      ],
      "execution_count": 6,
      "outputs": []
    },
    {
      "cell_type": "code",
      "metadata": {
        "id": "yKoRDTNJLmnh"
      },
      "source": [
        "from glob import glob\n",
        "import os\n",
        "images = sorted(glob(\"Task09_Spleen/imagesTr/*.nii.gz\"))\n",
        "segs = sorted(glob(\"Task09_Spleen/labelsTr/*.nii.gz\"))\n",
        "data_dicts = [\n",
        "            {\"image\": image_name, \"label\": label_name}\n",
        "            for image_name, label_name in zip(images, segs)\n",
        "        ]\n",
        "train_files, val_files = data_dicts[:-9], data_dicts[-9:]"
      ],
      "execution_count": 7,
      "outputs": []
    },
    {
      "cell_type": "code",
      "metadata": {
        "colab": {
          "base_uri": "https://localhost:8080/"
        },
        "id": "5kM8C9QHWZKG",
        "outputId": "a9f50850-778e-4350-c0c9-69ac9467de25"
      },
      "source": [
        "import nibabel as nib\n",
        "for i in range(len(train_files)):\n",
        "  img = nib.load(train_files[i]['image']).get_fdata()\n",
        "  lab = nib.load(train_files[i]['label']).get_fdata()\n",
        "  print(img.shape,lab.shape)\n",
        "  break"
      ],
      "execution_count": 8,
      "outputs": [
        {
          "output_type": "stream",
          "text": [
            "(512, 512, 55) (512, 512, 55)\n"
          ],
          "name": "stdout"
        }
      ]
    },
    {
      "cell_type": "code",
      "metadata": {
        "id": "UZrRuf1rWkzb"
      },
      "source": [
        "import nibabel as nib\n",
        "val_data=[]\n",
        "for i in range(len(val_files)):\n",
        "  img = nib.load(val_files[i]['image']).get_fdata()\n",
        "  lab = nib.load(val_files[i]['label']).get_fdata()\n",
        "  val_data.append((img,lab))\n",
        "  "
      ],
      "execution_count": 44,
      "outputs": []
    },
    {
      "cell_type": "code",
      "metadata": {
        "id": "7TWU_LU4O7d7"
      },
      "source": [
        "from  monai import transforms as T\n",
        "train_transforms = T.Compose(\n",
        "            [\n",
        "        T.LoadImaged(keys=[\"image\", \"label\"]),\n",
        "        T.AddChanneld(keys=[\"image\", \"label\"]),\n",
        "        T.Spacingd(keys=[\"image\", \"label\"],pixdim=(1.5, 1.5, 2.0),mode=(\"bilinear\", \"nearest\")),\n",
        "        T.ScaleIntensityd(keys=[\"image\"]),\n",
        "        #T.DivisiblePadd(keys=[\"image\", \"label\"],k=(-1,-1,96)),\n",
        "        #T.Resized(keys=[\"image\", \"label\"],spatial_size =(384,384,384)),\n",
        "        #T.ResizeWithPadOrCropd(keys=[\"image\", \"label\"], spatial_size=(384, 384, 384)),\n",
        "        T.CropForegroundd(keys=[\"image\", \"label\"], source_key=\"image\"),\n",
        "        T.RandCropByPosNegLabeld(\n",
        "            keys=[\"image\", \"label\"],\n",
        "            label_key=\"label\",\n",
        "            spatial_size=(64, 64, 64),\n",
        "            pos=1,\n",
        "            neg=1,\n",
        "            num_samples=8,\n",
        "            image_key=\"image\",\n",
        "            image_threshold=0,\n",
        "        ),\n",
        "        T.ToTensord(keys=[\"image\", \"label\"]),\n",
        "            ]\n",
        "        )\n",
        "post_trans = T.Compose(\n",
        "    [T.ToTensor(), T.Activations(sigmoid=True), T.AsDiscrete(threshold_values=True)]\n",
        ")"
      ],
      "execution_count": 10,
      "outputs": []
    },
    {
      "cell_type": "code",
      "metadata": {
        "id": "ynLP69IUQUhb"
      },
      "source": [
        "from pytorch_lightning import seed_everything, LightningModule, Trainer\n",
        "from pytorch_lightning.callbacks import EarlyStopping,ModelCheckpoint\n",
        "from monai.losses import DiceLoss\n",
        "from torch.utils.data import DataLoader, Dataset\n",
        "from monai.data import CacheDataset, list_data_collate\n",
        "from pytorch_lightning.loggers import TensorBoardLogger\n",
        "from monai.networks.nets import UNet\n",
        "import torch.nn as nn\n",
        "import torch\n",
        "import torchmetrics\n"
      ],
      "execution_count": 11,
      "outputs": []
    },
    {
      "cell_type": "code",
      "metadata": {
        "id": "Xb79fFU3PP71"
      },
      "source": [
        "from monai.networks.layers import Norm\n",
        "from monai.inferers import sliding_window_inference\n",
        "\n",
        "class OurModel(LightningModule):\n",
        "  def __init__(self):\n",
        "    super(OurModel,self).__init__()\n",
        "    #architecute\n",
        "    self.layer = UNet(\n",
        "                      dimensions=3,\n",
        "                      in_channels=1,\n",
        "                      out_channels=2,\n",
        "                      channels=(16, 32, 64, 128, 256),\n",
        "                      strides=(2, 2, 2, 2),\n",
        "                      num_res_units=2,\n",
        "                      norm=Norm.BATCH,\n",
        "                  )\n",
        "\n",
        "  #parameters\n",
        "    self.lr=1e-4\n",
        "    self.bs=16\n",
        "    self.numworker=2\n",
        "    self.criterion=DiceLoss(to_onehot_y=True, softmax=True)\n",
        "    self.metrics = torchmetrics.IoU(num_classes=2)\n",
        "  def forward(self,x):\n",
        "    return self.layer(x)\n",
        "\n",
        "\n",
        "  def configure_optimizers(self):\n",
        "    opt=torch.optim.Adam(self.parameters(), lr=self.lr)\n",
        "    return opt\n",
        "\n",
        "  def train_dataloader(self):\n",
        "    ds = CacheDataset(data=train_files, transform=train_transforms,cache_rate=1.0, num_workers=self.numworker)\n",
        "    loader=DataLoader(ds, batch_size=self.bs, shuffle=True,num_workers=self.numworker, collate_fn=list_data_collate)\n",
        "    return loader\n",
        "\n",
        "  def training_step(self,batch,batch_idx):\n",
        "    image,segment=batch[\"image\"], batch[\"label\"]\n",
        "    out=self(image)\n",
        "    loss=self.criterion(out,segment)\n",
        "\n",
        "    self.log('train/loss', loss, on_epoch=True,prog_bar=True)\n",
        "    return loss\n",
        "\n",
        "  def val_dataloader(self):\n",
        "    ds = CacheDataset(data=val_files, transform=train_transforms,cache_rate=1.0, num_workers=self.numworker)\n",
        "    loader=DataLoader(ds, batch_size=self.bs, shuffle=False,num_workers=self.numworker, collate_fn=list_data_collate)\n",
        "    return loader\n",
        "    \n",
        "  def validation_step(self,batch,batch_idx):\n",
        "    image,segment=batch[\"image\"], batch[\"label\"]\n",
        "    roi_size = (32, 32, 32)\n",
        "    sw_batch_size = 2\n",
        "    outputs = sliding_window_inference(image, roi_size, sw_batch_size, self.forward)\n",
        "    loss=self.criterion(outputs,segment)\n",
        "    iou=self.metrics(outputs.type(torch.float),segment.type(torch.long))\n",
        "    self.log('val/loss', loss, on_epoch=True,prog_bar=True)\n",
        "    self.log('val/iou', iou, on_epoch=True,prog_bar=True)\n",
        "    return loss\n"
      ],
      "execution_count": 12,
      "outputs": []
    },
    {
      "cell_type": "code",
      "metadata": {
        "id": "Q43xvi7eQYPG"
      },
      "source": [
        "model = OurModel()\n",
        "# logger = TensorBoardLogger(\"logs\", name=\"my_logs\")\n",
        "# checkpoint_callback = ModelCheckpoint(monitor='val/loss',dirpath='/content/drive/MyDrive/',\n",
        "#                                       filename='spleen200' )\n",
        "# trainer = Trainer(max_epochs=600, auto_lr_find=False, auto_scale_batch_size=False,\n",
        "#                   #tpu_cores=8,precision=16,\n",
        "#                   gpus=-1,\n",
        "#                   logger=logger,\n",
        "#                   progress_bar_refresh_rate=30,\n",
        "#                   #resume_from_checkpoint='/content/drive/MyDrive/spleen200-v1.ckpt',\n",
        "#                   callbacks=[checkpoint_callback]\n",
        "#                   )"
      ],
      "execution_count": 13,
      "outputs": []
    },
    {
      "cell_type": "code",
      "metadata": {
        "id": "d01MTfk5QlQa"
      },
      "source": [
        "#trainer.fit(model)"
      ],
      "execution_count": 14,
      "outputs": []
    },
    {
      "cell_type": "code",
      "metadata": {
        "id": "issHrvMU2aqZ"
      },
      "source": [
        "# torch.save(model.state_dict(), '/content/drive/MyDrive/spleen_state600.pt')"
      ],
      "execution_count": 15,
      "outputs": []
    },
    {
      "cell_type": "markdown",
      "metadata": {
        "id": "zoocH1vL2K34"
      },
      "source": [
        "# inference"
      ]
    },
    {
      "cell_type": "code",
      "metadata": {
        "id": "ZIM97omx2Mao",
        "outputId": "57b018f1-bec0-4308-aae8-d3adb612f4b0",
        "colab": {
          "base_uri": "https://localhost:8080/"
        }
      },
      "source": [
        "model.load_state_dict(torch.load('/content/drive/MyDrive/spleen_state600.pt'))\n"
      ],
      "execution_count": 16,
      "outputs": [
        {
          "output_type": "execute_result",
          "data": {
            "text/plain": [
              "<All keys matched successfully>"
            ]
          },
          "metadata": {
            "tags": []
          },
          "execution_count": 16
        }
      ]
    },
    {
      "cell_type": "code",
      "metadata": {
        "id": "aynhhqga1QO7"
      },
      "source": [
        "post_transforms = T.Compose([\n",
        "        T.ToTensord(keys=\"pred\"), \n",
        "        T.Activationsd(keys=\"pred\", sigmoid=True),\n",
        "        T.AsDiscreted(keys=\"pred\", threshold_values=True),\n",
        "        T.Invertd(\n",
        "            keys=[\"pred\",'label'],  # invert the `pred` data field, also support multiple fields\n",
        "            transform=train_transforms,\n",
        "            orig_keys=\"image\",  # get the previously applied pre_transforms information on the `img` data field,\n",
        "                              # then invert `pred` based on this information. we can use same info\n",
        "                              # for multiple fields, also support different orig_keys for different fields\n",
        "            meta_keys=[\"pred_meta_dict\",\"label_meta_dict\"],  # key field to save inverted meta data, every item maps to `keys`\n",
        "            orig_meta_keys=\"image_meta_dict\",  # get the meta data from `img_meta_dict` field when inverting,\n",
        "                                             # for example, may need the `affine` to invert `Spacingd` transform,\n",
        "                                             # multiple fields can use the same meta data to invert\n",
        "            meta_key_postfix=\"meta_dict\",  # if `meta_keys=None`, use \"{keys}_{meta_key_postfix}\" as the meta key,\n",
        "                                           # if `orig_meta_keys=None`, use \"{orig_keys}_{meta_key_postfix}\",\n",
        "                                           # otherwise, no need this arg during inverting\n",
        "            nearest_interp=True,  # change to use \"nearest\" mode in interpolation when inverting\n",
        "            to_tensor=True,  # convert to PyTorch Tensor after inverting\n",
        "        ),\n",
        "        #SaveImaged(keys=\"pred\", meta_keys=\"pred_meta_dict\", output_dir=\"./out\", output_postfix=\"seg\", resample=False),\n",
        "    ])"
      ],
      "execution_count": 17,
      "outputs": []
    },
    {
      "cell_type": "code",
      "metadata": {
        "id": "_wwkhkWMQ1mu",
        "outputId": "bfb7f3b4-db18-4580-d373-61265bcf0424",
        "colab": {
          "base_uri": "https://localhost:8080/",
          "height": 377
        }
      },
      "source": [
        "import matplotlib.pyplot as plt\n",
        "import numpy as np\n",
        "model.eval()\n",
        "device = torch.device(\"cuda:0\")\n",
        "model.to(device)\n",
        "ch=32\n",
        "with torch.no_grad():\n",
        "    for i, val_data in enumerate(model.val_dataloader()):\n",
        "        roi_size = (32, 32, 32)\n",
        "        sw_batch_size = 2\n",
        "        output = sliding_window_inference(\n",
        "            val_data[\"image\"].to(device), roi_size, sw_batch_size, model\n",
        "        )\n",
        "        # plot the slice [:, :, 80]\n",
        "        \n",
        "        plt.figure(\"check\", (18, 6))\n",
        "        plt.subplot(1, 3, 1)\n",
        "        plt.title(f\"image {i}\")\n",
        "        plt.imshow(val_data[\"image\"][0, 0, :, :, ch], cmap=\"gray\")\n",
        "        plt.subplot(1, 3, 2)\n",
        "        plt.title(f\"label {i}\")\n",
        "        plt.imshow(val_data[\"label\"][0, 0, :, :, ch])\n",
        "        plt.subplot(1, 3, 3)\n",
        "        plt.title(f\"output {i}\")\n",
        "        plt.imshow(torch.argmax(\n",
        "            output, dim=1).detach().cpu()[0, :, :, ch])\n",
        "        plt.show()\n",
        "        break\n",
        "        "
      ],
      "execution_count": 39,
      "outputs": [
        {
          "output_type": "stream",
          "text": [
            "Loading dataset: 100%|██████████| 9/9 [00:20<00:00,  2.32s/it]\n"
          ],
          "name": "stderr"
        },
        {
          "output_type": "display_data",
          "data": {
            "image/png": "[encoded data removed]",
            "text/plain": [
              "<Figure size 1296x432 with 3 Axes>"
            ]
          },
          "metadata": {
            "tags": [],
            "needs_background": "light"
          }
        }
      ]
    },
    {
      "cell_type": "code",
      "metadata": {
        "id": "aam5F1S6l1LN",
        "outputId": "665beac3-e922-4219-b5db-17dbf2a73527",
        "colab": {
          "base_uri": "https://localhost:8080/"
        }
      },
      "source": [
        "len(val_data)"
      ],
      "execution_count": 41,
      "outputs": [
        {
          "output_type": "execute_result",
          "data": {
            "text/plain": [
              "8"
            ]
          },
          "metadata": {
            "tags": []
          },
          "execution_count": 41
        }
      ]
    },
    {
      "cell_type": "code",
      "metadata": {
        "id": "Pk_IbrDM0s2i",
        "outputId": "4d025b42-e092-4d63-b3cb-3ec51e2b858e",
        "colab": {
          "base_uri": "https://localhost:8080/"
        }
      },
      "source": [
        "from monai.data import decollate_batch\n",
        "dataloader=model.val_dataloader()\n",
        "model.eval()\n",
        "post_data=[]\n",
        "with torch.no_grad():\n",
        "  for d in dataloader:\n",
        "    images = d[\"image\"].to(device)\n",
        "    # define sliding window size and batch size for windows inference\n",
        "    infer_outputs = sliding_window_inference(inputs=images, roi_size=(32 , 32, 32), sw_batch_size=2, predictor=model)\n",
        "    infer_outputs = decollate_batch(infer_outputs)\n",
        "    for (infer_output, infer_output_data) in zip(infer_outputs, decollate_batch(d)):\n",
        "      infer_output_data[\"pred\"] = infer_output\n",
        "      post_data.append(post_transforms(infer_output_data))\n",
        "      break\n",
        "    "
      ],
      "execution_count": 42,
      "outputs": [
        {
          "output_type": "stream",
          "text": [
            "Loading dataset: 100%|██████████| 9/9 [00:21<00:00,  2.36s/it]\n"
          ],
          "name": "stderr"
        }
      ]
    },
    {
      "cell_type": "code",
      "metadata": {
        "id": "qRNvjEmwt_OY",
        "outputId": "d8c13e81-dd26-4566-b589-734ea512b3a0",
        "colab": {
          "base_uri": "https://localhost:8080/"
        }
      },
      "source": [
        "out=post_data[0]\n",
        "out['image'].shape,out['label'].shape,out['pred'].shape"
      ],
      "execution_count": 43,
      "outputs": [
        {
          "output_type": "execute_result",
          "data": {
            "text/plain": [
              "(torch.Size([1, 64, 64, 64]),\n",
              " torch.Size([1, 512, 512, 33]),\n",
              " torch.Size([2, 512, 512, 33]))"
            ]
          },
          "metadata": {
            "tags": []
          },
          "execution_count": 43
        }
      ]
    },
    {
      "cell_type": "code",
      "metadata": {
        "id": "brFu3ulGkQHQ",
        "outputId": "664df60d-b0c9-4a4d-bd64-ea8dd9016654",
        "colab": {
          "base_uri": "https://localhost:8080/"
        }
      },
      "source": [
        "raw_val=val_data[0]\n",
        "raw_val[0].shape,raw_val[1].shape#raw label and segment"
      ],
      "execution_count": 46,
      "outputs": [
        {
          "output_type": "execute_result",
          "data": {
            "text/plain": [
              "((512, 512, 33), (512, 512, 33))"
            ]
          },
          "metadata": {
            "tags": []
          },
          "execution_count": 46
        }
      ]
    },
    {
      "cell_type": "code",
      "metadata": {
        "id": "l_VsnhOFkTZF",
        "outputId": "098751df-a5ef-47e1-bce5-f0fa4f47ea47",
        "colab": {
          "base_uri": "https://localhost:8080/",
          "height": 221
        }
      },
      "source": [
        "fig,ax=plt.subplots(1,2)\n",
        "ax[0].imshow(raw_val[1][:,:,24])#raw image\n",
        "ax[1].imshow(out['label'][0,:,:,24])#inverted image"
      ],
      "execution_count": 48,
      "outputs": [
        {
          "output_type": "execute_result",
          "data": {
            "text/plain": [
              "<matplotlib.image.AxesImage at 0x7f3f71ad2510>"
            ]
          },
          "metadata": {
            "tags": []
          },
          "execution_count": 48
        },
        {
          "output_type": "display_data",
          "data": {
            "image/png": "[encoded data removed]",
            "text/plain": [
              "<Figure size 432x288 with 2 Axes>"
            ]
          },
          "metadata": {
            "tags": [],
            "needs_background": "light"
          }
        }
      ]
    },
    {
      "cell_type": "code",
      "metadata": {
        "id": "1n-tZeWGjztx"
      },
      "source": [
        ""
      ],
      "execution_count": null,
      "outputs": []
    }
  ]
}