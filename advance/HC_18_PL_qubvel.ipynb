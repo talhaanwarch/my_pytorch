{
  "nbformat": 4,
  "nbformat_minor": 0,
  "metadata": {
    "colab": {
      "name": "HC_18_PL.ipynb",
      "provenance": [],
      "collapsed_sections": [],
      "include_colab_link": true
    },
    "kernelspec": {
      "name": "python3",
      "display_name": "Python 3"
    },
    "language_info": {
      "name": "python"
    },
    "accelerator": "TPU",
    "widgets": {
      "application/vnd.jupyter.widget-state+json": {
        "75cd14d3577b4a1c945613b239b972a4": {
          "model_module": "@jupyter-widgets/controls",
          "model_name": "HBoxModel",
          "state": {
            "_view_name": "HBoxView",
            "_dom_classes": [],
            "_model_name": "HBoxModel",
            "_view_module": "@jupyter-widgets/controls",
            "_model_module_version": "1.5.0",
            "_view_count": null,
            "_view_module_version": "1.5.0",
            "box_style": "",
            "layout": "IPY_MODEL_a6610aff9ac1499b8dd38a4eb98ce960",
            "_model_module": "@jupyter-widgets/controls",
            "children": [
              "IPY_MODEL_8b2a05b088694c66ba163205c65fea5a",
              "IPY_MODEL_95e7e6a457e14fa7888399c2ed16e23f"
            ]
          }
        },
        "a6610aff9ac1499b8dd38a4eb98ce960": {
          "model_module": "@jupyter-widgets/base",
          "model_name": "LayoutModel",
          "state": {
            "_view_name": "LayoutView",
            "grid_template_rows": null,
            "right": null,
            "justify_content": null,
            "_view_module": "@jupyter-widgets/base",
            "overflow": null,
            "_model_module_version": "1.2.0",
            "_view_count": null,
            "flex_flow": "row wrap",
            "width": "100%",
            "min_width": null,
            "border": null,
            "align_items": null,
            "bottom": null,
            "_model_module": "@jupyter-widgets/base",
            "top": null,
            "grid_column": null,
            "overflow_y": null,
            "overflow_x": null,
            "grid_auto_flow": null,
            "grid_area": null,
            "grid_template_columns": null,
            "flex": null,
            "_model_name": "LayoutModel",
            "justify_items": null,
            "grid_row": null,
            "max_height": null,
            "align_content": null,
            "visibility": null,
            "align_self": null,
            "height": null,
            "min_height": null,
            "padding": null,
            "grid_auto_rows": null,
            "grid_gap": null,
            "max_width": null,
            "order": null,
            "_view_module_version": "1.2.0",
            "grid_template_areas": null,
            "object_position": null,
            "object_fit": null,
            "grid_auto_columns": null,
            "margin": null,
            "display": "inline-flex",
            "left": null
          }
        },
        "8b2a05b088694c66ba163205c65fea5a": {
          "model_module": "@jupyter-widgets/controls",
          "model_name": "FloatProgressModel",
          "state": {
            "_view_name": "ProgressView",
            "style": "IPY_MODEL_c33d608710ba4bb695aaeb61cc1013fc",
            "_dom_classes": [],
            "description": "Validation sanity check:   0%",
            "_model_name": "FloatProgressModel",
            "bar_style": "danger",
            "max": 2,
            "_view_module": "@jupyter-widgets/controls",
            "_model_module_version": "1.5.0",
            "value": 0,
            "_view_count": null,
            "_view_module_version": "1.5.0",
            "orientation": "horizontal",
            "min": 0,
            "description_tooltip": null,
            "_model_module": "@jupyter-widgets/controls",
            "layout": "IPY_MODEL_65db1010235c4af1bb232c4ca8558f97"
          }
        },
        "95e7e6a457e14fa7888399c2ed16e23f": {
          "model_module": "@jupyter-widgets/controls",
          "model_name": "HTMLModel",
          "state": {
            "_view_name": "HTMLView",
            "style": "IPY_MODEL_03e1309c13b945c78d4201e28e0ab97a",
            "_dom_classes": [],
            "description": "",
            "_model_name": "HTMLModel",
            "placeholder": "​",
            "_view_module": "@jupyter-widgets/controls",
            "_model_module_version": "1.5.0",
            "value": " 0/2 [00:02&lt;?, ?it/s]",
            "_view_count": null,
            "_view_module_version": "1.5.0",
            "description_tooltip": null,
            "_model_module": "@jupyter-widgets/controls",
            "layout": "IPY_MODEL_0e6752d974a54dec8e5d18c71565f581"
          }
        },
        "c33d608710ba4bb695aaeb61cc1013fc": {
          "model_module": "@jupyter-widgets/controls",
          "model_name": "ProgressStyleModel",
          "state": {
            "_view_name": "StyleView",
            "_model_name": "ProgressStyleModel",
            "description_width": "initial",
            "_view_module": "@jupyter-widgets/base",
            "_model_module_version": "1.5.0",
            "_view_count": null,
            "_view_module_version": "1.2.0",
            "bar_color": null,
            "_model_module": "@jupyter-widgets/controls"
          }
        },
        "65db1010235c4af1bb232c4ca8558f97": {
          "model_module": "@jupyter-widgets/base",
          "model_name": "LayoutModel",
          "state": {
            "_view_name": "LayoutView",
            "grid_template_rows": null,
            "right": null,
            "justify_content": null,
            "_view_module": "@jupyter-widgets/base",
            "overflow": null,
            "_model_module_version": "1.2.0",
            "_view_count": null,
            "flex_flow": null,
            "width": null,
            "min_width": null,
            "border": null,
            "align_items": null,
            "bottom": null,
            "_model_module": "@jupyter-widgets/base",
            "top": null,
            "grid_column": null,
            "overflow_y": null,
            "overflow_x": null,
            "grid_auto_flow": null,
            "grid_area": null,
            "grid_template_columns": null,
            "flex": "2",
            "_model_name": "LayoutModel",
            "justify_items": null,
            "grid_row": null,
            "max_height": null,
            "align_content": null,
            "visibility": null,
            "align_self": null,
            "height": null,
            "min_height": null,
            "padding": null,
            "grid_auto_rows": null,
            "grid_gap": null,
            "max_width": null,
            "order": null,
            "_view_module_version": "1.2.0",
            "grid_template_areas": null,
            "object_position": null,
            "object_fit": null,
            "grid_auto_columns": null,
            "margin": null,
            "display": null,
            "left": null
          }
        },
        "03e1309c13b945c78d4201e28e0ab97a": {
          "model_module": "@jupyter-widgets/controls",
          "model_name": "DescriptionStyleModel",
          "state": {
            "_view_name": "StyleView",
            "_model_name": "DescriptionStyleModel",
            "description_width": "",
            "_view_module": "@jupyter-widgets/base",
            "_model_module_version": "1.5.0",
            "_view_count": null,
            "_view_module_version": "1.2.0",
            "_model_module": "@jupyter-widgets/controls"
          }
        },
        "0e6752d974a54dec8e5d18c71565f581": {
          "model_module": "@jupyter-widgets/base",
          "model_name": "LayoutModel",
          "state": {
            "_view_name": "LayoutView",
            "grid_template_rows": null,
            "right": null,
            "justify_content": null,
            "_view_module": "@jupyter-widgets/base",
            "overflow": null,
            "_model_module_version": "1.2.0",
            "_view_count": null,
            "flex_flow": null,
            "width": null,
            "min_width": null,
            "border": null,
            "align_items": null,
            "bottom": null,
            "_model_module": "@jupyter-widgets/base",
            "top": null,
            "grid_column": null,
            "overflow_y": null,
            "overflow_x": null,
            "grid_auto_flow": null,
            "grid_area": null,
            "grid_template_columns": null,
            "flex": null,
            "_model_name": "LayoutModel",
            "justify_items": null,
            "grid_row": null,
            "max_height": null,
            "align_content": null,
            "visibility": null,
            "align_self": null,
            "height": null,
            "min_height": null,
            "padding": null,
            "grid_auto_rows": null,
            "grid_gap": null,
            "max_width": null,
            "order": null,
            "_view_module_version": "1.2.0",
            "grid_template_areas": null,
            "object_position": null,
            "object_fit": null,
            "grid_auto_columns": null,
            "margin": null,
            "display": null,
            "left": null
          }
        },
        "4fb776a3a25a4ceda028e02a95750585": {
          "model_module": "@jupyter-widgets/controls",
          "model_name": "HBoxModel",
          "state": {
            "_view_name": "HBoxView",
            "_dom_classes": [],
            "_model_name": "HBoxModel",
            "_view_module": "@jupyter-widgets/controls",
            "_model_module_version": "1.5.0",
            "_view_count": null,
            "_view_module_version": "1.5.0",
            "box_style": "",
            "layout": "IPY_MODEL_dbc269a3524c437dbf16357e359a936f",
            "_model_module": "@jupyter-widgets/controls",
            "children": [
              "IPY_MODEL_e8c9a98c2178410c9a4e50cb33786b8d",
              "IPY_MODEL_54b87357302843d2b7cfbc1485aa498f"
            ]
          }
        },
        "dbc269a3524c437dbf16357e359a936f": {
          "model_module": "@jupyter-widgets/base",
          "model_name": "LayoutModel",
          "state": {
            "_view_name": "LayoutView",
            "grid_template_rows": null,
            "right": null,
            "justify_content": null,
            "_view_module": "@jupyter-widgets/base",
            "overflow": null,
            "_model_module_version": "1.2.0",
            "_view_count": null,
            "flex_flow": "row wrap",
            "width": "100%",
            "min_width": null,
            "border": null,
            "align_items": null,
            "bottom": null,
            "_model_module": "@jupyter-widgets/base",
            "top": null,
            "grid_column": null,
            "overflow_y": null,
            "overflow_x": null,
            "grid_auto_flow": null,
            "grid_area": null,
            "grid_template_columns": null,
            "flex": null,
            "_model_name": "LayoutModel",
            "justify_items": null,
            "grid_row": null,
            "max_height": null,
            "align_content": null,
            "visibility": null,
            "align_self": null,
            "height": null,
            "min_height": null,
            "padding": null,
            "grid_auto_rows": null,
            "grid_gap": null,
            "max_width": null,
            "order": null,
            "_view_module_version": "1.2.0",
            "grid_template_areas": null,
            "object_position": null,
            "object_fit": null,
            "grid_auto_columns": null,
            "margin": null,
            "display": "inline-flex",
            "left": null
          }
        },
        "e8c9a98c2178410c9a4e50cb33786b8d": {
          "model_module": "@jupyter-widgets/controls",
          "model_name": "FloatProgressModel",
          "state": {
            "_view_name": "ProgressView",
            "style": "IPY_MODEL_a500917003fd4036b0c3060a7623ace2",
            "_dom_classes": [],
            "description": "Epoch 0: 100%",
            "_model_name": "FloatProgressModel",
            "bar_style": "success",
            "max": 32,
            "_view_module": "@jupyter-widgets/controls",
            "_model_module_version": "1.5.0",
            "value": 32,
            "_view_count": null,
            "_view_module_version": "1.5.0",
            "orientation": "horizontal",
            "min": 0,
            "description_tooltip": null,
            "_model_module": "@jupyter-widgets/controls",
            "layout": "IPY_MODEL_1cf2eeb69cc34057aa6220d14baf0899"
          }
        },
        "54b87357302843d2b7cfbc1485aa498f": {
          "model_module": "@jupyter-widgets/controls",
          "model_name": "HTMLModel",
          "state": {
            "_view_name": "HTMLView",
            "style": "IPY_MODEL_782c333cd74b47e6a21260aa6457c0cd",
            "_dom_classes": [],
            "description": "",
            "_model_name": "HTMLModel",
            "placeholder": "​",
            "_view_module": "@jupyter-widgets/controls",
            "_model_module_version": "1.5.0",
            "value": " 32/32 [02:42&lt;00:00,  5.08s/it, loss=0.278, v_num=8, val/loss=0.305, val/iou=0.402, train/loss_step=0.135, train/loss_epoch=0.330]",
            "_view_count": null,
            "_view_module_version": "1.5.0",
            "description_tooltip": null,
            "_model_module": "@jupyter-widgets/controls",
            "layout": "IPY_MODEL_e6b89d0c6ad848c3a01f1d85b05201b7"
          }
        },
        "a500917003fd4036b0c3060a7623ace2": {
          "model_module": "@jupyter-widgets/controls",
          "model_name": "ProgressStyleModel",
          "state": {
            "_view_name": "StyleView",
            "_model_name": "ProgressStyleModel",
            "description_width": "initial",
            "_view_module": "@jupyter-widgets/base",
            "_model_module_version": "1.5.0",
            "_view_count": null,
            "_view_module_version": "1.2.0",
            "bar_color": null,
            "_model_module": "@jupyter-widgets/controls"
          }
        },
        "1cf2eeb69cc34057aa6220d14baf0899": {
          "model_module": "@jupyter-widgets/base",
          "model_name": "LayoutModel",
          "state": {
            "_view_name": "LayoutView",
            "grid_template_rows": null,
            "right": null,
            "justify_content": null,
            "_view_module": "@jupyter-widgets/base",
            "overflow": null,
            "_model_module_version": "1.2.0",
            "_view_count": null,
            "flex_flow": null,
            "width": null,
            "min_width": null,
            "border": null,
            "align_items": null,
            "bottom": null,
            "_model_module": "@jupyter-widgets/base",
            "top": null,
            "grid_column": null,
            "overflow_y": null,
            "overflow_x": null,
            "grid_auto_flow": null,
            "grid_area": null,
            "grid_template_columns": null,
            "flex": "2",
            "_model_name": "LayoutModel",
            "justify_items": null,
            "grid_row": null,
            "max_height": null,
            "align_content": null,
            "visibility": null,
            "align_self": null,
            "height": null,
            "min_height": null,
            "padding": null,
            "grid_auto_rows": null,
            "grid_gap": null,
            "max_width": null,
            "order": null,
            "_view_module_version": "1.2.0",
            "grid_template_areas": null,
            "object_position": null,
            "object_fit": null,
            "grid_auto_columns": null,
            "margin": null,
            "display": null,
            "left": null
          }
        },
        "782c333cd74b47e6a21260aa6457c0cd": {
          "model_module": "@jupyter-widgets/controls",
          "model_name": "DescriptionStyleModel",
          "state": {
            "_view_name": "StyleView",
            "_model_name": "DescriptionStyleModel",
            "description_width": "",
            "_view_module": "@jupyter-widgets/base",
            "_model_module_version": "1.5.0",
            "_view_count": null,
            "_view_module_version": "1.2.0",
            "_model_module": "@jupyter-widgets/controls"
          }
        },
        "e6b89d0c6ad848c3a01f1d85b05201b7": {
          "model_module": "@jupyter-widgets/base",
          "model_name": "LayoutModel",
          "state": {
            "_view_name": "LayoutView",
            "grid_template_rows": null,
            "right": null,
            "justify_content": null,
            "_view_module": "@jupyter-widgets/base",
            "overflow": null,
            "_model_module_version": "1.2.0",
            "_view_count": null,
            "flex_flow": null,
            "width": null,
            "min_width": null,
            "border": null,
            "align_items": null,
            "bottom": null,
            "_model_module": "@jupyter-widgets/base",
            "top": null,
            "grid_column": null,
            "overflow_y": null,
            "overflow_x": null,
            "grid_auto_flow": null,
            "grid_area": null,
            "grid_template_columns": null,
            "flex": null,
            "_model_name": "LayoutModel",
            "justify_items": null,
            "grid_row": null,
            "max_height": null,
            "align_content": null,
            "visibility": null,
            "align_self": null,
            "height": null,
            "min_height": null,
            "padding": null,
            "grid_auto_rows": null,
            "grid_gap": null,
            "max_width": null,
            "order": null,
            "_view_module_version": "1.2.0",
            "grid_template_areas": null,
            "object_position": null,
            "object_fit": null,
            "grid_auto_columns": null,
            "margin": null,
            "display": null,
            "left": null
          }
        },
        "a765ffd3ae064db09d461f0c11fd0f6f": {
          "model_module": "@jupyter-widgets/controls",
          "model_name": "HBoxModel",
          "state": {
            "_view_name": "HBoxView",
            "_dom_classes": [],
            "_model_name": "HBoxModel",
            "_view_module": "@jupyter-widgets/controls",
            "_model_module_version": "1.5.0",
            "_view_count": null,
            "_view_module_version": "1.5.0",
            "box_style": "",
            "layout": "IPY_MODEL_44c49eea988942988cbab57d9978caed",
            "_model_module": "@jupyter-widgets/controls",
            "children": [
              "IPY_MODEL_d3e7e43ed06c46259bd97a3a8bdf603a",
              "IPY_MODEL_42a7a09de5c04f25b93ce7c5ee0be703"
            ]
          }
        },
        "44c49eea988942988cbab57d9978caed": {
          "model_module": "@jupyter-widgets/base",
          "model_name": "LayoutModel",
          "state": {
            "_view_name": "LayoutView",
            "grid_template_rows": null,
            "right": null,
            "justify_content": null,
            "_view_module": "@jupyter-widgets/base",
            "overflow": null,
            "_model_module_version": "1.2.0",
            "_view_count": null,
            "flex_flow": "row wrap",
            "width": "100%",
            "min_width": null,
            "border": null,
            "align_items": null,
            "bottom": null,
            "_model_module": "@jupyter-widgets/base",
            "top": null,
            "grid_column": null,
            "overflow_y": null,
            "overflow_x": null,
            "grid_auto_flow": null,
            "grid_area": null,
            "grid_template_columns": null,
            "flex": null,
            "_model_name": "LayoutModel",
            "justify_items": null,
            "grid_row": null,
            "max_height": null,
            "align_content": null,
            "visibility": null,
            "align_self": null,
            "height": null,
            "min_height": null,
            "padding": null,
            "grid_auto_rows": null,
            "grid_gap": null,
            "max_width": null,
            "order": null,
            "_view_module_version": "1.2.0",
            "grid_template_areas": null,
            "object_position": null,
            "object_fit": null,
            "grid_auto_columns": null,
            "margin": null,
            "display": "inline-flex",
            "left": null
          }
        },
        "d3e7e43ed06c46259bd97a3a8bdf603a": {
          "model_module": "@jupyter-widgets/controls",
          "model_name": "FloatProgressModel",
          "state": {
            "_view_name": "ProgressView",
            "style": "IPY_MODEL_d1ef772436f64eaf93f1cc9d3b75a8b3",
            "_dom_classes": [],
            "description": "Validating: 100%",
            "_model_name": "FloatProgressModel",
            "bar_style": "info",
            "max": 7,
            "_view_module": "@jupyter-widgets/controls",
            "_model_module_version": "1.5.0",
            "value": 7,
            "_view_count": null,
            "_view_module_version": "1.5.0",
            "orientation": "horizontal",
            "min": 0,
            "description_tooltip": null,
            "_model_module": "@jupyter-widgets/controls",
            "layout": "IPY_MODEL_096e52dc3d5b423aaae22fcdf4f88fcf"
          }
        },
        "42a7a09de5c04f25b93ce7c5ee0be703": {
          "model_module": "@jupyter-widgets/controls",
          "model_name": "HTMLModel",
          "state": {
            "_view_name": "HTMLView",
            "style": "IPY_MODEL_e872fa522c7845e2b3bbe3b95d2d9632",
            "_dom_classes": [],
            "description": "",
            "_model_name": "HTMLModel",
            "placeholder": "​",
            "_view_module": "@jupyter-widgets/controls",
            "_model_module_version": "1.5.0",
            "value": " 7/7 [02:27&lt;00:00, 21.08s/it]",
            "_view_count": null,
            "_view_module_version": "1.5.0",
            "description_tooltip": null,
            "_model_module": "@jupyter-widgets/controls",
            "layout": "IPY_MODEL_eb64bbfbe293438bad8b81816055f4fb"
          }
        },
        "d1ef772436f64eaf93f1cc9d3b75a8b3": {
          "model_module": "@jupyter-widgets/controls",
          "model_name": "ProgressStyleModel",
          "state": {
            "_view_name": "StyleView",
            "_model_name": "ProgressStyleModel",
            "description_width": "initial",
            "_view_module": "@jupyter-widgets/base",
            "_model_module_version": "1.5.0",
            "_view_count": null,
            "_view_module_version": "1.2.0",
            "bar_color": null,
            "_model_module": "@jupyter-widgets/controls"
          }
        },
        "096e52dc3d5b423aaae22fcdf4f88fcf": {
          "model_module": "@jupyter-widgets/base",
          "model_name": "LayoutModel",
          "state": {
            "_view_name": "LayoutView",
            "grid_template_rows": null,
            "right": null,
            "justify_content": null,
            "_view_module": "@jupyter-widgets/base",
            "overflow": null,
            "_model_module_version": "1.2.0",
            "_view_count": null,
            "flex_flow": null,
            "width": null,
            "min_width": null,
            "border": null,
            "align_items": null,
            "bottom": null,
            "_model_module": "@jupyter-widgets/base",
            "top": null,
            "grid_column": null,
            "overflow_y": null,
            "overflow_x": null,
            "grid_auto_flow": null,
            "grid_area": null,
            "grid_template_columns": null,
            "flex": "2",
            "_model_name": "LayoutModel",
            "justify_items": null,
            "grid_row": null,
            "max_height": null,
            "align_content": null,
            "visibility": null,
            "align_self": null,
            "height": null,
            "min_height": null,
            "padding": null,
            "grid_auto_rows": null,
            "grid_gap": null,
            "max_width": null,
            "order": null,
            "_view_module_version": "1.2.0",
            "grid_template_areas": null,
            "object_position": null,
            "object_fit": null,
            "grid_auto_columns": null,
            "margin": null,
            "display": null,
            "left": null
          }
        },
        "e872fa522c7845e2b3bbe3b95d2d9632": {
          "model_module": "@jupyter-widgets/controls",
          "model_name": "DescriptionStyleModel",
          "state": {
            "_view_name": "StyleView",
            "_model_name": "DescriptionStyleModel",
            "description_width": "",
            "_view_module": "@jupyter-widgets/base",
            "_model_module_version": "1.5.0",
            "_view_count": null,
            "_view_module_version": "1.2.0",
            "_model_module": "@jupyter-widgets/controls"
          }
        },
        "eb64bbfbe293438bad8b81816055f4fb": {
          "model_module": "@jupyter-widgets/base",
          "model_name": "LayoutModel",
          "state": {
            "_view_name": "LayoutView",
            "grid_template_rows": null,
            "right": null,
            "justify_content": null,
            "_view_module": "@jupyter-widgets/base",
            "overflow": null,
            "_model_module_version": "1.2.0",
            "_view_count": null,
            "flex_flow": null,
            "width": null,
            "min_width": null,
            "border": null,
            "align_items": null,
            "bottom": null,
            "_model_module": "@jupyter-widgets/base",
            "top": null,
            "grid_column": null,
            "overflow_y": null,
            "overflow_x": null,
            "grid_auto_flow": null,
            "grid_area": null,
            "grid_template_columns": null,
            "flex": null,
            "_model_name": "LayoutModel",
            "justify_items": null,
            "grid_row": null,
            "max_height": null,
            "align_content": null,
            "visibility": null,
            "align_self": null,
            "height": null,
            "min_height": null,
            "padding": null,
            "grid_auto_rows": null,
            "grid_gap": null,
            "max_width": null,
            "order": null,
            "_view_module_version": "1.2.0",
            "grid_template_areas": null,
            "object_position": null,
            "object_fit": null,
            "grid_auto_columns": null,
            "margin": null,
            "display": null,
            "left": null
          }
        }
      }
    }
  },
  "cells": [
    {
      "cell_type": "markdown",
      "metadata": {
        "id": "view-in-github",
        "colab_type": "text"
      },
      "source": [
        "<a href=\"https://colab.research.google.com/github/talhaanwarch/my_pytorch/blob/master/advance/HC_18_PL_qubvel.ipynb\" target=\"_parent\"><img src=\"https://colab.research.google.com/assets/colab-badge.svg\" alt=\"Open In Colab\"/></a>"
      ]
    },
    {
      "cell_type": "code",
      "metadata": {
        "id": "6eZQ-r0Yowtl"
      },
      "source": [
        "# resources\n",
        "#https://github.com/Pankaj1357"
      ],
      "execution_count": 1,
      "outputs": []
    },
    {
      "cell_type": "code",
      "metadata": {
        "id": "9uagpQ1-JIlS",
        "outputId": "65b11fc1-b198-4f8e-8c72-14aa69d34f19",
        "colab": {
          "base_uri": "https://localhost:8080/"
        }
      },
      "source": [
        "from google.colab import drive\n",
        "drive.mount('/content/drive',force_remount=True)"
      ],
      "execution_count": 2,
      "outputs": [
        {
          "output_type": "stream",
          "text": [
            "Mounted at /content/drive\n"
          ],
          "name": "stdout"
        }
      ]
    },
    {
      "cell_type": "markdown",
      "metadata": {
        "id": "kTtDWi6ivwEj"
      },
      "source": [
        "# install packages"
      ]
    },
    {
      "cell_type": "code",
      "metadata": {
        "id": "X_bF8kHxvyQR"
      },
      "source": [
        "%%capture\n",
        "!pip install cloud-tpu-client==0.10 https://storage.googleapis.com/tpu-pytorch/wheels/torch_xla-1.9-cp37-cp37m-linux_x86_64.whl\n",
        "!pip install pytorch-lightning\n",
        "!pip install torchmetrics\n",
        "!pip install segmentation-models-pytorch\n",
        "!pip install --upgrade albumentations"
      ],
      "execution_count": 3,
      "outputs": []
    },
    {
      "cell_type": "code",
      "metadata": {
        "colab": {
          "base_uri": "https://localhost:8080/",
          "height": 35
        },
        "id": "vlIvSpV4w1ic",
        "outputId": "f0cfaa5b-d6a3-4402-e5b2-c944adfb4bbb"
      },
      "source": [
        "import albumentations as A\n",
        "A.__version__ "
      ],
      "execution_count": 4,
      "outputs": [
        {
          "output_type": "execute_result",
          "data": {
            "application/vnd.google.colaboratory.intrinsic+json": {
              "type": "string"
            },
            "text/plain": [
              "'1.0.1'"
            ]
          },
          "metadata": {
            "tags": []
          },
          "execution_count": 4
        }
      ]
    },
    {
      "cell_type": "code",
      "metadata": {
        "colab": {
          "base_uri": "https://localhost:8080/",
          "height": 53
        },
        "id": "bhE4edxt3Wt4",
        "outputId": "f9f1f1ae-8314-4a10-bc4c-7ae097a3edc0"
      },
      "source": [
        "import pytorch_lightning as PL\n",
        "PL.__version__"
      ],
      "execution_count": 5,
      "outputs": [
        {
          "output_type": "stream",
          "text": [
            "WARNING:root:TPU has started up successfully with version pytorch-1.9\n"
          ],
          "name": "stderr"
        },
        {
          "output_type": "execute_result",
          "data": {
            "application/vnd.google.colaboratory.intrinsic+json": {
              "type": "string"
            },
            "text/plain": [
              "'1.3.8'"
            ]
          },
          "metadata": {
            "tags": []
          },
          "execution_count": 5
        }
      ]
    },
    {
      "cell_type": "markdown",
      "metadata": {
        "id": "da40Oz_ipDre"
      },
      "source": [
        "# download and extract data"
      ]
    },
    {
      "cell_type": "code",
      "metadata": {
        "id": "54Y2Xoy0pFIy"
      },
      "source": [
        "%%capture\n",
        "import os\n",
        "if os.path.isfile('training_set.zip') is False:\n",
        "  !wget https://zenodo.org/record/1327317/files/training_set.zip\n",
        "  !wget https://zenodo.org/record/1327317/files/training_set_pixel_size_and_HC.csv\n",
        "  !wget https://zenodo.org/record/1327317/files/test_set_pixel_size.csv\n",
        "  !wget https://zenodo.org/record/1327317/files/test_set.zip"
      ],
      "execution_count": 6,
      "outputs": []
    },
    {
      "cell_type": "code",
      "metadata": {
        "id": "nuYd3td-pQDU"
      },
      "source": [
        "%%capture\n",
        "!unzip /content/training_set.zip\n",
        "!unzip /content/test_set.zip"
      ],
      "execution_count": 7,
      "outputs": []
    },
    {
      "cell_type": "code",
      "metadata": {
        "id": "YXBX27OApgON"
      },
      "source": [
        "import pandas as pd\n",
        "import numpy as np\n",
        "import matplotlib.pyplot as plt\n",
        "import cv2\n",
        "from glob import glob"
      ],
      "execution_count": 8,
      "outputs": []
    },
    {
      "cell_type": "code",
      "metadata": {
        "colab": {
          "base_uri": "https://localhost:8080/",
          "height": 199
        },
        "id": "H-FNyDcYusa8",
        "outputId": "61566bb0-aff6-4907-85d5-f0ed7fd07709"
      },
      "source": [
        "train_df=pd.read_csv('/content/training_set_pixel_size_and_HC.csv')\n",
        "train_df.head()"
      ],
      "execution_count": 9,
      "outputs": [
        {
          "output_type": "execute_result",
          "data": {
            "text/html": [
              "<div>\n",
              "<style scoped>\n",
              "    .dataframe tbody tr th:only-of-type {\n",
              "        vertical-align: middle;\n",
              "    }\n",
              "\n",
              "    .dataframe tbody tr th {\n",
              "        vertical-align: top;\n",
              "    }\n",
              "\n",
              "    .dataframe thead th {\n",
              "        text-align: right;\n",
              "    }\n",
              "</style>\n",
              "<table border=\"1\" class=\"dataframe\">\n",
              "  <thead>\n",
              "    <tr style=\"text-align: right;\">\n",
              "      <th></th>\n",
              "      <th>filename</th>\n",
              "      <th>pixel size(mm)</th>\n",
              "      <th>head circumference (mm)</th>\n",
              "    </tr>\n",
              "  </thead>\n",
              "  <tbody>\n",
              "    <tr>\n",
              "      <th>0</th>\n",
              "      <td>000_HC.png</td>\n",
              "      <td>0.069136</td>\n",
              "      <td>44.30</td>\n",
              "    </tr>\n",
              "    <tr>\n",
              "      <th>1</th>\n",
              "      <td>001_HC.png</td>\n",
              "      <td>0.089659</td>\n",
              "      <td>56.81</td>\n",
              "    </tr>\n",
              "    <tr>\n",
              "      <th>2</th>\n",
              "      <td>002_HC.png</td>\n",
              "      <td>0.062033</td>\n",
              "      <td>68.75</td>\n",
              "    </tr>\n",
              "    <tr>\n",
              "      <th>3</th>\n",
              "      <td>003_HC.png</td>\n",
              "      <td>0.091291</td>\n",
              "      <td>69.00</td>\n",
              "    </tr>\n",
              "    <tr>\n",
              "      <th>4</th>\n",
              "      <td>004_HC.png</td>\n",
              "      <td>0.061240</td>\n",
              "      <td>59.81</td>\n",
              "    </tr>\n",
              "  </tbody>\n",
              "</table>\n",
              "</div>"
            ],
            "text/plain": [
              "     filename  pixel size(mm)  head circumference (mm)\n",
              "0  000_HC.png        0.069136                    44.30\n",
              "1  001_HC.png        0.089659                    56.81\n",
              "2  002_HC.png        0.062033                    68.75\n",
              "3  003_HC.png        0.091291                    69.00\n",
              "4  004_HC.png        0.061240                    59.81"
            ]
          },
          "metadata": {
            "tags": []
          },
          "execution_count": 9
        }
      ]
    },
    {
      "cell_type": "code",
      "metadata": {
        "colab": {
          "base_uri": "https://localhost:8080/",
          "height": 199
        },
        "id": "Gwloz9INu0kn",
        "outputId": "bad09732-3115-40b3-ba5a-2364f8f0dc5d"
      },
      "source": [
        "test_df=pd.read_csv('/content/test_set_pixel_size.csv')\n",
        "test_df.head()"
      ],
      "execution_count": 10,
      "outputs": [
        {
          "output_type": "execute_result",
          "data": {
            "text/html": [
              "<div>\n",
              "<style scoped>\n",
              "    .dataframe tbody tr th:only-of-type {\n",
              "        vertical-align: middle;\n",
              "    }\n",
              "\n",
              "    .dataframe tbody tr th {\n",
              "        vertical-align: top;\n",
              "    }\n",
              "\n",
              "    .dataframe thead th {\n",
              "        text-align: right;\n",
              "    }\n",
              "</style>\n",
              "<table border=\"1\" class=\"dataframe\">\n",
              "  <thead>\n",
              "    <tr style=\"text-align: right;\">\n",
              "      <th></th>\n",
              "      <th>filename</th>\n",
              "      <th>pixel size(mm)</th>\n",
              "    </tr>\n",
              "  </thead>\n",
              "  <tbody>\n",
              "    <tr>\n",
              "      <th>0</th>\n",
              "      <td>000_HC.png</td>\n",
              "      <td>0.235857</td>\n",
              "    </tr>\n",
              "    <tr>\n",
              "      <th>1</th>\n",
              "      <td>001_HC.png</td>\n",
              "      <td>0.067973</td>\n",
              "    </tr>\n",
              "    <tr>\n",
              "      <th>2</th>\n",
              "      <td>002_HC.png</td>\n",
              "      <td>0.165202</td>\n",
              "    </tr>\n",
              "    <tr>\n",
              "      <th>3</th>\n",
              "      <td>003_HC.png</td>\n",
              "      <td>0.096674</td>\n",
              "    </tr>\n",
              "    <tr>\n",
              "      <th>4</th>\n",
              "      <td>004_HC.png</td>\n",
              "      <td>0.202203</td>\n",
              "    </tr>\n",
              "  </tbody>\n",
              "</table>\n",
              "</div>"
            ],
            "text/plain": [
              "     filename  pixel size(mm)\n",
              "0  000_HC.png        0.235857\n",
              "1  001_HC.png        0.067973\n",
              "2  002_HC.png        0.165202\n",
              "3  003_HC.png        0.096674\n",
              "4  004_HC.png        0.202203"
            ]
          },
          "metadata": {
            "tags": []
          },
          "execution_count": 10
        }
      ]
    },
    {
      "cell_type": "code",
      "metadata": {
        "colab": {
          "base_uri": "https://localhost:8080/",
          "height": 253
        },
        "id": "qbbugYbCp8rq",
        "outputId": "40f9f3f6-a98c-45f9-d88d-8a85c83d4077"
      },
      "source": [
        "img=cv2.imread('/content/training_set/000_HC.png',0)\n",
        "img_annot=cv2.imread('/content/training_set/000_HC_Annotation.png',0)\n",
        "fig,ax=plt.subplots(1,2,figsize=(10,5))\n",
        "ax[0].imshow(img,cmap='gray')\n",
        "ax[0].set_title('Image')\n",
        "ax[1].imshow(img_annot,cmap='gray')\n",
        "ax[1].set_title('Image Annotation')\n"
      ],
      "execution_count": 11,
      "outputs": [
        {
          "output_type": "execute_result",
          "data": {
            "text/plain": [
              "Text(0.5, 1.0, 'Image Annotation')"
            ]
          },
          "metadata": {
            "tags": []
          },
          "execution_count": 11
        },
        {
          "output_type": "display_data",
          "data": {
            "image/png": "[encoded data removed]",
            "text/plain": [
              "<Figure size 720x360 with 2 Axes>"
            ]
          },
          "metadata": {
            "tags": [],
            "needs_background": "light"
          }
        }
      ]
    },
    {
      "cell_type": "code",
      "metadata": {
        "id": "bLg_u1Gyp9Ky"
      },
      "source": [
        "#convert this circle to a mask\n",
        "def masking(image):\n",
        "    ret, thresh = cv2.threshold(image, 127, 255, 0)\n",
        "    contours, _ = cv2.findContours(thresh, cv2.RETR_TREE, cv2.CHAIN_APPROX_SIMPLE)\n",
        "    ellipse = cv2.fitEllipse(contours[0])\n",
        "    return cv2.ellipse(image, ellipse, (255,255,255), -1)"
      ],
      "execution_count": 12,
      "outputs": []
    },
    {
      "cell_type": "code",
      "metadata": {
        "colab": {
          "base_uri": "https://localhost:8080/",
          "height": 286
        },
        "id": "VVpDe6Npp9RV",
        "outputId": "fc801f26-a2bc-4f23-a03b-47b555cebea7"
      },
      "source": [
        "img=cv2.imread('/content/training_set/168_HC_Annotation.png',0)\n",
        "plt.imshow(masking(img),cmap='gray')"
      ],
      "execution_count": 13,
      "outputs": [
        {
          "output_type": "execute_result",
          "data": {
            "text/plain": [
              "<matplotlib.image.AxesImage at 0x7f0a30f55090>"
            ]
          },
          "metadata": {
            "tags": []
          },
          "execution_count": 13
        },
        {
          "output_type": "display_data",
          "data": {
            "image/png": "[encoded data removed]",
            "text/plain": [
              "<Figure size 432x288 with 1 Axes>"
            ]
          },
          "metadata": {
            "tags": [],
            "needs_background": "light"
          }
        }
      ]
    },
    {
      "cell_type": "markdown",
      "metadata": {
        "id": "eVufm83k3e7k"
      },
      "source": [
        "## <font color='red'> run following cell one time only </font>"
      ]
    },
    {
      "cell_type": "code",
      "metadata": {
        "id": "0CiMtwG8riBH"
      },
      "source": [
        "#do this will all images annotation\n",
        "images_path,mask_path=[],[]\n",
        "for img_path in sorted(glob('/content/training_set/*.png')):\n",
        "  if 'Annotation' in img_path:\n",
        "    mask_path.append(img_path)#get path of all masks\n",
        "    image=cv2.imread(img_path,0)\n",
        "    image=masking(image)\n",
        "    cv2.imwrite(img_path, image)\n",
        "  else:\n",
        "    images_path.append(img_path)#get path of all images\n",
        "    \n"
      ],
      "execution_count": 14,
      "outputs": []
    },
    {
      "cell_type": "code",
      "metadata": {
        "colab": {
          "base_uri": "https://localhost:8080/",
          "height": 253
        },
        "id": "lb3cl0NAs8Kq",
        "outputId": "e3dbf97b-76b5-4271-f6a1-99acb0caa4b1"
      },
      "source": [
        "img=cv2.imread('/content/training_set/000_HC.png',0)\n",
        "img_annot=cv2.imread('/content/training_set/000_HC_Annotation.png',0)\n",
        "fig,ax=plt.subplots(1,2,figsize=(10,5))\n",
        "ax[0].imshow(img,cmap='gray')\n",
        "ax[0].set_title('Image')\n",
        "ax[1].imshow(img_annot,cmap='gray')\n",
        "ax[1].set_title('Image Annotation')\n"
      ],
      "execution_count": 15,
      "outputs": [
        {
          "output_type": "execute_result",
          "data": {
            "text/plain": [
              "Text(0.5, 1.0, 'Image Annotation')"
            ]
          },
          "metadata": {
            "tags": []
          },
          "execution_count": 15
        },
        {
          "output_type": "display_data",
          "data": {
            "image/png": "[encoded data removed]",
            "text/plain": [
              "<Figure size 720x360 with 2 Axes>"
            ]
          },
          "metadata": {
            "tags": [],
            "needs_background": "light"
          }
        }
      ]
    },
    {
      "cell_type": "code",
      "metadata": {
        "colab": {
          "base_uri": "https://localhost:8080/"
        },
        "id": "FOU2yx80uMjj",
        "outputId": "1bacd33c-ce26-4415-c692-4f6f63768c75"
      },
      "source": [
        "len(images_path),len(mask_path)"
      ],
      "execution_count": 16,
      "outputs": [
        {
          "output_type": "execute_result",
          "data": {
            "text/plain": [
              "(999, 999)"
            ]
          },
          "metadata": {
            "tags": []
          },
          "execution_count": 16
        }
      ]
    },
    {
      "cell_type": "markdown",
      "metadata": {
        "id": "UGJmLITzv9Ey"
      },
      "source": [
        "# image augmentation"
      ]
    },
    {
      "cell_type": "code",
      "metadata": {
        "id": "yubxBJv1uMp5"
      },
      "source": [
        "import albumentations as A\n",
        "from albumentations.pytorch import ToTensorV2\n",
        "\n",
        "aug= A.Compose([\n",
        "            A.Resize(224, 224),\n",
        "            #CenterCrop(224,224),\n",
        "            A.HorizontalFlip(p=0.5),\n",
        "            A.VerticalFlip(p=0.5),\n",
        "            A.Rotate(60), \n",
        "            #A.ShiftScaleRotate(2,2,5), \n",
        "            #A.Cutout(p=0.5),\n",
        "            A.Normalize(mean=(0), std=(1)),\n",
        "            ToTensorV2(p=1.0),\n",
        "        ], p=1.0)"
      ],
      "execution_count": 17,
      "outputs": []
    },
    {
      "cell_type": "markdown",
      "metadata": {
        "id": "y1iJCf_ex-os"
      },
      "source": [
        "# creater loader"
      ]
    },
    {
      "cell_type": "code",
      "metadata": {
        "id": "nCqnw-nJyBaO"
      },
      "source": [
        "from torch.utils.data import DataLoader, Dataset\n",
        "import torchvision"
      ],
      "execution_count": 18,
      "outputs": []
    },
    {
      "cell_type": "code",
      "metadata": {
        "id": "SqdwF90kuMsf"
      },
      "source": [
        "class Reader(Dataset):\n",
        "  def __init__(self,images,labels,transform=None):\n",
        "    super(Reader,self).__init__()\n",
        "    self.images=images\n",
        "    self.masks=labels\n",
        "    self.transform=transform\n",
        "\n",
        "  def __len__(self):\n",
        "    return len(self.images)\n",
        "\n",
        "  def __getitem__(self,index):\n",
        "    image_path=self.images[index]\n",
        "    mask_path=self.masks[index]\n",
        "\n",
        "    image=cv2.imread(image_path,0)\n",
        "    mask=cv2.imread(mask_path,0)\n",
        "    if self.transform:\n",
        "      transformed =self.transform(image=image,mask=mask)\n",
        "      image=transformed['image']\n",
        "      mask=transformed['mask']\n",
        "      mask=np.expand_dims(mask,0)//255\n",
        "\n",
        "    return image,mask\n"
      ],
      "execution_count": 43,
      "outputs": []
    },
    {
      "cell_type": "code",
      "metadata": {
        "colab": {
          "base_uri": "https://localhost:8080/",
          "height": 482
        },
        "id": "GO0UOaNswtT1",
        "outputId": "e372c939-b89f-4a1d-b3ab-5ae07c6a1a07"
      },
      "source": [
        "#testing above code\n",
        "batch=next(iter(DataLoader(Reader(images_path,mask_path,aug), batch_size = 8, num_workers=1,shuffle=True)))\n",
        "print(batch[0].shape,batch[1].shape)\n",
        "plt.figure()\n",
        "grid_img=torchvision.utils.make_grid(batch[0],4,4)\n",
        "plt.imshow(grid_img.permute(1, 2, 0))\n",
        "plt.title('batch of images')\n",
        "plt.figure()\n",
        "grid_img=torchvision.utils.make_grid(batch[1],4,4)\n",
        "plt.imshow(grid_img.permute(1, 2, 0))\n",
        "plt.title('batch of masks')\n"
      ],
      "execution_count": 44,
      "outputs": [
        {
          "output_type": "stream",
          "text": [
            "torch.Size([8, 1, 224, 224]) torch.Size([8, 1, 224, 224])\n"
          ],
          "name": "stdout"
        },
        {
          "output_type": "execute_result",
          "data": {
            "text/plain": [
              "Text(0.5, 1.0, 'batch of masks')"
            ]
          },
          "metadata": {
            "tags": []
          },
          "execution_count": 44
        },
        {
          "output_type": "display_data",
          "data": {
            "image/png": "[encoded data removed]",
            "text/plain": [
              "<Figure size 432x288 with 1 Axes>"
            ]
          },
          "metadata": {
            "tags": [],
            "needs_background": "light"
          }
        },
        {
          "output_type": "display_data",
          "data": {
            "image/png": "[encoded data removed]",
            "text/plain": [
              "<Figure size 432x288 with 1 Axes>"
            ]
          },
          "metadata": {
            "tags": [],
            "needs_background": "light"
          }
        }
      ]
    },
    {
      "cell_type": "code",
      "metadata": {
        "id": "z0a3w04VNx3S"
      },
      "source": [
        "# model = smp.Unet(\n",
        "#                 encoder_name='resnet18',        # choose encoder, e.g. mobilenet_v2 or efficientnet-b7\n",
        "#                 encoder_weights=None,     # use `imagenet` pre-trained weights for encoder initialization\n",
        "#                 in_channels=1,                  # model input channels (1 for gray-scale images, 3 for RGB, etc.)\n",
        "#                 classes=1,    # model output channels (number of classes in your dataset)\n",
        "#                 activation='sigmoid'    # could be None for logits or 'softmax2d' for multiclass segmentation               \n",
        "# )"
      ],
      "execution_count": 45,
      "outputs": []
    },
    {
      "cell_type": "code",
      "metadata": {
        "id": "Woau4lecNtBW"
      },
      "source": [
        "# x=torch.randn(1,1,224,224)\n",
        "# y=torch.randn(1,1,224,224)\n",
        "\n",
        "# out=model(x)\n",
        "# print(out.shape)"
      ],
      "execution_count": 46,
      "outputs": []
    },
    {
      "cell_type": "code",
      "metadata": {
        "id": "VmNK24xNNsSZ"
      },
      "source": [
        "# metrics = smp.utils.metrics.IoU(threshold=0.5)\n",
        "# metrics(y,out)"
      ],
      "execution_count": 47,
      "outputs": []
    },
    {
      "cell_type": "markdown",
      "metadata": {
        "id": "d3YcltyY2D31"
      },
      "source": [
        "#create model setup"
      ]
    },
    {
      "cell_type": "code",
      "metadata": {
        "id": "Wss5CZTa2Ndn"
      },
      "source": [
        "from sklearn.model_selection import train_test_split\n",
        "train_images,val_images,train_masks,val_masks=train_test_split(images_path,mask_path,test_size=0.2)"
      ],
      "execution_count": 48,
      "outputs": []
    },
    {
      "cell_type": "code",
      "metadata": {
        "id": "RpxqZgs1wtWv"
      },
      "source": [
        "from pytorch_lightning import seed_everything, LightningModule, Trainer\n",
        "from pytorch_lightning.callbacks import EarlyStopping,ModelCheckpoint\n",
        "from pytorch_lightning.loggers import TensorBoardLogger\n",
        "import segmentation_models_pytorch as smp\n",
        "import torchmetrics\n",
        "\n",
        "import torch.nn as nn\n",
        "import torch"
      ],
      "execution_count": 49,
      "outputs": []
    },
    {
      "cell_type": "code",
      "metadata": {
        "id": "CAmaXoR6wtZ6"
      },
      "source": [
        "class OurModel(LightningModule):\n",
        "  def __init__(self):\n",
        "    super(OurModel,self).__init__()\n",
        "    #architecute\n",
        "    self.layer = smp.Unet(\n",
        "                encoder_name='resnet18',        # choose encoder, e.g. mobilenet_v2 or efficientnet-b7\n",
        "                encoder_weights=None,     # use `imagenet` pre-trained weights for encoder initialization\n",
        "                in_channels=1,                  # model input channels (1 for gray-scale images, 3 for RGB, etc.)\n",
        "                classes=1,    # model output channels (number of classes in your dataset)\n",
        "                activation='sigmoid'    # could be None for logits or 'softmax2d' for multiclass segmentation               \n",
        ")\n",
        "\n",
        "\n",
        "  #parameters\n",
        "    self.lr=1e-3\n",
        "    self.batch_size=4\n",
        "    self.numworker=2\n",
        "    self.criterion= smp.utils.losses.DiceLoss()\n",
        "    self.metrics = torchmetrics.IoU(num_classes=2)\n",
        "    \n",
        "  def forward(self,x):\n",
        "    #print(x.max(),x.min())\n",
        "    return self.layer(x)\n",
        "\n",
        "\n",
        "  def configure_optimizers(self):\n",
        "    opt=torch.optim.Adam(self.parameters(), lr=self.lr)\n",
        "    return opt\n",
        "\n",
        "  def train_dataloader(self):\n",
        "    ds = Reader(train_images,train_masks,aug)\n",
        "    loader = DataLoader(ds, batch_size=self.batch_size)\n",
        "    return loader\n",
        "\n",
        "  def training_step(self,batch,batch_idx):\n",
        "    image,segment=batch\n",
        "    out=self(image)\n",
        "    loss=self.criterion(out,segment)\n",
        "    self.log('train/loss', loss, on_epoch=True,prog_bar=True)\n",
        "    return loss\n",
        "\n",
        "  def val_dataloader(self):\n",
        "    ds = Reader(val_images,val_masks,aug)\n",
        "    loader = DataLoader(ds, batch_size=self.batch_size)\n",
        "    return loader\n",
        "    \n",
        "  def validation_step(self,batch,batch_idx):\n",
        "    image,segment=batch\n",
        "    out=self(image)\n",
        "    loss=self.criterion(out,segment)\n",
        "    iou=self.metrics(out.type(torch.long),segment.type(torch.long))\n",
        "    self.log('val/loss', loss, on_epoch=True,prog_bar=True)\n",
        "    self.log('val/iou', iou, on_epoch=True,prog_bar=True)\n",
        "    return loss"
      ],
      "execution_count": 53,
      "outputs": []
    },
    {
      "cell_type": "code",
      "metadata": {
        "colab": {
          "base_uri": "https://localhost:8080/"
        },
        "id": "PkPpPb2tuMvj",
        "outputId": "8678af1c-0fa0-4e80-b4c0-6171044e6101"
      },
      "source": [
        "model = OurModel()\n",
        "logger = TensorBoardLogger(\"logs\", name=\"my_logs\")\n",
        "checkpoint_callback = ModelCheckpoint(monitor='val/loss',dirpath='/content/drive/MyDrive/',\n",
        "                                      filename='covidctmd' )\n",
        "trainer = Trainer(max_epochs=1, auto_lr_find=False, auto_scale_batch_size=False,\n",
        "                  tpu_cores=8,precision=16,\n",
        "                  logger=logger,\n",
        "                  callbacks=[checkpoint_callback],\n",
        "                  progress_bar_refresh_rate=30)"
      ],
      "execution_count": 54,
      "outputs": [
        {
          "output_type": "stream",
          "text": [
            "GPU available: False, used: False\n",
            "TPU available: True, using: 8 TPU cores\n"
          ],
          "name": "stderr"
        }
      ]
    },
    {
      "cell_type": "code",
      "metadata": {
        "colab": {
          "base_uri": "https://localhost:8080/",
          "height": 347,
          "referenced_widgets": [
            "75cd14d3577b4a1c945613b239b972a4",
            "a6610aff9ac1499b8dd38a4eb98ce960",
            "8b2a05b088694c66ba163205c65fea5a",
            "95e7e6a457e14fa7888399c2ed16e23f",
            "c33d608710ba4bb695aaeb61cc1013fc",
            "65db1010235c4af1bb232c4ca8558f97",
            "03e1309c13b945c78d4201e28e0ab97a",
            "0e6752d974a54dec8e5d18c71565f581",
            "4fb776a3a25a4ceda028e02a95750585",
            "dbc269a3524c437dbf16357e359a936f",
            "e8c9a98c2178410c9a4e50cb33786b8d",
            "54b87357302843d2b7cfbc1485aa498f",
            "a500917003fd4036b0c3060a7623ace2",
            "1cf2eeb69cc34057aa6220d14baf0899",
            "782c333cd74b47e6a21260aa6457c0cd",
            "e6b89d0c6ad848c3a01f1d85b05201b7",
            "a765ffd3ae064db09d461f0c11fd0f6f",
            "44c49eea988942988cbab57d9978caed",
            "d3e7e43ed06c46259bd97a3a8bdf603a",
            "42a7a09de5c04f25b93ce7c5ee0be703",
            "d1ef772436f64eaf93f1cc9d3b75a8b3",
            "096e52dc3d5b423aaae22fcdf4f88fcf",
            "e872fa522c7845e2b3bbe3b95d2d9632",
            "eb64bbfbe293438bad8b81816055f4fb"
          ]
        },
        "id": "0cG78w4K4UwU",
        "outputId": "ac02e40f-5c55-4d4a-d632-4b80fcd94426"
      },
      "source": [
        "trainer.fit(model)"
      ],
      "execution_count": 55,
      "outputs": [
        {
          "output_type": "stream",
          "text": [
            "\n",
            "  | Name      | Type     | Params\n",
            "---------------------------------------\n",
            "0 | layer     | Unet     | 14.3 M\n",
            "1 | criterion | DiceLoss | 0     \n",
            "2 | metrics   | IoU      | 0     \n",
            "---------------------------------------\n",
            "14.3 M    Trainable params\n",
            "0         Non-trainable params\n",
            "14.3 M    Total params\n",
            "28.644    Total estimated model params size (MB)\n"
          ],
          "name": "stderr"
        },
        {
          "output_type": "display_data",
          "data": {
            "application/vnd.jupyter.widget-view+json": {
              "model_id": "75cd14d3577b4a1c945613b239b972a4",
              "version_minor": 0,
              "version_major": 2
            },
            "text/plain": [
              "HBox(children=(FloatProgress(value=1.0, bar_style='info', description='Validation sanity check', layout=Layout…"
            ]
          },
          "metadata": {
            "tags": []
          }
        },
        {
          "output_type": "stream",
          "text": [
            "\r"
          ],
          "name": "stdout"
        },
        {
          "output_type": "display_data",
          "data": {
            "application/vnd.jupyter.widget-view+json": {
              "model_id": "4fb776a3a25a4ceda028e02a95750585",
              "version_minor": 0,
              "version_major": 2
            },
            "text/plain": [
              "HBox(children=(FloatProgress(value=1.0, bar_style='info', description='Training', layout=Layout(flex='2'), max…"
            ]
          },
          "metadata": {
            "tags": []
          }
        },
        {
          "output_type": "display_data",
          "data": {
            "application/vnd.jupyter.widget-view+json": {
              "model_id": "a765ffd3ae064db09d461f0c11fd0f6f",
              "version_minor": 0,
              "version_major": 2
            },
            "text/plain": [
              "HBox(children=(FloatProgress(value=1.0, bar_style='info', description='Validating', layout=Layout(flex='2'), m…"
            ]
          },
          "metadata": {
            "tags": []
          }
        },
        {
          "output_type": "stream",
          "text": [
            "\n"
          ],
          "name": "stdout"
        },
        {
          "output_type": "stream",
          "text": [
            "/usr/local/lib/python3.7/dist-packages/pytorch_lightning/plugins/training_type/tpu_spawn.py:193: UserWarning: cleaning up ddp environment...\n",
            "  rank_zero_warn(\"cleaning up ddp environment...\")\n"
          ],
          "name": "stderr"
        }
      ]
    },
    {
      "cell_type": "code",
      "metadata": {
        "id": "ikEJMSE-4VJZ"
      },
      "source": [
        "test_loader=model.val_dataloader()\n",
        "model.eval()\n",
        "with torch.no_grad():\n",
        "  imgs,preds,labels=[],[],[]\n",
        "  for img, seg in test_loader:\n",
        "    pred=model(img)\n",
        "    img=img.detach().numpy()\n",
        "    pred=pred.detach().numpy()\n",
        "    seg=seg.detach().numpy()\n",
        "    imgs.append(img)\n",
        "    preds.append(pred)\n",
        "    labels.append(seg)"
      ],
      "execution_count": null,
      "outputs": []
    },
    {
      "cell_type": "code",
      "metadata": {
        "id": "P6xujlY1V1r-"
      },
      "source": [
        "img.shape,pred.shape,seg.shape\n"
      ],
      "execution_count": null,
      "outputs": []
    },
    {
      "cell_type": "code",
      "metadata": {
        "id": "B1PCsTBhV45D"
      },
      "source": [
        "imgs_array=np.concatenate(imgs)\n",
        "preds_array=np.concatenate(preds)\n",
        "labels_array=np.concatenate(labels)\n",
        "imgs_array.shape,preds_array.shape,labels_array.shape"
      ],
      "execution_count": null,
      "outputs": []
    },
    {
      "cell_type": "code",
      "metadata": {
        "id": "3ZoFnt-WV6Yo"
      },
      "source": [
        "fig,ax=plt.subplots(3,3,figsize=(16,8))\n",
        "for i in range(3):\n",
        "  ax[i,0].imshow(imgs_array[i,0,:,:],cmap='gray')\n",
        "  ax[i,0].set_title('image_{}'.format(i))\n",
        "  ax[i,1].imshow(labels_array[i,0,:,:],cmap='gray')\n",
        "  ax[i,1].set_title('segment_{}'.format(i))\n",
        "  ax[i,2].imshow(preds_array[i,0,:,:],cmap='gray')\n",
        "  ax[i,2].set_title('predicted_{}'.format(i))\n",
        "plt.subplots_adjust(wspace=-0.7, hspace=0.4)"
      ],
      "execution_count": null,
      "outputs": []
    },
    {
      "cell_type": "code",
      "metadata": {
        "id": "ekcKWsEu16yF"
      },
      "source": [
        "print(labels_array.reshape(200,-1).shape,preds_array.reshape(200,-1).shape)"
      ],
      "execution_count": null,
      "outputs": []
    },
    {
      "cell_type": "code",
      "metadata": {
        "id": "0fOBqSsz3RhY"
      },
      "source": [
        "import torchmetrics\n",
        "pred=torch.tensor(preds_array.astype(int).reshape(200,-1)*255)\n",
        "target=torch.tensor(labels_array.reshape(200,-1))\n",
        "\n",
        "iou=torchmetrics.IoU(num_classes=2)\n",
        "iou(pred,target)"
      ],
      "execution_count": null,
      "outputs": []
    },
    {
      "cell_type": "code",
      "metadata": {
        "id": "WufL106E1rJt"
      },
      "source": [
        "from sklearn.metrics import jaccard_score\n",
        "jaccard_score(labels_array.reshape(200,-1),preds_array.astype(int).reshape(200,-1))"
      ],
      "execution_count": null,
      "outputs": []
    },
    {
      "cell_type": "code",
      "metadata": {
        "id": "ZrwfY9tqtANU"
      },
      "source": [
        "!rm -rf /content/training_set\n",
        "!rm -rf /content/test_set"
      ],
      "execution_count": null,
      "outputs": []
    },
    {
      "cell_type": "code",
      "metadata": {
        "id": "5gHLdHbJt2Z0"
      },
      "source": [
        ""
      ],
      "execution_count": null,
      "outputs": []
    }
  ]
}