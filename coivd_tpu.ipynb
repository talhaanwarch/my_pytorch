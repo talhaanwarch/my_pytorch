{
  "nbformat": 4,
  "nbformat_minor": 0,
  "metadata": {
    "colab": {
      "name": "coivd-tpu.ipynb",
      "provenance": [],
      "collapsed_sections": [],
      "authorship_tag": "ABX9TyPRCmTYWY7yp8mYzSMUvdyq",
      "include_colab_link": true
    },
    "kernelspec": {
      "name": "python3",
      "display_name": "Python 3"
    },
    "language_info": {
      "name": "python"
    },
    "accelerator": "TPU",
    "widgets": {
      "application/vnd.jupyter.widget-state+json": {
        "4cf12d462aef4f0da47464016aefb232": {
          "model_module": "@jupyter-widgets/controls",
          "model_name": "HBoxModel",
          "state": {
            "_view_name": "HBoxView",
            "_dom_classes": [],
            "_model_name": "HBoxModel",
            "_view_module": "@jupyter-widgets/controls",
            "_model_module_version": "1.5.0",
            "_view_count": null,
            "_view_module_version": "1.5.0",
            "box_style": "",
            "layout": "IPY_MODEL_4e698d2d94714a2e8447f82427601ca0",
            "_model_module": "@jupyter-widgets/controls",
            "children": [
              "IPY_MODEL_4720986ad1534de083d739e3d1c51b87",
              "IPY_MODEL_f43e90259e254d1197b74e279ccf7e91"
            ]
          }
        },
        "4e698d2d94714a2e8447f82427601ca0": {
          "model_module": "@jupyter-widgets/base",
          "model_name": "LayoutModel",
          "state": {
            "_view_name": "LayoutView",
            "grid_template_rows": null,
            "right": null,
            "justify_content": null,
            "_view_module": "@jupyter-widgets/base",
            "overflow": null,
            "_model_module_version": "1.2.0",
            "_view_count": null,
            "flex_flow": "row wrap",
            "width": "100%",
            "min_width": null,
            "border": null,
            "align_items": null,
            "bottom": null,
            "_model_module": "@jupyter-widgets/base",
            "top": null,
            "grid_column": null,
            "overflow_y": null,
            "overflow_x": null,
            "grid_auto_flow": null,
            "grid_area": null,
            "grid_template_columns": null,
            "flex": null,
            "_model_name": "LayoutModel",
            "justify_items": null,
            "grid_row": null,
            "max_height": null,
            "align_content": null,
            "visibility": null,
            "align_self": null,
            "height": null,
            "min_height": null,
            "padding": null,
            "grid_auto_rows": null,
            "grid_gap": null,
            "max_width": null,
            "order": null,
            "_view_module_version": "1.2.0",
            "grid_template_areas": null,
            "object_position": null,
            "object_fit": null,
            "grid_auto_columns": null,
            "margin": null,
            "display": "inline-flex",
            "left": null
          }
        },
        "4720986ad1534de083d739e3d1c51b87": {
          "model_module": "@jupyter-widgets/controls",
          "model_name": "FloatProgressModel",
          "state": {
            "_view_name": "ProgressView",
            "style": "IPY_MODEL_a6b6bea310e344f8bf5350c5958e543a",
            "_dom_classes": [],
            "description": "Validation sanity check:   0%",
            "_model_name": "FloatProgressModel",
            "bar_style": "danger",
            "max": 2,
            "_view_module": "@jupyter-widgets/controls",
            "_model_module_version": "1.5.0",
            "value": 0,
            "_view_count": null,
            "_view_module_version": "1.5.0",
            "orientation": "horizontal",
            "min": 0,
            "description_tooltip": null,
            "_model_module": "@jupyter-widgets/controls",
            "layout": "IPY_MODEL_ac59d01c2a1e4ff1baeb57829a9bd212"
          }
        },
        "f43e90259e254d1197b74e279ccf7e91": {
          "model_module": "@jupyter-widgets/controls",
          "model_name": "HTMLModel",
          "state": {
            "_view_name": "HTMLView",
            "style": "IPY_MODEL_b92335f21bcf44ee9e252f9899414cb4",
            "_dom_classes": [],
            "description": "",
            "_model_name": "HTMLModel",
            "placeholder": "​",
            "_view_module": "@jupyter-widgets/controls",
            "_model_module_version": "1.5.0",
            "value": " 0/2 [00:31&lt;?, ?it/s]",
            "_view_count": null,
            "_view_module_version": "1.5.0",
            "description_tooltip": null,
            "_model_module": "@jupyter-widgets/controls",
            "layout": "IPY_MODEL_a00294b51019429b80fe3d15859f6d01"
          }
        },
        "a6b6bea310e344f8bf5350c5958e543a": {
          "model_module": "@jupyter-widgets/controls",
          "model_name": "ProgressStyleModel",
          "state": {
            "_view_name": "StyleView",
            "_model_name": "ProgressStyleModel",
            "description_width": "initial",
            "_view_module": "@jupyter-widgets/base",
            "_model_module_version": "1.5.0",
            "_view_count": null,
            "_view_module_version": "1.2.0",
            "bar_color": null,
            "_model_module": "@jupyter-widgets/controls"
          }
        },
        "ac59d01c2a1e4ff1baeb57829a9bd212": {
          "model_module": "@jupyter-widgets/base",
          "model_name": "LayoutModel",
          "state": {
            "_view_name": "LayoutView",
            "grid_template_rows": null,
            "right": null,
            "justify_content": null,
            "_view_module": "@jupyter-widgets/base",
            "overflow": null,
            "_model_module_version": "1.2.0",
            "_view_count": null,
            "flex_flow": null,
            "width": null,
            "min_width": null,
            "border": null,
            "align_items": null,
            "bottom": null,
            "_model_module": "@jupyter-widgets/base",
            "top": null,
            "grid_column": null,
            "overflow_y": null,
            "overflow_x": null,
            "grid_auto_flow": null,
            "grid_area": null,
            "grid_template_columns": null,
            "flex": "2",
            "_model_name": "LayoutModel",
            "justify_items": null,
            "grid_row": null,
            "max_height": null,
            "align_content": null,
            "visibility": null,
            "align_self": null,
            "height": null,
            "min_height": null,
            "padding": null,
            "grid_auto_rows": null,
            "grid_gap": null,
            "max_width": null,
            "order": null,
            "_view_module_version": "1.2.0",
            "grid_template_areas": null,
            "object_position": null,
            "object_fit": null,
            "grid_auto_columns": null,
            "margin": null,
            "display": null,
            "left": null
          }
        },
        "b92335f21bcf44ee9e252f9899414cb4": {
          "model_module": "@jupyter-widgets/controls",
          "model_name": "DescriptionStyleModel",
          "state": {
            "_view_name": "StyleView",
            "_model_name": "DescriptionStyleModel",
            "description_width": "",
            "_view_module": "@jupyter-widgets/base",
            "_model_module_version": "1.5.0",
            "_view_count": null,
            "_view_module_version": "1.2.0",
            "_model_module": "@jupyter-widgets/controls"
          }
        },
        "a00294b51019429b80fe3d15859f6d01": {
          "model_module": "@jupyter-widgets/base",
          "model_name": "LayoutModel",
          "state": {
            "_view_name": "LayoutView",
            "grid_template_rows": null,
            "right": null,
            "justify_content": null,
            "_view_module": "@jupyter-widgets/base",
            "overflow": null,
            "_model_module_version": "1.2.0",
            "_view_count": null,
            "flex_flow": null,
            "width": null,
            "min_width": null,
            "border": null,
            "align_items": null,
            "bottom": null,
            "_model_module": "@jupyter-widgets/base",
            "top": null,
            "grid_column": null,
            "overflow_y": null,
            "overflow_x": null,
            "grid_auto_flow": null,
            "grid_area": null,
            "grid_template_columns": null,
            "flex": null,
            "_model_name": "LayoutModel",
            "justify_items": null,
            "grid_row": null,
            "max_height": null,
            "align_content": null,
            "visibility": null,
            "align_self": null,
            "height": null,
            "min_height": null,
            "padding": null,
            "grid_auto_rows": null,
            "grid_gap": null,
            "max_width": null,
            "order": null,
            "_view_module_version": "1.2.0",
            "grid_template_areas": null,
            "object_position": null,
            "object_fit": null,
            "grid_auto_columns": null,
            "margin": null,
            "display": null,
            "left": null
          }
        },
        "664455dd79e94abab678938f79421fe3": {
          "model_module": "@jupyter-widgets/controls",
          "model_name": "HBoxModel",
          "state": {
            "_view_name": "HBoxView",
            "_dom_classes": [],
            "_model_name": "HBoxModel",
            "_view_module": "@jupyter-widgets/controls",
            "_model_module_version": "1.5.0",
            "_view_count": null,
            "_view_module_version": "1.5.0",
            "box_style": "",
            "layout": "IPY_MODEL_a825a89ab57d43c18e8efc96d17ff3f4",
            "_model_module": "@jupyter-widgets/controls",
            "children": [
              "IPY_MODEL_1a096d826eb94c8eac5c665b418d81af",
              "IPY_MODEL_1395680400c644dc8dafd9d2aea1569c"
            ]
          }
        },
        "a825a89ab57d43c18e8efc96d17ff3f4": {
          "model_module": "@jupyter-widgets/base",
          "model_name": "LayoutModel",
          "state": {
            "_view_name": "LayoutView",
            "grid_template_rows": null,
            "right": null,
            "justify_content": null,
            "_view_module": "@jupyter-widgets/base",
            "overflow": null,
            "_model_module_version": "1.2.0",
            "_view_count": null,
            "flex_flow": "row wrap",
            "width": "100%",
            "min_width": null,
            "border": null,
            "align_items": null,
            "bottom": null,
            "_model_module": "@jupyter-widgets/base",
            "top": null,
            "grid_column": null,
            "overflow_y": null,
            "overflow_x": null,
            "grid_auto_flow": null,
            "grid_area": null,
            "grid_template_columns": null,
            "flex": null,
            "_model_name": "LayoutModel",
            "justify_items": null,
            "grid_row": null,
            "max_height": null,
            "align_content": null,
            "visibility": null,
            "align_self": null,
            "height": null,
            "min_height": null,
            "padding": null,
            "grid_auto_rows": null,
            "grid_gap": null,
            "max_width": null,
            "order": null,
            "_view_module_version": "1.2.0",
            "grid_template_areas": null,
            "object_position": null,
            "object_fit": null,
            "grid_auto_columns": null,
            "margin": null,
            "display": "inline-flex",
            "left": null
          }
        },
        "1a096d826eb94c8eac5c665b418d81af": {
          "model_module": "@jupyter-widgets/controls",
          "model_name": "FloatProgressModel",
          "state": {
            "_view_name": "ProgressView",
            "style": "IPY_MODEL_79f7d33d2c2a465ebf1e1a2c615516d3",
            "_dom_classes": [],
            "description": "Epoch 5: 100%",
            "_model_name": "FloatProgressModel",
            "bar_style": "success",
            "max": 179,
            "_view_module": "@jupyter-widgets/controls",
            "_model_module_version": "1.5.0",
            "value": 179,
            "_view_count": null,
            "_view_module_version": "1.5.0",
            "orientation": "horizontal",
            "min": 0,
            "description_tooltip": null,
            "_model_module": "@jupyter-widgets/controls",
            "layout": "IPY_MODEL_5603853571814319abbccd37a7917d0f"
          }
        },
        "1395680400c644dc8dafd9d2aea1569c": {
          "model_module": "@jupyter-widgets/controls",
          "model_name": "HTMLModel",
          "state": {
            "_view_name": "HTMLView",
            "style": "IPY_MODEL_5944f3e713fc44709657ff66c95fd97e",
            "_dom_classes": [],
            "description": "",
            "_model_name": "HTMLModel",
            "placeholder": "​",
            "_view_module": "@jupyter-widgets/controls",
            "_model_module_version": "1.5.0",
            "value": " 179/179 [16:52&lt;00:00,  5.65s/it, loss=1.1, v_num=0, vall/acc=0.471, vall/loss=1.100, train/acc_step=0.500, train/loss_step=1.100, train/acc_epoch=0.534, train/loss_epoch=1.100]",
            "_view_count": null,
            "_view_module_version": "1.5.0",
            "description_tooltip": null,
            "_model_module": "@jupyter-widgets/controls",
            "layout": "IPY_MODEL_8c594fde47bb451ba278badd0e16bac2"
          }
        },
        "79f7d33d2c2a465ebf1e1a2c615516d3": {
          "model_module": "@jupyter-widgets/controls",
          "model_name": "ProgressStyleModel",
          "state": {
            "_view_name": "StyleView",
            "_model_name": "ProgressStyleModel",
            "description_width": "initial",
            "_view_module": "@jupyter-widgets/base",
            "_model_module_version": "1.5.0",
            "_view_count": null,
            "_view_module_version": "1.2.0",
            "bar_color": null,
            "_model_module": "@jupyter-widgets/controls"
          }
        },
        "5603853571814319abbccd37a7917d0f": {
          "model_module": "@jupyter-widgets/base",
          "model_name": "LayoutModel",
          "state": {
            "_view_name": "LayoutView",
            "grid_template_rows": null,
            "right": null,
            "justify_content": null,
            "_view_module": "@jupyter-widgets/base",
            "overflow": null,
            "_model_module_version": "1.2.0",
            "_view_count": null,
            "flex_flow": null,
            "width": null,
            "min_width": null,
            "border": null,
            "align_items": null,
            "bottom": null,
            "_model_module": "@jupyter-widgets/base",
            "top": null,
            "grid_column": null,
            "overflow_y": null,
            "overflow_x": null,
            "grid_auto_flow": null,
            "grid_area": null,
            "grid_template_columns": null,
            "flex": "2",
            "_model_name": "LayoutModel",
            "justify_items": null,
            "grid_row": null,
            "max_height": null,
            "align_content": null,
            "visibility": null,
            "align_self": null,
            "height": null,
            "min_height": null,
            "padding": null,
            "grid_auto_rows": null,
            "grid_gap": null,
            "max_width": null,
            "order": null,
            "_view_module_version": "1.2.0",
            "grid_template_areas": null,
            "object_position": null,
            "object_fit": null,
            "grid_auto_columns": null,
            "margin": null,
            "display": null,
            "left": null
          }
        },
        "5944f3e713fc44709657ff66c95fd97e": {
          "model_module": "@jupyter-widgets/controls",
          "model_name": "DescriptionStyleModel",
          "state": {
            "_view_name": "StyleView",
            "_model_name": "DescriptionStyleModel",
            "description_width": "",
            "_view_module": "@jupyter-widgets/base",
            "_model_module_version": "1.5.0",
            "_view_count": null,
            "_view_module_version": "1.2.0",
            "_model_module": "@jupyter-widgets/controls"
          }
        },
        "8c594fde47bb451ba278badd0e16bac2": {
          "model_module": "@jupyter-widgets/base",
          "model_name": "LayoutModel",
          "state": {
            "_view_name": "LayoutView",
            "grid_template_rows": null,
            "right": null,
            "justify_content": null,
            "_view_module": "@jupyter-widgets/base",
            "overflow": null,
            "_model_module_version": "1.2.0",
            "_view_count": null,
            "flex_flow": null,
            "width": null,
            "min_width": null,
            "border": null,
            "align_items": null,
            "bottom": null,
            "_model_module": "@jupyter-widgets/base",
            "top": null,
            "grid_column": null,
            "overflow_y": null,
            "overflow_x": null,
            "grid_auto_flow": null,
            "grid_area": null,
            "grid_template_columns": null,
            "flex": null,
            "_model_name": "LayoutModel",
            "justify_items": null,
            "grid_row": null,
            "max_height": null,
            "align_content": null,
            "visibility": null,
            "align_self": null,
            "height": null,
            "min_height": null,
            "padding": null,
            "grid_auto_rows": null,
            "grid_gap": null,
            "max_width": null,
            "order": null,
            "_view_module_version": "1.2.0",
            "grid_template_areas": null,
            "object_position": null,
            "object_fit": null,
            "grid_auto_columns": null,
            "margin": null,
            "display": null,
            "left": null
          }
        },
        "272d06ba742e4af0be75392fdcbc4bfa": {
          "model_module": "@jupyter-widgets/controls",
          "model_name": "HBoxModel",
          "state": {
            "_view_name": "HBoxView",
            "_dom_classes": [],
            "_model_name": "HBoxModel",
            "_view_module": "@jupyter-widgets/controls",
            "_model_module_version": "1.5.0",
            "_view_count": null,
            "_view_module_version": "1.5.0",
            "box_style": "",
            "layout": "IPY_MODEL_523667fe13f34a67b145f7ec66fad07b",
            "_model_module": "@jupyter-widgets/controls",
            "children": [
              "IPY_MODEL_62614304065b42069f209ab5130ff3c5",
              "IPY_MODEL_080cc5178fbb4778a282619428da3196"
            ]
          }
        },
        "523667fe13f34a67b145f7ec66fad07b": {
          "model_module": "@jupyter-widgets/base",
          "model_name": "LayoutModel",
          "state": {
            "_view_name": "LayoutView",
            "grid_template_rows": null,
            "right": null,
            "justify_content": null,
            "_view_module": "@jupyter-widgets/base",
            "overflow": null,
            "_model_module_version": "1.2.0",
            "_view_count": null,
            "flex_flow": "row wrap",
            "width": "100%",
            "min_width": null,
            "border": null,
            "align_items": null,
            "bottom": null,
            "_model_module": "@jupyter-widgets/base",
            "top": null,
            "grid_column": null,
            "overflow_y": null,
            "overflow_x": null,
            "grid_auto_flow": null,
            "grid_area": null,
            "grid_template_columns": null,
            "flex": null,
            "_model_name": "LayoutModel",
            "justify_items": null,
            "grid_row": null,
            "max_height": null,
            "align_content": null,
            "visibility": null,
            "align_self": null,
            "height": null,
            "min_height": null,
            "padding": null,
            "grid_auto_rows": null,
            "grid_gap": null,
            "max_width": null,
            "order": null,
            "_view_module_version": "1.2.0",
            "grid_template_areas": null,
            "object_position": null,
            "object_fit": null,
            "grid_auto_columns": null,
            "margin": null,
            "display": "inline-flex",
            "left": null
          }
        },
        "62614304065b42069f209ab5130ff3c5": {
          "model_module": "@jupyter-widgets/controls",
          "model_name": "FloatProgressModel",
          "state": {
            "_view_name": "ProgressView",
            "style": "IPY_MODEL_685069f07c6f4afe8b24861948a3f340",
            "_dom_classes": [],
            "description": "Validating: 100%",
            "_model_name": "FloatProgressModel",
            "bar_style": "info",
            "max": 37,
            "_view_module": "@jupyter-widgets/controls",
            "_model_module_version": "1.5.0",
            "value": 37,
            "_view_count": null,
            "_view_module_version": "1.5.0",
            "orientation": "horizontal",
            "min": 0,
            "description_tooltip": null,
            "_model_module": "@jupyter-widgets/controls",
            "layout": "IPY_MODEL_ffe2dd6b5d7e4929bf81556b4c2f7d44"
          }
        },
        "080cc5178fbb4778a282619428da3196": {
          "model_module": "@jupyter-widgets/controls",
          "model_name": "HTMLModel",
          "state": {
            "_view_name": "HTMLView",
            "style": "IPY_MODEL_ee273cefe9334305bedc2855c3c84810",
            "_dom_classes": [],
            "description": "",
            "_model_name": "HTMLModel",
            "placeholder": "​",
            "_view_module": "@jupyter-widgets/controls",
            "_model_module_version": "1.5.0",
            "value": " 37/37 [03:38&lt;00:00,  5.72s/it]",
            "_view_count": null,
            "_view_module_version": "1.5.0",
            "description_tooltip": null,
            "_model_module": "@jupyter-widgets/controls",
            "layout": "IPY_MODEL_18e6eb36e6e94a248abef877c35126ea"
          }
        },
        "685069f07c6f4afe8b24861948a3f340": {
          "model_module": "@jupyter-widgets/controls",
          "model_name": "ProgressStyleModel",
          "state": {
            "_view_name": "StyleView",
            "_model_name": "ProgressStyleModel",
            "description_width": "initial",
            "_view_module": "@jupyter-widgets/base",
            "_model_module_version": "1.5.0",
            "_view_count": null,
            "_view_module_version": "1.2.0",
            "bar_color": null,
            "_model_module": "@jupyter-widgets/controls"
          }
        },
        "ffe2dd6b5d7e4929bf81556b4c2f7d44": {
          "model_module": "@jupyter-widgets/base",
          "model_name": "LayoutModel",
          "state": {
            "_view_name": "LayoutView",
            "grid_template_rows": null,
            "right": null,
            "justify_content": null,
            "_view_module": "@jupyter-widgets/base",
            "overflow": null,
            "_model_module_version": "1.2.0",
            "_view_count": null,
            "flex_flow": null,
            "width": null,
            "min_width": null,
            "border": null,
            "align_items": null,
            "bottom": null,
            "_model_module": "@jupyter-widgets/base",
            "top": null,
            "grid_column": null,
            "overflow_y": null,
            "overflow_x": null,
            "grid_auto_flow": null,
            "grid_area": null,
            "grid_template_columns": null,
            "flex": "2",
            "_model_name": "LayoutModel",
            "justify_items": null,
            "grid_row": null,
            "max_height": null,
            "align_content": null,
            "visibility": null,
            "align_self": null,
            "height": null,
            "min_height": null,
            "padding": null,
            "grid_auto_rows": null,
            "grid_gap": null,
            "max_width": null,
            "order": null,
            "_view_module_version": "1.2.0",
            "grid_template_areas": null,
            "object_position": null,
            "object_fit": null,
            "grid_auto_columns": null,
            "margin": null,
            "display": null,
            "left": null
          }
        },
        "ee273cefe9334305bedc2855c3c84810": {
          "model_module": "@jupyter-widgets/controls",
          "model_name": "DescriptionStyleModel",
          "state": {
            "_view_name": "StyleView",
            "_model_name": "DescriptionStyleModel",
            "description_width": "",
            "_view_module": "@jupyter-widgets/base",
            "_model_module_version": "1.5.0",
            "_view_count": null,
            "_view_module_version": "1.2.0",
            "_model_module": "@jupyter-widgets/controls"
          }
        },
        "18e6eb36e6e94a248abef877c35126ea": {
          "model_module": "@jupyter-widgets/base",
          "model_name": "LayoutModel",
          "state": {
            "_view_name": "LayoutView",
            "grid_template_rows": null,
            "right": null,
            "justify_content": null,
            "_view_module": "@jupyter-widgets/base",
            "overflow": null,
            "_model_module_version": "1.2.0",
            "_view_count": null,
            "flex_flow": null,
            "width": null,
            "min_width": null,
            "border": null,
            "align_items": null,
            "bottom": null,
            "_model_module": "@jupyter-widgets/base",
            "top": null,
            "grid_column": null,
            "overflow_y": null,
            "overflow_x": null,
            "grid_auto_flow": null,
            "grid_area": null,
            "grid_template_columns": null,
            "flex": null,
            "_model_name": "LayoutModel",
            "justify_items": null,
            "grid_row": null,
            "max_height": null,
            "align_content": null,
            "visibility": null,
            "align_self": null,
            "height": null,
            "min_height": null,
            "padding": null,
            "grid_auto_rows": null,
            "grid_gap": null,
            "max_width": null,
            "order": null,
            "_view_module_version": "1.2.0",
            "grid_template_areas": null,
            "object_position": null,
            "object_fit": null,
            "grid_auto_columns": null,
            "margin": null,
            "display": null,
            "left": null
          }
        },
        "61029d7dc0bc43b0b8850eace952985e": {
          "model_module": "@jupyter-widgets/controls",
          "model_name": "HBoxModel",
          "state": {
            "_view_name": "HBoxView",
            "_dom_classes": [],
            "_model_name": "HBoxModel",
            "_view_module": "@jupyter-widgets/controls",
            "_model_module_version": "1.5.0",
            "_view_count": null,
            "_view_module_version": "1.5.0",
            "box_style": "",
            "layout": "IPY_MODEL_6a2c0eb8c76a4ecb9a319c98267aa2bb",
            "_model_module": "@jupyter-widgets/controls",
            "children": [
              "IPY_MODEL_c19d278f4d7e4ae7ab9fd790722b7172",
              "IPY_MODEL_1a9d60edc3804742b017a72c5bcf7a56"
            ]
          }
        },
        "6a2c0eb8c76a4ecb9a319c98267aa2bb": {
          "model_module": "@jupyter-widgets/base",
          "model_name": "LayoutModel",
          "state": {
            "_view_name": "LayoutView",
            "grid_template_rows": null,
            "right": null,
            "justify_content": null,
            "_view_module": "@jupyter-widgets/base",
            "overflow": null,
            "_model_module_version": "1.2.0",
            "_view_count": null,
            "flex_flow": "row wrap",
            "width": "100%",
            "min_width": null,
            "border": null,
            "align_items": null,
            "bottom": null,
            "_model_module": "@jupyter-widgets/base",
            "top": null,
            "grid_column": null,
            "overflow_y": null,
            "overflow_x": null,
            "grid_auto_flow": null,
            "grid_area": null,
            "grid_template_columns": null,
            "flex": null,
            "_model_name": "LayoutModel",
            "justify_items": null,
            "grid_row": null,
            "max_height": null,
            "align_content": null,
            "visibility": null,
            "align_self": null,
            "height": null,
            "min_height": null,
            "padding": null,
            "grid_auto_rows": null,
            "grid_gap": null,
            "max_width": null,
            "order": null,
            "_view_module_version": "1.2.0",
            "grid_template_areas": null,
            "object_position": null,
            "object_fit": null,
            "grid_auto_columns": null,
            "margin": null,
            "display": "inline-flex",
            "left": null
          }
        },
        "c19d278f4d7e4ae7ab9fd790722b7172": {
          "model_module": "@jupyter-widgets/controls",
          "model_name": "FloatProgressModel",
          "state": {
            "_view_name": "ProgressView",
            "style": "IPY_MODEL_47957a78f9184a9ab3d275b50b24c4fa",
            "_dom_classes": [],
            "description": "Validating: 100%",
            "_model_name": "FloatProgressModel",
            "bar_style": "info",
            "max": 37,
            "_view_module": "@jupyter-widgets/controls",
            "_model_module_version": "1.5.0",
            "value": 37,
            "_view_count": null,
            "_view_module_version": "1.5.0",
            "orientation": "horizontal",
            "min": 0,
            "description_tooltip": null,
            "_model_module": "@jupyter-widgets/controls",
            "layout": "IPY_MODEL_5029d86521b34d42833db675ad2c1bee"
          }
        },
        "1a9d60edc3804742b017a72c5bcf7a56": {
          "model_module": "@jupyter-widgets/controls",
          "model_name": "HTMLModel",
          "state": {
            "_view_name": "HTMLView",
            "style": "IPY_MODEL_a9ee7e2b11c94d60a3d601045b81971f",
            "_dom_classes": [],
            "description": "",
            "_model_name": "HTMLModel",
            "placeholder": "​",
            "_view_module": "@jupyter-widgets/controls",
            "_model_module_version": "1.5.0",
            "value": " 37/37 [03:17&lt;00:00,  5.01s/it]",
            "_view_count": null,
            "_view_module_version": "1.5.0",
            "description_tooltip": null,
            "_model_module": "@jupyter-widgets/controls",
            "layout": "IPY_MODEL_f09625fc1c5446d09c2a907a9d829aa6"
          }
        },
        "47957a78f9184a9ab3d275b50b24c4fa": {
          "model_module": "@jupyter-widgets/controls",
          "model_name": "ProgressStyleModel",
          "state": {
            "_view_name": "StyleView",
            "_model_name": "ProgressStyleModel",
            "description_width": "initial",
            "_view_module": "@jupyter-widgets/base",
            "_model_module_version": "1.5.0",
            "_view_count": null,
            "_view_module_version": "1.2.0",
            "bar_color": null,
            "_model_module": "@jupyter-widgets/controls"
          }
        },
        "5029d86521b34d42833db675ad2c1bee": {
          "model_module": "@jupyter-widgets/base",
          "model_name": "LayoutModel",
          "state": {
            "_view_name": "LayoutView",
            "grid_template_rows": null,
            "right": null,
            "justify_content": null,
            "_view_module": "@jupyter-widgets/base",
            "overflow": null,
            "_model_module_version": "1.2.0",
            "_view_count": null,
            "flex_flow": null,
            "width": null,
            "min_width": null,
            "border": null,
            "align_items": null,
            "bottom": null,
            "_model_module": "@jupyter-widgets/base",
            "top": null,
            "grid_column": null,
            "overflow_y": null,
            "overflow_x": null,
            "grid_auto_flow": null,
            "grid_area": null,
            "grid_template_columns": null,
            "flex": "2",
            "_model_name": "LayoutModel",
            "justify_items": null,
            "grid_row": null,
            "max_height": null,
            "align_content": null,
            "visibility": null,
            "align_self": null,
            "height": null,
            "min_height": null,
            "padding": null,
            "grid_auto_rows": null,
            "grid_gap": null,
            "max_width": null,
            "order": null,
            "_view_module_version": "1.2.0",
            "grid_template_areas": null,
            "object_position": null,
            "object_fit": null,
            "grid_auto_columns": null,
            "margin": null,
            "display": null,
            "left": null
          }
        },
        "a9ee7e2b11c94d60a3d601045b81971f": {
          "model_module": "@jupyter-widgets/controls",
          "model_name": "DescriptionStyleModel",
          "state": {
            "_view_name": "StyleView",
            "_model_name": "DescriptionStyleModel",
            "description_width": "",
            "_view_module": "@jupyter-widgets/base",
            "_model_module_version": "1.5.0",
            "_view_count": null,
            "_view_module_version": "1.2.0",
            "_model_module": "@jupyter-widgets/controls"
          }
        },
        "f09625fc1c5446d09c2a907a9d829aa6": {
          "model_module": "@jupyter-widgets/base",
          "model_name": "LayoutModel",
          "state": {
            "_view_name": "LayoutView",
            "grid_template_rows": null,
            "right": null,
            "justify_content": null,
            "_view_module": "@jupyter-widgets/base",
            "overflow": null,
            "_model_module_version": "1.2.0",
            "_view_count": null,
            "flex_flow": null,
            "width": null,
            "min_width": null,
            "border": null,
            "align_items": null,
            "bottom": null,
            "_model_module": "@jupyter-widgets/base",
            "top": null,
            "grid_column": null,
            "overflow_y": null,
            "overflow_x": null,
            "grid_auto_flow": null,
            "grid_area": null,
            "grid_template_columns": null,
            "flex": null,
            "_model_name": "LayoutModel",
            "justify_items": null,
            "grid_row": null,
            "max_height": null,
            "align_content": null,
            "visibility": null,
            "align_self": null,
            "height": null,
            "min_height": null,
            "padding": null,
            "grid_auto_rows": null,
            "grid_gap": null,
            "max_width": null,
            "order": null,
            "_view_module_version": "1.2.0",
            "grid_template_areas": null,
            "object_position": null,
            "object_fit": null,
            "grid_auto_columns": null,
            "margin": null,
            "display": null,
            "left": null
          }
        },
        "53efd9762e994fe6a69d4260b7424fd6": {
          "model_module": "@jupyter-widgets/controls",
          "model_name": "HBoxModel",
          "state": {
            "_view_name": "HBoxView",
            "_dom_classes": [],
            "_model_name": "HBoxModel",
            "_view_module": "@jupyter-widgets/controls",
            "_model_module_version": "1.5.0",
            "_view_count": null,
            "_view_module_version": "1.5.0",
            "box_style": "",
            "layout": "IPY_MODEL_afb2dedc781d4725a502ad8172cd4e4d",
            "_model_module": "@jupyter-widgets/controls",
            "children": [
              "IPY_MODEL_a42b859a4a5a4349b9e293003076bc70",
              "IPY_MODEL_a62d5858880c4cf387e1d20321942ead"
            ]
          }
        },
        "afb2dedc781d4725a502ad8172cd4e4d": {
          "model_module": "@jupyter-widgets/base",
          "model_name": "LayoutModel",
          "state": {
            "_view_name": "LayoutView",
            "grid_template_rows": null,
            "right": null,
            "justify_content": null,
            "_view_module": "@jupyter-widgets/base",
            "overflow": null,
            "_model_module_version": "1.2.0",
            "_view_count": null,
            "flex_flow": "row wrap",
            "width": "100%",
            "min_width": null,
            "border": null,
            "align_items": null,
            "bottom": null,
            "_model_module": "@jupyter-widgets/base",
            "top": null,
            "grid_column": null,
            "overflow_y": null,
            "overflow_x": null,
            "grid_auto_flow": null,
            "grid_area": null,
            "grid_template_columns": null,
            "flex": null,
            "_model_name": "LayoutModel",
            "justify_items": null,
            "grid_row": null,
            "max_height": null,
            "align_content": null,
            "visibility": null,
            "align_self": null,
            "height": null,
            "min_height": null,
            "padding": null,
            "grid_auto_rows": null,
            "grid_gap": null,
            "max_width": null,
            "order": null,
            "_view_module_version": "1.2.0",
            "grid_template_areas": null,
            "object_position": null,
            "object_fit": null,
            "grid_auto_columns": null,
            "margin": null,
            "display": "inline-flex",
            "left": null
          }
        },
        "a42b859a4a5a4349b9e293003076bc70": {
          "model_module": "@jupyter-widgets/controls",
          "model_name": "FloatProgressModel",
          "state": {
            "_view_name": "ProgressView",
            "style": "IPY_MODEL_a88934f927ad4ec09943bc03dcc54f7f",
            "_dom_classes": [],
            "description": "Validating: 100%",
            "_model_name": "FloatProgressModel",
            "bar_style": "info",
            "max": 37,
            "_view_module": "@jupyter-widgets/controls",
            "_model_module_version": "1.5.0",
            "value": 37,
            "_view_count": null,
            "_view_module_version": "1.5.0",
            "orientation": "horizontal",
            "min": 0,
            "description_tooltip": null,
            "_model_module": "@jupyter-widgets/controls",
            "layout": "IPY_MODEL_8b98049fbbe44cc290cf82bc66104350"
          }
        },
        "a62d5858880c4cf387e1d20321942ead": {
          "model_module": "@jupyter-widgets/controls",
          "model_name": "HTMLModel",
          "state": {
            "_view_name": "HTMLView",
            "style": "IPY_MODEL_1d962c330c144a9787d090e18e281eb2",
            "_dom_classes": [],
            "description": "",
            "_model_name": "HTMLModel",
            "placeholder": "​",
            "_view_module": "@jupyter-widgets/controls",
            "_model_module_version": "1.5.0",
            "value": " 37/37 [03:26&lt;00:00,  5.25s/it]",
            "_view_count": null,
            "_view_module_version": "1.5.0",
            "description_tooltip": null,
            "_model_module": "@jupyter-widgets/controls",
            "layout": "IPY_MODEL_436ce94f5ceb4d50b4d0e054e9016a24"
          }
        },
        "a88934f927ad4ec09943bc03dcc54f7f": {
          "model_module": "@jupyter-widgets/controls",
          "model_name": "ProgressStyleModel",
          "state": {
            "_view_name": "StyleView",
            "_model_name": "ProgressStyleModel",
            "description_width": "initial",
            "_view_module": "@jupyter-widgets/base",
            "_model_module_version": "1.5.0",
            "_view_count": null,
            "_view_module_version": "1.2.0",
            "bar_color": null,
            "_model_module": "@jupyter-widgets/controls"
          }
        },
        "8b98049fbbe44cc290cf82bc66104350": {
          "model_module": "@jupyter-widgets/base",
          "model_name": "LayoutModel",
          "state": {
            "_view_name": "LayoutView",
            "grid_template_rows": null,
            "right": null,
            "justify_content": null,
            "_view_module": "@jupyter-widgets/base",
            "overflow": null,
            "_model_module_version": "1.2.0",
            "_view_count": null,
            "flex_flow": null,
            "width": null,
            "min_width": null,
            "border": null,
            "align_items": null,
            "bottom": null,
            "_model_module": "@jupyter-widgets/base",
            "top": null,
            "grid_column": null,
            "overflow_y": null,
            "overflow_x": null,
            "grid_auto_flow": null,
            "grid_area": null,
            "grid_template_columns": null,
            "flex": "2",
            "_model_name": "LayoutModel",
            "justify_items": null,
            "grid_row": null,
            "max_height": null,
            "align_content": null,
            "visibility": null,
            "align_self": null,
            "height": null,
            "min_height": null,
            "padding": null,
            "grid_auto_rows": null,
            "grid_gap": null,
            "max_width": null,
            "order": null,
            "_view_module_version": "1.2.0",
            "grid_template_areas": null,
            "object_position": null,
            "object_fit": null,
            "grid_auto_columns": null,
            "margin": null,
            "display": null,
            "left": null
          }
        },
        "1d962c330c144a9787d090e18e281eb2": {
          "model_module": "@jupyter-widgets/controls",
          "model_name": "DescriptionStyleModel",
          "state": {
            "_view_name": "StyleView",
            "_model_name": "DescriptionStyleModel",
            "description_width": "",
            "_view_module": "@jupyter-widgets/base",
            "_model_module_version": "1.5.0",
            "_view_count": null,
            "_view_module_version": "1.2.0",
            "_model_module": "@jupyter-widgets/controls"
          }
        },
        "436ce94f5ceb4d50b4d0e054e9016a24": {
          "model_module": "@jupyter-widgets/base",
          "model_name": "LayoutModel",
          "state": {
            "_view_name": "LayoutView",
            "grid_template_rows": null,
            "right": null,
            "justify_content": null,
            "_view_module": "@jupyter-widgets/base",
            "overflow": null,
            "_model_module_version": "1.2.0",
            "_view_count": null,
            "flex_flow": null,
            "width": null,
            "min_width": null,
            "border": null,
            "align_items": null,
            "bottom": null,
            "_model_module": "@jupyter-widgets/base",
            "top": null,
            "grid_column": null,
            "overflow_y": null,
            "overflow_x": null,
            "grid_auto_flow": null,
            "grid_area": null,
            "grid_template_columns": null,
            "flex": null,
            "_model_name": "LayoutModel",
            "justify_items": null,
            "grid_row": null,
            "max_height": null,
            "align_content": null,
            "visibility": null,
            "align_self": null,
            "height": null,
            "min_height": null,
            "padding": null,
            "grid_auto_rows": null,
            "grid_gap": null,
            "max_width": null,
            "order": null,
            "_view_module_version": "1.2.0",
            "grid_template_areas": null,
            "object_position": null,
            "object_fit": null,
            "grid_auto_columns": null,
            "margin": null,
            "display": null,
            "left": null
          }
        },
        "adb260d4c49a484c8ad2d8e14f2e303b": {
          "model_module": "@jupyter-widgets/controls",
          "model_name": "HBoxModel",
          "state": {
            "_view_name": "HBoxView",
            "_dom_classes": [],
            "_model_name": "HBoxModel",
            "_view_module": "@jupyter-widgets/controls",
            "_model_module_version": "1.5.0",
            "_view_count": null,
            "_view_module_version": "1.5.0",
            "box_style": "",
            "layout": "IPY_MODEL_50907cea17f94612abb3157671cc667d",
            "_model_module": "@jupyter-widgets/controls",
            "children": [
              "IPY_MODEL_07a3e6b6b9d84a3f8881ee2557df3d34",
              "IPY_MODEL_f488363eea734d8d9b64a2d94ac85cb2"
            ]
          }
        },
        "50907cea17f94612abb3157671cc667d": {
          "model_module": "@jupyter-widgets/base",
          "model_name": "LayoutModel",
          "state": {
            "_view_name": "LayoutView",
            "grid_template_rows": null,
            "right": null,
            "justify_content": null,
            "_view_module": "@jupyter-widgets/base",
            "overflow": null,
            "_model_module_version": "1.2.0",
            "_view_count": null,
            "flex_flow": "row wrap",
            "width": "100%",
            "min_width": null,
            "border": null,
            "align_items": null,
            "bottom": null,
            "_model_module": "@jupyter-widgets/base",
            "top": null,
            "grid_column": null,
            "overflow_y": null,
            "overflow_x": null,
            "grid_auto_flow": null,
            "grid_area": null,
            "grid_template_columns": null,
            "flex": null,
            "_model_name": "LayoutModel",
            "justify_items": null,
            "grid_row": null,
            "max_height": null,
            "align_content": null,
            "visibility": null,
            "align_self": null,
            "height": null,
            "min_height": null,
            "padding": null,
            "grid_auto_rows": null,
            "grid_gap": null,
            "max_width": null,
            "order": null,
            "_view_module_version": "1.2.0",
            "grid_template_areas": null,
            "object_position": null,
            "object_fit": null,
            "grid_auto_columns": null,
            "margin": null,
            "display": "inline-flex",
            "left": null
          }
        },
        "07a3e6b6b9d84a3f8881ee2557df3d34": {
          "model_module": "@jupyter-widgets/controls",
          "model_name": "FloatProgressModel",
          "state": {
            "_view_name": "ProgressView",
            "style": "IPY_MODEL_45813131371b4c6a94fc0fadd41f94a5",
            "_dom_classes": [],
            "description": "Validating: 100%",
            "_model_name": "FloatProgressModel",
            "bar_style": "info",
            "max": 37,
            "_view_module": "@jupyter-widgets/controls",
            "_model_module_version": "1.5.0",
            "value": 37,
            "_view_count": null,
            "_view_module_version": "1.5.0",
            "orientation": "horizontal",
            "min": 0,
            "description_tooltip": null,
            "_model_module": "@jupyter-widgets/controls",
            "layout": "IPY_MODEL_924782ad937a46a6b50f21e163fa2b3c"
          }
        },
        "f488363eea734d8d9b64a2d94ac85cb2": {
          "model_module": "@jupyter-widgets/controls",
          "model_name": "HTMLModel",
          "state": {
            "_view_name": "HTMLView",
            "style": "IPY_MODEL_1a306da0c4c346348dfd867d9895ddaf",
            "_dom_classes": [],
            "description": "",
            "_model_name": "HTMLModel",
            "placeholder": "​",
            "_view_module": "@jupyter-widgets/controls",
            "_model_module_version": "1.5.0",
            "value": " 37/37 [03:19&lt;00:00,  5.08s/it]",
            "_view_count": null,
            "_view_module_version": "1.5.0",
            "description_tooltip": null,
            "_model_module": "@jupyter-widgets/controls",
            "layout": "IPY_MODEL_be70f9d38449449fa9c142de96939723"
          }
        },
        "45813131371b4c6a94fc0fadd41f94a5": {
          "model_module": "@jupyter-widgets/controls",
          "model_name": "ProgressStyleModel",
          "state": {
            "_view_name": "StyleView",
            "_model_name": "ProgressStyleModel",
            "description_width": "initial",
            "_view_module": "@jupyter-widgets/base",
            "_model_module_version": "1.5.0",
            "_view_count": null,
            "_view_module_version": "1.2.0",
            "bar_color": null,
            "_model_module": "@jupyter-widgets/controls"
          }
        },
        "924782ad937a46a6b50f21e163fa2b3c": {
          "model_module": "@jupyter-widgets/base",
          "model_name": "LayoutModel",
          "state": {
            "_view_name": "LayoutView",
            "grid_template_rows": null,
            "right": null,
            "justify_content": null,
            "_view_module": "@jupyter-widgets/base",
            "overflow": null,
            "_model_module_version": "1.2.0",
            "_view_count": null,
            "flex_flow": null,
            "width": null,
            "min_width": null,
            "border": null,
            "align_items": null,
            "bottom": null,
            "_model_module": "@jupyter-widgets/base",
            "top": null,
            "grid_column": null,
            "overflow_y": null,
            "overflow_x": null,
            "grid_auto_flow": null,
            "grid_area": null,
            "grid_template_columns": null,
            "flex": "2",
            "_model_name": "LayoutModel",
            "justify_items": null,
            "grid_row": null,
            "max_height": null,
            "align_content": null,
            "visibility": null,
            "align_self": null,
            "height": null,
            "min_height": null,
            "padding": null,
            "grid_auto_rows": null,
            "grid_gap": null,
            "max_width": null,
            "order": null,
            "_view_module_version": "1.2.0",
            "grid_template_areas": null,
            "object_position": null,
            "object_fit": null,
            "grid_auto_columns": null,
            "margin": null,
            "display": null,
            "left": null
          }
        },
        "1a306da0c4c346348dfd867d9895ddaf": {
          "model_module": "@jupyter-widgets/controls",
          "model_name": "DescriptionStyleModel",
          "state": {
            "_view_name": "StyleView",
            "_model_name": "DescriptionStyleModel",
            "description_width": "",
            "_view_module": "@jupyter-widgets/base",
            "_model_module_version": "1.5.0",
            "_view_count": null,
            "_view_module_version": "1.2.0",
            "_model_module": "@jupyter-widgets/controls"
          }
        },
        "be70f9d38449449fa9c142de96939723": {
          "model_module": "@jupyter-widgets/base",
          "model_name": "LayoutModel",
          "state": {
            "_view_name": "LayoutView",
            "grid_template_rows": null,
            "right": null,
            "justify_content": null,
            "_view_module": "@jupyter-widgets/base",
            "overflow": null,
            "_model_module_version": "1.2.0",
            "_view_count": null,
            "flex_flow": null,
            "width": null,
            "min_width": null,
            "border": null,
            "align_items": null,
            "bottom": null,
            "_model_module": "@jupyter-widgets/base",
            "top": null,
            "grid_column": null,
            "overflow_y": null,
            "overflow_x": null,
            "grid_auto_flow": null,
            "grid_area": null,
            "grid_template_columns": null,
            "flex": null,
            "_model_name": "LayoutModel",
            "justify_items": null,
            "grid_row": null,
            "max_height": null,
            "align_content": null,
            "visibility": null,
            "align_self": null,
            "height": null,
            "min_height": null,
            "padding": null,
            "grid_auto_rows": null,
            "grid_gap": null,
            "max_width": null,
            "order": null,
            "_view_module_version": "1.2.0",
            "grid_template_areas": null,
            "object_position": null,
            "object_fit": null,
            "grid_auto_columns": null,
            "margin": null,
            "display": null,
            "left": null
          }
        },
        "ddcb6679f61145b981f7cb03c5e11709": {
          "model_module": "@jupyter-widgets/controls",
          "model_name": "HBoxModel",
          "state": {
            "_view_name": "HBoxView",
            "_dom_classes": [],
            "_model_name": "HBoxModel",
            "_view_module": "@jupyter-widgets/controls",
            "_model_module_version": "1.5.0",
            "_view_count": null,
            "_view_module_version": "1.5.0",
            "box_style": "",
            "layout": "IPY_MODEL_8ba4f5900a5c4611a10a3b77b17692ad",
            "_model_module": "@jupyter-widgets/controls",
            "children": [
              "IPY_MODEL_5420fafde462437abc9fe1faab3f3c1d",
              "IPY_MODEL_fc36d4014ced4034b40bd2eb7c637419"
            ]
          }
        },
        "8ba4f5900a5c4611a10a3b77b17692ad": {
          "model_module": "@jupyter-widgets/base",
          "model_name": "LayoutModel",
          "state": {
            "_view_name": "LayoutView",
            "grid_template_rows": null,
            "right": null,
            "justify_content": null,
            "_view_module": "@jupyter-widgets/base",
            "overflow": null,
            "_model_module_version": "1.2.0",
            "_view_count": null,
            "flex_flow": "row wrap",
            "width": "100%",
            "min_width": null,
            "border": null,
            "align_items": null,
            "bottom": null,
            "_model_module": "@jupyter-widgets/base",
            "top": null,
            "grid_column": null,
            "overflow_y": null,
            "overflow_x": null,
            "grid_auto_flow": null,
            "grid_area": null,
            "grid_template_columns": null,
            "flex": null,
            "_model_name": "LayoutModel",
            "justify_items": null,
            "grid_row": null,
            "max_height": null,
            "align_content": null,
            "visibility": null,
            "align_self": null,
            "height": null,
            "min_height": null,
            "padding": null,
            "grid_auto_rows": null,
            "grid_gap": null,
            "max_width": null,
            "order": null,
            "_view_module_version": "1.2.0",
            "grid_template_areas": null,
            "object_position": null,
            "object_fit": null,
            "grid_auto_columns": null,
            "margin": null,
            "display": "inline-flex",
            "left": null
          }
        },
        "5420fafde462437abc9fe1faab3f3c1d": {
          "model_module": "@jupyter-widgets/controls",
          "model_name": "FloatProgressModel",
          "state": {
            "_view_name": "ProgressView",
            "style": "IPY_MODEL_5899711d4ede48d8b800e58e45a92035",
            "_dom_classes": [],
            "description": "Validating: 100%",
            "_model_name": "FloatProgressModel",
            "bar_style": "info",
            "max": 37,
            "_view_module": "@jupyter-widgets/controls",
            "_model_module_version": "1.5.0",
            "value": 37,
            "_view_count": null,
            "_view_module_version": "1.5.0",
            "orientation": "horizontal",
            "min": 0,
            "description_tooltip": null,
            "_model_module": "@jupyter-widgets/controls",
            "layout": "IPY_MODEL_07f9477923534070999d0365c0f71167"
          }
        },
        "fc36d4014ced4034b40bd2eb7c637419": {
          "model_module": "@jupyter-widgets/controls",
          "model_name": "HTMLModel",
          "state": {
            "_view_name": "HTMLView",
            "style": "IPY_MODEL_3495b71224f84b508f452b28377274b1",
            "_dom_classes": [],
            "description": "",
            "_model_name": "HTMLModel",
            "placeholder": "​",
            "_view_module": "@jupyter-widgets/controls",
            "_model_module_version": "1.5.0",
            "value": " 37/37 [03:19&lt;00:00,  5.06s/it]",
            "_view_count": null,
            "_view_module_version": "1.5.0",
            "description_tooltip": null,
            "_model_module": "@jupyter-widgets/controls",
            "layout": "IPY_MODEL_7435a78886694554995f859efce79184"
          }
        },
        "5899711d4ede48d8b800e58e45a92035": {
          "model_module": "@jupyter-widgets/controls",
          "model_name": "ProgressStyleModel",
          "state": {
            "_view_name": "StyleView",
            "_model_name": "ProgressStyleModel",
            "description_width": "initial",
            "_view_module": "@jupyter-widgets/base",
            "_model_module_version": "1.5.0",
            "_view_count": null,
            "_view_module_version": "1.2.0",
            "bar_color": null,
            "_model_module": "@jupyter-widgets/controls"
          }
        },
        "07f9477923534070999d0365c0f71167": {
          "model_module": "@jupyter-widgets/base",
          "model_name": "LayoutModel",
          "state": {
            "_view_name": "LayoutView",
            "grid_template_rows": null,
            "right": null,
            "justify_content": null,
            "_view_module": "@jupyter-widgets/base",
            "overflow": null,
            "_model_module_version": "1.2.0",
            "_view_count": null,
            "flex_flow": null,
            "width": null,
            "min_width": null,
            "border": null,
            "align_items": null,
            "bottom": null,
            "_model_module": "@jupyter-widgets/base",
            "top": null,
            "grid_column": null,
            "overflow_y": null,
            "overflow_x": null,
            "grid_auto_flow": null,
            "grid_area": null,
            "grid_template_columns": null,
            "flex": "2",
            "_model_name": "LayoutModel",
            "justify_items": null,
            "grid_row": null,
            "max_height": null,
            "align_content": null,
            "visibility": null,
            "align_self": null,
            "height": null,
            "min_height": null,
            "padding": null,
            "grid_auto_rows": null,
            "grid_gap": null,
            "max_width": null,
            "order": null,
            "_view_module_version": "1.2.0",
            "grid_template_areas": null,
            "object_position": null,
            "object_fit": null,
            "grid_auto_columns": null,
            "margin": null,
            "display": null,
            "left": null
          }
        },
        "3495b71224f84b508f452b28377274b1": {
          "model_module": "@jupyter-widgets/controls",
          "model_name": "DescriptionStyleModel",
          "state": {
            "_view_name": "StyleView",
            "_model_name": "DescriptionStyleModel",
            "description_width": "",
            "_view_module": "@jupyter-widgets/base",
            "_model_module_version": "1.5.0",
            "_view_count": null,
            "_view_module_version": "1.2.0",
            "_model_module": "@jupyter-widgets/controls"
          }
        },
        "7435a78886694554995f859efce79184": {
          "model_module": "@jupyter-widgets/base",
          "model_name": "LayoutModel",
          "state": {
            "_view_name": "LayoutView",
            "grid_template_rows": null,
            "right": null,
            "justify_content": null,
            "_view_module": "@jupyter-widgets/base",
            "overflow": null,
            "_model_module_version": "1.2.0",
            "_view_count": null,
            "flex_flow": null,
            "width": null,
            "min_width": null,
            "border": null,
            "align_items": null,
            "bottom": null,
            "_model_module": "@jupyter-widgets/base",
            "top": null,
            "grid_column": null,
            "overflow_y": null,
            "overflow_x": null,
            "grid_auto_flow": null,
            "grid_area": null,
            "grid_template_columns": null,
            "flex": null,
            "_model_name": "LayoutModel",
            "justify_items": null,
            "grid_row": null,
            "max_height": null,
            "align_content": null,
            "visibility": null,
            "align_self": null,
            "height": null,
            "min_height": null,
            "padding": null,
            "grid_auto_rows": null,
            "grid_gap": null,
            "max_width": null,
            "order": null,
            "_view_module_version": "1.2.0",
            "grid_template_areas": null,
            "object_position": null,
            "object_fit": null,
            "grid_auto_columns": null,
            "margin": null,
            "display": null,
            "left": null
          }
        },
        "e87c548a294b429789e9e707b666600e": {
          "model_module": "@jupyter-widgets/controls",
          "model_name": "HBoxModel",
          "state": {
            "_view_name": "HBoxView",
            "_dom_classes": [],
            "_model_name": "HBoxModel",
            "_view_module": "@jupyter-widgets/controls",
            "_model_module_version": "1.5.0",
            "_view_count": null,
            "_view_module_version": "1.5.0",
            "box_style": "",
            "layout": "IPY_MODEL_1cee7428f66f44fe9338e7aec783b472",
            "_model_module": "@jupyter-widgets/controls",
            "children": [
              "IPY_MODEL_214716e606514d1c8722bae9fc625127",
              "IPY_MODEL_87cc2ea9595d4db8941a84307ae471bc"
            ]
          }
        },
        "1cee7428f66f44fe9338e7aec783b472": {
          "model_module": "@jupyter-widgets/base",
          "model_name": "LayoutModel",
          "state": {
            "_view_name": "LayoutView",
            "grid_template_rows": null,
            "right": null,
            "justify_content": null,
            "_view_module": "@jupyter-widgets/base",
            "overflow": null,
            "_model_module_version": "1.2.0",
            "_view_count": null,
            "flex_flow": "row wrap",
            "width": "100%",
            "min_width": null,
            "border": null,
            "align_items": null,
            "bottom": null,
            "_model_module": "@jupyter-widgets/base",
            "top": null,
            "grid_column": null,
            "overflow_y": null,
            "overflow_x": null,
            "grid_auto_flow": null,
            "grid_area": null,
            "grid_template_columns": null,
            "flex": null,
            "_model_name": "LayoutModel",
            "justify_items": null,
            "grid_row": null,
            "max_height": null,
            "align_content": null,
            "visibility": null,
            "align_self": null,
            "height": null,
            "min_height": null,
            "padding": null,
            "grid_auto_rows": null,
            "grid_gap": null,
            "max_width": null,
            "order": null,
            "_view_module_version": "1.2.0",
            "grid_template_areas": null,
            "object_position": null,
            "object_fit": null,
            "grid_auto_columns": null,
            "margin": null,
            "display": "inline-flex",
            "left": null
          }
        },
        "214716e606514d1c8722bae9fc625127": {
          "model_module": "@jupyter-widgets/controls",
          "model_name": "FloatProgressModel",
          "state": {
            "_view_name": "ProgressView",
            "style": "IPY_MODEL_c153771cfe5746858fd829a541d49ea2",
            "_dom_classes": [],
            "description": "Validating: 100%",
            "_model_name": "FloatProgressModel",
            "bar_style": "info",
            "max": 37,
            "_view_module": "@jupyter-widgets/controls",
            "_model_module_version": "1.5.0",
            "value": 37,
            "_view_count": null,
            "_view_module_version": "1.5.0",
            "orientation": "horizontal",
            "min": 0,
            "description_tooltip": null,
            "_model_module": "@jupyter-widgets/controls",
            "layout": "IPY_MODEL_27891bf25c55407a876e101be12109e6"
          }
        },
        "87cc2ea9595d4db8941a84307ae471bc": {
          "model_module": "@jupyter-widgets/controls",
          "model_name": "HTMLModel",
          "state": {
            "_view_name": "HTMLView",
            "style": "IPY_MODEL_445a396e2846453ab988bdc553316ea9",
            "_dom_classes": [],
            "description": "",
            "_model_name": "HTMLModel",
            "placeholder": "​",
            "_view_module": "@jupyter-widgets/controls",
            "_model_module_version": "1.5.0",
            "value": " 37/37 [03:24&lt;00:00,  5.20s/it]",
            "_view_count": null,
            "_view_module_version": "1.5.0",
            "description_tooltip": null,
            "_model_module": "@jupyter-widgets/controls",
            "layout": "IPY_MODEL_fce8152969794cd9a9df606764ef9f3b"
          }
        },
        "c153771cfe5746858fd829a541d49ea2": {
          "model_module": "@jupyter-widgets/controls",
          "model_name": "ProgressStyleModel",
          "state": {
            "_view_name": "StyleView",
            "_model_name": "ProgressStyleModel",
            "description_width": "initial",
            "_view_module": "@jupyter-widgets/base",
            "_model_module_version": "1.5.0",
            "_view_count": null,
            "_view_module_version": "1.2.0",
            "bar_color": null,
            "_model_module": "@jupyter-widgets/controls"
          }
        },
        "27891bf25c55407a876e101be12109e6": {
          "model_module": "@jupyter-widgets/base",
          "model_name": "LayoutModel",
          "state": {
            "_view_name": "LayoutView",
            "grid_template_rows": null,
            "right": null,
            "justify_content": null,
            "_view_module": "@jupyter-widgets/base",
            "overflow": null,
            "_model_module_version": "1.2.0",
            "_view_count": null,
            "flex_flow": null,
            "width": null,
            "min_width": null,
            "border": null,
            "align_items": null,
            "bottom": null,
            "_model_module": "@jupyter-widgets/base",
            "top": null,
            "grid_column": null,
            "overflow_y": null,
            "overflow_x": null,
            "grid_auto_flow": null,
            "grid_area": null,
            "grid_template_columns": null,
            "flex": "2",
            "_model_name": "LayoutModel",
            "justify_items": null,
            "grid_row": null,
            "max_height": null,
            "align_content": null,
            "visibility": null,
            "align_self": null,
            "height": null,
            "min_height": null,
            "padding": null,
            "grid_auto_rows": null,
            "grid_gap": null,
            "max_width": null,
            "order": null,
            "_view_module_version": "1.2.0",
            "grid_template_areas": null,
            "object_position": null,
            "object_fit": null,
            "grid_auto_columns": null,
            "margin": null,
            "display": null,
            "left": null
          }
        },
        "445a396e2846453ab988bdc553316ea9": {
          "model_module": "@jupyter-widgets/controls",
          "model_name": "DescriptionStyleModel",
          "state": {
            "_view_name": "StyleView",
            "_model_name": "DescriptionStyleModel",
            "description_width": "",
            "_view_module": "@jupyter-widgets/base",
            "_model_module_version": "1.5.0",
            "_view_count": null,
            "_view_module_version": "1.2.0",
            "_model_module": "@jupyter-widgets/controls"
          }
        },
        "fce8152969794cd9a9df606764ef9f3b": {
          "model_module": "@jupyter-widgets/base",
          "model_name": "LayoutModel",
          "state": {
            "_view_name": "LayoutView",
            "grid_template_rows": null,
            "right": null,
            "justify_content": null,
            "_view_module": "@jupyter-widgets/base",
            "overflow": null,
            "_model_module_version": "1.2.0",
            "_view_count": null,
            "flex_flow": null,
            "width": null,
            "min_width": null,
            "border": null,
            "align_items": null,
            "bottom": null,
            "_model_module": "@jupyter-widgets/base",
            "top": null,
            "grid_column": null,
            "overflow_y": null,
            "overflow_x": null,
            "grid_auto_flow": null,
            "grid_area": null,
            "grid_template_columns": null,
            "flex": null,
            "_model_name": "LayoutModel",
            "justify_items": null,
            "grid_row": null,
            "max_height": null,
            "align_content": null,
            "visibility": null,
            "align_self": null,
            "height": null,
            "min_height": null,
            "padding": null,
            "grid_auto_rows": null,
            "grid_gap": null,
            "max_width": null,
            "order": null,
            "_view_module_version": "1.2.0",
            "grid_template_areas": null,
            "object_position": null,
            "object_fit": null,
            "grid_auto_columns": null,
            "margin": null,
            "display": null,
            "left": null
          }
        }
      }
    }
  },
  "cells": [
    {
      "cell_type": "markdown",
      "metadata": {
        "id": "view-in-github",
        "colab_type": "text"
      },
      "source": [
        "<a href=\"https://colab.research.google.com/github/talhaanwarch/my_pytorch/blob/master/coivd_tpu.ipynb\" target=\"_parent\"><img src=\"https://colab.research.google.com/assets/colab-badge.svg\" alt=\"Open In Colab\"/></a>"
      ]
    },
    {
      "cell_type": "code",
      "metadata": {
        "id": "61ougcU7t6bx"
      },
      "source": [
        "%%capture\n",
        "#TPU\n",
        "!pip install cloud-tpu-client==0.10 https://storage.googleapis.com/tpu-pytorch/wheels/torch_xla-1.8-cp37-cp37m-linux_x86_64.whl\n",
        "#file reading packages\n",
        "!pip install pydicom\n",
        "!pip install pylibjpeg\n",
        "!pip install gdcm\n",
        "!pip install pylibjpeg-libjpeg\n",
        "!pip install numpy --upgrade --ignore-installed\n",
        "#pytorch stuff\n",
        "!pip install pytorch-lightning\n",
        "!pip install torchmetrics\n"
      ],
      "execution_count": null,
      "outputs": []
    },
    {
      "cell_type": "code",
      "metadata": {
        "id": "ALHt_izXxESc"
      },
      "source": [
        "import numpy as np\n",
        "assert np.__version__=='1.20.3', 'Numpy version should be 1.20.3'"
      ],
      "execution_count": null,
      "outputs": []
    },
    {
      "cell_type": "code",
      "metadata": {
        "id": "8NDhX9U1pkOK"
      },
      "source": [
        "import os\n",
        "if (os.path.isfile('COVIDCTMD.zip')) or (os.path.isdir('data')) is False:\n",
        "  !wget https://s3-eu-west-1.amazonaws.com/pstorage-npg-968563215/26069987/COVIDCTMD.zip"
      ],
      "execution_count": null,
      "outputs": []
    },
    {
      "cell_type": "code",
      "metadata": {
        "id": "UC_Zap_hqGk6"
      },
      "source": [
        "%%capture\n",
        "if os.path.isdir('data') is False:\n",
        "  !mkdir data\n",
        "  !unzip /content/COVIDCTMD.zip -d data\n",
        "  !rm /content/COVIDCTMD.zip"
      ],
      "execution_count": null,
      "outputs": []
    },
    {
      "cell_type": "code",
      "metadata": {
        "id": "eTKUqFtHy7fC"
      },
      "source": [
        "from sklearn.model_selection import train_test_split\n",
        "import pandas as pd\n",
        "import matplotlib.pyplot as plt\n",
        "\n",
        "import numpy as np\n",
        "import pydicom as dicom\n",
        "from glob import glob\n",
        "import cv2"
      ],
      "execution_count": null,
      "outputs": []
    },
    {
      "cell_type": "code",
      "metadata": {
        "id": "9CEvOS_zmGbj"
      },
      "source": [
        "!rm -rf /content/data/__MACOSX"
      ],
      "execution_count": null,
      "outputs": []
    },
    {
      "cell_type": "code",
      "metadata": {
        "id": "Ay6B6YoBrmPI"
      },
      "source": [
        "# clinical_features=pd.read_csv('/content/Clinical-data.csv')\n",
        "# clinical_features.head()"
      ],
      "execution_count": null,
      "outputs": []
    },
    {
      "cell_type": "code",
      "metadata": {
        "id": "MalG4jWKtGwe"
      },
      "source": [
        "# df=pd.read_csv('/content/Index.csv')\n",
        "# df.head()"
      ],
      "execution_count": null,
      "outputs": []
    },
    {
      "cell_type": "code",
      "metadata": {
        "id": "CX7kQHT8tbTI"
      },
      "source": [
        "# df=pd.read_csv('/content/Radiogists-seperated-labels.csv')\n",
        "# df.head()"
      ],
      "execution_count": null,
      "outputs": []
    },
    {
      "cell_type": "code",
      "metadata": {
        "colab": {
          "base_uri": "https://localhost:8080/",
          "height": 321
        },
        "id": "WYYx9wZ1tjfF",
        "outputId": "bb12b881-916b-445c-eb76-b2b66a7f009b"
      },
      "source": [
        "import pydicom as dicom\n",
        "ds = dicom.dcmread('/content/data/Normal Cases/normal001/IM0001.dcm')\n",
        "x=np.array(ds.pixel_array)\n",
        "print(x.max(),x.min())\n",
        "x = cv2.convertScaleAbs(x)\n",
        "print(x.max(),x.min())\n",
        "plt.imshow(x)"
      ],
      "execution_count": null,
      "outputs": [
        {
          "output_type": "stream",
          "text": [
            "2721 0\n",
            "255 0\n"
          ],
          "name": "stdout"
        },
        {
          "output_type": "execute_result",
          "data": {
            "text/plain": [
              "<matplotlib.image.AxesImage at 0x7fafffab8d10>"
            ]
          },
          "metadata": {
            "tags": []
          },
          "execution_count": 10
        },
        {
          "output_type": "display_data",
          "data": {
            "image/png": "[encoded data removed]",
            "text/plain": [
              "<Figure size 432x288 with 1 Axes>"
            ]
          },
          "metadata": {
            "tags": [],
            "needs_background": "light"
          }
        }
      ]
    },
    {
      "cell_type": "code",
      "metadata": {
        "colab": {
          "base_uri": "https://localhost:8080/",
          "height": 35
        },
        "id": "5WDSHP2vytp5",
        "outputId": "e32680ae-1674-473c-e8d6-9144a02e14db"
      },
      "source": [
        "'''\n",
        "This code work for 2D slices of 3D.\n",
        "It load it into the dataframe\n",
        "'''"
      ],
      "execution_count": null,
      "outputs": [
        {
          "output_type": "execute_result",
          "data": {
            "application/vnd.google.colaboratory.intrinsic+json": {
              "type": "string"
            },
            "text/plain": [
              "'\\nThis code work for 2D slices of 3D.\\nIt load it into the dataframe\\n'"
            ]
          },
          "metadata": {
            "tags": []
          },
          "execution_count": 11
        }
      ]
    },
    {
      "cell_type": "code",
      "metadata": {
        "id": "27YeWNK01T0a"
      },
      "source": [
        "def flatten(path,label=None):\n",
        "  '''\n",
        "  flatten list to single list\n",
        "  path: images path in a list\n",
        "  label: corresponding label in list\n",
        "  '''\n",
        "  path = [item for sublist in path for item in sublist]\n",
        "  label = [item for sublist in label for item in sublist]\n",
        "  return path, label"
      ],
      "execution_count": null,
      "outputs": []
    },
    {
      "cell_type": "code",
      "metadata": {
        "id": "1T7FYknPH94Y"
      },
      "source": [
        "def prepare_data(path='data',split=True,createDF=True):\n",
        "  '''\n",
        "  read data as dataframe \n",
        "  path: path of main directory in which classes are present\n",
        "  split: split data to train and val\n",
        "  convertDF: create dataframe or return list\n",
        "  '''\n",
        "  main_path=glob(path+'/*/')\n",
        "  image_paths,image_labels=[],[]\n",
        "  for class_folder in main_path: #iterate class folder\n",
        "    for subject_folder in glob(class_folder+'*/'):#iterate subject folder\n",
        "      subjects_paths,subject_labels=[],[]\n",
        "      for img in glob(subject_folder+'/*.dcm'):#loop all images in subject folder\n",
        "        subjects_paths.append(img)\n",
        "        subject_labels.append(class_folder.split('/')[-2])\n",
        "      image_paths.append(subjects_paths)\n",
        "      image_labels.append(subject_labels)\n",
        "  if split:\n",
        "    train_path,val_path,train_label,val_label=train_test_split(image_paths,image_labels,test_size=0.2)\n",
        "    train_path,train_label=flatten(train_path,train_label)\n",
        "    val_path,val_label=flatten(val_path,val_label)\n",
        "    if createDF:\n",
        "      train_df=pd.DataFrame(zip(train_path,train_label),columns=['image','label'])\n",
        "      val_df=pd.DataFrame(zip(val_path,val_label),columns=['image','label'])\n",
        "      return train_df,val_df\n",
        "    else:\n",
        "      return train_path,val_path,train_label,val_label\n",
        "  else:\n",
        "    if createDF:\n",
        "      image_paths,image_labels=flatten(image_paths,image_labels)\n",
        "      df=pd.DataFrame(zip(image_paths,image_labels),columns=['image','label'])\n",
        "      return \n",
        "    else:\n",
        "      return image_paths,image_labels"
      ],
      "execution_count": null,
      "outputs": []
    },
    {
      "cell_type": "code",
      "metadata": {
        "id": "IOBdYRM4MybM"
      },
      "source": [
        "train_df,val_df=prepare_data(split=True,createDF=True)"
      ],
      "execution_count": null,
      "outputs": []
    },
    {
      "cell_type": "code",
      "metadata": {
        "id": "DvK2h7bhYQaF"
      },
      "source": [
        "encode={k:v for v,k in enumerate(train_df.label.unique())}\n",
        "decode={v:k for v,k in enumerate(train_df.label.unique())}"
      ],
      "execution_count": null,
      "outputs": []
    },
    {
      "cell_type": "code",
      "metadata": {
        "colab": {
          "base_uri": "https://localhost:8080/",
          "height": 202
        },
        "id": "Fw-z8rOGYSfC",
        "outputId": "f34478e3-073a-4413-ccd7-f982e9d5569b"
      },
      "source": [
        "train_df.label=train_df.label.map(encode)\n",
        "train_df.head()"
      ],
      "execution_count": null,
      "outputs": [
        {
          "output_type": "execute_result",
          "data": {
            "text/html": [
              "<div>\n",
              "<style scoped>\n",
              "    .dataframe tbody tr th:only-of-type {\n",
              "        vertical-align: middle;\n",
              "    }\n",
              "\n",
              "    .dataframe tbody tr th {\n",
              "        vertical-align: top;\n",
              "    }\n",
              "\n",
              "    .dataframe thead th {\n",
              "        text-align: right;\n",
              "    }\n",
              "</style>\n",
              "<table border=\"1\" class=\"dataframe\">\n",
              "  <thead>\n",
              "    <tr style=\"text-align: right;\">\n",
              "      <th></th>\n",
              "      <th>image</th>\n",
              "      <th>label</th>\n",
              "    </tr>\n",
              "  </thead>\n",
              "  <tbody>\n",
              "    <tr>\n",
              "      <th>0</th>\n",
              "      <td>data/Cap Cases/cap014/IM0051.dcm</td>\n",
              "      <td>0</td>\n",
              "    </tr>\n",
              "    <tr>\n",
              "      <th>1</th>\n",
              "      <td>data/Cap Cases/cap014/IM0118.dcm</td>\n",
              "      <td>0</td>\n",
              "    </tr>\n",
              "    <tr>\n",
              "      <th>2</th>\n",
              "      <td>data/Cap Cases/cap014/IM0154.dcm</td>\n",
              "      <td>0</td>\n",
              "    </tr>\n",
              "    <tr>\n",
              "      <th>3</th>\n",
              "      <td>data/Cap Cases/cap014/IM0021.dcm</td>\n",
              "      <td>0</td>\n",
              "    </tr>\n",
              "    <tr>\n",
              "      <th>4</th>\n",
              "      <td>data/Cap Cases/cap014/IM0048.dcm</td>\n",
              "      <td>0</td>\n",
              "    </tr>\n",
              "  </tbody>\n",
              "</table>\n",
              "</div>"
            ],
            "text/plain": [
              "                              image  label\n",
              "0  data/Cap Cases/cap014/IM0051.dcm      0\n",
              "1  data/Cap Cases/cap014/IM0118.dcm      0\n",
              "2  data/Cap Cases/cap014/IM0154.dcm      0\n",
              "3  data/Cap Cases/cap014/IM0021.dcm      0\n",
              "4  data/Cap Cases/cap014/IM0048.dcm      0"
            ]
          },
          "metadata": {
            "tags": []
          },
          "execution_count": 16
        }
      ]
    },
    {
      "cell_type": "code",
      "metadata": {
        "colab": {
          "base_uri": "https://localhost:8080/",
          "height": 202
        },
        "id": "gA_AD4Z0Ze2p",
        "outputId": "f4584673-f434-437d-ee1f-096d824e10ba"
      },
      "source": [
        "val_df.label=val_df.label.map(encode)\n",
        "val_df.head()"
      ],
      "execution_count": null,
      "outputs": [
        {
          "output_type": "execute_result",
          "data": {
            "text/html": [
              "<div>\n",
              "<style scoped>\n",
              "    .dataframe tbody tr th:only-of-type {\n",
              "        vertical-align: middle;\n",
              "    }\n",
              "\n",
              "    .dataframe tbody tr th {\n",
              "        vertical-align: top;\n",
              "    }\n",
              "\n",
              "    .dataframe thead th {\n",
              "        text-align: right;\n",
              "    }\n",
              "</style>\n",
              "<table border=\"1\" class=\"dataframe\">\n",
              "  <thead>\n",
              "    <tr style=\"text-align: right;\">\n",
              "      <th></th>\n",
              "      <th>image</th>\n",
              "      <th>label</th>\n",
              "    </tr>\n",
              "  </thead>\n",
              "  <tbody>\n",
              "    <tr>\n",
              "      <th>0</th>\n",
              "      <td>data/COVID-19 Cases/P117/IM0051.dcm</td>\n",
              "      <td>1</td>\n",
              "    </tr>\n",
              "    <tr>\n",
              "      <th>1</th>\n",
              "      <td>data/COVID-19 Cases/P117/IM0118.dcm</td>\n",
              "      <td>1</td>\n",
              "    </tr>\n",
              "    <tr>\n",
              "      <th>2</th>\n",
              "      <td>data/COVID-19 Cases/P117/IM0154.dcm</td>\n",
              "      <td>1</td>\n",
              "    </tr>\n",
              "    <tr>\n",
              "      <th>3</th>\n",
              "      <td>data/COVID-19 Cases/P117/IM0021.dcm</td>\n",
              "      <td>1</td>\n",
              "    </tr>\n",
              "    <tr>\n",
              "      <th>4</th>\n",
              "      <td>data/COVID-19 Cases/P117/IM0048.dcm</td>\n",
              "      <td>1</td>\n",
              "    </tr>\n",
              "  </tbody>\n",
              "</table>\n",
              "</div>"
            ],
            "text/plain": [
              "                                 image  label\n",
              "0  data/COVID-19 Cases/P117/IM0051.dcm      1\n",
              "1  data/COVID-19 Cases/P117/IM0118.dcm      1\n",
              "2  data/COVID-19 Cases/P117/IM0154.dcm      1\n",
              "3  data/COVID-19 Cases/P117/IM0021.dcm      1\n",
              "4  data/COVID-19 Cases/P117/IM0048.dcm      1"
            ]
          },
          "metadata": {
            "tags": []
          },
          "execution_count": 17
        }
      ]
    },
    {
      "cell_type": "code",
      "metadata": {
        "colab": {
          "base_uri": "https://localhost:8080/"
        },
        "id": "CIOR85tLOEld",
        "outputId": "5b3a0062-467a-49c7-d0cc-ba76fb867a68"
      },
      "source": [
        "from pytorch_lightning import seed_everything, LightningModule, Trainer\n",
        "from pytorch_lightning.callbacks import EarlyStopping\n",
        "from torch.nn.functional import cross_entropy\n",
        "from sklearn.utils import class_weight\n",
        "from torchvision import transforms \n",
        "import torchvision.models as models\n",
        "import torchmetrics\n",
        "import torch#pytorch\n",
        "from sklearn.utils import class_weight\n"
      ],
      "execution_count": null,
      "outputs": [
        {
          "output_type": "stream",
          "text": [
            "WARNING:root:TPU has started up successfully with version pytorch-1.8\n"
          ],
          "name": "stderr"
        }
      ]
    },
    {
      "cell_type": "code",
      "metadata": {
        "id": "TZTQ0Kg1VP1r"
      },
      "source": [
        "#as our image is in numpy, so converting to PIL to make tensor work\n",
        "#https://stackoverflow.com/a/63607069/11170350\n",
        "aug=transforms.Compose([\n",
        "                        transforms.ToPILImage(),\n",
        "                        transforms.Resize((224,224)),\n",
        "                        transforms.Grayscale(),\n",
        "                        transforms.CenterCrop(224),\n",
        "                        transforms.RandomHorizontalFlip(p=0.5),\n",
        "                        transforms.RandomVerticalFlip(p=0.5),\n",
        "                        transforms.RandomRotation(degrees=3),\n",
        "                        transforms.RandomPerspective(0.05,0.2),\n",
        "                        transforms.ToTensor(),\n",
        "                        transforms.Normalize([0.5, ], [0.5,]),\n",
        "\n",
        "                        ])"
      ],
      "execution_count": null,
      "outputs": []
    },
    {
      "cell_type": "code",
      "metadata": {
        "id": "mCYihLGQO6ru"
      },
      "source": [
        "from torch.utils.data import DataLoader, Dataset\n",
        "class DataReader(Dataset):\n",
        "  def __init__(self,df,transform=None):\n",
        "    super(DataReader,self).__init__()\n",
        "    self.df=df\n",
        "    self.transform=transform\n",
        "\n",
        "  def __len__(self):\n",
        "    return len(self.df)\n",
        "\n",
        "  def __getitem__(self,index):\n",
        "    image_path=self.df.image[index]\n",
        "    image_label=self.df.label[index]\n",
        "\n",
        "    #read data\n",
        "    image = dicom.dcmread(image_path).pixel_array\n",
        "    #image=np.array(image)\n",
        "    image = cv2.convertScaleAbs(image)\n",
        "\n",
        "    if self.transform:\n",
        "      image=self.transform(image)\n",
        "\n",
        "    return image,image_label"
      ],
      "execution_count": null,
      "outputs": []
    },
    {
      "cell_type": "code",
      "metadata": {
        "id": "rlFbtgPXPqbV"
      },
      "source": [
        "# #testing above code\n",
        "# batch=next(iter(DataLoader(DataReader(train_df,aug), batch_size = 8, num_workers=1,shuffle=True)))\n",
        "# print(batch[0][0].shape)\n",
        "\n",
        "# from torch.utils.data.dataloader import DataLoader\n",
        "# import torchvision\n",
        "# import matplotlib.pyplot as plt\n",
        "# grid_img=torchvision.utils.make_grid(batch[0],4,4)\n",
        "# plt.imshow(grid_img.permute(1, 2, 0))"
      ],
      "execution_count": null,
      "outputs": []
    },
    {
      "cell_type": "code",
      "metadata": {
        "id": "rDkZZ4SSa0LR"
      },
      "source": [
        "import torch.nn as nn\n",
        "class Fire1(nn.Module):\n",
        "   \n",
        "    def __init__(self, in_channels, squeeze_channels,expand_channels):\n",
        "        super(Fire1, self).__init__()\n",
        "\n",
        "        # squeeze \n",
        "        self.squeeze = nn.Conv2d(in_channels, squeeze_channels, kernel_size=1)\n",
        "        self.relu = nn.LeakyReLU()\n",
        "\n",
        "        # expand\n",
        "        self.expand_1x1 =nn.Conv2d(squeeze_channels, expand_channels, kernel_size=1)\n",
        "        self.expand_3x3 =nn.Conv2d(squeeze_channels, expand_channels, kernel_size=3,padding=1)\n",
        "        \n",
        "\n",
        "    def forward(self, x):\n",
        "        x = self.squeeze(x)\n",
        "        x= self.relu(x)\n",
        "        x = torch.cat([self.expand_1x1(x),self.expand_3x3(x)], dim=1)\n",
        "        x = self.relu(x)\n",
        "        return x\n",
        "    \n",
        "    \n",
        "class MyModelV3(torch.nn.Module):\n",
        "    \n",
        "    def __init__(self,num_classes):\n",
        "        super(MyModelV3, self).__init__()\n",
        "        self.num_classes=num_classes\n",
        "        self.net = torch.nn.Sequential(\n",
        "                 nn.Conv2d(in_channels=1,out_channels=32,kernel_size=3,stride=2),\n",
        "                 nn.MaxPool2d(kernel_size=3,stride=2),\n",
        "                 nn.ReLU(),\n",
        "                 nn.BatchNorm2d(32),\n",
        "                 Fire1(in_channels=32, squeeze_channels=16,expand_channels=32),\n",
        "                 Fire1(in_channels=64, squeeze_channels=16,expand_channels=64),\n",
        "                 nn.MaxPool2d(kernel_size=3,stride=2),\n",
        "                 nn.Dropout(0.5),\n",
        "                 Fire1(in_channels=128, squeeze_channels=32,expand_channels=96),\n",
        "                 Fire1(in_channels=192, squeeze_channels=32,expand_channels=128),\n",
        "                 nn.MaxPool2d(kernel_size=3,stride=2),\n",
        "                 nn.Dropout(0.25),\n",
        "                 Fire1(256, 48, 160),\n",
        "                 Fire1(320, 48, 160),\n",
        "                 nn.Dropout(0.5),\n",
        "                 nn.Conv2d(in_channels=320,out_channels=128*2,kernel_size=1,stride=2),\n",
        "                 nn.ReLU(),\n",
        "                 nn.Conv2d(in_channels=128*2,out_channels=32,kernel_size=1,stride=1),\n",
        "                 nn.ReLU(),\n",
        "                 nn.Conv2d(in_channels=32,out_channels=16,kernel_size=1,stride=1),\n",
        "                 nn.ReLU(),\n",
        "                 nn.Dropout(0.5),\n",
        "                 nn.Flatten(),\n",
        "                 nn.Linear(784, self.num_classes),\n",
        "                               \n",
        "                )        \n",
        "    def forward(self, x):\n",
        "        return self.net(x)"
      ],
      "execution_count": null,
      "outputs": []
    },
    {
      "cell_type": "code",
      "metadata": {
        "colab": {
          "base_uri": "https://localhost:8080/"
        },
        "id": "6ZrGaV9qh7qY",
        "outputId": "3b36aa83-c344-46a5-b383-ee88d422e93e"
      },
      "source": [
        "x=torch.randn(3,1,224,224)\n",
        "model=MyModelV3(4)\n",
        "model(x).shape"
      ],
      "execution_count": null,
      "outputs": [
        {
          "output_type": "execute_result",
          "data": {
            "text/plain": [
              "torch.Size([3, 4])"
            ]
          },
          "metadata": {
            "tags": []
          },
          "execution_count": 23
        }
      ]
    },
    {
      "cell_type": "code",
      "metadata": {
        "id": "EQgwT63SWEZp"
      },
      "source": [
        "class OurModel(LightningModule):\n",
        "  def __init__(self):\n",
        "    super(OurModel,self).__init__()\n",
        "    #architecute\n",
        "    self.layer =MyModelV3(3)\n",
        "    \n",
        "  #parameters\n",
        "    self.lr=0.001\n",
        "    self.batch_size=128\n",
        "    self.numworker=1\n",
        "    self.train_acc = torchmetrics.Accuracy()\n",
        "    self.val_acc = torchmetrics.Accuracy()\n",
        "    self.class_weights =torch.tensor(class_weight.compute_class_weight('balanced',\\\n",
        "                  np.unique(train_df.label),train_df.label),dtype=torch.float32)\n",
        "    \n",
        "  def forward(self,x):\n",
        "    return self.layer(x)\n",
        "\n",
        " \n",
        "\n",
        "  def configure_optimizers(self):\n",
        "    return torch.optim.AdamW(params=self.parameters(),lr=self.lr )\n",
        "\n",
        "  def train_dataloader(self):\n",
        "    return DataLoader(DataReader(train_df,aug), batch_size = self.batch_size, num_workers=self.numworker,shuffle=True)\n",
        "\n",
        "  def training_step(self,batch,batch_idx):\n",
        "    image,label=batch\n",
        "    out=self(image)\n",
        "    loss=torch.nn.functional.cross_entropy(out,label,self.class_weights)\n",
        "    pred=torch.max(out,dim=1)[1]\n",
        "    train_acc=self.train_acc(pred,label)\n",
        "    self.log('train/acc', train_acc, on_epoch=True,prog_bar=True)\n",
        "    self.log('train/loss', loss, on_epoch=True,prog_bar=True)\n",
        "    return loss\n",
        "\n",
        "  def val_dataloader(self):\n",
        "    return DataLoader(DataReader(val_df,aug), batch_size = self.batch_size,num_workers=self.numworker,  shuffle=False)\n",
        "    \n",
        "  def validation_step(self,batch,batch_idx):\n",
        "    image,label=batch\n",
        "    out=self(image)\n",
        "    loss=torch.nn.functional.cross_entropy(out,label,self.class_weights)\n",
        "    pred=torch.max(out,dim=1)[1]\n",
        "    valid_acc=self.val_acc(pred,label)\n",
        "    self.log('vall/acc', valid_acc, on_epoch=True,prog_bar=True)\n",
        "    self.log('vall/loss', loss, on_epoch=True,prog_bar=True)\n",
        "    return loss\n"
      ],
      "execution_count": null,
      "outputs": []
    },
    {
      "cell_type": "code",
      "metadata": {
        "colab": {
          "base_uri": "https://localhost:8080/",
          "height": 1000,
          "referenced_widgets": [
            "4cf12d462aef4f0da47464016aefb232",
            "4e698d2d94714a2e8447f82427601ca0",
            "4720986ad1534de083d739e3d1c51b87",
            "f43e90259e254d1197b74e279ccf7e91",
            "a6b6bea310e344f8bf5350c5958e543a",
            "ac59d01c2a1e4ff1baeb57829a9bd212",
            "b92335f21bcf44ee9e252f9899414cb4",
            "a00294b51019429b80fe3d15859f6d01",
            "664455dd79e94abab678938f79421fe3",
            "a825a89ab57d43c18e8efc96d17ff3f4",
            "1a096d826eb94c8eac5c665b418d81af",
            "1395680400c644dc8dafd9d2aea1569c",
            "79f7d33d2c2a465ebf1e1a2c615516d3",
            "5603853571814319abbccd37a7917d0f",
            "5944f3e713fc44709657ff66c95fd97e",
            "8c594fde47bb451ba278badd0e16bac2",
            "272d06ba742e4af0be75392fdcbc4bfa",
            "523667fe13f34a67b145f7ec66fad07b",
            "62614304065b42069f209ab5130ff3c5",
            "080cc5178fbb4778a282619428da3196",
            "685069f07c6f4afe8b24861948a3f340",
            "ffe2dd6b5d7e4929bf81556b4c2f7d44",
            "ee273cefe9334305bedc2855c3c84810",
            "18e6eb36e6e94a248abef877c35126ea",
            "61029d7dc0bc43b0b8850eace952985e",
            "6a2c0eb8c76a4ecb9a319c98267aa2bb",
            "c19d278f4d7e4ae7ab9fd790722b7172",
            "1a9d60edc3804742b017a72c5bcf7a56",
            "47957a78f9184a9ab3d275b50b24c4fa",
            "5029d86521b34d42833db675ad2c1bee",
            "a9ee7e2b11c94d60a3d601045b81971f",
            "f09625fc1c5446d09c2a907a9d829aa6",
            "53efd9762e994fe6a69d4260b7424fd6",
            "afb2dedc781d4725a502ad8172cd4e4d",
            "a42b859a4a5a4349b9e293003076bc70",
            "a62d5858880c4cf387e1d20321942ead",
            "a88934f927ad4ec09943bc03dcc54f7f",
            "8b98049fbbe44cc290cf82bc66104350",
            "1d962c330c144a9787d090e18e281eb2",
            "436ce94f5ceb4d50b4d0e054e9016a24",
            "adb260d4c49a484c8ad2d8e14f2e303b",
            "50907cea17f94612abb3157671cc667d",
            "07a3e6b6b9d84a3f8881ee2557df3d34",
            "f488363eea734d8d9b64a2d94ac85cb2",
            "45813131371b4c6a94fc0fadd41f94a5",
            "924782ad937a46a6b50f21e163fa2b3c",
            "1a306da0c4c346348dfd867d9895ddaf",
            "be70f9d38449449fa9c142de96939723",
            "ddcb6679f61145b981f7cb03c5e11709",
            "8ba4f5900a5c4611a10a3b77b17692ad",
            "5420fafde462437abc9fe1faab3f3c1d",
            "fc36d4014ced4034b40bd2eb7c637419",
            "5899711d4ede48d8b800e58e45a92035",
            "07f9477923534070999d0365c0f71167",
            "3495b71224f84b508f452b28377274b1",
            "7435a78886694554995f859efce79184",
            "e87c548a294b429789e9e707b666600e",
            "1cee7428f66f44fe9338e7aec783b472",
            "214716e606514d1c8722bae9fc625127",
            "87cc2ea9595d4db8941a84307ae471bc",
            "c153771cfe5746858fd829a541d49ea2",
            "27891bf25c55407a876e101be12109e6",
            "445a396e2846453ab988bdc553316ea9",
            "fce8152969794cd9a9df606764ef9f3b"
          ]
        },
        "id": "7JHAJIG9b38g",
        "outputId": "977234f2-716b-4f70-a49e-c037185a4654"
      },
      "source": [
        "early_stop_callback = EarlyStopping(monitor='vall/loss', min_delta=0.00, patience=2, verbose=True, mode='min')\n",
        "model = OurModel()\n",
        "trainer = Trainer(max_epochs=6, auto_lr_find=False, auto_scale_batch_size=False,\n",
        "                  tpu_cores=8,precision=16,\n",
        "                  #gpus=-1,\n",
        "                  progress_bar_refresh_rate=30, \n",
        "                  callbacks=[early_stop_callback]\n",
        "                  )\n",
        "trainer.tune(model)\n",
        "trainer.fit(model)"
      ],
      "execution_count": null,
      "outputs": [
        {
          "output_type": "stream",
          "text": [
            "GPU available: False, used: False\n",
            "TPU available: True, using: 8 TPU cores\n",
            "\n",
            "  | Name      | Type      | Params\n",
            "----------------------------------------\n",
            "0 | layer     | MyModelV3 | 375 K \n",
            "1 | train_acc | Accuracy  | 0     \n",
            "2 | val_acc   | Accuracy  | 0     \n",
            "----------------------------------------\n",
            "375 K     Trainable params\n",
            "0         Non-trainable params\n",
            "375 K     Total params\n",
            "0.750     Total estimated model params size (MB)\n"
          ],
          "name": "stderr"
        },
        {
          "output_type": "display_data",
          "data": {
            "application/vnd.jupyter.widget-view+json": {
              "model_id": "4cf12d462aef4f0da47464016aefb232",
              "version_minor": 0,
              "version_major": 2
            },
            "text/plain": [
              "HBox(children=(FloatProgress(value=1.0, bar_style='info', description='Validation sanity check', layout=Layout…"
            ]
          },
          "metadata": {
            "tags": []
          }
        },
        {
          "output_type": "stream",
          "text": [
            "\r"
          ],
          "name": "stdout"
        },
        {
          "output_type": "display_data",
          "data": {
            "application/vnd.jupyter.widget-view+json": {
              "model_id": "664455dd79e94abab678938f79421fe3",
              "version_minor": 0,
              "version_major": 2
            },
            "text/plain": [
              "HBox(children=(FloatProgress(value=1.0, bar_style='info', description='Training', layout=Layout(flex='2'), max…"
            ]
          },
          "metadata": {
            "tags": []
          }
        },
        {
          "output_type": "display_data",
          "data": {
            "application/vnd.jupyter.widget-view+json": {
              "model_id": "272d06ba742e4af0be75392fdcbc4bfa",
              "version_minor": 0,
              "version_major": 2
            },
            "text/plain": [
              "HBox(children=(FloatProgress(value=1.0, bar_style='info', description='Validating', layout=Layout(flex='2'), m…"
            ]
          },
          "metadata": {
            "tags": []
          }
        },
        {
          "output_type": "stream",
          "text": [
            "[rank: 5] Metric vall/loss improved. New best score: 1.100\n",
            "[rank: 0] Metric vall/loss improved. New best score: 1.103\n",
            "[rank: 2] Metric vall/loss improved. New best score: 1.091\n",
            "[rank: 6] Metric vall/loss improved. New best score: 1.099\n",
            "[rank: 1] Metric vall/loss improved. New best score: 1.084\n",
            "[rank: 3] Metric vall/loss improved. New best score: 1.092\n",
            "[rank: 7] Metric vall/loss improved. New best score: 1.101\n",
            "[rank: 4] Metric vall/loss improved. New best score: 1.100\n"
          ],
          "name": "stderr"
        },
        {
          "output_type": "display_data",
          "data": {
            "application/vnd.jupyter.widget-view+json": {
              "model_id": "61029d7dc0bc43b0b8850eace952985e",
              "version_minor": 0,
              "version_major": 2
            },
            "text/plain": [
              "HBox(children=(FloatProgress(value=1.0, bar_style='info', description='Validating', layout=Layout(flex='2'), m…"
            ]
          },
          "metadata": {
            "tags": []
          }
        },
        {
          "output_type": "stream",
          "text": [
            "[rank: 7] Metric vall/loss improved by 0.006 >= min_delta = 0.0. New best score: 1.095\n",
            "[rank: 0] Metric vall/loss improved by 0.001 >= min_delta = 0.0. New best score: 1.101\n"
          ],
          "name": "stderr"
        },
        {
          "output_type": "display_data",
          "data": {
            "application/vnd.jupyter.widget-view+json": {
              "model_id": "53efd9762e994fe6a69d4260b7424fd6",
              "version_minor": 0,
              "version_major": 2
            },
            "text/plain": [
              "HBox(children=(FloatProgress(value=1.0, bar_style='info', description='Validating', layout=Layout(flex='2'), m…"
            ]
          },
          "metadata": {
            "tags": []
          }
        },
        {
          "output_type": "stream",
          "text": [
            "[rank: 5] Metric vall/loss improved by 0.000 >= min_delta = 0.0. New best score: 1.099\n",
            "[rank: 2] Monitored metric vall/loss did not improve in the last 2 records. Best score: 1.091. Signaling Trainer to stop.\n",
            "[rank: 3] Monitored metric vall/loss did not improve in the last 2 records. Best score: 1.092. Signaling Trainer to stop.\n",
            "[rank: 1] Monitored metric vall/loss did not improve in the last 2 records. Best score: 1.084. Signaling Trainer to stop.\n",
            "[rank: 6] Metric vall/loss improved by 0.000 >= min_delta = 0.0. New best score: 1.098\n",
            "[rank: 4] Metric vall/loss improved by 0.002 >= min_delta = 0.0. New best score: 1.098\n",
            "[rank: 0] Metric vall/loss improved by 0.006 >= min_delta = 0.0. New best score: 1.095\n"
          ],
          "name": "stderr"
        },
        {
          "output_type": "display_data",
          "data": {
            "application/vnd.jupyter.widget-view+json": {
              "model_id": "adb260d4c49a484c8ad2d8e14f2e303b",
              "version_minor": 0,
              "version_major": 2
            },
            "text/plain": [
              "HBox(children=(FloatProgress(value=1.0, bar_style='info', description='Validating', layout=Layout(flex='2'), m…"
            ]
          },
          "metadata": {
            "tags": []
          }
        },
        {
          "output_type": "stream",
          "text": [
            "[rank: 3] Monitored metric vall/loss did not improve in the last 3 records. Best score: 1.092. Signaling Trainer to stop.\n",
            "[rank: 5] Metric vall/loss improved by 0.002 >= min_delta = 0.0. New best score: 1.097\n",
            "[rank: 7] Monitored metric vall/loss did not improve in the last 2 records. Best score: 1.095. Signaling Trainer to stop.\n",
            "[rank: 1] Monitored metric vall/loss did not improve in the last 3 records. Best score: 1.084. Signaling Trainer to stop.\n",
            "[rank: 2] Monitored metric vall/loss did not improve in the last 3 records. Best score: 1.091. Signaling Trainer to stop.\n"
          ],
          "name": "stderr"
        },
        {
          "output_type": "display_data",
          "data": {
            "application/vnd.jupyter.widget-view+json": {
              "model_id": "ddcb6679f61145b981f7cb03c5e11709",
              "version_minor": 0,
              "version_major": 2
            },
            "text/plain": [
              "HBox(children=(FloatProgress(value=1.0, bar_style='info', description='Validating', layout=Layout(flex='2'), m…"
            ]
          },
          "metadata": {
            "tags": []
          }
        },
        {
          "output_type": "stream",
          "text": [
            "[rank: 1] Monitored metric vall/loss did not improve in the last 4 records. Best score: 1.084. Signaling Trainer to stop.\n",
            "[rank: 5] Metric vall/loss improved by 0.001 >= min_delta = 0.0. New best score: 1.096\n",
            "[rank: 7] Monitored metric vall/loss did not improve in the last 3 records. Best score: 1.095. Signaling Trainer to stop.\n",
            "[rank: 4] Monitored metric vall/loss did not improve in the last 2 records. Best score: 1.098. Signaling Trainer to stop.\n",
            "[rank: 2] Monitored metric vall/loss did not improve in the last 4 records. Best score: 1.091. Signaling Trainer to stop.\n",
            "[rank: 6] Monitored metric vall/loss did not improve in the last 2 records. Best score: 1.098. Signaling Trainer to stop.\n",
            "[rank: 0] Monitored metric vall/loss did not improve in the last 2 records. Best score: 1.095. Signaling Trainer to stop.\n",
            "[rank: 3] Monitored metric vall/loss did not improve in the last 4 records. Best score: 1.092. Signaling Trainer to stop.\n"
          ],
          "name": "stderr"
        },
        {
          "output_type": "display_data",
          "data": {
            "application/vnd.jupyter.widget-view+json": {
              "model_id": "e87c548a294b429789e9e707b666600e",
              "version_minor": 0,
              "version_major": 2
            },
            "text/plain": [
              "HBox(children=(FloatProgress(value=1.0, bar_style='info', description='Validating', layout=Layout(flex='2'), m…"
            ]
          },
          "metadata": {
            "tags": []
          }
        },
        {
          "output_type": "stream",
          "text": [
            "[rank: 7] Monitored metric vall/loss did not improve in the last 4 records. Best score: 1.095. Signaling Trainer to stop.\n",
            "[rank: 4] Metric vall/loss improved by 0.002 >= min_delta = 0.0. New best score: 1.096\n",
            "[rank: 6] Metric vall/loss improved by 0.000 >= min_delta = 0.0. New best score: 1.098\n",
            "[rank: 2] Monitored metric vall/loss did not improve in the last 5 records. Best score: 1.091. Signaling Trainer to stop.\n",
            "[rank: 0] Monitored metric vall/loss did not improve in the last 3 records. Best score: 1.095. Signaling Trainer to stop.\n",
            "[rank: 3] Monitored metric vall/loss did not improve in the last 5 records. Best score: 1.092. Signaling Trainer to stop.\n",
            "[rank: 1] Monitored metric vall/loss did not improve in the last 5 records. Best score: 1.084. Signaling Trainer to stop.\n"
          ],
          "name": "stderr"
        },
        {
          "output_type": "stream",
          "text": [
            "\n"
          ],
          "name": "stdout"
        },
        {
          "output_type": "stream",
          "text": [
            "/usr/local/lib/python3.7/dist-packages/pytorch_lightning/utilities/distributed.py:69: UserWarning: cleaning up ddp environment...\n",
            "  warnings.warn(*args, **kwargs)\n"
          ],
          "name": "stderr"
        }
      ]
    },
    {
      "cell_type": "code",
      "metadata": {
        "id": "nS1t_Y1Yb6TZ"
      },
      "source": [
        "!rm -rf /content/lightning_logs"
      ],
      "execution_count": null,
      "outputs": []
    },
    {
      "cell_type": "code",
      "metadata": {
        "id": "8ARJgUPHTBMC"
      },
      "source": [
        ""
      ],
      "execution_count": null,
      "outputs": []
    }
  ]
}