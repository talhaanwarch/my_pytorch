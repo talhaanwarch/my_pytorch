{
  "nbformat": 4,
  "nbformat_minor": 0,
  "metadata": {
    "colab": {
      "name": "coivd-tpu.ipynb",
      "provenance": [],
      "collapsed_sections": [],
      "include_colab_link": true
    },
    "kernelspec": {
      "name": "python3",
      "display_name": "Python 3"
    },
    "language_info": {
      "name": "python"
    },
    "accelerator": "TPU"
  },
  "cells": [
    {
      "cell_type": "markdown",
      "metadata": {
        "id": "view-in-github",
        "colab_type": "text"
      },
      "source": [
        "<a href=\"https://colab.research.google.com/github/talhaanwarch/my_pytorch/blob/master/coivd_tpu.ipynb\" target=\"_parent\"><img src=\"https://colab.research.google.com/assets/colab-badge.svg\" alt=\"Open In Colab\"/></a>"
      ]
    },
    {
      "cell_type": "markdown",
      "metadata": {
        "id": "sTpL9A3QdhfO"
      },
      "source": [
        "https://www.researchgate.net/publication/351212635_COVID-CT-MD_COVID-19_computed_tomography_scan_dataset_applicable_in_machine_learning_and_deep_learning\n"
      ]
    },
    {
      "cell_type": "code",
      "metadata": {
        "colab": {
          "base_uri": "https://localhost:8080/"
        },
        "id": "EM_pdRRxEaQA",
        "outputId": "7e51aab9-8bda-4336-f307-772dafa6f1f4"
      },
      "source": [
        "from google.colab import drive\n",
        "drive.mount('/content/drive',force_remount=True)"
      ],
      "execution_count": 1,
      "outputs": [
        {
          "output_type": "stream",
          "text": [
            "Mounted at /content/drive\n"
          ],
          "name": "stdout"
        }
      ]
    },
    {
      "cell_type": "code",
      "metadata": {
        "id": "61ougcU7t6bx"
      },
      "source": [
        "%%capture\n",
        "#TPU\n",
        "!pip install cloud-tpu-client==0.10 https://storage.googleapis.com/tpu-pytorch/wheels/torch_xla-1.9-cp37-cp37m-linux_x86_64.whl\n",
        "#file reading packages\n",
        "!pip install SimpleITK\n",
        "!pip install pydicom\n",
        "!pip install pylibjpeg\n",
        "!pip install gdcm\n",
        "!pip install pylibjpeg-libjpeg\n",
        "!pip install numpy --upgrade --ignore-installed\n",
        "#pytorch stuff\n",
        "!pip install pytorch-lightning\n",
        "!pip install torchmetrics\n",
        "!pip install albumentations==1.0.0"
      ],
      "execution_count": 1,
      "outputs": []
    },
    {
      "cell_type": "code",
      "metadata": {
        "id": "ilw7ZGdMPSpm",
        "outputId": "3674b591-6a83-4925-d1e2-a5c3aea8cee0",
        "colab": {
          "base_uri": "https://localhost:8080/",
          "height": 35
        }
      },
      "source": [
        "import albumentations\n",
        "from albumentations.pytorch import ToTensorV2\n",
        "\n",
        "albumentations.__version__"
      ],
      "execution_count": 3,
      "outputs": [
        {
          "output_type": "execute_result",
          "data": {
            "application/vnd.google.colaboratory.intrinsic+json": {
              "type": "string"
            },
            "text/plain": [
              "'1.0.0'"
            ]
          },
          "metadata": {
            "tags": []
          },
          "execution_count": 3
        }
      ]
    },
    {
      "cell_type": "code",
      "metadata": {
        "id": "ALHt_izXxESc"
      },
      "source": [
        "import numpy as np\n",
        "assert np.__version__>='1.20.3', 'Numpy version should be 1.20.3'"
      ],
      "execution_count": 4,
      "outputs": []
    },
    {
      "cell_type": "code",
      "metadata": {
        "id": "8NDhX9U1pkOK"
      },
      "source": [
        "import os\n",
        "if (os.path.isfile('COVIDCTMD.zip')) or (os.path.isdir('data')) is False:\n",
        "  !wget https://s3-eu-west-1.amazonaws.com/pstorage-npg-968563215/26069987/COVIDCTMD.zip"
      ],
      "execution_count": 5,
      "outputs": []
    },
    {
      "cell_type": "code",
      "metadata": {
        "id": "UC_Zap_hqGk6"
      },
      "source": [
        "%%capture\n",
        "if os.path.isdir('data') is False:\n",
        "  !mkdir data\n",
        "  !unzip /content/COVIDCTMD.zip -d data\n",
        "  !rm /content/COVIDCTMD.zip"
      ],
      "execution_count": 6,
      "outputs": []
    },
    {
      "cell_type": "code",
      "metadata": {
        "id": "eTKUqFtHy7fC"
      },
      "source": [
        "from sklearn.model_selection import train_test_split\n",
        "import pandas as pd\n",
        "import matplotlib.pyplot as plt\n",
        "\n",
        "import numpy as np\n",
        "import pydicom as dicom\n",
        "from glob import glob\n",
        "import cv2"
      ],
      "execution_count": 7,
      "outputs": []
    },
    {
      "cell_type": "code",
      "metadata": {
        "id": "9CEvOS_zmGbj"
      },
      "source": [
        "!rm -rf /content/data/__MACOSX"
      ],
      "execution_count": 8,
      "outputs": []
    },
    {
      "cell_type": "code",
      "metadata": {
        "id": "Ay6B6YoBrmPI",
        "colab": {
          "base_uri": "https://localhost:8080/",
          "height": 250
        },
        "outputId": "07da1851-bd3e-4d3a-8747-99f301402272"
      },
      "source": [
        "clinical_features=pd.read_csv('/content/data/Clinical-data.csv')\n",
        "clinical_features.head()"
      ],
      "execution_count": 9,
      "outputs": [
        {
          "output_type": "execute_result",
          "data": {
            "text/html": [
              "<div>\n",
              "<style scoped>\n",
              "    .dataframe tbody tr th:only-of-type {\n",
              "        vertical-align: middle;\n",
              "    }\n",
              "\n",
              "    .dataframe tbody tr th {\n",
              "        vertical-align: top;\n",
              "    }\n",
              "\n",
              "    .dataframe thead th {\n",
              "        text-align: right;\n",
              "    }\n",
              "</style>\n",
              "<table border=\"1\" class=\"dataframe\">\n",
              "  <thead>\n",
              "    <tr style=\"text-align: right;\">\n",
              "      <th></th>\n",
              "      <th>clinical_data</th>\n",
              "      <th>Unnamed: 1</th>\n",
              "      <th>Unnamed: 2</th>\n",
              "      <th>Unnamed: 3</th>\n",
              "      <th>Unnamed: 4</th>\n",
              "      <th>Unnamed: 5</th>\n",
              "      <th>Unnamed: 6</th>\n",
              "      <th>Unnamed: 7</th>\n",
              "      <th>Unnamed: 8</th>\n",
              "      <th>Unnamed: 9</th>\n",
              "    </tr>\n",
              "  </thead>\n",
              "  <tbody>\n",
              "    <tr>\n",
              "      <th>0</th>\n",
              "      <td>NaN</td>\n",
              "      <td>Diagnosis</td>\n",
              "      <td>Folder</td>\n",
              "      <td>Patient Gender</td>\n",
              "      <td>Patient Age</td>\n",
              "      <td>Weight</td>\n",
              "      <td>Clinical characteristics</td>\n",
              "      <td>Surgery</td>\n",
              "      <td>Follow-up</td>\n",
              "      <td>PCR</td>\n",
              "    </tr>\n",
              "    <tr>\n",
              "      <th>1</th>\n",
              "      <td>0.0</td>\n",
              "      <td>COVID-19</td>\n",
              "      <td>P001</td>\n",
              "      <td>M</td>\n",
              "      <td>039Y</td>\n",
              "      <td>80</td>\n",
              "      <td>Dyspnea, Cough, Fever</td>\n",
              "      <td>NaN</td>\n",
              "      <td>NaN</td>\n",
              "      <td>NaN</td>\n",
              "    </tr>\n",
              "    <tr>\n",
              "      <th>2</th>\n",
              "      <td>1.0</td>\n",
              "      <td>COVID-19</td>\n",
              "      <td>P002</td>\n",
              "      <td>F</td>\n",
              "      <td>048Y</td>\n",
              "      <td>75</td>\n",
              "      <td>Dyspnea, Flu-like symptoms</td>\n",
              "      <td>No</td>\n",
              "      <td>Uneventful</td>\n",
              "      <td>NaN</td>\n",
              "    </tr>\n",
              "    <tr>\n",
              "      <th>3</th>\n",
              "      <td>2.0</td>\n",
              "      <td>COVID-19</td>\n",
              "      <td>P003</td>\n",
              "      <td>M</td>\n",
              "      <td>068Y</td>\n",
              "      <td>90</td>\n",
              "      <td>Cough</td>\n",
              "      <td>NaN</td>\n",
              "      <td>Hospitalized</td>\n",
              "      <td>NaN</td>\n",
              "    </tr>\n",
              "    <tr>\n",
              "      <th>4</th>\n",
              "      <td>3.0</td>\n",
              "      <td>COVID-19</td>\n",
              "      <td>P004</td>\n",
              "      <td>M</td>\n",
              "      <td>065Y</td>\n",
              "      <td>75</td>\n",
              "      <td>Dyspnea, fever</td>\n",
              "      <td>No</td>\n",
              "      <td>Uneventful</td>\n",
              "      <td>NaN</td>\n",
              "    </tr>\n",
              "  </tbody>\n",
              "</table>\n",
              "</div>"
            ],
            "text/plain": [
              "   clinical_data Unnamed: 1 Unnamed: 2  ... Unnamed: 7    Unnamed: 8 Unnamed: 9\n",
              "0            NaN  Diagnosis     Folder  ...    Surgery     Follow-up        PCR\n",
              "1            0.0   COVID-19       P001  ...        NaN           NaN        NaN\n",
              "2            1.0   COVID-19       P002  ...         No    Uneventful        NaN\n",
              "3            2.0   COVID-19       P003  ...        NaN  Hospitalized        NaN\n",
              "4            3.0   COVID-19       P004  ...         No    Uneventful        NaN\n",
              "\n",
              "[5 rows x 10 columns]"
            ]
          },
          "metadata": {
            "tags": []
          },
          "execution_count": 9
        }
      ]
    },
    {
      "cell_type": "code",
      "metadata": {
        "id": "MalG4jWKtGwe",
        "colab": {
          "base_uri": "https://localhost:8080/",
          "height": 199
        },
        "outputId": "f84e9e69-06e7-490f-b7da-3691b4cb6563"
      },
      "source": [
        "df=pd.read_csv('/content/data/Index.csv')\n",
        "df.head()"
      ],
      "execution_count": 10,
      "outputs": [
        {
          "output_type": "execute_result",
          "data": {
            "text/html": [
              "<div>\n",
              "<style scoped>\n",
              "    .dataframe tbody tr th:only-of-type {\n",
              "        vertical-align: middle;\n",
              "    }\n",
              "\n",
              "    .dataframe tbody tr th {\n",
              "        vertical-align: top;\n",
              "    }\n",
              "\n",
              "    .dataframe thead th {\n",
              "        text-align: right;\n",
              "    }\n",
              "</style>\n",
              "<table border=\"1\" class=\"dataframe\">\n",
              "  <thead>\n",
              "    <tr style=\"text-align: right;\">\n",
              "      <th></th>\n",
              "      <th>Label Index</th>\n",
              "      <th>Diagnosis</th>\n",
              "      <th>Relative Path</th>\n",
              "      <th>Folder/ID</th>\n",
              "    </tr>\n",
              "  </thead>\n",
              "  <tbody>\n",
              "    <tr>\n",
              "      <th>0</th>\n",
              "      <td>0</td>\n",
              "      <td>COVID-19</td>\n",
              "      <td>./COVID-19/</td>\n",
              "      <td>P001</td>\n",
              "    </tr>\n",
              "    <tr>\n",
              "      <th>1</th>\n",
              "      <td>1</td>\n",
              "      <td>COVID-19</td>\n",
              "      <td>./COVID-19/</td>\n",
              "      <td>P002</td>\n",
              "    </tr>\n",
              "    <tr>\n",
              "      <th>2</th>\n",
              "      <td>2</td>\n",
              "      <td>COVID-19</td>\n",
              "      <td>./COVID-19/</td>\n",
              "      <td>P003</td>\n",
              "    </tr>\n",
              "    <tr>\n",
              "      <th>3</th>\n",
              "      <td>3</td>\n",
              "      <td>COVID-19</td>\n",
              "      <td>./COVID-19/</td>\n",
              "      <td>P004</td>\n",
              "    </tr>\n",
              "    <tr>\n",
              "      <th>4</th>\n",
              "      <td>4</td>\n",
              "      <td>COVID-19</td>\n",
              "      <td>./COVID-19/</td>\n",
              "      <td>P005</td>\n",
              "    </tr>\n",
              "  </tbody>\n",
              "</table>\n",
              "</div>"
            ],
            "text/plain": [
              "   Label Index Diagnosis Relative Path Folder/ID\n",
              "0            0  COVID-19   ./COVID-19/      P001\n",
              "1            1  COVID-19   ./COVID-19/      P002\n",
              "2            2  COVID-19   ./COVID-19/      P003\n",
              "3            3  COVID-19   ./COVID-19/      P004\n",
              "4            4  COVID-19   ./COVID-19/      P005"
            ]
          },
          "metadata": {
            "tags": []
          },
          "execution_count": 10
        }
      ]
    },
    {
      "cell_type": "code",
      "metadata": {
        "id": "CX7kQHT8tbTI",
        "colab": {
          "base_uri": "https://localhost:8080/",
          "height": 199
        },
        "outputId": "52479b32-9d94-4fd7-d3bf-deadba9dd9d5"
      },
      "source": [
        "df=pd.read_csv('/content/data/Radiogists-seperated-labels.csv')\n",
        "df.head()"
      ],
      "execution_count": 11,
      "outputs": [
        {
          "output_type": "execute_result",
          "data": {
            "text/html": [
              "<div>\n",
              "<style scoped>\n",
              "    .dataframe tbody tr th:only-of-type {\n",
              "        vertical-align: middle;\n",
              "    }\n",
              "\n",
              "    .dataframe tbody tr th {\n",
              "        vertical-align: top;\n",
              "    }\n",
              "\n",
              "    .dataframe thead th {\n",
              "        text-align: right;\n",
              "    }\n",
              "</style>\n",
              "<table border=\"1\" class=\"dataframe\">\n",
              "  <thead>\n",
              "    <tr style=\"text-align: right;\">\n",
              "      <th></th>\n",
              "      <th>ID</th>\n",
              "      <th>Radiologist #1</th>\n",
              "      <th>Radiologist #2</th>\n",
              "      <th>Radiologist #3</th>\n",
              "    </tr>\n",
              "  </thead>\n",
              "  <tbody>\n",
              "    <tr>\n",
              "      <th>0</th>\n",
              "      <td>P001</td>\n",
              "      <td>COVID</td>\n",
              "      <td>COVID</td>\n",
              "      <td>COVID</td>\n",
              "    </tr>\n",
              "    <tr>\n",
              "      <th>1</th>\n",
              "      <td>P002</td>\n",
              "      <td>COVID</td>\n",
              "      <td>COVID</td>\n",
              "      <td>COVID</td>\n",
              "    </tr>\n",
              "    <tr>\n",
              "      <th>2</th>\n",
              "      <td>P003</td>\n",
              "      <td>COVID</td>\n",
              "      <td>COVID</td>\n",
              "      <td>COVID</td>\n",
              "    </tr>\n",
              "    <tr>\n",
              "      <th>3</th>\n",
              "      <td>P004</td>\n",
              "      <td>COVID</td>\n",
              "      <td>COVID</td>\n",
              "      <td>COVID</td>\n",
              "    </tr>\n",
              "    <tr>\n",
              "      <th>4</th>\n",
              "      <td>P005</td>\n",
              "      <td>COVID</td>\n",
              "      <td>COVID</td>\n",
              "      <td>COVID</td>\n",
              "    </tr>\n",
              "  </tbody>\n",
              "</table>\n",
              "</div>"
            ],
            "text/plain": [
              "     ID Radiologist #1 Radiologist #2 Radiologist #3\n",
              "0  P001          COVID          COVID          COVID\n",
              "1  P002          COVID          COVID          COVID\n",
              "2  P003          COVID          COVID          COVID\n",
              "3  P004          COVID          COVID          COVID\n",
              "4  P005          COVID          COVID          COVID"
            ]
          },
          "metadata": {
            "tags": []
          },
          "execution_count": 11
        }
      ]
    },
    {
      "cell_type": "code",
      "metadata": {
        "colab": {
          "base_uri": "https://localhost:8080/",
          "height": 322
        },
        "id": "WYYx9wZ1tjfF",
        "outputId": "401ec267-d5c2-4290-b98e-c41bf3b18114"
      },
      "source": [
        "import pydicom as dicom\n",
        "ds = dicom.dcmread('data/Normal Cases/normal074/IM0108.dcm')\n",
        "x=np.array(ds.pixel_array)\n",
        "print(x.max(),x.min())\n",
        "x = cv2.convertScaleAbs(x)\n",
        "print(x.max(),x.min())\n",
        "plt.imshow(x,cmap='gray')"
      ],
      "execution_count": 12,
      "outputs": [
        {
          "output_type": "stream",
          "text": [
            "2319 0\n",
            "255 0\n"
          ],
          "name": "stdout"
        },
        {
          "output_type": "execute_result",
          "data": {
            "text/plain": [
              "<matplotlib.image.AxesImage at 0x7f201e4bdb10>"
            ]
          },
          "metadata": {
            "tags": []
          },
          "execution_count": 12
        },
        {
          "output_type": "display_data",
          "data": {
            "image/png": "[encoded data removed]",
            "text/plain": [
              "<Figure size 432x288 with 1 Axes>"
            ]
          },
          "metadata": {
            "tags": [],
            "needs_background": "light"
          }
        }
      ]
    },
    {
      "cell_type": "code",
      "metadata": {
        "id": "aRHAimpNG7ak",
        "outputId": "6e196a6a-44c1-40f0-ad3d-dcf77bffb01c",
        "colab": {
          "base_uri": "https://localhost:8080/",
          "height": 304
        }
      },
      "source": [
        "from PIL import Image\n",
        "dcm_img = dicom.dcmread('data/Normal Cases/normal074/IM0108.dcm').pixel_array\n",
        "#dcm_img = Image.fromarray(dcm_img)\n",
        "print(np.max(dcm_img),np.min(dcm_img))\n",
        "plt.imshow(dcm_img,cmap='gray')"
      ],
      "execution_count": 37,
      "outputs": [
        {
          "output_type": "stream",
          "text": [
            "2319 0\n"
          ],
          "name": "stdout"
        },
        {
          "output_type": "execute_result",
          "data": {
            "text/plain": [
              "<matplotlib.image.AxesImage at 0x7f2009946e50>"
            ]
          },
          "metadata": {
            "tags": []
          },
          "execution_count": 37
        },
        {
          "output_type": "display_data",
          "data": {
            "image/png": "[encoded data removed]",
            "text/plain": [
              "<Figure size 432x288 with 1 Axes>"
            ]
          },
          "metadata": {
            "tags": [],
            "needs_background": "light"
          }
        }
      ]
    },
    {
      "cell_type": "code",
      "metadata": {
        "id": "BuRWyOL7L_W_",
        "outputId": "fe9e2d33-2a76-4843-c571-62aaac7e6d29",
        "colab": {
          "base_uri": "https://localhost:8080/",
          "height": 322
        }
      },
      "source": [
        "x=np.array(dcm_img)\n",
        "x=(x-x.min())/(x.max()-x.min())\n",
        "print('max min ',np.max(x),np.min(x))\n",
        "print('dtype',x.dtype)\n",
        "plt.imshow(x,cmap='gray')"
      ],
      "execution_count": 38,
      "outputs": [
        {
          "output_type": "stream",
          "text": [
            "max min  1.0 0.0\n",
            "dtype float64\n"
          ],
          "name": "stdout"
        },
        {
          "output_type": "execute_result",
          "data": {
            "text/plain": [
              "<matplotlib.image.AxesImage at 0x7f2009bbead0>"
            ]
          },
          "metadata": {
            "tags": []
          },
          "execution_count": 38
        },
        {
          "output_type": "display_data",
          "data": {
            "image/png": "[encoded data removed]",
            "text/plain": [
              "<Figure size 432x288 with 1 Axes>"
            ]
          },
          "metadata": {
            "tags": [],
            "needs_background": "light"
          }
        }
      ]
    },
    {
      "cell_type": "code",
      "metadata": {
        "id": "k6OZj-uuND-g"
      },
      "source": [
        ""
      ],
      "execution_count": 14,
      "outputs": []
    },
    {
      "cell_type": "code",
      "metadata": {
        "id": "9_5_J2gkGVc4"
      },
      "source": [
        "# avg,stdd=[],[]\n",
        "# for _ in range(len(train_df)//25):\n",
        "#   x = dicom.dcmread(train_df.sample(1).image.values[0]).pixel_array\n",
        "#   x= Image.fromarray(image)  \n",
        "\n",
        "#   avg.append(np.mean(x))\n",
        "#   stdd.append(np.std(x))\n",
        "# m,s=np.mean(avg),np.mean(stdd)\n",
        "# print(m,s)"
      ],
      "execution_count": 15,
      "outputs": []
    },
    {
      "cell_type": "code",
      "metadata": {
        "colab": {
          "base_uri": "https://localhost:8080/",
          "height": 35
        },
        "id": "5WDSHP2vytp5",
        "outputId": "314e9dc8-e02d-4b5e-d862-8994f558a01a"
      },
      "source": [
        "'''\n",
        "This code work for 2D slices of 3D.\n",
        "It load it into the dataframe\n",
        "'''"
      ],
      "execution_count": 16,
      "outputs": [
        {
          "output_type": "execute_result",
          "data": {
            "application/vnd.google.colaboratory.intrinsic+json": {
              "type": "string"
            },
            "text/plain": [
              "'\\nThis code work for 2D slices of 3D.\\nIt load it into the dataframe\\n'"
            ]
          },
          "metadata": {
            "tags": []
          },
          "execution_count": 16
        }
      ]
    },
    {
      "cell_type": "code",
      "metadata": {
        "id": "27YeWNK01T0a"
      },
      "source": [
        "def flatten(path,label=None):\n",
        "  '''\n",
        "  flatten list to single list\n",
        "  path: images path in a list\n",
        "  label: corresponding label in list\n",
        "  '''\n",
        "  path = [item for sublist in path for item in sublist]\n",
        "  label = [item for sublist in label for item in sublist]\n",
        "  return path, label"
      ],
      "execution_count": 17,
      "outputs": []
    },
    {
      "cell_type": "code",
      "metadata": {
        "id": "1T7FYknPH94Y"
      },
      "source": [
        "def prepare_data(path='data',split=True,createDF=True):\n",
        "  '''\n",
        "  read data as dataframe \n",
        "  path: path of main directory in which classes are present\n",
        "  split: split data to train and val\n",
        "  convertDF: create dataframe or return list\n",
        "  '''\n",
        "  main_path=glob(path+'/*/')\n",
        "  image_paths,image_labels=[],[]\n",
        "  for class_folder in main_path: #iterate class folder\n",
        "    for subject_folder in glob(class_folder+'*/'):#iterate subject folder\n",
        "      subjects_paths,subject_labels=[],[]\n",
        "      for img in glob(subject_folder+'/*.dcm'):#loop all images in subject folder\n",
        "        subjects_paths.append(img)\n",
        "        subject_labels.append(class_folder.split('/')[-2])\n",
        "      image_paths.append(subjects_paths)\n",
        "      image_labels.append(subject_labels)\n",
        "  if split:\n",
        "    train_path,val_path,train_label,val_label=train_test_split(image_paths,image_labels,test_size=0.2)\n",
        "    train_path,train_label=flatten(train_path,train_label)\n",
        "    val_path,val_label=flatten(val_path,val_label)\n",
        "    if createDF:\n",
        "      train_df=pd.DataFrame(zip(train_path,train_label),columns=['image','label'])\n",
        "      val_df=pd.DataFrame(zip(val_path,val_label),columns=['image','label'])\n",
        "      return train_df,val_df\n",
        "    else:\n",
        "      return train_path,val_path,train_label,val_label\n",
        "  else:\n",
        "    if createDF:\n",
        "      image_paths,image_labels=flatten(image_paths,image_labels)\n",
        "      df=pd.DataFrame(zip(image_paths,image_labels),columns=['image','label'])\n",
        "      return \n",
        "    else:\n",
        "      return image_paths,image_labels"
      ],
      "execution_count": 18,
      "outputs": []
    },
    {
      "cell_type": "code",
      "metadata": {
        "id": "IOBdYRM4MybM"
      },
      "source": [
        "train_df,val_df=prepare_data(split=True,createDF=True)"
      ],
      "execution_count": 19,
      "outputs": []
    },
    {
      "cell_type": "code",
      "metadata": {
        "id": "DvK2h7bhYQaF"
      },
      "source": [
        "encode={k:v for v,k in enumerate(train_df.label.unique())}\n",
        "decode={v:k for v,k in enumerate(train_df.label.unique())}"
      ],
      "execution_count": 20,
      "outputs": []
    },
    {
      "cell_type": "code",
      "metadata": {
        "colab": {
          "base_uri": "https://localhost:8080/",
          "height": 199
        },
        "id": "Fw-z8rOGYSfC",
        "outputId": "7cbedb4e-e218-4c7a-9e53-85b04418e908"
      },
      "source": [
        "train_df.label=train_df.label.map(encode)\n",
        "train_df.head()"
      ],
      "execution_count": 21,
      "outputs": [
        {
          "output_type": "execute_result",
          "data": {
            "text/html": [
              "<div>\n",
              "<style scoped>\n",
              "    .dataframe tbody tr th:only-of-type {\n",
              "        vertical-align: middle;\n",
              "    }\n",
              "\n",
              "    .dataframe tbody tr th {\n",
              "        vertical-align: top;\n",
              "    }\n",
              "\n",
              "    .dataframe thead th {\n",
              "        text-align: right;\n",
              "    }\n",
              "</style>\n",
              "<table border=\"1\" class=\"dataframe\">\n",
              "  <thead>\n",
              "    <tr style=\"text-align: right;\">\n",
              "      <th></th>\n",
              "      <th>image</th>\n",
              "      <th>label</th>\n",
              "    </tr>\n",
              "  </thead>\n",
              "  <tbody>\n",
              "    <tr>\n",
              "      <th>0</th>\n",
              "      <td>data/COVID-19 Cases/P120/IM0106.dcm</td>\n",
              "      <td>0</td>\n",
              "    </tr>\n",
              "    <tr>\n",
              "      <th>1</th>\n",
              "      <td>data/COVID-19 Cases/P120/IM0011.dcm</td>\n",
              "      <td>0</td>\n",
              "    </tr>\n",
              "    <tr>\n",
              "      <th>2</th>\n",
              "      <td>data/COVID-19 Cases/P120/IM0108.dcm</td>\n",
              "      <td>0</td>\n",
              "    </tr>\n",
              "    <tr>\n",
              "      <th>3</th>\n",
              "      <td>data/COVID-19 Cases/P120/IM0098.dcm</td>\n",
              "      <td>0</td>\n",
              "    </tr>\n",
              "    <tr>\n",
              "      <th>4</th>\n",
              "      <td>data/COVID-19 Cases/P120/IM0112.dcm</td>\n",
              "      <td>0</td>\n",
              "    </tr>\n",
              "  </tbody>\n",
              "</table>\n",
              "</div>"
            ],
            "text/plain": [
              "                                 image  label\n",
              "0  data/COVID-19 Cases/P120/IM0106.dcm      0\n",
              "1  data/COVID-19 Cases/P120/IM0011.dcm      0\n",
              "2  data/COVID-19 Cases/P120/IM0108.dcm      0\n",
              "3  data/COVID-19 Cases/P120/IM0098.dcm      0\n",
              "4  data/COVID-19 Cases/P120/IM0112.dcm      0"
            ]
          },
          "metadata": {
            "tags": []
          },
          "execution_count": 21
        }
      ]
    },
    {
      "cell_type": "code",
      "metadata": {
        "id": "FyvDz5vjAmno",
        "outputId": "f0ac9d53-2832-45ea-c591-b3d8cc4d87c8",
        "colab": {
          "base_uri": "https://localhost:8080/",
          "height": 199
        }
      },
      "source": [
        "gdf=train_df.image.str.split('/',expand=True)\n",
        "gdf.head()"
      ],
      "execution_count": 22,
      "outputs": [
        {
          "output_type": "execute_result",
          "data": {
            "text/html": [
              "<div>\n",
              "<style scoped>\n",
              "    .dataframe tbody tr th:only-of-type {\n",
              "        vertical-align: middle;\n",
              "    }\n",
              "\n",
              "    .dataframe tbody tr th {\n",
              "        vertical-align: top;\n",
              "    }\n",
              "\n",
              "    .dataframe thead th {\n",
              "        text-align: right;\n",
              "    }\n",
              "</style>\n",
              "<table border=\"1\" class=\"dataframe\">\n",
              "  <thead>\n",
              "    <tr style=\"text-align: right;\">\n",
              "      <th></th>\n",
              "      <th>0</th>\n",
              "      <th>1</th>\n",
              "      <th>2</th>\n",
              "      <th>3</th>\n",
              "    </tr>\n",
              "  </thead>\n",
              "  <tbody>\n",
              "    <tr>\n",
              "      <th>0</th>\n",
              "      <td>data</td>\n",
              "      <td>COVID-19 Cases</td>\n",
              "      <td>P120</td>\n",
              "      <td>IM0106.dcm</td>\n",
              "    </tr>\n",
              "    <tr>\n",
              "      <th>1</th>\n",
              "      <td>data</td>\n",
              "      <td>COVID-19 Cases</td>\n",
              "      <td>P120</td>\n",
              "      <td>IM0011.dcm</td>\n",
              "    </tr>\n",
              "    <tr>\n",
              "      <th>2</th>\n",
              "      <td>data</td>\n",
              "      <td>COVID-19 Cases</td>\n",
              "      <td>P120</td>\n",
              "      <td>IM0108.dcm</td>\n",
              "    </tr>\n",
              "    <tr>\n",
              "      <th>3</th>\n",
              "      <td>data</td>\n",
              "      <td>COVID-19 Cases</td>\n",
              "      <td>P120</td>\n",
              "      <td>IM0098.dcm</td>\n",
              "    </tr>\n",
              "    <tr>\n",
              "      <th>4</th>\n",
              "      <td>data</td>\n",
              "      <td>COVID-19 Cases</td>\n",
              "      <td>P120</td>\n",
              "      <td>IM0112.dcm</td>\n",
              "    </tr>\n",
              "  </tbody>\n",
              "</table>\n",
              "</div>"
            ],
            "text/plain": [
              "      0               1     2           3\n",
              "0  data  COVID-19 Cases  P120  IM0106.dcm\n",
              "1  data  COVID-19 Cases  P120  IM0011.dcm\n",
              "2  data  COVID-19 Cases  P120  IM0108.dcm\n",
              "3  data  COVID-19 Cases  P120  IM0098.dcm\n",
              "4  data  COVID-19 Cases  P120  IM0112.dcm"
            ]
          },
          "metadata": {
            "tags": []
          },
          "execution_count": 22
        }
      ]
    },
    {
      "cell_type": "code",
      "metadata": {
        "id": "tRKAvCZvA9b6",
        "outputId": "7c15ad30-8acd-4000-8c24-e973dea21e18",
        "colab": {
          "base_uri": "https://localhost:8080/"
        }
      },
      "source": [
        "gdf.groupby(2).size()"
      ],
      "execution_count": 23,
      "outputs": [
        {
          "output_type": "execute_result",
          "data": {
            "text/plain": [
              "2\n",
              "P001         148\n",
              "P002         133\n",
              "P003         134\n",
              "P004         164\n",
              "P005         144\n",
              "            ... \n",
              "normal070    176\n",
              "normal071    145\n",
              "normal072    152\n",
              "normal075    159\n",
              "normal076    171\n",
              "Length: 244, dtype: int64"
            ]
          },
          "metadata": {
            "tags": []
          },
          "execution_count": 23
        }
      ]
    },
    {
      "cell_type": "code",
      "metadata": {
        "colab": {
          "base_uri": "https://localhost:8080/",
          "height": 199
        },
        "id": "gA_AD4Z0Ze2p",
        "outputId": "8409e304-e18b-4bff-c906-9adb51470b9c"
      },
      "source": [
        "val_df.label=val_df.label.map(encode)\n",
        "val_df.head()"
      ],
      "execution_count": 24,
      "outputs": [
        {
          "output_type": "execute_result",
          "data": {
            "text/html": [
              "<div>\n",
              "<style scoped>\n",
              "    .dataframe tbody tr th:only-of-type {\n",
              "        vertical-align: middle;\n",
              "    }\n",
              "\n",
              "    .dataframe tbody tr th {\n",
              "        vertical-align: top;\n",
              "    }\n",
              "\n",
              "    .dataframe thead th {\n",
              "        text-align: right;\n",
              "    }\n",
              "</style>\n",
              "<table border=\"1\" class=\"dataframe\">\n",
              "  <thead>\n",
              "    <tr style=\"text-align: right;\">\n",
              "      <th></th>\n",
              "      <th>image</th>\n",
              "      <th>label</th>\n",
              "    </tr>\n",
              "  </thead>\n",
              "  <tbody>\n",
              "    <tr>\n",
              "      <th>0</th>\n",
              "      <td>data/Normal Cases/normal032/IM0106.dcm</td>\n",
              "      <td>2</td>\n",
              "    </tr>\n",
              "    <tr>\n",
              "      <th>1</th>\n",
              "      <td>data/Normal Cases/normal032/IM0011.dcm</td>\n",
              "      <td>2</td>\n",
              "    </tr>\n",
              "    <tr>\n",
              "      <th>2</th>\n",
              "      <td>data/Normal Cases/normal032/IM0108.dcm</td>\n",
              "      <td>2</td>\n",
              "    </tr>\n",
              "    <tr>\n",
              "      <th>3</th>\n",
              "      <td>data/Normal Cases/normal032/IM0098.dcm</td>\n",
              "      <td>2</td>\n",
              "    </tr>\n",
              "    <tr>\n",
              "      <th>4</th>\n",
              "      <td>data/Normal Cases/normal032/IM0112.dcm</td>\n",
              "      <td>2</td>\n",
              "    </tr>\n",
              "  </tbody>\n",
              "</table>\n",
              "</div>"
            ],
            "text/plain": [
              "                                    image  label\n",
              "0  data/Normal Cases/normal032/IM0106.dcm      2\n",
              "1  data/Normal Cases/normal032/IM0011.dcm      2\n",
              "2  data/Normal Cases/normal032/IM0108.dcm      2\n",
              "3  data/Normal Cases/normal032/IM0098.dcm      2\n",
              "4  data/Normal Cases/normal032/IM0112.dcm      2"
            ]
          },
          "metadata": {
            "tags": []
          },
          "execution_count": 24
        }
      ]
    },
    {
      "cell_type": "code",
      "metadata": {
        "colab": {
          "base_uri": "https://localhost:8080/"
        },
        "id": "CIOR85tLOEld",
        "outputId": "6b99da41-e340-46bd-f09a-0fe7f5c40b4d"
      },
      "source": [
        "from pytorch_lightning import seed_everything, LightningModule, Trainer\n",
        "from pytorch_lightning.callbacks import EarlyStopping,ModelCheckpoint\n",
        "from torch.nn.functional import cross_entropy\n",
        "from sklearn.utils import class_weight\n",
        "from torchvision import transforms \n",
        "import torchvision.models as models\n",
        "import torchmetrics\n",
        "import torch#pytorch\n",
        "from sklearn.utils import class_weight\n"
      ],
      "execution_count": 25,
      "outputs": [
        {
          "output_type": "stream",
          "text": [
            "WARNING:root:TPU has started up successfully with version pytorch-1.9\n"
          ],
          "name": "stderr"
        }
      ]
    },
    {
      "cell_type": "code",
      "metadata": {
        "id": "TZTQ0Kg1VP1r",
        "outputId": "e3c30247-a362-4e95-99e9-15d15245770b",
        "colab": {
          "base_uri": "https://localhost:8080/"
        }
      },
      "source": [
        "\n",
        "\n",
        "from albumentations import *\n",
        "\n",
        "from albumentations.pytorch import ToTensorV2\n",
        "\n",
        "def augmentation1():\n",
        "    \"\"\"albumentations image augmentation\"\"\"\n",
        "    return Compose([\n",
        "            Resize(224, 224),\n",
        "            HorizontalFlip(p=0.5),\n",
        "            VerticalFlip(p=0.5),\n",
        "            ShiftScaleRotate(0.05,0.05,5), \n",
        "            OpticalDistortion(),\n",
        "            Cutout(p=0.5),\n",
        "            ToTensorV2(p=1.0),\n",
        "        ], p=1.)\n",
        "aug=augmentation1()"
      ],
      "execution_count": 84,
      "outputs": [
        {
          "output_type": "stream",
          "text": [
            "/usr/local/lib/python3.7/dist-packages/albumentations/augmentations/transforms.py:645: FutureWarning: This class has been deprecated. Please use CoarseDropout\n",
            "  FutureWarning,\n"
          ],
          "name": "stderr"
        }
      ]
    },
    {
      "cell_type": "code",
      "metadata": {
        "id": "mCYihLGQO6ru"
      },
      "source": [
        "\n",
        "from torch.utils.data import DataLoader, Dataset\n",
        "class DataReader(Dataset):\n",
        "  def __init__(self,df,transform=None):\n",
        "    super(DataReader,self).__init__()\n",
        "    self.df=df\n",
        "    self.transform=transform\n",
        "\n",
        "  def __len__(self):\n",
        "    return len(self.df)\n",
        "\n",
        "  def __getitem__(self,index):\n",
        "    image_path=self.df.image[index]\n",
        "    image_label=self.df.label[index]\n",
        "\n",
        "    #read data\n",
        "    image = dicom.dcmread(image_path).pixel_array\n",
        "\n",
        "    image=(x-x.min())/(x.max()-x.min())\n",
        "\n",
        "    \n",
        "    if self.transform:\n",
        "      image=self.transform(image=image)['image']\n",
        "    return image,image_label"
      ],
      "execution_count": 85,
      "outputs": []
    },
    {
      "cell_type": "code",
      "metadata": {
        "id": "rlFbtgPXPqbV",
        "colab": {
          "base_uri": "https://localhost:8080/",
          "height": 255
        },
        "outputId": "a6e840ed-84c2-4388-fd5d-7b39e840acc7"
      },
      "source": [
        "#testing above code\n",
        "batch=next(iter(DataLoader(DataReader(train_df,aug), batch_size = 8, num_workers=1,shuffle=True)))\n",
        "print(batch[0][0].shape)\n",
        "\n",
        "from torch.utils.data.dataloader import DataLoader\n",
        "import torchvision\n",
        "import matplotlib.pyplot as plt\n",
        "grid_img=torchvision.utils.make_grid(batch[0],4,4)\n",
        "plt.imshow(grid_img.permute(1, 2, 0))"
      ],
      "execution_count": 86,
      "outputs": [
        {
          "output_type": "stream",
          "text": [
            "torch.Size([1, 224, 224])\n"
          ],
          "name": "stdout"
        },
        {
          "output_type": "execute_result",
          "data": {
            "text/plain": [
              "<matplotlib.image.AxesImage at 0x7f2008c66c10>"
            ]
          },
          "metadata": {
            "tags": []
          },
          "execution_count": 86
        },
        {
          "output_type": "display_data",
          "data": {
            "image/png": "[encoded data removed]",
            "text/plain": [
              "<Figure size 432x288 with 1 Axes>"
            ]
          },
          "metadata": {
            "tags": [],
            "needs_background": "light"
          }
        }
      ]
    },
    {
      "cell_type": "code",
      "metadata": {
        "id": "rDkZZ4SSa0LR",
        "cellView": "form"
      },
      "source": [
        "#@title\n",
        "import torch\n",
        "from torch import Tensor\n",
        "import torch.nn as nn\n",
        "from typing import Type, Any, Callable, Union, List, Optional\n",
        "\n",
        "\n",
        "__all__ = ['ResNet', 'resnet18', 'resnet34', 'resnet50', 'resnet101',\n",
        "           'resnet152', 'resnext50_32x4d', 'resnext101_32x8d',\n",
        "           'wide_resnet50_2', 'wide_resnet101_2']\n",
        "\n",
        "\n",
        "model_urls = {\n",
        "    'resnet18': 'https://download.pytorch.org/models/resnet18-f37072fd.pth',\n",
        "    'resnet34': 'https://download.pytorch.org/models/resnet34-b627a593.pth',\n",
        "    'resnet50': 'https://download.pytorch.org/models/resnet50-0676ba61.pth',\n",
        "    'resnet101': 'https://download.pytorch.org/models/resnet101-63fe2227.pth',\n",
        "    'resnet152': 'https://download.pytorch.org/models/resnet152-394f9c45.pth',\n",
        "    'resnext50_32x4d': 'https://download.pytorch.org/models/resnext50_32x4d-7cdf4587.pth',\n",
        "    'resnext101_32x8d': 'https://download.pytorch.org/models/resnext101_32x8d-8ba56ff5.pth',\n",
        "    'wide_resnet50_2': 'https://download.pytorch.org/models/wide_resnet50_2-95faca4d.pth',\n",
        "    'wide_resnet101_2': 'https://download.pytorch.org/models/wide_resnet101_2-32ee1156.pth',\n",
        "}\n",
        "\n",
        "\n",
        "def conv3x3(in_planes: int, out_planes: int, stride: int = 1, groups: int = 1, dilation: int = 1) -> nn.Conv2d:\n",
        "    \"\"\"3x3 convolution with padding\"\"\"\n",
        "    return nn.Conv2d(in_planes, out_planes, kernel_size=3, stride=stride,\n",
        "                     padding=dilation, groups=groups, bias=False, dilation=dilation)\n",
        "\n",
        "\n",
        "def conv1x1(in_planes: int, out_planes: int, stride: int = 1) -> nn.Conv2d:\n",
        "    \"\"\"1x1 convolution\"\"\"\n",
        "    return nn.Conv2d(in_planes, out_planes, kernel_size=1, stride=stride, bias=False)\n",
        "\n",
        "\n",
        "class BasicBlock(nn.Module):\n",
        "    expansion: int = 1\n",
        "\n",
        "    def __init__(\n",
        "        self,\n",
        "        inplanes: int,\n",
        "        planes: int,\n",
        "        stride: int = 1,\n",
        "        downsample: Optional[nn.Module] = None,\n",
        "        groups: int = 1,\n",
        "        base_width: int = 64,\n",
        "        dilation: int = 1,\n",
        "        norm_layer: Optional[Callable[..., nn.Module]] = None\n",
        "    ) -> None:\n",
        "        super(BasicBlock, self).__init__()\n",
        "        if norm_layer is None:\n",
        "            norm_layer = nn.BatchNorm2d\n",
        "        if groups != 1 or base_width != 64:\n",
        "            raise ValueError('BasicBlock only supports groups=1 and base_width=64')\n",
        "        if dilation > 1:\n",
        "            raise NotImplementedError(\"Dilation > 1 not supported in BasicBlock\")\n",
        "        # Both self.conv1 and self.downsample layers downsample the input when stride != 1\n",
        "        self.conv1 = conv3x3(inplanes, planes, stride)\n",
        "        self.bn1 = norm_layer(planes)\n",
        "        self.relu = nn.ReLU(inplace=True)\n",
        "        self.conv2 = conv3x3(planes, planes)\n",
        "        self.bn2 = norm_layer(planes)\n",
        "        self.downsample = downsample\n",
        "        self.stride = stride\n",
        "\n",
        "    def forward(self, x: Tensor) -> Tensor:\n",
        "        identity = x\n",
        "\n",
        "        out = self.conv1(x)\n",
        "        out = self.bn1(out)\n",
        "        out = self.relu(out)\n",
        "\n",
        "        out = self.conv2(out)\n",
        "        out = self.bn2(out)\n",
        "\n",
        "        if self.downsample is not None:\n",
        "            identity = self.downsample(x)\n",
        "\n",
        "        out += identity\n",
        "        out = self.relu(out)\n",
        "\n",
        "        return out\n",
        "\n",
        "\n",
        "class Bottleneck(nn.Module):\n",
        "    # Bottleneck in torchvision places the stride for downsampling at 3x3 convolution(self.conv2)\n",
        "    # while original implementation places the stride at the first 1x1 convolution(self.conv1)\n",
        "    # according to \"Deep residual learning for image recognition\"https://arxiv.org/abs/1512.03385.\n",
        "    # This variant is also known as ResNet V1.5 and improves accuracy according to\n",
        "    # https://ngc.nvidia.com/catalog/model-scripts/nvidia:resnet_50_v1_5_for_pytorch.\n",
        "\n",
        "    expansion: int = 4\n",
        "\n",
        "    def __init__(\n",
        "        self,\n",
        "        inplanes: int,\n",
        "        planes: int,\n",
        "        stride: int = 1,\n",
        "        downsample: Optional[nn.Module] = None,\n",
        "        groups: int = 1,\n",
        "        base_width: int = 64,\n",
        "        dilation: int = 1,\n",
        "        norm_layer: Optional[Callable[..., nn.Module]] = None\n",
        "    ) -> None:\n",
        "        super(Bottleneck, self).__init__()\n",
        "        if norm_layer is None:\n",
        "            norm_layer = nn.BatchNorm2d\n",
        "        width = int(planes * (base_width / 64.)) * groups\n",
        "        # Both self.conv2 and self.downsample layers downsample the input when stride != 1\n",
        "        self.conv1 = conv1x1(inplanes, width)\n",
        "        self.bn1 = norm_layer(width)\n",
        "        self.conv2 = conv3x3(width, width, stride, groups, dilation)\n",
        "        self.bn2 = norm_layer(width)\n",
        "        self.conv3 = conv1x1(width, planes * self.expansion)\n",
        "        self.bn3 = norm_layer(planes * self.expansion)\n",
        "        self.relu = nn.ReLU(inplace=True)\n",
        "        self.downsample = downsample\n",
        "        self.stride = stride\n",
        "\n",
        "    def forward(self, x: Tensor) -> Tensor:\n",
        "        identity = x\n",
        "\n",
        "        out = self.conv1(x)\n",
        "        out = self.bn1(out)\n",
        "        out = self.relu(out)\n",
        "\n",
        "        out = self.conv2(out)\n",
        "        out = self.bn2(out)\n",
        "        out = self.relu(out)\n",
        "\n",
        "        out = self.conv3(out)\n",
        "        out = self.bn3(out)\n",
        "\n",
        "        if self.downsample is not None:\n",
        "            identity = self.downsample(x)\n",
        "\n",
        "        out += identity\n",
        "        out = self.relu(out)\n",
        "\n",
        "        return out\n",
        "\n",
        "\n",
        "class ResNet(nn.Module):\n",
        "\n",
        "    def __init__(\n",
        "        self,\n",
        "        block: Type[Union[BasicBlock, Bottleneck]],\n",
        "        layers: List[int],\n",
        "        num_classes: int = 1000,\n",
        "        zero_init_residual: bool = False,\n",
        "        groups: int = 1,\n",
        "        width_per_group: int = 64,\n",
        "        replace_stride_with_dilation: Optional[List[bool]] = None,\n",
        "        norm_layer: Optional[Callable[..., nn.Module]] = None\n",
        "    ) -> None:\n",
        "        super(ResNet, self).__init__()\n",
        "        if norm_layer is None:\n",
        "            norm_layer = nn.BatchNorm2d\n",
        "        self._norm_layer = norm_layer\n",
        "\n",
        "        self.inplanes = 64\n",
        "        self.dilation = 1\n",
        "        if replace_stride_with_dilation is None:\n",
        "            # each element in the tuple indicates if we should replace\n",
        "            # the 2x2 stride with a dilated convolution instead\n",
        "            replace_stride_with_dilation = [False, False, False]\n",
        "        if len(replace_stride_with_dilation) != 3:\n",
        "            raise ValueError(\"replace_stride_with_dilation should be None \"\n",
        "                             \"or a 3-element tuple, got {}\".format(replace_stride_with_dilation))\n",
        "        self.groups = groups\n",
        "        self.base_width = width_per_group\n",
        "        self.conv1 = nn.Conv2d(1, self.inplanes, kernel_size=7, stride=2, padding=3,\n",
        "                               bias=False)\n",
        "        self.bn1 = norm_layer(self.inplanes)\n",
        "        self.relu = nn.ReLU(inplace=True)\n",
        "        self.maxpool = nn.MaxPool2d(kernel_size=3, stride=2, padding=1)\n",
        "        self.layer1 = self._make_layer(block, 64, layers[0])\n",
        "        self.layer2 = self._make_layer(block, 128, layers[1], stride=2,\n",
        "                                       dilate=replace_stride_with_dilation[0])\n",
        "        self.layer3 = self._make_layer(block, 256, layers[2], stride=2,\n",
        "                                       dilate=replace_stride_with_dilation[1])\n",
        "        self.layer4 = self._make_layer(block, 512, layers[3], stride=2,\n",
        "                                       dilate=replace_stride_with_dilation[2])\n",
        "        self.avgpool = nn.AdaptiveAvgPool2d((1, 1))\n",
        "        self.fc = nn.Linear(512 * block.expansion, num_classes)\n",
        "\n",
        "        for m in self.modules():\n",
        "            if isinstance(m, nn.Conv2d):\n",
        "                nn.init.kaiming_normal_(m.weight, mode='fan_out', nonlinearity='relu')\n",
        "            elif isinstance(m, (nn.BatchNorm2d, nn.GroupNorm)):\n",
        "                nn.init.constant_(m.weight, 1)\n",
        "                nn.init.constant_(m.bias, 0)\n",
        "\n",
        "        # Zero-initialize the last BN in each residual branch,\n",
        "        # so that the residual branch starts with zeros, and each residual block behaves like an identity.\n",
        "        # This improves the model by 0.2~0.3% according to https://arxiv.org/abs/1706.02677\n",
        "        if zero_init_residual:\n",
        "            for m in self.modules():\n",
        "                if isinstance(m, Bottleneck):\n",
        "                    nn.init.constant_(m.bn3.weight, 0)  # type: ignore[arg-type]\n",
        "                elif isinstance(m, BasicBlock):\n",
        "                    nn.init.constant_(m.bn2.weight, 0)  # type: ignore[arg-type]\n",
        "\n",
        "    def _make_layer(self, block: Type[Union[BasicBlock, Bottleneck]], planes: int, blocks: int,\n",
        "                    stride: int = 1, dilate: bool = False) -> nn.Sequential:\n",
        "        norm_layer = self._norm_layer\n",
        "        downsample = None\n",
        "        previous_dilation = self.dilation\n",
        "        if dilate:\n",
        "            self.dilation *= stride\n",
        "            stride = 1\n",
        "        if stride != 1 or self.inplanes != planes * block.expansion:\n",
        "            downsample = nn.Sequential(\n",
        "                conv1x1(self.inplanes, planes * block.expansion, stride),\n",
        "                norm_layer(planes * block.expansion),\n",
        "            )\n",
        "\n",
        "        layers = []\n",
        "        layers.append(block(self.inplanes, planes, stride, downsample, self.groups,\n",
        "                            self.base_width, previous_dilation, norm_layer))\n",
        "        self.inplanes = planes * block.expansion\n",
        "        for _ in range(1, blocks):\n",
        "            layers.append(block(self.inplanes, planes, groups=self.groups,\n",
        "                                base_width=self.base_width, dilation=self.dilation,\n",
        "                                norm_layer=norm_layer))\n",
        "\n",
        "        return nn.Sequential(*layers)\n",
        "\n",
        "    def _forward_impl(self, x: Tensor) -> Tensor:\n",
        "        # See note [TorchScript super()]\n",
        "        x = self.conv1(x)\n",
        "        x = self.bn1(x)\n",
        "        x = self.relu(x)\n",
        "        x = self.maxpool(x)\n",
        "\n",
        "        x = self.layer1(x)\n",
        "        x = self.layer2(x)\n",
        "        x = self.layer3(x)\n",
        "        x = self.layer4(x)\n",
        "\n",
        "        x = self.avgpool(x)\n",
        "        x = torch.flatten(x, 1)\n",
        "        x = self.fc(x)\n",
        "\n",
        "        return x\n",
        "\n",
        "    def forward(self, x: Tensor) -> Tensor:\n",
        "        return self._forward_impl(x)\n",
        "\n",
        "\n",
        "def _resnet(\n",
        "    arch: str,\n",
        "    block: Type[Union[BasicBlock, Bottleneck]],\n",
        "    layers: List[int],\n",
        "    pretrained: bool,\n",
        "    progress: bool,\n",
        "    **kwargs: Any\n",
        ") -> ResNet:\n",
        "    model = ResNet(block, layers, **kwargs)\n",
        "    if pretrained:\n",
        "        state_dict = load_state_dict_from_url(model_urls[arch],\n",
        "                                              progress=progress)\n",
        "        model.load_state_dict(state_dict)\n",
        "    return model\n",
        "\n",
        "\n",
        "def resnet18(pretrained: bool = False, progress: bool = True, **kwargs: Any) -> ResNet:\n",
        "    r\"\"\"ResNet-18 model from\n",
        "    `\"Deep Residual Learning for Image Recognition\" <https://arxiv.org/pdf/1512.03385.pdf>`_.\n",
        "\n",
        "    Args:\n",
        "        pretrained (bool): If True, returns a model pre-trained on ImageNet\n",
        "        progress (bool): If True, displays a progress bar of the download to stderr\n",
        "    \"\"\"\n",
        "    return _resnet('resnet18', BasicBlock, [2, 2, 2, 2], pretrained, progress,\n",
        "                   **kwargs)\n",
        "\n",
        "\n",
        "def resnet34(pretrained: bool = False, progress: bool = True, **kwargs: Any) -> ResNet:\n",
        "    r\"\"\"ResNet-34 model from\n",
        "    `\"Deep Residual Learning for Image Recognition\" <https://arxiv.org/pdf/1512.03385.pdf>`_.\n",
        "\n",
        "    Args:\n",
        "        pretrained (bool): If True, returns a model pre-trained on ImageNet\n",
        "        progress (bool): If True, displays a progress bar of the download to stderr\n",
        "    \"\"\"\n",
        "    return _resnet('resnet34', BasicBlock, [3, 4, 6, 3], pretrained, progress,\n",
        "                   **kwargs)\n",
        "\n",
        "\n",
        "def resnet50(pretrained: bool = False, progress: bool = True, **kwargs: Any) -> ResNet:\n",
        "    r\"\"\"ResNet-50 model from\n",
        "    `\"Deep Residual Learning for Image Recognition\" <https://arxiv.org/pdf/1512.03385.pdf>`_.\n",
        "\n",
        "    Args:\n",
        "        pretrained (bool): If True, returns a model pre-trained on ImageNet\n",
        "        progress (bool): If True, displays a progress bar of the download to stderr\n",
        "    \"\"\"\n",
        "    return _resnet('resnet50', Bottleneck, [3, 4, 6, 3], pretrained, progress,\n",
        "                   **kwargs)\n",
        "\n",
        "\n",
        "def resnet101(pretrained: bool = False, progress: bool = True, **kwargs: Any) -> ResNet:\n",
        "    r\"\"\"ResNet-101 model from\n",
        "    `\"Deep Residual Learning for Image Recognition\" <https://arxiv.org/pdf/1512.03385.pdf>`_.\n",
        "\n",
        "    Args:\n",
        "        pretrained (bool): If True, returns a model pre-trained on ImageNet\n",
        "        progress (bool): If True, displays a progress bar of the download to stderr\n",
        "    \"\"\"\n",
        "    return _resnet('resnet101', Bottleneck, [3, 4, 23, 3], pretrained, progress,\n",
        "                   **kwargs)\n",
        "\n",
        "\n",
        "def resnet152(pretrained: bool = False, progress: bool = True, **kwargs: Any) -> ResNet:\n",
        "    r\"\"\"ResNet-152 model from\n",
        "    `\"Deep Residual Learning for Image Recognition\" <https://arxiv.org/pdf/1512.03385.pdf>`_.\n",
        "\n",
        "    Args:\n",
        "        pretrained (bool): If True, returns a model pre-trained on ImageNet\n",
        "        progress (bool): If True, displays a progress bar of the download to stderr\n",
        "    \"\"\"\n",
        "    return _resnet('resnet152', Bottleneck, [3, 8, 36, 3], pretrained, progress,\n",
        "                   **kwargs)\n",
        "\n",
        "\n",
        "def resnext50_32x4d(pretrained: bool = False, progress: bool = True, **kwargs: Any) -> ResNet:\n",
        "    r\"\"\"ResNeXt-50 32x4d model from\n",
        "    `\"Aggregated Residual Transformation for Deep Neural Networks\" <https://arxiv.org/pdf/1611.05431.pdf>`_.\n",
        "\n",
        "    Args:\n",
        "        pretrained (bool): If True, returns a model pre-trained on ImageNet\n",
        "        progress (bool): If True, displays a progress bar of the download to stderr\n",
        "    \"\"\"\n",
        "    kwargs['groups'] = 32\n",
        "    kwargs['width_per_group'] = 4\n",
        "    return _resnet('resnext50_32x4d', Bottleneck, [3, 4, 6, 3],\n",
        "                   pretrained, progress, **kwargs)\n",
        "\n",
        "\n",
        "def resnext101_32x8d(pretrained: bool = False, progress: bool = True, **kwargs: Any) -> ResNet:\n",
        "    r\"\"\"ResNeXt-101 32x8d model from\n",
        "    `\"Aggregated Residual Transformation for Deep Neural Networks\" <https://arxiv.org/pdf/1611.05431.pdf>`_.\n",
        "\n",
        "    Args:\n",
        "        pretrained (bool): If True, returns a model pre-trained on ImageNet\n",
        "        progress (bool): If True, displays a progress bar of the download to stderr\n",
        "    \"\"\"\n",
        "    kwargs['groups'] = 32\n",
        "    kwargs['width_per_group'] = 8\n",
        "    return _resnet('resnext101_32x8d', Bottleneck, [3, 4, 23, 3],\n",
        "                   pretrained, progress, **kwargs)\n",
        "\n",
        "\n",
        "def wide_resnet50_2(pretrained: bool = False, progress: bool = True, **kwargs: Any) -> ResNet:\n",
        "    r\"\"\"Wide ResNet-50-2 model from\n",
        "    `\"Wide Residual Networks\" <https://arxiv.org/pdf/1605.07146.pdf>`_.\n",
        "\n",
        "    The model is the same as ResNet except for the bottleneck number of channels\n",
        "    which is twice larger in every block. The number of channels in outer 1x1\n",
        "    convolutions is the same, e.g. last block in ResNet-50 has 2048-512-2048\n",
        "    channels, and in Wide ResNet-50-2 has 2048-1024-2048.\n",
        "\n",
        "    Args:\n",
        "        pretrained (bool): If True, returns a model pre-trained on ImageNet\n",
        "        progress (bool): If True, displays a progress bar of the download to stderr\n",
        "    \"\"\"\n",
        "    kwargs['width_per_group'] = 64 * 2\n",
        "    return _resnet('wide_resnet50_2', Bottleneck, [3, 4, 6, 3],\n",
        "                   pretrained, progress, **kwargs)\n",
        "\n",
        "\n",
        "def wide_resnet101_2(pretrained: bool = False, progress: bool = True, **kwargs: Any) -> ResNet:\n",
        "    r\"\"\"Wide ResNet-101-2 model from\n",
        "    `\"Wide Residual Networks\" <https://arxiv.org/pdf/1605.07146.pdf>`_.\n",
        "\n",
        "    The model is the same as ResNet except for the bottleneck number of channels\n",
        "    which is twice larger in every block. The number of channels in outer 1x1\n",
        "    convolutions is the same, e.g. last block in ResNet-50 has 2048-512-2048\n",
        "    channels, and in Wide ResNet-50-2 has 2048-1024-2048.\n",
        "\n",
        "    Args:\n",
        "        pretrained (bool): If True, returns a model pre-trained on ImageNet\n",
        "        progress (bool): If True, displays a progress bar of the download to stderr\n",
        "    \"\"\"\n",
        "    kwargs['width_per_group'] = 64 * 2\n",
        "    return _resnet('wide_resnet101_2', Bottleneck, [3, 4, 23, 3],\n",
        "                   pretrained, progress, **kwargs)"
      ],
      "execution_count": 87,
      "outputs": []
    },
    {
      "cell_type": "code",
      "metadata": {
        "colab": {
          "base_uri": "https://localhost:8080/"
        },
        "id": "6ZrGaV9qh7qY",
        "outputId": "144543b3-bd63-4b9d-960e-8771d1a551db"
      },
      "source": [
        "x=torch.randn(3,1,224,224)\n",
        "model=resnext50_32x4d()\n",
        "model(x).shape"
      ],
      "execution_count": 88,
      "outputs": [
        {
          "output_type": "stream",
          "text": [
            "/usr/local/lib/python3.7/dist-packages/torch/nn/functional.py:718: UserWarning: Named tensors and all their associated APIs are an experimental feature and subject to change. Please do not use them for anything important until they are released as stable. (Triggered internally at  /pytorch/c10/core/TensorImpl.h:1156.)\n",
            "  return torch.max_pool2d(input, kernel_size, stride, padding, dilation, ceil_mode)\n"
          ],
          "name": "stderr"
        },
        {
          "output_type": "execute_result",
          "data": {
            "text/plain": [
              "torch.Size([3, 1000])"
            ]
          },
          "metadata": {
            "tags": []
          },
          "execution_count": 88
        }
      ]
    },
    {
      "cell_type": "code",
      "metadata": {
        "id": "gAEbfPtbu6d9"
      },
      "source": [
        "class FocalLoss(nn.modules.loss._WeightedLoss):\n",
        "    def __init__(self, weight=None, gamma=2,reduction='mean'):\n",
        "        super(FocalLoss, self).__init__(weight,reduction=reduction)\n",
        "        self.gamma = gamma\n",
        "        self.weight = weight #weight parameter will act as the alpha parameter to balance class weights\n",
        "\n",
        "    def forward(self, input, target):\n",
        "\n",
        "        ce_loss = cross_entropy(input, target,reduction=self.reduction,weight=self.weight)\n",
        "        pt = torch.exp(-ce_loss)\n",
        "        focal_loss = ((1 - pt) ** self.gamma * ce_loss).mean()\n",
        "        return focal_loss"
      ],
      "execution_count": 89,
      "outputs": []
    },
    {
      "cell_type": "code",
      "metadata": {
        "id": "EQgwT63SWEZp"
      },
      "source": [
        "class OurModel(LightningModule):\n",
        "  def __init__(self):\n",
        "    super(OurModel,self).__init__()\n",
        "    #architecute\n",
        "    self.model =resnext50_32x4d()\n",
        "    self.fc1= nn.Linear(1000,500)\n",
        "    self.fc2= nn.Linear(500,3)\n",
        "    self.relu = nn.ReLU()\n",
        "    \n",
        "  #parameters\n",
        "    self.lr=0.0001\n",
        "    self.batch_size=96\n",
        "    self.numworker=2\n",
        "    self.train_acc = torchmetrics.Accuracy()\n",
        "    self.val_acc = torchmetrics.Accuracy()\n",
        "    self.test_acc = torchmetrics.Accuracy()\n",
        "    self.class_weights =torch.tensor(class_weight.compute_class_weight('balanced',\\\n",
        "                  np.unique(train_df.label),train_df.label),dtype=torch.float32)\n",
        "    self.criterion=FocalLoss()\n",
        "  def forward(self,x):\n",
        "    x= self.model(x)\n",
        "    x= self.fc1(x)\n",
        "    x= self.relu(x)\n",
        "    x= self.fc2(x) \n",
        "    return x\n",
        "\n",
        " \n",
        "\n",
        "  def configure_optimizers(self):\n",
        "    return torch.optim.AdamW(params=self.parameters(),lr=self.lr )\n",
        "\n",
        "  def train_dataloader(self):\n",
        "    return DataLoader(DataReader(train_df,aug), batch_size = self.batch_size, num_workers=self.numworker,shuffle=True)\n",
        "\n",
        "  def training_step(self,batch,batch_idx):\n",
        "    image,label=batch\n",
        "    out=self(image)\n",
        "    loss=self.criterion(out,label)\n",
        "    pred=torch.max(out,dim=1)[1]\n",
        "    train_acc=self.train_acc(pred,label)\n",
        "    self.log('train/acc', train_acc, on_epoch=True,prog_bar=True)\n",
        "    self.log('train/loss', loss, on_epoch=True,prog_bar=True)\n",
        "    return loss\n",
        "\n",
        "  def val_dataloader(self):\n",
        "    return DataLoader(DataReader(val_df,aug), batch_size = self.batch_size,num_workers=self.numworker,  shuffle=False)\n",
        "    \n",
        "  def validation_step(self,batch,batch_idx):\n",
        "    image,label=batch\n",
        "    out=self(image)\n",
        "    loss=self.criterion(out,label)\n",
        "    pred=torch.max(out,dim=1)[1]\n",
        "    valid_acc=self.val_acc(pred,label)\n",
        "    self.log('val/acc', valid_acc, on_epoch=True,prog_bar=True)\n",
        "    self.log('val/loss', loss, on_epoch=True,prog_bar=True)\n",
        "    return loss\n",
        "\n",
        "  def test_dataloader(self):\n",
        "    return DataLoader(DataReader(val_df,aug), batch_size = self.batch_size,num_workers=self.numworker,  shuffle=False)\n",
        "    \n",
        "  def test_step(self,batch,batch_idx):\n",
        "    image,label=batch\n",
        "    out=self(image)\n",
        "    loss=self.criterion(out,label)\n",
        "    pred=torch.max(out,dim=1)[1]\n",
        "    test_acc=self.test_acc(pred,label)\n",
        "    self.log('test/acc', test_acc, on_epoch=True,prog_bar=True)\n",
        "    self.log('test/loss', loss, on_epoch=True,prog_bar=True)\n",
        "    return loss"
      ],
      "execution_count": 90,
      "outputs": []
    },
    {
      "cell_type": "code",
      "metadata": {
        "colab": {
          "base_uri": "https://localhost:8080/"
        },
        "id": "7JHAJIG9b38g",
        "outputId": "8436e294-9c0e-4a18-8c66-9339800cad3e"
      },
      "source": [
        "checkpoint_callback = ModelCheckpoint(monitor='val/loss',dirpath='/content/drive/MyDrive/',\n",
        "                                      filename='covidctmd' )\n",
        "model = OurModel()\n",
        "trainer = Trainer(max_epochs=6, auto_lr_find=False, auto_scale_batch_size=False,\n",
        "                  tpu_cores=8,precision=16,\n",
        "                  #gpus=-1,\n",
        "                  progress_bar_refresh_rate=30, \n",
        "                  callbacks=[checkpoint_callback]\n",
        "                  )\n",
        "trainer.tune(model)\n",
        "trainer.fit(model)"
      ],
      "execution_count": null,
      "outputs": [
        {
          "output_type": "stream",
          "text": [
            "GPU available: False, used: False\n",
            "TPU available: True, using: 8 TPU cores\n"
          ],
          "name": "stderr"
        }
      ]
    },
    {
      "cell_type": "code",
      "metadata": {
        "id": "8ARJgUPHTBMC"
      },
      "source": [
        "torch.save(model.state_dict(), '/content/drive/MyDrive/chest_covidctmd.pt')"
      ],
      "execution_count": null,
      "outputs": []
    },
    {
      "cell_type": "code",
      "metadata": {
        "id": "SP6Rik2DLvdI"
      },
      "source": [
        "trainer.test(model)"
      ],
      "execution_count": null,
      "outputs": []
    },
    {
      "cell_type": "code",
      "metadata": {
        "id": "Gu1Iy9qTL0OG"
      },
      "source": [
        "test_loader=DataLoader(DataReader(val_df,aug), batch_size = 64,num_workers=1,  shuffle=False)\n",
        "model.eval()\n",
        "with torch.no_grad():\n",
        "  preds,labels=[],[]\n",
        "  for img, lab in test_loader:\n",
        "    pred=model(img)\n",
        "\n",
        "    preds.append(pred.detach().numpy())\n",
        "    labels.append(lab)"
      ],
      "execution_count": null,
      "outputs": []
    },
    {
      "cell_type": "code",
      "metadata": {
        "id": "3ejOfxKUL6oq"
      },
      "source": [
        "preds=np.concatenate(preds)\n",
        "labels=np.concatenate(labels)"
      ],
      "execution_count": null,
      "outputs": []
    },
    {
      "cell_type": "code",
      "metadata": {
        "id": "msYoCLq8L7OH"
      },
      "source": [
        "from sklearn.metrics import classification_report\n",
        "print(classification_report(labels,np.argmax(preds,1)))"
      ],
      "execution_count": null,
      "outputs": []
    },
    {
      "cell_type": "code",
      "metadata": {
        "id": "yAAFOVa2N6Cl"
      },
      "source": [
        ""
      ],
      "execution_count": null,
      "outputs": []
    },
    {
      "cell_type": "code",
      "metadata": {
        "id": "iWF-GmPUT592"
      },
      "source": [
        "torch.save(model.model.state_dict(), '/content/drive/MyDrive/pre_chest_covidctmd.pt')"
      ],
      "execution_count": null,
      "outputs": []
    },
    {
      "cell_type": "code",
      "metadata": {
        "id": "WgXYKuuoUB86"
      },
      "source": [
        ""
      ],
      "execution_count": null,
      "outputs": []
    }
  ]
}