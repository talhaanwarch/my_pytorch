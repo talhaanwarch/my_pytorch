{
  "nbformat": 4,
  "nbformat_minor": 0,
  "metadata": {
    "colab": {
      "name": "tpu-multilabel.ipynb",
      "provenance": [],
      "collapsed_sections": [],
      "include_colab_link": true
    },
    "kernelspec": {
      "name": "python3",
      "display_name": "Python 3"
    },
    "language_info": {
      "name": "python"
    },
    "accelerator": "TPU",
    "widgets": {
      "application/vnd.jupyter.widget-state+json": {
        "313e6fea2a6543bcb21886224bef46bf": {
          "model_module": "@jupyter-widgets/controls",
          "model_name": "HBoxModel",
          "state": {
            "_view_name": "HBoxView",
            "_dom_classes": [],
            "_model_name": "HBoxModel",
            "_view_module": "@jupyter-widgets/controls",
            "_model_module_version": "1.5.0",
            "_view_count": null,
            "_view_module_version": "1.5.0",
            "box_style": "",
            "layout": "IPY_MODEL_71443f8bb7b7428ea402f1bc531ef9e3",
            "_model_module": "@jupyter-widgets/controls",
            "children": [
              "IPY_MODEL_b5f70f4ed805452bb51e23a1f99d7075",
              "IPY_MODEL_87931d64ae6a4760b7b6269791a43d24"
            ]
          }
        },
        "71443f8bb7b7428ea402f1bc531ef9e3": {
          "model_module": "@jupyter-widgets/base",
          "model_name": "LayoutModel",
          "state": {
            "_view_name": "LayoutView",
            "grid_template_rows": null,
            "right": null,
            "justify_content": null,
            "_view_module": "@jupyter-widgets/base",
            "overflow": null,
            "_model_module_version": "1.2.0",
            "_view_count": null,
            "flex_flow": "row wrap",
            "width": "100%",
            "min_width": null,
            "border": null,
            "align_items": null,
            "bottom": null,
            "_model_module": "@jupyter-widgets/base",
            "top": null,
            "grid_column": null,
            "overflow_y": null,
            "overflow_x": null,
            "grid_auto_flow": null,
            "grid_area": null,
            "grid_template_columns": null,
            "flex": null,
            "_model_name": "LayoutModel",
            "justify_items": null,
            "grid_row": null,
            "max_height": null,
            "align_content": null,
            "visibility": null,
            "align_self": null,
            "height": null,
            "min_height": null,
            "padding": null,
            "grid_auto_rows": null,
            "grid_gap": null,
            "max_width": null,
            "order": null,
            "_view_module_version": "1.2.0",
            "grid_template_areas": null,
            "object_position": null,
            "object_fit": null,
            "grid_auto_columns": null,
            "margin": null,
            "display": "inline-flex",
            "left": null
          }
        },
        "b5f70f4ed805452bb51e23a1f99d7075": {
          "model_module": "@jupyter-widgets/controls",
          "model_name": "FloatProgressModel",
          "state": {
            "_view_name": "ProgressView",
            "style": "IPY_MODEL_01e8bb25657b47e184605312e19ace4a",
            "_dom_classes": [],
            "description": "Validation sanity check: 100%",
            "_model_name": "FloatProgressModel",
            "bar_style": "info",
            "max": 1,
            "_view_module": "@jupyter-widgets/controls",
            "_model_module_version": "1.5.0",
            "value": 1,
            "_view_count": null,
            "_view_module_version": "1.5.0",
            "orientation": "horizontal",
            "min": 0,
            "description_tooltip": null,
            "_model_module": "@jupyter-widgets/controls",
            "layout": "IPY_MODEL_a7b896a1d68a469c93ba82286fa08378"
          }
        },
        "87931d64ae6a4760b7b6269791a43d24": {
          "model_module": "@jupyter-widgets/controls",
          "model_name": "HTMLModel",
          "state": {
            "_view_name": "HTMLView",
            "style": "IPY_MODEL_691224e7b9784f9f967676813b004776",
            "_dom_classes": [],
            "description": "",
            "_model_name": "HTMLModel",
            "placeholder": "​",
            "_view_module": "@jupyter-widgets/controls",
            "_model_module_version": "1.5.0",
            "value": " 1/1 [00:02&lt;00:00,  2.10s/it]",
            "_view_count": null,
            "_view_module_version": "1.5.0",
            "description_tooltip": null,
            "_model_module": "@jupyter-widgets/controls",
            "layout": "IPY_MODEL_ed4c4d601a2e407b9f4a396753196ef3"
          }
        },
        "01e8bb25657b47e184605312e19ace4a": {
          "model_module": "@jupyter-widgets/controls",
          "model_name": "ProgressStyleModel",
          "state": {
            "_view_name": "StyleView",
            "_model_name": "ProgressStyleModel",
            "description_width": "initial",
            "_view_module": "@jupyter-widgets/base",
            "_model_module_version": "1.5.0",
            "_view_count": null,
            "_view_module_version": "1.2.0",
            "bar_color": null,
            "_model_module": "@jupyter-widgets/controls"
          }
        },
        "a7b896a1d68a469c93ba82286fa08378": {
          "model_module": "@jupyter-widgets/base",
          "model_name": "LayoutModel",
          "state": {
            "_view_name": "LayoutView",
            "grid_template_rows": null,
            "right": null,
            "justify_content": null,
            "_view_module": "@jupyter-widgets/base",
            "overflow": null,
            "_model_module_version": "1.2.0",
            "_view_count": null,
            "flex_flow": null,
            "width": null,
            "min_width": null,
            "border": null,
            "align_items": null,
            "bottom": null,
            "_model_module": "@jupyter-widgets/base",
            "top": null,
            "grid_column": null,
            "overflow_y": null,
            "overflow_x": null,
            "grid_auto_flow": null,
            "grid_area": null,
            "grid_template_columns": null,
            "flex": "2",
            "_model_name": "LayoutModel",
            "justify_items": null,
            "grid_row": null,
            "max_height": null,
            "align_content": null,
            "visibility": null,
            "align_self": null,
            "height": null,
            "min_height": null,
            "padding": null,
            "grid_auto_rows": null,
            "grid_gap": null,
            "max_width": null,
            "order": null,
            "_view_module_version": "1.2.0",
            "grid_template_areas": null,
            "object_position": null,
            "object_fit": null,
            "grid_auto_columns": null,
            "margin": null,
            "display": null,
            "left": null
          }
        },
        "691224e7b9784f9f967676813b004776": {
          "model_module": "@jupyter-widgets/controls",
          "model_name": "DescriptionStyleModel",
          "state": {
            "_view_name": "StyleView",
            "_model_name": "DescriptionStyleModel",
            "description_width": "",
            "_view_module": "@jupyter-widgets/base",
            "_model_module_version": "1.5.0",
            "_view_count": null,
            "_view_module_version": "1.2.0",
            "_model_module": "@jupyter-widgets/controls"
          }
        },
        "ed4c4d601a2e407b9f4a396753196ef3": {
          "model_module": "@jupyter-widgets/base",
          "model_name": "LayoutModel",
          "state": {
            "_view_name": "LayoutView",
            "grid_template_rows": null,
            "right": null,
            "justify_content": null,
            "_view_module": "@jupyter-widgets/base",
            "overflow": null,
            "_model_module_version": "1.2.0",
            "_view_count": null,
            "flex_flow": null,
            "width": null,
            "min_width": null,
            "border": null,
            "align_items": null,
            "bottom": null,
            "_model_module": "@jupyter-widgets/base",
            "top": null,
            "grid_column": null,
            "overflow_y": null,
            "overflow_x": null,
            "grid_auto_flow": null,
            "grid_area": null,
            "grid_template_columns": null,
            "flex": null,
            "_model_name": "LayoutModel",
            "justify_items": null,
            "grid_row": null,
            "max_height": null,
            "align_content": null,
            "visibility": null,
            "align_self": null,
            "height": null,
            "min_height": null,
            "padding": null,
            "grid_auto_rows": null,
            "grid_gap": null,
            "max_width": null,
            "order": null,
            "_view_module_version": "1.2.0",
            "grid_template_areas": null,
            "object_position": null,
            "object_fit": null,
            "grid_auto_columns": null,
            "margin": null,
            "display": null,
            "left": null
          }
        },
        "c71d8b1fa81043aca032d3c6acd887f6": {
          "model_module": "@jupyter-widgets/controls",
          "model_name": "HBoxModel",
          "state": {
            "_view_name": "HBoxView",
            "_dom_classes": [],
            "_model_name": "HBoxModel",
            "_view_module": "@jupyter-widgets/controls",
            "_model_module_version": "1.5.0",
            "_view_count": null,
            "_view_module_version": "1.5.0",
            "box_style": "",
            "layout": "IPY_MODEL_ff9e109965bd45d8bf34943e2aa2329b",
            "_model_module": "@jupyter-widgets/controls",
            "children": [
              "IPY_MODEL_49a472ab66ef4f258211d8dddd9c7919",
              "IPY_MODEL_296ae3ee9eb047d7a78a7d6c781fa647"
            ]
          }
        },
        "ff9e109965bd45d8bf34943e2aa2329b": {
          "model_module": "@jupyter-widgets/base",
          "model_name": "LayoutModel",
          "state": {
            "_view_name": "LayoutView",
            "grid_template_rows": null,
            "right": null,
            "justify_content": null,
            "_view_module": "@jupyter-widgets/base",
            "overflow": null,
            "_model_module_version": "1.2.0",
            "_view_count": null,
            "flex_flow": "row wrap",
            "width": "100%",
            "min_width": null,
            "border": null,
            "align_items": null,
            "bottom": null,
            "_model_module": "@jupyter-widgets/base",
            "top": null,
            "grid_column": null,
            "overflow_y": null,
            "overflow_x": null,
            "grid_auto_flow": null,
            "grid_area": null,
            "grid_template_columns": null,
            "flex": null,
            "_model_name": "LayoutModel",
            "justify_items": null,
            "grid_row": null,
            "max_height": null,
            "align_content": null,
            "visibility": null,
            "align_self": null,
            "height": null,
            "min_height": null,
            "padding": null,
            "grid_auto_rows": null,
            "grid_gap": null,
            "max_width": null,
            "order": null,
            "_view_module_version": "1.2.0",
            "grid_template_areas": null,
            "object_position": null,
            "object_fit": null,
            "grid_auto_columns": null,
            "margin": null,
            "display": "inline-flex",
            "left": null
          }
        },
        "49a472ab66ef4f258211d8dddd9c7919": {
          "model_module": "@jupyter-widgets/controls",
          "model_name": "FloatProgressModel",
          "state": {
            "_view_name": "ProgressView",
            "style": "IPY_MODEL_3049bd27fd7d47e9afa1eb2fb06d6f56",
            "_dom_classes": [],
            "description": "Epoch 3: 100%",
            "_model_name": "FloatProgressModel",
            "bar_style": "success",
            "max": 438,
            "_view_module": "@jupyter-widgets/controls",
            "_model_module_version": "1.5.0",
            "value": 438,
            "_view_count": null,
            "_view_module_version": "1.5.0",
            "orientation": "horizontal",
            "min": 0,
            "description_tooltip": null,
            "_model_module": "@jupyter-widgets/controls",
            "layout": "IPY_MODEL_5785eb20da71420a8d968d383b5d1962"
          }
        },
        "296ae3ee9eb047d7a78a7d6c781fa647": {
          "model_module": "@jupyter-widgets/controls",
          "model_name": "HTMLModel",
          "state": {
            "_view_name": "HTMLView",
            "style": "IPY_MODEL_b973a8e013f04e7091644a32814a298a",
            "_dom_classes": [],
            "description": "",
            "_model_name": "HTMLModel",
            "placeholder": "​",
            "_view_module": "@jupyter-widgets/controls",
            "_model_module_version": "1.5.0",
            "value": " 438/438 [20:09&lt;00:00,  2.76s/it, loss=0.391, v_num=2, val/loss=0.444, train/loss_step=0.440, train/loss_epoch=0.391]",
            "_view_count": null,
            "_view_module_version": "1.5.0",
            "description_tooltip": null,
            "_model_module": "@jupyter-widgets/controls",
            "layout": "IPY_MODEL_18527ec1fdaf476ab3a3e284f7c226fc"
          }
        },
        "3049bd27fd7d47e9afa1eb2fb06d6f56": {
          "model_module": "@jupyter-widgets/controls",
          "model_name": "ProgressStyleModel",
          "state": {
            "_view_name": "StyleView",
            "_model_name": "ProgressStyleModel",
            "description_width": "initial",
            "_view_module": "@jupyter-widgets/base",
            "_model_module_version": "1.5.0",
            "_view_count": null,
            "_view_module_version": "1.2.0",
            "bar_color": null,
            "_model_module": "@jupyter-widgets/controls"
          }
        },
        "5785eb20da71420a8d968d383b5d1962": {
          "model_module": "@jupyter-widgets/base",
          "model_name": "LayoutModel",
          "state": {
            "_view_name": "LayoutView",
            "grid_template_rows": null,
            "right": null,
            "justify_content": null,
            "_view_module": "@jupyter-widgets/base",
            "overflow": null,
            "_model_module_version": "1.2.0",
            "_view_count": null,
            "flex_flow": null,
            "width": null,
            "min_width": null,
            "border": null,
            "align_items": null,
            "bottom": null,
            "_model_module": "@jupyter-widgets/base",
            "top": null,
            "grid_column": null,
            "overflow_y": null,
            "overflow_x": null,
            "grid_auto_flow": null,
            "grid_area": null,
            "grid_template_columns": null,
            "flex": "2",
            "_model_name": "LayoutModel",
            "justify_items": null,
            "grid_row": null,
            "max_height": null,
            "align_content": null,
            "visibility": null,
            "align_self": null,
            "height": null,
            "min_height": null,
            "padding": null,
            "grid_auto_rows": null,
            "grid_gap": null,
            "max_width": null,
            "order": null,
            "_view_module_version": "1.2.0",
            "grid_template_areas": null,
            "object_position": null,
            "object_fit": null,
            "grid_auto_columns": null,
            "margin": null,
            "display": null,
            "left": null
          }
        },
        "b973a8e013f04e7091644a32814a298a": {
          "model_module": "@jupyter-widgets/controls",
          "model_name": "DescriptionStyleModel",
          "state": {
            "_view_name": "StyleView",
            "_model_name": "DescriptionStyleModel",
            "description_width": "",
            "_view_module": "@jupyter-widgets/base",
            "_model_module_version": "1.5.0",
            "_view_count": null,
            "_view_module_version": "1.2.0",
            "_model_module": "@jupyter-widgets/controls"
          }
        },
        "18527ec1fdaf476ab3a3e284f7c226fc": {
          "model_module": "@jupyter-widgets/base",
          "model_name": "LayoutModel",
          "state": {
            "_view_name": "LayoutView",
            "grid_template_rows": null,
            "right": null,
            "justify_content": null,
            "_view_module": "@jupyter-widgets/base",
            "overflow": null,
            "_model_module_version": "1.2.0",
            "_view_count": null,
            "flex_flow": null,
            "width": null,
            "min_width": null,
            "border": null,
            "align_items": null,
            "bottom": null,
            "_model_module": "@jupyter-widgets/base",
            "top": null,
            "grid_column": null,
            "overflow_y": null,
            "overflow_x": null,
            "grid_auto_flow": null,
            "grid_area": null,
            "grid_template_columns": null,
            "flex": null,
            "_model_name": "LayoutModel",
            "justify_items": null,
            "grid_row": null,
            "max_height": null,
            "align_content": null,
            "visibility": null,
            "align_self": null,
            "height": null,
            "min_height": null,
            "padding": null,
            "grid_auto_rows": null,
            "grid_gap": null,
            "max_width": null,
            "order": null,
            "_view_module_version": "1.2.0",
            "grid_template_areas": null,
            "object_position": null,
            "object_fit": null,
            "grid_auto_columns": null,
            "margin": null,
            "display": null,
            "left": null
          }
        },
        "fcb4984f9a8d41ea9a53baed7a608018": {
          "model_module": "@jupyter-widgets/controls",
          "model_name": "HBoxModel",
          "state": {
            "_view_name": "HBoxView",
            "_dom_classes": [],
            "_model_name": "HBoxModel",
            "_view_module": "@jupyter-widgets/controls",
            "_model_module_version": "1.5.0",
            "_view_count": null,
            "_view_module_version": "1.5.0",
            "box_style": "",
            "layout": "IPY_MODEL_4b1fb5a82eed4fcc837cdbe0d37a5789",
            "_model_module": "@jupyter-widgets/controls",
            "children": [
              "IPY_MODEL_54786080d8af4269b139220fd3e0ae4e",
              "IPY_MODEL_4f13f99b3f6944ffbf7573040c71650d"
            ]
          }
        },
        "4b1fb5a82eed4fcc837cdbe0d37a5789": {
          "model_module": "@jupyter-widgets/base",
          "model_name": "LayoutModel",
          "state": {
            "_view_name": "LayoutView",
            "grid_template_rows": null,
            "right": null,
            "justify_content": null,
            "_view_module": "@jupyter-widgets/base",
            "overflow": null,
            "_model_module_version": "1.2.0",
            "_view_count": null,
            "flex_flow": "row wrap",
            "width": "100%",
            "min_width": null,
            "border": null,
            "align_items": null,
            "bottom": null,
            "_model_module": "@jupyter-widgets/base",
            "top": null,
            "grid_column": null,
            "overflow_y": null,
            "overflow_x": null,
            "grid_auto_flow": null,
            "grid_area": null,
            "grid_template_columns": null,
            "flex": null,
            "_model_name": "LayoutModel",
            "justify_items": null,
            "grid_row": null,
            "max_height": null,
            "align_content": null,
            "visibility": null,
            "align_self": null,
            "height": null,
            "min_height": null,
            "padding": null,
            "grid_auto_rows": null,
            "grid_gap": null,
            "max_width": null,
            "order": null,
            "_view_module_version": "1.2.0",
            "grid_template_areas": null,
            "object_position": null,
            "object_fit": null,
            "grid_auto_columns": null,
            "margin": null,
            "display": "inline-flex",
            "left": null
          }
        },
        "54786080d8af4269b139220fd3e0ae4e": {
          "model_module": "@jupyter-widgets/controls",
          "model_name": "FloatProgressModel",
          "state": {
            "_view_name": "ProgressView",
            "style": "IPY_MODEL_27bf8ddb15af4178a161d35822606923",
            "_dom_classes": [],
            "description": "Validating: 100%",
            "_model_name": "FloatProgressModel",
            "bar_style": "info",
            "max": 1,
            "_view_module": "@jupyter-widgets/controls",
            "_model_module_version": "1.5.0",
            "value": 1,
            "_view_count": null,
            "_view_module_version": "1.5.0",
            "orientation": "horizontal",
            "min": 0,
            "description_tooltip": null,
            "_model_module": "@jupyter-widgets/controls",
            "layout": "IPY_MODEL_ca3b9298bcb54fdf9266d2e32d477bfe"
          }
        },
        "4f13f99b3f6944ffbf7573040c71650d": {
          "model_module": "@jupyter-widgets/controls",
          "model_name": "HTMLModel",
          "state": {
            "_view_name": "HTMLView",
            "style": "IPY_MODEL_4dd46bf5cc9e4a56a623b4c17b3294d1",
            "_dom_classes": [],
            "description": "",
            "_model_name": "HTMLModel",
            "placeholder": "​",
            "_view_module": "@jupyter-widgets/controls",
            "_model_module_version": "1.5.0",
            "value": " 1/1 [00:40&lt;00:00, 40.15s/it]",
            "_view_count": null,
            "_view_module_version": "1.5.0",
            "description_tooltip": null,
            "_model_module": "@jupyter-widgets/controls",
            "layout": "IPY_MODEL_2f50e8eb2d794646865a4cf0246c7df2"
          }
        },
        "27bf8ddb15af4178a161d35822606923": {
          "model_module": "@jupyter-widgets/controls",
          "model_name": "ProgressStyleModel",
          "state": {
            "_view_name": "StyleView",
            "_model_name": "ProgressStyleModel",
            "description_width": "initial",
            "_view_module": "@jupyter-widgets/base",
            "_model_module_version": "1.5.0",
            "_view_count": null,
            "_view_module_version": "1.2.0",
            "bar_color": null,
            "_model_module": "@jupyter-widgets/controls"
          }
        },
        "ca3b9298bcb54fdf9266d2e32d477bfe": {
          "model_module": "@jupyter-widgets/base",
          "model_name": "LayoutModel",
          "state": {
            "_view_name": "LayoutView",
            "grid_template_rows": null,
            "right": null,
            "justify_content": null,
            "_view_module": "@jupyter-widgets/base",
            "overflow": null,
            "_model_module_version": "1.2.0",
            "_view_count": null,
            "flex_flow": null,
            "width": null,
            "min_width": null,
            "border": null,
            "align_items": null,
            "bottom": null,
            "_model_module": "@jupyter-widgets/base",
            "top": null,
            "grid_column": null,
            "overflow_y": null,
            "overflow_x": null,
            "grid_auto_flow": null,
            "grid_area": null,
            "grid_template_columns": null,
            "flex": "2",
            "_model_name": "LayoutModel",
            "justify_items": null,
            "grid_row": null,
            "max_height": null,
            "align_content": null,
            "visibility": null,
            "align_self": null,
            "height": null,
            "min_height": null,
            "padding": null,
            "grid_auto_rows": null,
            "grid_gap": null,
            "max_width": null,
            "order": null,
            "_view_module_version": "1.2.0",
            "grid_template_areas": null,
            "object_position": null,
            "object_fit": null,
            "grid_auto_columns": null,
            "margin": null,
            "display": null,
            "left": null
          }
        },
        "4dd46bf5cc9e4a56a623b4c17b3294d1": {
          "model_module": "@jupyter-widgets/controls",
          "model_name": "DescriptionStyleModel",
          "state": {
            "_view_name": "StyleView",
            "_model_name": "DescriptionStyleModel",
            "description_width": "",
            "_view_module": "@jupyter-widgets/base",
            "_model_module_version": "1.5.0",
            "_view_count": null,
            "_view_module_version": "1.2.0",
            "_model_module": "@jupyter-widgets/controls"
          }
        },
        "2f50e8eb2d794646865a4cf0246c7df2": {
          "model_module": "@jupyter-widgets/base",
          "model_name": "LayoutModel",
          "state": {
            "_view_name": "LayoutView",
            "grid_template_rows": null,
            "right": null,
            "justify_content": null,
            "_view_module": "@jupyter-widgets/base",
            "overflow": null,
            "_model_module_version": "1.2.0",
            "_view_count": null,
            "flex_flow": null,
            "width": null,
            "min_width": null,
            "border": null,
            "align_items": null,
            "bottom": null,
            "_model_module": "@jupyter-widgets/base",
            "top": null,
            "grid_column": null,
            "overflow_y": null,
            "overflow_x": null,
            "grid_auto_flow": null,
            "grid_area": null,
            "grid_template_columns": null,
            "flex": null,
            "_model_name": "LayoutModel",
            "justify_items": null,
            "grid_row": null,
            "max_height": null,
            "align_content": null,
            "visibility": null,
            "align_self": null,
            "height": null,
            "min_height": null,
            "padding": null,
            "grid_auto_rows": null,
            "grid_gap": null,
            "max_width": null,
            "order": null,
            "_view_module_version": "1.2.0",
            "grid_template_areas": null,
            "object_position": null,
            "object_fit": null,
            "grid_auto_columns": null,
            "margin": null,
            "display": null,
            "left": null
          }
        },
        "9ccb193aa20d459497c31c777f2e2523": {
          "model_module": "@jupyter-widgets/controls",
          "model_name": "HBoxModel",
          "state": {
            "_view_name": "HBoxView",
            "_dom_classes": [],
            "_model_name": "HBoxModel",
            "_view_module": "@jupyter-widgets/controls",
            "_model_module_version": "1.5.0",
            "_view_count": null,
            "_view_module_version": "1.5.0",
            "box_style": "",
            "layout": "IPY_MODEL_c9c4c9efe7ac4a60959cb0dea4f1173e",
            "_model_module": "@jupyter-widgets/controls",
            "children": [
              "IPY_MODEL_091bcb11843b4bc4a10f0277c2e03557",
              "IPY_MODEL_227d0eb9f3524cf8b3064a8373ac2458"
            ]
          }
        },
        "c9c4c9efe7ac4a60959cb0dea4f1173e": {
          "model_module": "@jupyter-widgets/base",
          "model_name": "LayoutModel",
          "state": {
            "_view_name": "LayoutView",
            "grid_template_rows": null,
            "right": null,
            "justify_content": null,
            "_view_module": "@jupyter-widgets/base",
            "overflow": null,
            "_model_module_version": "1.2.0",
            "_view_count": null,
            "flex_flow": "row wrap",
            "width": "100%",
            "min_width": null,
            "border": null,
            "align_items": null,
            "bottom": null,
            "_model_module": "@jupyter-widgets/base",
            "top": null,
            "grid_column": null,
            "overflow_y": null,
            "overflow_x": null,
            "grid_auto_flow": null,
            "grid_area": null,
            "grid_template_columns": null,
            "flex": null,
            "_model_name": "LayoutModel",
            "justify_items": null,
            "grid_row": null,
            "max_height": null,
            "align_content": null,
            "visibility": null,
            "align_self": null,
            "height": null,
            "min_height": null,
            "padding": null,
            "grid_auto_rows": null,
            "grid_gap": null,
            "max_width": null,
            "order": null,
            "_view_module_version": "1.2.0",
            "grid_template_areas": null,
            "object_position": null,
            "object_fit": null,
            "grid_auto_columns": null,
            "margin": null,
            "display": "inline-flex",
            "left": null
          }
        },
        "091bcb11843b4bc4a10f0277c2e03557": {
          "model_module": "@jupyter-widgets/controls",
          "model_name": "FloatProgressModel",
          "state": {
            "_view_name": "ProgressView",
            "style": "IPY_MODEL_020ba83caf6147bab6997af6e7bb719c",
            "_dom_classes": [],
            "description": "Validating: 100%",
            "_model_name": "FloatProgressModel",
            "bar_style": "info",
            "max": 1,
            "_view_module": "@jupyter-widgets/controls",
            "_model_module_version": "1.5.0",
            "value": 1,
            "_view_count": null,
            "_view_module_version": "1.5.0",
            "orientation": "horizontal",
            "min": 0,
            "description_tooltip": null,
            "_model_module": "@jupyter-widgets/controls",
            "layout": "IPY_MODEL_56b519fe09f84d02832327fc772e22bb"
          }
        },
        "227d0eb9f3524cf8b3064a8373ac2458": {
          "model_module": "@jupyter-widgets/controls",
          "model_name": "HTMLModel",
          "state": {
            "_view_name": "HTMLView",
            "style": "IPY_MODEL_4d2f33c8555c4bd88e23dccbd9ed10e9",
            "_dom_classes": [],
            "description": "",
            "_model_name": "HTMLModel",
            "placeholder": "​",
            "_view_module": "@jupyter-widgets/controls",
            "_model_module_version": "1.5.0",
            "value": " 1/1 [00:00&lt;00:00,  2.30it/s]",
            "_view_count": null,
            "_view_module_version": "1.5.0",
            "description_tooltip": null,
            "_model_module": "@jupyter-widgets/controls",
            "layout": "IPY_MODEL_c344da53a24448d78183f5b0ef695ca4"
          }
        },
        "020ba83caf6147bab6997af6e7bb719c": {
          "model_module": "@jupyter-widgets/controls",
          "model_name": "ProgressStyleModel",
          "state": {
            "_view_name": "StyleView",
            "_model_name": "ProgressStyleModel",
            "description_width": "initial",
            "_view_module": "@jupyter-widgets/base",
            "_model_module_version": "1.5.0",
            "_view_count": null,
            "_view_module_version": "1.2.0",
            "bar_color": null,
            "_model_module": "@jupyter-widgets/controls"
          }
        },
        "56b519fe09f84d02832327fc772e22bb": {
          "model_module": "@jupyter-widgets/base",
          "model_name": "LayoutModel",
          "state": {
            "_view_name": "LayoutView",
            "grid_template_rows": null,
            "right": null,
            "justify_content": null,
            "_view_module": "@jupyter-widgets/base",
            "overflow": null,
            "_model_module_version": "1.2.0",
            "_view_count": null,
            "flex_flow": null,
            "width": null,
            "min_width": null,
            "border": null,
            "align_items": null,
            "bottom": null,
            "_model_module": "@jupyter-widgets/base",
            "top": null,
            "grid_column": null,
            "overflow_y": null,
            "overflow_x": null,
            "grid_auto_flow": null,
            "grid_area": null,
            "grid_template_columns": null,
            "flex": "2",
            "_model_name": "LayoutModel",
            "justify_items": null,
            "grid_row": null,
            "max_height": null,
            "align_content": null,
            "visibility": null,
            "align_self": null,
            "height": null,
            "min_height": null,
            "padding": null,
            "grid_auto_rows": null,
            "grid_gap": null,
            "max_width": null,
            "order": null,
            "_view_module_version": "1.2.0",
            "grid_template_areas": null,
            "object_position": null,
            "object_fit": null,
            "grid_auto_columns": null,
            "margin": null,
            "display": null,
            "left": null
          }
        },
        "4d2f33c8555c4bd88e23dccbd9ed10e9": {
          "model_module": "@jupyter-widgets/controls",
          "model_name": "DescriptionStyleModel",
          "state": {
            "_view_name": "StyleView",
            "_model_name": "DescriptionStyleModel",
            "description_width": "",
            "_view_module": "@jupyter-widgets/base",
            "_model_module_version": "1.5.0",
            "_view_count": null,
            "_view_module_version": "1.2.0",
            "_model_module": "@jupyter-widgets/controls"
          }
        },
        "c344da53a24448d78183f5b0ef695ca4": {
          "model_module": "@jupyter-widgets/base",
          "model_name": "LayoutModel",
          "state": {
            "_view_name": "LayoutView",
            "grid_template_rows": null,
            "right": null,
            "justify_content": null,
            "_view_module": "@jupyter-widgets/base",
            "overflow": null,
            "_model_module_version": "1.2.0",
            "_view_count": null,
            "flex_flow": null,
            "width": null,
            "min_width": null,
            "border": null,
            "align_items": null,
            "bottom": null,
            "_model_module": "@jupyter-widgets/base",
            "top": null,
            "grid_column": null,
            "overflow_y": null,
            "overflow_x": null,
            "grid_auto_flow": null,
            "grid_area": null,
            "grid_template_columns": null,
            "flex": null,
            "_model_name": "LayoutModel",
            "justify_items": null,
            "grid_row": null,
            "max_height": null,
            "align_content": null,
            "visibility": null,
            "align_self": null,
            "height": null,
            "min_height": null,
            "padding": null,
            "grid_auto_rows": null,
            "grid_gap": null,
            "max_width": null,
            "order": null,
            "_view_module_version": "1.2.0",
            "grid_template_areas": null,
            "object_position": null,
            "object_fit": null,
            "grid_auto_columns": null,
            "margin": null,
            "display": null,
            "left": null
          }
        },
        "586cba9a08ce4df88c25c3dd7d48b9f8": {
          "model_module": "@jupyter-widgets/controls",
          "model_name": "HBoxModel",
          "state": {
            "_view_name": "HBoxView",
            "_dom_classes": [],
            "_model_name": "HBoxModel",
            "_view_module": "@jupyter-widgets/controls",
            "_model_module_version": "1.5.0",
            "_view_count": null,
            "_view_module_version": "1.5.0",
            "box_style": "",
            "layout": "IPY_MODEL_0d30eae215ba4e049673396151840b0f",
            "_model_module": "@jupyter-widgets/controls",
            "children": [
              "IPY_MODEL_ad864cd0bbe44173ac87ae76c002a76a",
              "IPY_MODEL_37ffdb2021404e5489b5fc98d3579e7c"
            ]
          }
        },
        "0d30eae215ba4e049673396151840b0f": {
          "model_module": "@jupyter-widgets/base",
          "model_name": "LayoutModel",
          "state": {
            "_view_name": "LayoutView",
            "grid_template_rows": null,
            "right": null,
            "justify_content": null,
            "_view_module": "@jupyter-widgets/base",
            "overflow": null,
            "_model_module_version": "1.2.0",
            "_view_count": null,
            "flex_flow": "row wrap",
            "width": "100%",
            "min_width": null,
            "border": null,
            "align_items": null,
            "bottom": null,
            "_model_module": "@jupyter-widgets/base",
            "top": null,
            "grid_column": null,
            "overflow_y": null,
            "overflow_x": null,
            "grid_auto_flow": null,
            "grid_area": null,
            "grid_template_columns": null,
            "flex": null,
            "_model_name": "LayoutModel",
            "justify_items": null,
            "grid_row": null,
            "max_height": null,
            "align_content": null,
            "visibility": null,
            "align_self": null,
            "height": null,
            "min_height": null,
            "padding": null,
            "grid_auto_rows": null,
            "grid_gap": null,
            "max_width": null,
            "order": null,
            "_view_module_version": "1.2.0",
            "grid_template_areas": null,
            "object_position": null,
            "object_fit": null,
            "grid_auto_columns": null,
            "margin": null,
            "display": "inline-flex",
            "left": null
          }
        },
        "ad864cd0bbe44173ac87ae76c002a76a": {
          "model_module": "@jupyter-widgets/controls",
          "model_name": "FloatProgressModel",
          "state": {
            "_view_name": "ProgressView",
            "style": "IPY_MODEL_0e3007de8590447cbd935d38ba007e81",
            "_dom_classes": [],
            "description": "Validating: 100%",
            "_model_name": "FloatProgressModel",
            "bar_style": "info",
            "max": 1,
            "_view_module": "@jupyter-widgets/controls",
            "_model_module_version": "1.5.0",
            "value": 1,
            "_view_count": null,
            "_view_module_version": "1.5.0",
            "orientation": "horizontal",
            "min": 0,
            "description_tooltip": null,
            "_model_module": "@jupyter-widgets/controls",
            "layout": "IPY_MODEL_a298ce1a74a845a5af74bac5b00be39d"
          }
        },
        "37ffdb2021404e5489b5fc98d3579e7c": {
          "model_module": "@jupyter-widgets/controls",
          "model_name": "HTMLModel",
          "state": {
            "_view_name": "HTMLView",
            "style": "IPY_MODEL_fde9ec2f7d9745aea2d9d39f9f70443b",
            "_dom_classes": [],
            "description": "",
            "_model_name": "HTMLModel",
            "placeholder": "​",
            "_view_module": "@jupyter-widgets/controls",
            "_model_module_version": "1.5.0",
            "value": " 1/1 [00:01&lt;00:00,  1.12it/s]",
            "_view_count": null,
            "_view_module_version": "1.5.0",
            "description_tooltip": null,
            "_model_module": "@jupyter-widgets/controls",
            "layout": "IPY_MODEL_0178c48a7a9f471b91d4db5e90f40a65"
          }
        },
        "0e3007de8590447cbd935d38ba007e81": {
          "model_module": "@jupyter-widgets/controls",
          "model_name": "ProgressStyleModel",
          "state": {
            "_view_name": "StyleView",
            "_model_name": "ProgressStyleModel",
            "description_width": "initial",
            "_view_module": "@jupyter-widgets/base",
            "_model_module_version": "1.5.0",
            "_view_count": null,
            "_view_module_version": "1.2.0",
            "bar_color": null,
            "_model_module": "@jupyter-widgets/controls"
          }
        },
        "a298ce1a74a845a5af74bac5b00be39d": {
          "model_module": "@jupyter-widgets/base",
          "model_name": "LayoutModel",
          "state": {
            "_view_name": "LayoutView",
            "grid_template_rows": null,
            "right": null,
            "justify_content": null,
            "_view_module": "@jupyter-widgets/base",
            "overflow": null,
            "_model_module_version": "1.2.0",
            "_view_count": null,
            "flex_flow": null,
            "width": null,
            "min_width": null,
            "border": null,
            "align_items": null,
            "bottom": null,
            "_model_module": "@jupyter-widgets/base",
            "top": null,
            "grid_column": null,
            "overflow_y": null,
            "overflow_x": null,
            "grid_auto_flow": null,
            "grid_area": null,
            "grid_template_columns": null,
            "flex": "2",
            "_model_name": "LayoutModel",
            "justify_items": null,
            "grid_row": null,
            "max_height": null,
            "align_content": null,
            "visibility": null,
            "align_self": null,
            "height": null,
            "min_height": null,
            "padding": null,
            "grid_auto_rows": null,
            "grid_gap": null,
            "max_width": null,
            "order": null,
            "_view_module_version": "1.2.0",
            "grid_template_areas": null,
            "object_position": null,
            "object_fit": null,
            "grid_auto_columns": null,
            "margin": null,
            "display": null,
            "left": null
          }
        },
        "fde9ec2f7d9745aea2d9d39f9f70443b": {
          "model_module": "@jupyter-widgets/controls",
          "model_name": "DescriptionStyleModel",
          "state": {
            "_view_name": "StyleView",
            "_model_name": "DescriptionStyleModel",
            "description_width": "",
            "_view_module": "@jupyter-widgets/base",
            "_model_module_version": "1.5.0",
            "_view_count": null,
            "_view_module_version": "1.2.0",
            "_model_module": "@jupyter-widgets/controls"
          }
        },
        "0178c48a7a9f471b91d4db5e90f40a65": {
          "model_module": "@jupyter-widgets/base",
          "model_name": "LayoutModel",
          "state": {
            "_view_name": "LayoutView",
            "grid_template_rows": null,
            "right": null,
            "justify_content": null,
            "_view_module": "@jupyter-widgets/base",
            "overflow": null,
            "_model_module_version": "1.2.0",
            "_view_count": null,
            "flex_flow": null,
            "width": null,
            "min_width": null,
            "border": null,
            "align_items": null,
            "bottom": null,
            "_model_module": "@jupyter-widgets/base",
            "top": null,
            "grid_column": null,
            "overflow_y": null,
            "overflow_x": null,
            "grid_auto_flow": null,
            "grid_area": null,
            "grid_template_columns": null,
            "flex": null,
            "_model_name": "LayoutModel",
            "justify_items": null,
            "grid_row": null,
            "max_height": null,
            "align_content": null,
            "visibility": null,
            "align_self": null,
            "height": null,
            "min_height": null,
            "padding": null,
            "grid_auto_rows": null,
            "grid_gap": null,
            "max_width": null,
            "order": null,
            "_view_module_version": "1.2.0",
            "grid_template_areas": null,
            "object_position": null,
            "object_fit": null,
            "grid_auto_columns": null,
            "margin": null,
            "display": null,
            "left": null
          }
        },
        "f1dfec5cffe0425aa24f57c42f448ad4": {
          "model_module": "@jupyter-widgets/controls",
          "model_name": "HBoxModel",
          "state": {
            "_view_name": "HBoxView",
            "_dom_classes": [],
            "_model_name": "HBoxModel",
            "_view_module": "@jupyter-widgets/controls",
            "_model_module_version": "1.5.0",
            "_view_count": null,
            "_view_module_version": "1.5.0",
            "box_style": "",
            "layout": "IPY_MODEL_72b5889801ed49ed8e2d074a162514fd",
            "_model_module": "@jupyter-widgets/controls",
            "children": [
              "IPY_MODEL_01cafe763807472eb1ec572958d99d88",
              "IPY_MODEL_6a964651c0bc4378abf600319516dd4e"
            ]
          }
        },
        "72b5889801ed49ed8e2d074a162514fd": {
          "model_module": "@jupyter-widgets/base",
          "model_name": "LayoutModel",
          "state": {
            "_view_name": "LayoutView",
            "grid_template_rows": null,
            "right": null,
            "justify_content": null,
            "_view_module": "@jupyter-widgets/base",
            "overflow": null,
            "_model_module_version": "1.2.0",
            "_view_count": null,
            "flex_flow": "row wrap",
            "width": "100%",
            "min_width": null,
            "border": null,
            "align_items": null,
            "bottom": null,
            "_model_module": "@jupyter-widgets/base",
            "top": null,
            "grid_column": null,
            "overflow_y": null,
            "overflow_x": null,
            "grid_auto_flow": null,
            "grid_area": null,
            "grid_template_columns": null,
            "flex": null,
            "_model_name": "LayoutModel",
            "justify_items": null,
            "grid_row": null,
            "max_height": null,
            "align_content": null,
            "visibility": null,
            "align_self": null,
            "height": null,
            "min_height": null,
            "padding": null,
            "grid_auto_rows": null,
            "grid_gap": null,
            "max_width": null,
            "order": null,
            "_view_module_version": "1.2.0",
            "grid_template_areas": null,
            "object_position": null,
            "object_fit": null,
            "grid_auto_columns": null,
            "margin": null,
            "display": "inline-flex",
            "left": null
          }
        },
        "01cafe763807472eb1ec572958d99d88": {
          "model_module": "@jupyter-widgets/controls",
          "model_name": "FloatProgressModel",
          "state": {
            "_view_name": "ProgressView",
            "style": "IPY_MODEL_affd122eeb684faa9f96446e175c61f6",
            "_dom_classes": [],
            "description": "Validating: 100%",
            "_model_name": "FloatProgressModel",
            "bar_style": "info",
            "max": 1,
            "_view_module": "@jupyter-widgets/controls",
            "_model_module_version": "1.5.0",
            "value": 1,
            "_view_count": null,
            "_view_module_version": "1.5.0",
            "orientation": "horizontal",
            "min": 0,
            "description_tooltip": null,
            "_model_module": "@jupyter-widgets/controls",
            "layout": "IPY_MODEL_f5f764f0c40a43dfb824249070194c8a"
          }
        },
        "6a964651c0bc4378abf600319516dd4e": {
          "model_module": "@jupyter-widgets/controls",
          "model_name": "HTMLModel",
          "state": {
            "_view_name": "HTMLView",
            "style": "IPY_MODEL_cdfff778682c4acaa72dc759714b6442",
            "_dom_classes": [],
            "description": "",
            "_model_name": "HTMLModel",
            "placeholder": "​",
            "_view_module": "@jupyter-widgets/controls",
            "_model_module_version": "1.5.0",
            "value": " 1/1 [00:00&lt;00:00,  2.57it/s]",
            "_view_count": null,
            "_view_module_version": "1.5.0",
            "description_tooltip": null,
            "_model_module": "@jupyter-widgets/controls",
            "layout": "IPY_MODEL_dde4e81b5b884ec291ae85bb3bcb14cb"
          }
        },
        "affd122eeb684faa9f96446e175c61f6": {
          "model_module": "@jupyter-widgets/controls",
          "model_name": "ProgressStyleModel",
          "state": {
            "_view_name": "StyleView",
            "_model_name": "ProgressStyleModel",
            "description_width": "initial",
            "_view_module": "@jupyter-widgets/base",
            "_model_module_version": "1.5.0",
            "_view_count": null,
            "_view_module_version": "1.2.0",
            "bar_color": null,
            "_model_module": "@jupyter-widgets/controls"
          }
        },
        "f5f764f0c40a43dfb824249070194c8a": {
          "model_module": "@jupyter-widgets/base",
          "model_name": "LayoutModel",
          "state": {
            "_view_name": "LayoutView",
            "grid_template_rows": null,
            "right": null,
            "justify_content": null,
            "_view_module": "@jupyter-widgets/base",
            "overflow": null,
            "_model_module_version": "1.2.0",
            "_view_count": null,
            "flex_flow": null,
            "width": null,
            "min_width": null,
            "border": null,
            "align_items": null,
            "bottom": null,
            "_model_module": "@jupyter-widgets/base",
            "top": null,
            "grid_column": null,
            "overflow_y": null,
            "overflow_x": null,
            "grid_auto_flow": null,
            "grid_area": null,
            "grid_template_columns": null,
            "flex": "2",
            "_model_name": "LayoutModel",
            "justify_items": null,
            "grid_row": null,
            "max_height": null,
            "align_content": null,
            "visibility": null,
            "align_self": null,
            "height": null,
            "min_height": null,
            "padding": null,
            "grid_auto_rows": null,
            "grid_gap": null,
            "max_width": null,
            "order": null,
            "_view_module_version": "1.2.0",
            "grid_template_areas": null,
            "object_position": null,
            "object_fit": null,
            "grid_auto_columns": null,
            "margin": null,
            "display": null,
            "left": null
          }
        },
        "cdfff778682c4acaa72dc759714b6442": {
          "model_module": "@jupyter-widgets/controls",
          "model_name": "DescriptionStyleModel",
          "state": {
            "_view_name": "StyleView",
            "_model_name": "DescriptionStyleModel",
            "description_width": "",
            "_view_module": "@jupyter-widgets/base",
            "_model_module_version": "1.5.0",
            "_view_count": null,
            "_view_module_version": "1.2.0",
            "_model_module": "@jupyter-widgets/controls"
          }
        },
        "dde4e81b5b884ec291ae85bb3bcb14cb": {
          "model_module": "@jupyter-widgets/base",
          "model_name": "LayoutModel",
          "state": {
            "_view_name": "LayoutView",
            "grid_template_rows": null,
            "right": null,
            "justify_content": null,
            "_view_module": "@jupyter-widgets/base",
            "overflow": null,
            "_model_module_version": "1.2.0",
            "_view_count": null,
            "flex_flow": null,
            "width": null,
            "min_width": null,
            "border": null,
            "align_items": null,
            "bottom": null,
            "_model_module": "@jupyter-widgets/base",
            "top": null,
            "grid_column": null,
            "overflow_y": null,
            "overflow_x": null,
            "grid_auto_flow": null,
            "grid_area": null,
            "grid_template_columns": null,
            "flex": null,
            "_model_name": "LayoutModel",
            "justify_items": null,
            "grid_row": null,
            "max_height": null,
            "align_content": null,
            "visibility": null,
            "align_self": null,
            "height": null,
            "min_height": null,
            "padding": null,
            "grid_auto_rows": null,
            "grid_gap": null,
            "max_width": null,
            "order": null,
            "_view_module_version": "1.2.0",
            "grid_template_areas": null,
            "object_position": null,
            "object_fit": null,
            "grid_auto_columns": null,
            "margin": null,
            "display": null,
            "left": null
          }
        }
      }
    }
  },
  "cells": [
    {
      "cell_type": "markdown",
      "metadata": {
        "id": "view-in-github",
        "colab_type": "text"
      },
      "source": [
        "<a href=\"https://colab.research.google.com/github/talhaanwarch/my_pytorch/blob/master/tpu_multilabel.ipynb\" target=\"_parent\"><img src=\"https://colab.research.google.com/assets/colab-badge.svg\" alt=\"Open In Colab\"/></a>"
      ]
    },
    {
      "cell_type": "code",
      "metadata": {
        "id": "v9sNgfdloxFY",
        "colab": {
          "base_uri": "https://localhost:8080/"
        },
        "outputId": "207ad78d-55c1-4efa-f386-9b58486a69be"
      },
      "source": [
        "from google.colab import drive\n",
        "drive.mount('/content/drive',force_remount=True)"
      ],
      "execution_count": 2,
      "outputs": [
        {
          "output_type": "stream",
          "text": [
            "Mounted at /content/drive\n"
          ],
          "name": "stdout"
        }
      ]
    },
    {
      "cell_type": "code",
      "metadata": {
        "id": "DcARA_fo6M6U"
      },
      "source": [
        "%%capture\n",
        "#TPU\n",
        "!pip install cloud-tpu-client==0.10 https://storage.googleapis.com/tpu-pytorch/wheels/torch_xla-1.9-cp37-cp37m-linux_x86_64.whl\n",
        "!pip install pytorch-lightning\n",
        "!pip install torchmetrics\n",
        "!pip install onnx\n",
        "!pip install onnxruntime\n"
      ],
      "execution_count": 3,
      "outputs": []
    },
    {
      "cell_type": "code",
      "metadata": {
        "id": "jjIZv1W9R8cA",
        "colab": {
          "base_uri": "https://localhost:8080/"
        },
        "outputId": "383a8122-dc28-43cf-a63f-c2e6ad3128c9"
      },
      "source": [
        "import  pytorch_lightning as pl\n",
        "print(pl.__version__)"
      ],
      "execution_count": 4,
      "outputs": [
        {
          "output_type": "stream",
          "text": [
            "WARNING:root:Waiting for TPU to be start up with version pytorch-1.9...\n",
            "WARNING:root:Waiting for TPU to be start up with version pytorch-1.9...\n",
            "WARNING:root:TPU has started up successfully with version pytorch-1.9\n"
          ],
          "name": "stderr"
        },
        {
          "output_type": "stream",
          "text": [
            "1.3.6\n"
          ],
          "name": "stdout"
        }
      ]
    },
    {
      "cell_type": "code",
      "metadata": {
        "id": "YgnRBq0_nCq6",
        "colab": {
          "base_uri": "https://localhost:8080/"
        },
        "outputId": "93a0ac1e-e68b-4201-c9a8-d6c81b6d8924"
      },
      "source": [
        "!wget http://download.cs.stanford.edu/deep/CheXpert-v1.0-small.zip"
      ],
      "execution_count": 6,
      "outputs": [
        {
          "output_type": "stream",
          "text": [
            "--2021-06-19 14:09:54--  http://download.cs.stanford.edu/deep/CheXpert-v1.0-small.zip\n",
            "Resolving download.cs.stanford.edu (download.cs.stanford.edu)... 171.64.64.22\n",
            "Connecting to download.cs.stanford.edu (download.cs.stanford.edu)|171.64.64.22|:80... connected.\n",
            "HTTP request sent, awaiting response... 200 OK\n",
            "Length: 11557753157 (11G) [application/zip]\n",
            "Saving to: ‘CheXpert-v1.0-small.zip’\n",
            "\n",
            "CheXpert-v1.0-small 100%[===================>]  10.76G  5.05MB/s    in 36m 42s \n",
            "\n",
            "2021-06-19 14:46:36 (5.01 MB/s) - ‘CheXpert-v1.0-small.zip’ saved [11557753157/11557753157]\n",
            "\n"
          ],
          "name": "stdout"
        }
      ]
    },
    {
      "cell_type": "code",
      "metadata": {
        "id": "IWR7frYBnZyJ"
      },
      "source": [
        "%%capture\n",
        "!unzip /content/CheXpert-v1.0-small.zip"
      ],
      "execution_count": 7,
      "outputs": []
    },
    {
      "cell_type": "code",
      "metadata": {
        "id": "kNtZA8fp4OLM"
      },
      "source": [
        "import pandas as pd\n",
        "import numpy as np\n",
        "import matplotlib.pyplot as plt\n"
      ],
      "execution_count": 8,
      "outputs": []
    },
    {
      "cell_type": "code",
      "metadata": {
        "colab": {
          "base_uri": "https://localhost:8080/",
          "height": 326
        },
        "id": "VDT36yW7x8sV",
        "outputId": "d76009ff-90c1-44a8-adab-4540e6636ec1"
      },
      "source": [
        "train=pd.read_csv('/content/CheXpert-v1.0-small/train.csv')\n",
        "train.head()"
      ],
      "execution_count": 9,
      "outputs": [
        {
          "output_type": "execute_result",
          "data": {
            "text/html": [
              "<div>\n",
              "<style scoped>\n",
              "    .dataframe tbody tr th:only-of-type {\n",
              "        vertical-align: middle;\n",
              "    }\n",
              "\n",
              "    .dataframe tbody tr th {\n",
              "        vertical-align: top;\n",
              "    }\n",
              "\n",
              "    .dataframe thead th {\n",
              "        text-align: right;\n",
              "    }\n",
              "</style>\n",
              "<table border=\"1\" class=\"dataframe\">\n",
              "  <thead>\n",
              "    <tr style=\"text-align: right;\">\n",
              "      <th></th>\n",
              "      <th>Path</th>\n",
              "      <th>Sex</th>\n",
              "      <th>Age</th>\n",
              "      <th>Frontal/Lateral</th>\n",
              "      <th>AP/PA</th>\n",
              "      <th>No Finding</th>\n",
              "      <th>Enlarged Cardiomediastinum</th>\n",
              "      <th>Cardiomegaly</th>\n",
              "      <th>Lung Opacity</th>\n",
              "      <th>Lung Lesion</th>\n",
              "      <th>Edema</th>\n",
              "      <th>Consolidation</th>\n",
              "      <th>Pneumonia</th>\n",
              "      <th>Atelectasis</th>\n",
              "      <th>Pneumothorax</th>\n",
              "      <th>Pleural Effusion</th>\n",
              "      <th>Pleural Other</th>\n",
              "      <th>Fracture</th>\n",
              "      <th>Support Devices</th>\n",
              "    </tr>\n",
              "  </thead>\n",
              "  <tbody>\n",
              "    <tr>\n",
              "      <th>0</th>\n",
              "      <td>CheXpert-v1.0-small/train/patient00001/study1/...</td>\n",
              "      <td>Female</td>\n",
              "      <td>68</td>\n",
              "      <td>Frontal</td>\n",
              "      <td>AP</td>\n",
              "      <td>1.0</td>\n",
              "      <td>NaN</td>\n",
              "      <td>NaN</td>\n",
              "      <td>NaN</td>\n",
              "      <td>NaN</td>\n",
              "      <td>NaN</td>\n",
              "      <td>NaN</td>\n",
              "      <td>NaN</td>\n",
              "      <td>NaN</td>\n",
              "      <td>0.0</td>\n",
              "      <td>NaN</td>\n",
              "      <td>NaN</td>\n",
              "      <td>NaN</td>\n",
              "      <td>1.0</td>\n",
              "    </tr>\n",
              "    <tr>\n",
              "      <th>1</th>\n",
              "      <td>CheXpert-v1.0-small/train/patient00002/study2/...</td>\n",
              "      <td>Female</td>\n",
              "      <td>87</td>\n",
              "      <td>Frontal</td>\n",
              "      <td>AP</td>\n",
              "      <td>NaN</td>\n",
              "      <td>NaN</td>\n",
              "      <td>-1.0</td>\n",
              "      <td>1.0</td>\n",
              "      <td>NaN</td>\n",
              "      <td>-1.0</td>\n",
              "      <td>-1.0</td>\n",
              "      <td>NaN</td>\n",
              "      <td>-1.0</td>\n",
              "      <td>NaN</td>\n",
              "      <td>-1.0</td>\n",
              "      <td>NaN</td>\n",
              "      <td>1.0</td>\n",
              "      <td>NaN</td>\n",
              "    </tr>\n",
              "    <tr>\n",
              "      <th>2</th>\n",
              "      <td>CheXpert-v1.0-small/train/patient00002/study1/...</td>\n",
              "      <td>Female</td>\n",
              "      <td>83</td>\n",
              "      <td>Frontal</td>\n",
              "      <td>AP</td>\n",
              "      <td>NaN</td>\n",
              "      <td>NaN</td>\n",
              "      <td>NaN</td>\n",
              "      <td>1.0</td>\n",
              "      <td>NaN</td>\n",
              "      <td>NaN</td>\n",
              "      <td>-1.0</td>\n",
              "      <td>NaN</td>\n",
              "      <td>NaN</td>\n",
              "      <td>NaN</td>\n",
              "      <td>NaN</td>\n",
              "      <td>NaN</td>\n",
              "      <td>1.0</td>\n",
              "      <td>NaN</td>\n",
              "    </tr>\n",
              "    <tr>\n",
              "      <th>3</th>\n",
              "      <td>CheXpert-v1.0-small/train/patient00002/study1/...</td>\n",
              "      <td>Female</td>\n",
              "      <td>83</td>\n",
              "      <td>Lateral</td>\n",
              "      <td>NaN</td>\n",
              "      <td>NaN</td>\n",
              "      <td>NaN</td>\n",
              "      <td>NaN</td>\n",
              "      <td>1.0</td>\n",
              "      <td>NaN</td>\n",
              "      <td>NaN</td>\n",
              "      <td>-1.0</td>\n",
              "      <td>NaN</td>\n",
              "      <td>NaN</td>\n",
              "      <td>NaN</td>\n",
              "      <td>NaN</td>\n",
              "      <td>NaN</td>\n",
              "      <td>1.0</td>\n",
              "      <td>NaN</td>\n",
              "    </tr>\n",
              "    <tr>\n",
              "      <th>4</th>\n",
              "      <td>CheXpert-v1.0-small/train/patient00003/study1/...</td>\n",
              "      <td>Male</td>\n",
              "      <td>41</td>\n",
              "      <td>Frontal</td>\n",
              "      <td>AP</td>\n",
              "      <td>NaN</td>\n",
              "      <td>NaN</td>\n",
              "      <td>NaN</td>\n",
              "      <td>NaN</td>\n",
              "      <td>NaN</td>\n",
              "      <td>1.0</td>\n",
              "      <td>NaN</td>\n",
              "      <td>NaN</td>\n",
              "      <td>NaN</td>\n",
              "      <td>0.0</td>\n",
              "      <td>NaN</td>\n",
              "      <td>NaN</td>\n",
              "      <td>NaN</td>\n",
              "      <td>NaN</td>\n",
              "    </tr>\n",
              "  </tbody>\n",
              "</table>\n",
              "</div>"
            ],
            "text/plain": [
              "                                                Path  ... Support Devices\n",
              "0  CheXpert-v1.0-small/train/patient00001/study1/...  ...             1.0\n",
              "1  CheXpert-v1.0-small/train/patient00002/study2/...  ...             NaN\n",
              "2  CheXpert-v1.0-small/train/patient00002/study1/...  ...             NaN\n",
              "3  CheXpert-v1.0-small/train/patient00002/study1/...  ...             NaN\n",
              "4  CheXpert-v1.0-small/train/patient00003/study1/...  ...             NaN\n",
              "\n",
              "[5 rows x 19 columns]"
            ]
          },
          "metadata": {
            "tags": []
          },
          "execution_count": 9
        }
      ]
    },
    {
      "cell_type": "code",
      "metadata": {
        "colab": {
          "base_uri": "https://localhost:8080/",
          "height": 326
        },
        "id": "fyvMtxlv-n62",
        "outputId": "d2d92fb8-0745-4393-c390-29d701fa26f4"
      },
      "source": [
        "val=pd.read_csv('/content/CheXpert-v1.0-small/valid.csv')\n",
        "val.head()"
      ],
      "execution_count": 10,
      "outputs": [
        {
          "output_type": "execute_result",
          "data": {
            "text/html": [
              "<div>\n",
              "<style scoped>\n",
              "    .dataframe tbody tr th:only-of-type {\n",
              "        vertical-align: middle;\n",
              "    }\n",
              "\n",
              "    .dataframe tbody tr th {\n",
              "        vertical-align: top;\n",
              "    }\n",
              "\n",
              "    .dataframe thead th {\n",
              "        text-align: right;\n",
              "    }\n",
              "</style>\n",
              "<table border=\"1\" class=\"dataframe\">\n",
              "  <thead>\n",
              "    <tr style=\"text-align: right;\">\n",
              "      <th></th>\n",
              "      <th>Path</th>\n",
              "      <th>Sex</th>\n",
              "      <th>Age</th>\n",
              "      <th>Frontal/Lateral</th>\n",
              "      <th>AP/PA</th>\n",
              "      <th>No Finding</th>\n",
              "      <th>Enlarged Cardiomediastinum</th>\n",
              "      <th>Cardiomegaly</th>\n",
              "      <th>Lung Opacity</th>\n",
              "      <th>Lung Lesion</th>\n",
              "      <th>Edema</th>\n",
              "      <th>Consolidation</th>\n",
              "      <th>Pneumonia</th>\n",
              "      <th>Atelectasis</th>\n",
              "      <th>Pneumothorax</th>\n",
              "      <th>Pleural Effusion</th>\n",
              "      <th>Pleural Other</th>\n",
              "      <th>Fracture</th>\n",
              "      <th>Support Devices</th>\n",
              "    </tr>\n",
              "  </thead>\n",
              "  <tbody>\n",
              "    <tr>\n",
              "      <th>0</th>\n",
              "      <td>CheXpert-v1.0-small/valid/patient64541/study1/...</td>\n",
              "      <td>Male</td>\n",
              "      <td>73</td>\n",
              "      <td>Frontal</td>\n",
              "      <td>AP</td>\n",
              "      <td>0.0</td>\n",
              "      <td>1.0</td>\n",
              "      <td>1.0</td>\n",
              "      <td>1.0</td>\n",
              "      <td>0.0</td>\n",
              "      <td>0.0</td>\n",
              "      <td>0.0</td>\n",
              "      <td>0.0</td>\n",
              "      <td>0.0</td>\n",
              "      <td>0.0</td>\n",
              "      <td>0.0</td>\n",
              "      <td>0.0</td>\n",
              "      <td>0.0</td>\n",
              "      <td>0.0</td>\n",
              "    </tr>\n",
              "    <tr>\n",
              "      <th>1</th>\n",
              "      <td>CheXpert-v1.0-small/valid/patient64542/study1/...</td>\n",
              "      <td>Male</td>\n",
              "      <td>70</td>\n",
              "      <td>Frontal</td>\n",
              "      <td>PA</td>\n",
              "      <td>0.0</td>\n",
              "      <td>0.0</td>\n",
              "      <td>0.0</td>\n",
              "      <td>0.0</td>\n",
              "      <td>0.0</td>\n",
              "      <td>0.0</td>\n",
              "      <td>0.0</td>\n",
              "      <td>0.0</td>\n",
              "      <td>0.0</td>\n",
              "      <td>0.0</td>\n",
              "      <td>0.0</td>\n",
              "      <td>0.0</td>\n",
              "      <td>0.0</td>\n",
              "      <td>1.0</td>\n",
              "    </tr>\n",
              "    <tr>\n",
              "      <th>2</th>\n",
              "      <td>CheXpert-v1.0-small/valid/patient64542/study1/...</td>\n",
              "      <td>Male</td>\n",
              "      <td>70</td>\n",
              "      <td>Lateral</td>\n",
              "      <td>NaN</td>\n",
              "      <td>0.0</td>\n",
              "      <td>0.0</td>\n",
              "      <td>0.0</td>\n",
              "      <td>0.0</td>\n",
              "      <td>0.0</td>\n",
              "      <td>0.0</td>\n",
              "      <td>0.0</td>\n",
              "      <td>0.0</td>\n",
              "      <td>0.0</td>\n",
              "      <td>0.0</td>\n",
              "      <td>0.0</td>\n",
              "      <td>0.0</td>\n",
              "      <td>0.0</td>\n",
              "      <td>1.0</td>\n",
              "    </tr>\n",
              "    <tr>\n",
              "      <th>3</th>\n",
              "      <td>CheXpert-v1.0-small/valid/patient64543/study1/...</td>\n",
              "      <td>Male</td>\n",
              "      <td>85</td>\n",
              "      <td>Frontal</td>\n",
              "      <td>AP</td>\n",
              "      <td>0.0</td>\n",
              "      <td>1.0</td>\n",
              "      <td>0.0</td>\n",
              "      <td>1.0</td>\n",
              "      <td>0.0</td>\n",
              "      <td>1.0</td>\n",
              "      <td>0.0</td>\n",
              "      <td>0.0</td>\n",
              "      <td>0.0</td>\n",
              "      <td>0.0</td>\n",
              "      <td>0.0</td>\n",
              "      <td>0.0</td>\n",
              "      <td>0.0</td>\n",
              "      <td>0.0</td>\n",
              "    </tr>\n",
              "    <tr>\n",
              "      <th>4</th>\n",
              "      <td>CheXpert-v1.0-small/valid/patient64544/study1/...</td>\n",
              "      <td>Female</td>\n",
              "      <td>42</td>\n",
              "      <td>Frontal</td>\n",
              "      <td>AP</td>\n",
              "      <td>1.0</td>\n",
              "      <td>0.0</td>\n",
              "      <td>0.0</td>\n",
              "      <td>0.0</td>\n",
              "      <td>0.0</td>\n",
              "      <td>0.0</td>\n",
              "      <td>0.0</td>\n",
              "      <td>0.0</td>\n",
              "      <td>0.0</td>\n",
              "      <td>0.0</td>\n",
              "      <td>0.0</td>\n",
              "      <td>0.0</td>\n",
              "      <td>0.0</td>\n",
              "      <td>0.0</td>\n",
              "    </tr>\n",
              "  </tbody>\n",
              "</table>\n",
              "</div>"
            ],
            "text/plain": [
              "                                                Path  ... Support Devices\n",
              "0  CheXpert-v1.0-small/valid/patient64541/study1/...  ...             0.0\n",
              "1  CheXpert-v1.0-small/valid/patient64542/study1/...  ...             1.0\n",
              "2  CheXpert-v1.0-small/valid/patient64542/study1/...  ...             1.0\n",
              "3  CheXpert-v1.0-small/valid/patient64543/study1/...  ...             0.0\n",
              "4  CheXpert-v1.0-small/valid/patient64544/study1/...  ...             0.0\n",
              "\n",
              "[5 rows x 19 columns]"
            ]
          },
          "metadata": {
            "tags": []
          },
          "execution_count": 10
        }
      ]
    },
    {
      "cell_type": "code",
      "metadata": {
        "id": "RIe_1OlB0dep"
      },
      "source": [
        "\n",
        "import csv\n",
        "def read_images(path):\n",
        "  image_names = []\n",
        "  labels = []\n",
        "  policy='ones'\n",
        "  with open(path, \"r\") as f:\n",
        "      csvReader = csv.reader(f)\n",
        "      next(csvReader, None)\n",
        "      k=0\n",
        "      for line in csvReader:\n",
        "          k+=1\n",
        "          image_name= line[0]\n",
        "          label = line[5:]\n",
        "          \n",
        "          for i in range(14):\n",
        "              if label[i]:\n",
        "                  a = float(label[i])\n",
        "                  if a == 1:\n",
        "                      label[i] = 1\n",
        "                  elif a == -1:\n",
        "                      if policy == \"ones\":\n",
        "                          label[i] = 1\n",
        "                      elif policy == \"zeroes\":\n",
        "                          label[i] = 0\n",
        "                      else:\n",
        "                          label[i] = 0\n",
        "                  else:\n",
        "                      label[i] = 0\n",
        "              else:\n",
        "                  label[i] = 0\n",
        "                  \n",
        "          image_names.append(image_name)\n",
        "          labels.append(label)\n",
        "  return image_names,labels"
      ],
      "execution_count": 11,
      "outputs": []
    },
    {
      "cell_type": "code",
      "metadata": {
        "id": "9SEjfJjJ5DVZ"
      },
      "source": [
        "train_image,train_label=read_images('/content/CheXpert-v1.0-small/train.csv')\n",
        "val_image,val_label=read_images('/content/CheXpert-v1.0-small/valid.csv')"
      ],
      "execution_count": 12,
      "outputs": []
    },
    {
      "cell_type": "code",
      "metadata": {
        "colab": {
          "base_uri": "https://localhost:8080/"
        },
        "id": "4WBeO-te33Kp",
        "outputId": "46066952-0c2a-43fe-e5e5-c38577ac73db"
      },
      "source": [
        "class_names = ['No Finding', 'Enlarged Cardiomediastinum', 'Cardiomegaly', 'Lung Opacity', \n",
        "               'Lung Lesion', 'Edema', 'Consolidation', 'Pneumonia', 'Atelectasis', 'Pneumothorax', \n",
        "               'Pleural Effusion', 'Pleural Other', 'Fracture', 'Support Devices']\n",
        "print(len(class_names))"
      ],
      "execution_count": 13,
      "outputs": [
        {
          "output_type": "stream",
          "text": [
            "14\n"
          ],
          "name": "stdout"
        }
      ]
    },
    {
      "cell_type": "code",
      "metadata": {
        "id": "zJqqIYqn5XBQ"
      },
      "source": [
        "from pytorch_lightning import seed_everything, LightningModule, Trainer\n",
        "from pytorch_lightning.callbacks import EarlyStopping,ModelCheckpoint\n",
        "from torch.nn.functional import cross_entropy\n",
        "from sklearn.utils import class_weight\n",
        "from torchvision import transforms \n",
        "import torchvision.models as models\n",
        "import torchmetrics\n",
        "import torch#pytorch\n",
        "from sklearn.utils import class_weight"
      ],
      "execution_count": 14,
      "outputs": []
    },
    {
      "cell_type": "code",
      "metadata": {
        "id": "PO-1achg6aI5"
      },
      "source": [
        "aug=transforms.Compose([\n",
        "                        transforms.Resize((224,224)),\n",
        "                        #transforms.CenterCrop(224),\n",
        "                        transforms.RandomHorizontalFlip(p=0.5),\n",
        "                        transforms.RandomVerticalFlip(p=0.5),\n",
        "                        transforms.RandomRotation(degrees=3),\n",
        "                        transforms.RandomPerspective(0.05,0.2),\n",
        "                        transforms.ToTensor(),\n",
        "                        transforms.Normalize([0.5, ], [0.5,]),\n",
        "\n",
        "                        ])"
      ],
      "execution_count": 15,
      "outputs": []
    },
    {
      "cell_type": "code",
      "metadata": {
        "id": "PE3HTo986akH"
      },
      "source": [
        "from PIL import Image\n",
        "from torch.utils.data import DataLoader, Dataset\n",
        "class DataReader(Dataset):\n",
        "  def __init__(self,image,label,transform=None):\n",
        "    super(DataReader,self).__init__()\n",
        "    self.image=image\n",
        "    self.label=label\n",
        "    self.transform=transform\n",
        "\n",
        "  def __len__(self):\n",
        "    return len(self.image)\n",
        "\n",
        "  def __getitem__(self,index):\n",
        "    image_path=self.image[index]\n",
        "    image_label=self.label[index]\n",
        "\n",
        "    #read data\n",
        "    image=Image.open(image_path).convert('L')\n",
        "\n",
        "    if self.transform:\n",
        "      image=self.transform(image)\n",
        "\n",
        "    return image,torch.tensor(image_label,dtype=torch.float32)"
      ],
      "execution_count": 16,
      "outputs": []
    },
    {
      "cell_type": "code",
      "metadata": {
        "colab": {
          "base_uri": "https://localhost:8080/",
          "height": 431
        },
        "id": "a14SSMIE7bTU",
        "outputId": "cafad1ed-397e-43eb-b7cf-46a0b9bf78b7"
      },
      "source": [
        "#code testing\n",
        "from torch.utils.data.dataloader import DataLoader\n",
        "import torchvision\n",
        "import matplotlib.pyplot as plt\n",
        "train=DataReader(np.array(train_image),np.array(train_label),transform=aug)\n",
        "train_loader = DataLoader(train,shuffle=True,num_workers=0,batch_size=8)\n",
        "batch,_=next(iter(train_loader))\n",
        "grid_img=torchvision.utils.make_grid(batch,4,4)\n",
        "plt.imshow(grid_img.permute(1, 2, 0),cmap='gray')"
      ],
      "execution_count": 17,
      "outputs": [
        {
          "output_type": "stream",
          "text": [
            "/usr/local/lib/python3.7/dist-packages/torchvision/transforms/functional.py:594: UserWarning: torch.lstsq is deprecated in favor of torch.linalg.lstsq and will be removed in a future PyTorch release.\n",
            "torch.linalg.lstsq has reversed arguments and does not return the QR decomposition in the returned tuple (although it returns other information about the problem).\n",
            "To get the qr decomposition consider using torch.linalg.qr.\n",
            "The returned solution in torch.lstsq stored the residuals of the solution in the last m - n columns of the returned value whenever m > n. In torch.linalg.lstsq, the residuals in the field 'residuals' of the returned named tuple.\n",
            "The unpacking of the solution, as in\n",
            "X, _ = torch.lstsq(B, A).solution[:A.size(1)]\n",
            "should be replaced with\n",
            "X = torch.linalg.lstsq(A, B).solution (Triggered internally at  /pytorch/aten/src/ATen/LegacyTHFunctionsCPU.cpp:389.)\n",
            "  res = torch.lstsq(b_matrix, a_matrix)[0]\n",
            "WARNING:matplotlib.image:Clipping input data to the valid range for imshow with RGB data ([0..1] for floats or [0..255] for integers).\n"
          ],
          "name": "stderr"
        },
        {
          "output_type": "execute_result",
          "data": {
            "text/plain": [
              "<matplotlib.image.AxesImage at 0x7f38f6df5c90>"
            ]
          },
          "metadata": {
            "tags": []
          },
          "execution_count": 17
        },
        {
          "output_type": "display_data",
          "data": {
            "image/png": "[encoded data removed]",
            "text/plain": [
              "<Figure size 432x288 with 1 Axes>"
            ]
          },
          "metadata": {
            "tags": [],
            "needs_background": "light"
          }
        }
      ]
    },
    {
      "cell_type": "code",
      "metadata": {
        "id": "yrp09lU-rb_v"
      },
      "source": [
        "import re\n",
        "import torch\n",
        "import torch.nn as nn\n",
        "import torch.nn.functional as F\n",
        "import torch.utils.checkpoint as cp\n",
        "from collections import OrderedDict\n",
        "from torch import Tensor\n",
        "from typing import Any, List, Tuple\n",
        "\n",
        "\n",
        "\n",
        "\n",
        "class _DenseLayer(nn.Module):\n",
        "    def __init__(\n",
        "        self,\n",
        "        num_input_features: int,\n",
        "        growth_rate: int,\n",
        "        bn_size: int,\n",
        "        drop_rate: float,\n",
        "        memory_efficient: bool = False\n",
        "    ) -> None:\n",
        "        super(_DenseLayer, self).__init__()\n",
        "        self.norm1: nn.BatchNorm2d\n",
        "        self.add_module('norm1', nn.BatchNorm2d(num_input_features))\n",
        "        self.relu1: nn.ReLU\n",
        "        self.add_module('relu1', nn.ReLU(inplace=True))\n",
        "        self.conv1: nn.Conv2d\n",
        "        self.add_module('conv1', nn.Conv2d(num_input_features, bn_size *\n",
        "                                           growth_rate, kernel_size=1, stride=1,\n",
        "                                           bias=False))\n",
        "        self.norm2: nn.BatchNorm2d\n",
        "        self.add_module('norm2', nn.BatchNorm2d(bn_size * growth_rate))\n",
        "        self.relu2: nn.ReLU\n",
        "        self.add_module('relu2', nn.ReLU(inplace=True))\n",
        "        self.conv2: nn.Conv2d\n",
        "        self.add_module('conv2', nn.Conv2d(bn_size * growth_rate, growth_rate,\n",
        "                                           kernel_size=3, stride=1, padding=1,\n",
        "                                           bias=False))\n",
        "        self.drop_rate = float(drop_rate)\n",
        "        self.memory_efficient = memory_efficient\n",
        "\n",
        "    def bn_function(self, inputs: List[Tensor]) -> Tensor:\n",
        "        concated_features = torch.cat(inputs, 1)\n",
        "        bottleneck_output = self.conv1(self.relu1(self.norm1(concated_features)))  # noqa: T484\n",
        "        return bottleneck_output\n",
        "\n",
        "    # todo: rewrite when torchscript supports any\n",
        "    def any_requires_grad(self, input: List[Tensor]) -> bool:\n",
        "        for tensor in input:\n",
        "            if tensor.requires_grad:\n",
        "                return True\n",
        "        return False\n",
        "\n",
        "    @torch.jit.unused  # noqa: T484\n",
        "    def call_checkpoint_bottleneck(self, input: List[Tensor]) -> Tensor:\n",
        "        def closure(*inputs):\n",
        "            return self.bn_function(inputs)\n",
        "\n",
        "        return cp.checkpoint(closure, *input)\n",
        "\n",
        "    @torch.jit._overload_method  # noqa: F811\n",
        "    def forward(self, input: List[Tensor]) -> Tensor:\n",
        "        pass\n",
        "\n",
        "    @torch.jit._overload_method  # noqa: F811\n",
        "    def forward(self, input: Tensor) -> Tensor:\n",
        "        pass\n",
        "\n",
        "    # torchscript does not yet support *args, so we overload method\n",
        "    # allowing it to take either a List[Tensor] or single Tensor\n",
        "    def forward(self, input: Tensor) -> Tensor:  # noqa: F811\n",
        "        if isinstance(input, Tensor):\n",
        "            prev_features = [input]\n",
        "        else:\n",
        "            prev_features = input\n",
        "\n",
        "        if self.memory_efficient and self.any_requires_grad(prev_features):\n",
        "            if torch.jit.is_scripting():\n",
        "                raise Exception(\"Memory Efficient not supported in JIT\")\n",
        "\n",
        "            bottleneck_output = self.call_checkpoint_bottleneck(prev_features)\n",
        "        else:\n",
        "            bottleneck_output = self.bn_function(prev_features)\n",
        "\n",
        "        new_features = self.conv2(self.relu2(self.norm2(bottleneck_output)))\n",
        "        if self.drop_rate > 0:\n",
        "            new_features = F.dropout(new_features, p=self.drop_rate,\n",
        "                                     training=self.training)\n",
        "        return new_features\n",
        "\n",
        "\n",
        "class _DenseBlock(nn.ModuleDict):\n",
        "    _version = 2\n",
        "\n",
        "    def __init__(\n",
        "        self,\n",
        "        num_layers: int,\n",
        "        num_input_features: int,\n",
        "        bn_size: int,\n",
        "        growth_rate: int,\n",
        "        drop_rate: float,\n",
        "        memory_efficient: bool = False\n",
        "    ) -> None:\n",
        "        super(_DenseBlock, self).__init__()\n",
        "        for i in range(num_layers):\n",
        "            layer = _DenseLayer(\n",
        "                num_input_features + i * growth_rate,\n",
        "                growth_rate=growth_rate,\n",
        "                bn_size=bn_size,\n",
        "                drop_rate=drop_rate,\n",
        "                memory_efficient=memory_efficient,\n",
        "            )\n",
        "            self.add_module('denselayer%d' % (i + 1), layer)\n",
        "\n",
        "    def forward(self, init_features: Tensor) -> Tensor:\n",
        "        features = [init_features]\n",
        "        for name, layer in self.items():\n",
        "            new_features = layer(features)\n",
        "            features.append(new_features)\n",
        "        return torch.cat(features, 1)\n",
        "\n",
        "\n",
        "class _Transition(nn.Sequential):\n",
        "    def __init__(self, num_input_features: int, num_output_features: int) -> None:\n",
        "        super(_Transition, self).__init__()\n",
        "        self.add_module('norm', nn.BatchNorm2d(num_input_features))\n",
        "        self.add_module('relu', nn.ReLU(inplace=True))\n",
        "        self.add_module('conv', nn.Conv2d(num_input_features, num_output_features,\n",
        "                                          kernel_size=1, stride=1, bias=False))\n",
        "        self.add_module('pool', nn.AvgPool2d(kernel_size=2, stride=2))\n",
        "\n",
        "\n",
        "class DenseNet(nn.Module):\n",
        "    r\"\"\"Densenet-BC model class, based on\n",
        "    `\"Densely Connected Convolutional Networks\" <https://arxiv.org/pdf/1608.06993.pdf>`_.\n",
        "    Args:\n",
        "        growth_rate (int) - how many filters to add each layer (`k` in paper)\n",
        "        block_config (list of 4 ints) - how many layers in each pooling block\n",
        "        num_init_features (int) - the number of filters to learn in the first convolution layer\n",
        "        bn_size (int) - multiplicative factor for number of bottle neck layers\n",
        "          (i.e. bn_size * k features in the bottleneck layer)\n",
        "        drop_rate (float) - dropout rate after each dense layer\n",
        "        num_classes (int) - number of classification classes\n",
        "        memory_efficient (bool) - If True, uses checkpointing. Much more memory efficient,\n",
        "          but slower. Default: *False*. See `\"paper\" <https://arxiv.org/pdf/1707.06990.pdf>`_.\n",
        "    \"\"\"\n",
        "\n",
        "    def __init__(\n",
        "        self,\n",
        "        growth_rate: int = 32,\n",
        "        block_config: Tuple[int, int, int, int] = (6, 12, 24, 16),\n",
        "        num_init_features: int = 64,\n",
        "        bn_size: int = 4,\n",
        "        drop_rate: float = 0,\n",
        "        num_classes: int = 1000,\n",
        "        memory_efficient: bool = False\n",
        "    ) -> None:\n",
        "\n",
        "        super(DenseNet, self).__init__()\n",
        "\n",
        "        # First convolution\n",
        "        self.features = nn.Sequential(OrderedDict([\n",
        "            ('conv0', nn.Conv2d(1, num_init_features, kernel_size=7, stride=2,\n",
        "                                padding=3, bias=False)),\n",
        "            ('norm0', nn.BatchNorm2d(num_init_features)),\n",
        "            ('relu0', nn.ReLU(inplace=True)),\n",
        "            ('pool0', nn.MaxPool2d(kernel_size=3, stride=2, padding=1)),\n",
        "        ]))\n",
        "\n",
        "        # Each denseblock\n",
        "        num_features = num_init_features\n",
        "        for i, num_layers in enumerate(block_config):\n",
        "            block = _DenseBlock(\n",
        "                num_layers=num_layers,\n",
        "                num_input_features=num_features,\n",
        "                bn_size=bn_size,\n",
        "                growth_rate=growth_rate,\n",
        "                drop_rate=drop_rate,\n",
        "                memory_efficient=memory_efficient\n",
        "            )\n",
        "            self.features.add_module('denseblock%d' % (i + 1), block)\n",
        "            num_features = num_features + num_layers * growth_rate\n",
        "            if i != len(block_config) - 1:\n",
        "                trans = _Transition(num_input_features=num_features,\n",
        "                                    num_output_features=num_features // 2)\n",
        "                self.features.add_module('transition%d' % (i + 1), trans)\n",
        "                num_features = num_features // 2\n",
        "\n",
        "        # Final batch norm\n",
        "        self.features.add_module('norm5', nn.BatchNorm2d(num_features))\n",
        "\n",
        "        # Linear layer\n",
        "        self.classifier = nn.Linear(num_features, num_classes)\n",
        "        self.classifier1 = nn.Linear(num_classes, 14)\n",
        "        self.classifier2=nn.Sigmoid()\n",
        "\n",
        "\n",
        "        # Official init from torch repo.\n",
        "        for m in self.modules():\n",
        "            if isinstance(m, nn.Conv2d):\n",
        "                nn.init.kaiming_normal_(m.weight)\n",
        "            elif isinstance(m, nn.BatchNorm2d):\n",
        "                nn.init.constant_(m.weight, 1)\n",
        "                nn.init.constant_(m.bias, 0)\n",
        "            elif isinstance(m, nn.Linear):\n",
        "                nn.init.constant_(m.bias, 0)\n",
        "\n",
        "    def forward(self, x: Tensor) -> Tensor:\n",
        "        features = self.features(x)\n",
        "        out = F.relu(features, inplace=True)\n",
        "        out = F.adaptive_avg_pool2d(out, (1, 1))\n",
        "        out = torch.flatten(out, 1)\n",
        "        out = self.classifier(out)\n",
        "        out = self.classifier1(out)\n",
        "        out = self.classifier2(out)\n",
        "        \n",
        "        return out\n",
        "\n",
        "\n",
        "\n",
        "\n",
        "\n",
        "def _densenet(\n",
        "    arch: str,\n",
        "    growth_rate: int,\n",
        "    block_config: Tuple[int, int, int, int],\n",
        "    num_init_features: int,\n",
        "   \n",
        "    **kwargs: Any\n",
        ") -> DenseNet:\n",
        "    model = DenseNet(growth_rate, block_config, num_init_features, **kwargs)\n",
        "    return model\n",
        "\n",
        "\n",
        "def densenet121( **kwargs: Any) -> DenseNet:\n",
        "    r\"\"\"Densenet-121 model from\n",
        "    `\"Densely Connected Convolutional Networks\" <https://arxiv.org/pdf/1608.06993.pdf>`_.\n",
        "    Args:\n",
        "        pretrained (bool): If True, returns a model pre-trained on ImageNet\n",
        "        progress (bool): If True, displays a progress bar of the download to stderr\n",
        "        memory_efficient (bool) - If True, uses checkpointing. Much more memory efficient,\n",
        "          but slower. Default: *False*. See `\"paper\" <https://arxiv.org/pdf/1707.06990.pdf>`_.\n",
        "    \"\"\"\n",
        "    return _densenet('densenet121', 32, (6, 12, 24, 16), 64,\n",
        "                     **kwargs)"
      ],
      "execution_count": 20,
      "outputs": []
    },
    {
      "cell_type": "code",
      "metadata": {
        "colab": {
          "base_uri": "https://localhost:8080/"
        },
        "id": "ZrJmSpq9BPns",
        "outputId": "535b41e5-9320-4119-d635-32b5fbf958ca"
      },
      "source": [
        "x=torch.randn(1,1,224,224)\n",
        "model=densenet121()\n",
        "out=model(x)\n",
        "out.shape"
      ],
      "execution_count": 21,
      "outputs": [
        {
          "output_type": "execute_result",
          "data": {
            "text/plain": [
              "torch.Size([1, 14])"
            ]
          },
          "metadata": {
            "tags": []
          },
          "execution_count": 21
        }
      ]
    },
    {
      "cell_type": "code",
      "metadata": {
        "id": "6x8fqsUhBZLZ",
        "colab": {
          "base_uri": "https://localhost:8080/"
        },
        "outputId": "1a5abaa5-87d1-40bb-87b4-3e5e18bdb775"
      },
      "source": [
        "criterion=nn.BCEWithLogitsLoss()\n",
        "criterion(out,torch.tensor(np.expand_dims(train_label[0],0),dtype=torch.float32))\n"
      ],
      "execution_count": 22,
      "outputs": [
        {
          "output_type": "execute_result",
          "data": {
            "text/plain": [
              "tensor(0.9020, grad_fn=<BinaryCrossEntropyWithLogitsBackward>)"
            ]
          },
          "metadata": {
            "tags": []
          },
          "execution_count": 22
        }
      ]
    },
    {
      "cell_type": "code",
      "metadata": {
        "id": "TOg-kpFAO_go"
      },
      "source": [
        "# pred=torch.tensor(np.expand_dims(train_label[0],0),dtype=torch.float32)\n",
        "# pred.shape,out.shape\n"
      ],
      "execution_count": 23,
      "outputs": []
    },
    {
      "cell_type": "code",
      "metadata": {
        "id": "mQgN1GTy32cY"
      },
      "source": [
        "train_images=np.array(train_image)\n",
        "train_labels=np.array(train_label)\n",
        "val_images=np.array(val_image)\n",
        "val_labels=np.array(val_label)"
      ],
      "execution_count": 26,
      "outputs": []
    },
    {
      "cell_type": "code",
      "metadata": {
        "id": "n-MOdg1h8Cj2"
      },
      "source": [
        "import torch.nn as nn\n",
        "class OurModel(LightningModule):\n",
        "  def __init__(self):\n",
        "    super(OurModel,self).__init__()\n",
        "    #architecute\n",
        "    self.layer = densenet121()\n",
        "   \n",
        "  #parameters\n",
        "    \n",
        "    self.batch_size=64\n",
        "    self.numworker=1\n",
        "    self.criterion=nn.BCELoss()\n",
        "    \n",
        "  def forward(self,x):\n",
        "    return self.layer(x)\n",
        "\n",
        "\n",
        "  def configure_optimizers(self):\n",
        "    optimizer=torch.optim.Adam(params=self.parameters(), lr = 0.0001, betas = (0.9, 0.999), eps = 1e-08, weight_decay = 0)\n",
        "    lr_schedulers ={'scheduler': torch.optim.lr_scheduler.ReduceLROnPlateau(optimizer, factor =0.5,patience =2,verbose =True),\n",
        "                    'monitor': 'val/loss'}\n",
        "    return {\"optimizer\": optimizer, \"scheduler\": lr_schedulers}\n",
        "\n",
        "  def train_dataloader(self):\n",
        "    return DataLoader(DataReader(train_images,train_labels,aug), batch_size = self.batch_size, num_workers=self.numworker,shuffle=True)\n",
        "\n",
        "  def training_step(self,batch,batch_idx):\n",
        "    image,label=batch\n",
        "    out=self(image)\n",
        "    loss=self.criterion(out,label)\n",
        "\n",
        "    self.log('train/loss', loss, on_epoch=True,prog_bar=True)\n",
        "    return loss\n",
        "\n",
        "  def val_dataloader(self):\n",
        "    return DataLoader(DataReader(val_images,val_labels,aug), batch_size = self.batch_size,num_workers=self.numworker,  shuffle=False)\n",
        "    \n",
        "  def validation_step(self,batch,batch_idx):\n",
        "    image,label=batch\n",
        "    out=self(image)\n",
        "    loss=self.criterion(out,label)\n",
        "    self.log('val/loss', loss, on_epoch=True,prog_bar=True)\n",
        "    return loss\n",
        "\n",
        "\n",
        "  def test_dataloader(self):\n",
        "    return DataLoader(DataReader(val_images,val_labels,aug), batch_size = self.batch_size,num_workers=self.numworker,  shuffle=False)\n",
        "    \n",
        "  def test_step(self,batch,batch_idx):\n",
        "    image,label=batch\n",
        "    out=self(image)\n",
        "    loss=self.criterion(out,label)\n",
        "    self.log('test/loss', loss, on_epoch=True,prog_bar=True)\n",
        "    return loss\n",
        "\n",
        "\n"
      ],
      "execution_count": 29,
      "outputs": []
    },
    {
      "cell_type": "code",
      "metadata": {
        "colab": {
          "base_uri": "https://localhost:8080/",
          "height": 743,
          "referenced_widgets": [
            "313e6fea2a6543bcb21886224bef46bf",
            "71443f8bb7b7428ea402f1bc531ef9e3",
            "b5f70f4ed805452bb51e23a1f99d7075",
            "87931d64ae6a4760b7b6269791a43d24",
            "01e8bb25657b47e184605312e19ace4a",
            "a7b896a1d68a469c93ba82286fa08378",
            "691224e7b9784f9f967676813b004776",
            "ed4c4d601a2e407b9f4a396753196ef3",
            "c71d8b1fa81043aca032d3c6acd887f6",
            "ff9e109965bd45d8bf34943e2aa2329b",
            "49a472ab66ef4f258211d8dddd9c7919",
            "296ae3ee9eb047d7a78a7d6c781fa647",
            "3049bd27fd7d47e9afa1eb2fb06d6f56",
            "5785eb20da71420a8d968d383b5d1962",
            "b973a8e013f04e7091644a32814a298a",
            "18527ec1fdaf476ab3a3e284f7c226fc",
            "fcb4984f9a8d41ea9a53baed7a608018",
            "4b1fb5a82eed4fcc837cdbe0d37a5789",
            "54786080d8af4269b139220fd3e0ae4e",
            "4f13f99b3f6944ffbf7573040c71650d",
            "27bf8ddb15af4178a161d35822606923",
            "ca3b9298bcb54fdf9266d2e32d477bfe",
            "4dd46bf5cc9e4a56a623b4c17b3294d1",
            "2f50e8eb2d794646865a4cf0246c7df2",
            "9ccb193aa20d459497c31c777f2e2523",
            "c9c4c9efe7ac4a60959cb0dea4f1173e",
            "091bcb11843b4bc4a10f0277c2e03557",
            "227d0eb9f3524cf8b3064a8373ac2458",
            "020ba83caf6147bab6997af6e7bb719c",
            "56b519fe09f84d02832327fc772e22bb",
            "4d2f33c8555c4bd88e23dccbd9ed10e9",
            "c344da53a24448d78183f5b0ef695ca4",
            "586cba9a08ce4df88c25c3dd7d48b9f8",
            "0d30eae215ba4e049673396151840b0f",
            "ad864cd0bbe44173ac87ae76c002a76a",
            "37ffdb2021404e5489b5fc98d3579e7c",
            "0e3007de8590447cbd935d38ba007e81",
            "a298ce1a74a845a5af74bac5b00be39d",
            "fde9ec2f7d9745aea2d9d39f9f70443b",
            "0178c48a7a9f471b91d4db5e90f40a65",
            "f1dfec5cffe0425aa24f57c42f448ad4",
            "72b5889801ed49ed8e2d074a162514fd",
            "01cafe763807472eb1ec572958d99d88",
            "6a964651c0bc4378abf600319516dd4e",
            "affd122eeb684faa9f96446e175c61f6",
            "f5f764f0c40a43dfb824249070194c8a",
            "cdfff778682c4acaa72dc759714b6442",
            "dde4e81b5b884ec291ae85bb3bcb14cb"
          ]
        },
        "id": "CVMYA96T9wSj",
        "outputId": "1496475d-62f7-4303-f9e2-07f95faf0887"
      },
      "source": [
        "early_stop_callback = EarlyStopping(monitor='val/loss', min_delta=0.00, patience=2, verbose=True, mode='min')\n",
        "checkpoint_callback = ModelCheckpoint(monitor='val/loss',dirpath='/content/drive/MyDrive/',\n",
        "                                      filename='chestxraydense' )\n",
        "model = OurModel()\n",
        "trainer = Trainer(max_epochs=4, auto_lr_find=False, auto_scale_batch_size=False,\n",
        "                  tpu_cores=8,precision=16,\n",
        "                  #gpus=-1,\n",
        "                  progress_bar_refresh_rate=30, \n",
        "                  callbacks=[early_stop_callback,checkpoint_callback]\n",
        "                  )\n",
        "#trainer.tune(model)\n",
        "trainer.fit(model)"
      ],
      "execution_count": 30,
      "outputs": [
        {
          "output_type": "stream",
          "text": [
            "GPU available: False, used: False\n",
            "TPU available: True, using: 8 TPU cores\n",
            "\n",
            "  | Name      | Type     | Params\n",
            "---------------------------------------\n",
            "0 | layer     | DenseNet | 8.0 M \n",
            "1 | criterion | BCELoss  | 0     \n",
            "---------------------------------------\n",
            "8.0 M     Trainable params\n",
            "0         Non-trainable params\n",
            "8.0 M     Total params\n",
            "15.973    Total estimated model params size (MB)\n"
          ],
          "name": "stderr"
        },
        {
          "output_type": "display_data",
          "data": {
            "application/vnd.jupyter.widget-view+json": {
              "model_id": "313e6fea2a6543bcb21886224bef46bf",
              "version_minor": 0,
              "version_major": 2
            },
            "text/plain": [
              "HBox(children=(FloatProgress(value=1.0, bar_style='info', description='Validation sanity check', layout=Layout…"
            ]
          },
          "metadata": {
            "tags": []
          }
        },
        {
          "output_type": "stream",
          "text": [
            "\r"
          ],
          "name": "stdout"
        },
        {
          "output_type": "display_data",
          "data": {
            "application/vnd.jupyter.widget-view+json": {
              "model_id": "c71d8b1fa81043aca032d3c6acd887f6",
              "version_minor": 0,
              "version_major": 2
            },
            "text/plain": [
              "HBox(children=(FloatProgress(value=1.0, bar_style='info', description='Training', layout=Layout(flex='2'), max…"
            ]
          },
          "metadata": {
            "tags": []
          }
        },
        {
          "output_type": "display_data",
          "data": {
            "application/vnd.jupyter.widget-view+json": {
              "model_id": "fcb4984f9a8d41ea9a53baed7a608018",
              "version_minor": 0,
              "version_major": 2
            },
            "text/plain": [
              "HBox(children=(FloatProgress(value=1.0, bar_style='info', description='Validating', layout=Layout(flex='2'), m…"
            ]
          },
          "metadata": {
            "tags": []
          }
        },
        {
          "output_type": "stream",
          "text": [
            "[rank: 7] Metric val/loss improved. New best score: 0.457\n",
            "[rank: 0] Metric val/loss improved. New best score: 0.466\n",
            "[rank: 2] Metric val/loss improved. New best score: 0.468\n",
            "[rank: 6] Metric val/loss improved. New best score: 0.364\n",
            "[rank: 5] Metric val/loss improved. New best score: 0.392\n",
            "[rank: 4] Metric val/loss improved. New best score: 0.382\n",
            "[rank: 1] Metric val/loss improved. New best score: 0.384\n",
            "[rank: 3] Metric val/loss improved. New best score: 0.450\n"
          ],
          "name": "stderr"
        },
        {
          "output_type": "display_data",
          "data": {
            "application/vnd.jupyter.widget-view+json": {
              "model_id": "9ccb193aa20d459497c31c777f2e2523",
              "version_minor": 0,
              "version_major": 2
            },
            "text/plain": [
              "HBox(children=(FloatProgress(value=1.0, bar_style='info', description='Validating', layout=Layout(flex='2'), m…"
            ]
          },
          "metadata": {
            "tags": []
          }
        },
        {
          "output_type": "stream",
          "text": [
            "[rank: 0] Metric val/loss improved by 0.049 >= min_delta = 0.0. New best score: 0.417\n",
            "[rank: 7] Metric val/loss improved by 0.018 >= min_delta = 0.0. New best score: 0.439\n",
            "[rank: 5] Metric val/loss improved by 0.016 >= min_delta = 0.0. New best score: 0.376\n",
            "[rank: 3] Metric val/loss improved by 0.000 >= min_delta = 0.0. New best score: 0.450\n",
            "[rank: 2] Metric val/loss improved by 0.039 >= min_delta = 0.0. New best score: 0.429\n",
            "[rank: 4] Metric val/loss improved by 0.020 >= min_delta = 0.0. New best score: 0.362\n"
          ],
          "name": "stderr"
        },
        {
          "output_type": "display_data",
          "data": {
            "application/vnd.jupyter.widget-view+json": {
              "model_id": "586cba9a08ce4df88c25c3dd7d48b9f8",
              "version_minor": 0,
              "version_major": 2
            },
            "text/plain": [
              "HBox(children=(FloatProgress(value=1.0, bar_style='info', description='Validating', layout=Layout(flex='2'), m…"
            ]
          },
          "metadata": {
            "tags": []
          }
        },
        {
          "output_type": "stream",
          "text": [
            "[rank: 3] Metric val/loss improved by 0.017 >= min_delta = 0.0. New best score: 0.432\n",
            "[rank: 1] Metric val/loss improved by 0.007 >= min_delta = 0.0. New best score: 0.376\n",
            "[rank: 4] Metric val/loss improved by 0.014 >= min_delta = 0.0. New best score: 0.348\n",
            "[rank: 6] Monitored metric val/loss did not improve in the last 2 records. Best score: 0.364. Signaling Trainer to stop.\n"
          ],
          "name": "stderr"
        },
        {
          "output_type": "display_data",
          "data": {
            "application/vnd.jupyter.widget-view+json": {
              "model_id": "f1dfec5cffe0425aa24f57c42f448ad4",
              "version_minor": 0,
              "version_major": 2
            },
            "text/plain": [
              "HBox(children=(FloatProgress(value=1.0, bar_style='info', description='Validating', layout=Layout(flex='2'), m…"
            ]
          },
          "metadata": {
            "tags": []
          }
        },
        {
          "output_type": "stream",
          "text": [
            "[rank: 7] Metric val/loss improved by 0.016 >= min_delta = 0.0. New best score: 0.423\n",
            "[rank: 6] Metric val/loss improved by 0.003 >= min_delta = 0.0. New best score: 0.361\n",
            "[rank: 4] Metric val/loss improved by 0.008 >= min_delta = 0.0. New best score: 0.340\n",
            "[rank: 1] Metric val/loss improved by 0.006 >= min_delta = 0.0. New best score: 0.370\n",
            "[rank: 5] Monitored metric val/loss did not improve in the last 2 records. Best score: 0.376. Signaling Trainer to stop.\n",
            "[rank: 0] Monitored metric val/loss did not improve in the last 2 records. Best score: 0.417. Signaling Trainer to stop.\n",
            "[rank: 2] Metric val/loss improved by 0.014 >= min_delta = 0.0. New best score: 0.415\n"
          ],
          "name": "stderr"
        },
        {
          "output_type": "stream",
          "text": [
            "\n"
          ],
          "name": "stdout"
        },
        {
          "output_type": "stream",
          "text": [
            "/usr/local/lib/python3.7/dist-packages/pytorch_lightning/utilities/distributed.py:69: UserWarning: cleaning up ddp environment...\n",
            "  warnings.warn(*args, **kwargs)\n"
          ],
          "name": "stderr"
        }
      ]
    },
    {
      "cell_type": "code",
      "metadata": {
        "id": "d5RGknslqNeg"
      },
      "source": [
        "torch.save(model.state_dict(), '/content/drive/MyDrive/chest_state_dense.pt')"
      ],
      "execution_count": 31,
      "outputs": []
    },
    {
      "cell_type": "code",
      "metadata": {
        "id": "FnwubDaj2ymO",
        "colab": {
          "base_uri": "https://localhost:8080/"
        },
        "outputId": "3501faff-c0fe-4259-c4c0-4a38ef9667cd"
      },
      "source": [
        "trainer.test(model)"
      ],
      "execution_count": 32,
      "outputs": [
        {
          "output_type": "stream",
          "text": [
            "\n",
            "--------------------------------------------------------------------------------\n",
            "DATALOADER:0 TEST RESULTS\n",
            "{'test/loss': 0.439453125}\n",
            "--------------------------------------------------------------------------------\n"
          ],
          "name": "stdout"
        },
        {
          "output_type": "stream",
          "text": [
            "/usr/local/lib/python3.7/dist-packages/pytorch_lightning/utilities/distributed.py:69: UserWarning: cleaning up ddp environment...\n",
            "  warnings.warn(*args, **kwargs)\n"
          ],
          "name": "stderr"
        },
        {
          "output_type": "execute_result",
          "data": {
            "text/plain": [
              "[{'test/loss': 0.439453125}]"
            ]
          },
          "metadata": {
            "tags": []
          },
          "execution_count": 32
        }
      ]
    },
    {
      "cell_type": "code",
      "metadata": {
        "id": "zvtfKA8bFfNo"
      },
      "source": [
        "test_loader=DataLoader(DataReader(val_images,val_labels,aug), batch_size = 64,num_workers=1,  shuffle=False)\n",
        "model.eval()\n",
        "with torch.no_grad():\n",
        "  preds,labels=[],[]\n",
        "  for img, lab in test_loader:\n",
        "    pred=model(img)\n",
        "\n",
        "    preds.append(pred.detach().numpy())\n",
        "    labels.append(lab)"
      ],
      "execution_count": 35,
      "outputs": []
    },
    {
      "cell_type": "code",
      "metadata": {
        "id": "YuqUJhL8FkD0"
      },
      "source": [
        "preds=np.concatenate(preds)\n",
        "labels=np.concatenate(labels)"
      ],
      "execution_count": 36,
      "outputs": []
    },
    {
      "cell_type": "code",
      "metadata": {
        "id": "3gmUK_lGtUGb",
        "colab": {
          "base_uri": "https://localhost:8080/"
        },
        "outputId": "432544ec-1416-46f5-af1b-ec17b8a7a416"
      },
      "source": [
        "from sklearn import metrics\n",
        "score=[]\n",
        "for i in range(14):\n",
        "    fpr, tpr, threshold = metrics.roc_curve(labels[:,i], preds[:,i])\n",
        "    roc_auc = metrics.auc(fpr, tpr)\n",
        "    score.append(roc_auc)\n"
      ],
      "execution_count": 38,
      "outputs": [
        {
          "output_type": "stream",
          "text": [
            "/usr/local/lib/python3.7/dist-packages/sklearn/metrics/_ranking.py:808: UndefinedMetricWarning: No positive samples in y_true, true positive value should be meaningless\n",
            "  UndefinedMetricWarning)\n"
          ],
          "name": "stderr"
        }
      ]
    },
    {
      "cell_type": "code",
      "metadata": {
        "colab": {
          "base_uri": "https://localhost:8080/"
        },
        "id": "V96cTqPyGAlc",
        "outputId": "6cb59738-550f-4bf3-fbf6-a2a94f34de15"
      },
      "source": [
        "all_classes=dict(zip(class_names,score))\n",
        "print(all_classes)"
      ],
      "execution_count": 42,
      "outputs": [
        {
          "output_type": "stream",
          "text": [
            "{'No Finding': 0.8549946294307197, 'Enlarged Cardiomediastinum': 0.6799266055045872, 'Cardiomegaly': 0.7054394046775336, 'Lung Opacity': 0.8303938859494415, 'Lung Lesion': 0.06008583690987124, 'Edema': 0.8340975896531452, 'Consolidation': 0.89280868385346, 'Pneumonia': 0.5741150442477876, 'Atelectasis': 0.8293831168831169, 'Pneumothorax': 0.6537610619469026, 'Pleural Effusion': 0.8141925105013853, 'Pleural Other': 0.44635193133047213, 'Fracture': nan, 'Support Devices': 0.6846714254176173}\n"
          ],
          "name": "stdout"
        }
      ]
    },
    {
      "cell_type": "code",
      "metadata": {
        "colab": {
          "base_uri": "https://localhost:8080/"
        },
        "id": "HOoBa7ZhG44m",
        "outputId": "807ddf3d-0509-4ca0-c190-3984e3c937a4"
      },
      "source": [
        "selected_classes=['Atelectasis','Cardiomegaly','Consolidation','Edema','Pleural Effusion']\n",
        "{k:v for k,v in all_classes.items() if k in selected_classes}"
      ],
      "execution_count": 44,
      "outputs": [
        {
          "output_type": "execute_result",
          "data": {
            "text/plain": [
              "{'Atelectasis': 0.8293831168831169,\n",
              " 'Cardiomegaly': 0.7054394046775336,\n",
              " 'Consolidation': 0.89280868385346,\n",
              " 'Edema': 0.8340975896531452,\n",
              " 'Pleural Effusion': 0.8141925105013853}"
            ]
          },
          "metadata": {
            "tags": []
          },
          "execution_count": 44
        }
      ]
    },
    {
      "cell_type": "markdown",
      "metadata": {
        "id": "8wA_yquIGVcr"
      },
      "source": [
        "![image.png](data:image/png;base64,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)"
      ]
    },
    {
      "cell_type": "code",
      "metadata": {
        "id": "0Hd7go7fR2Fa"
      },
      "source": [
        "%%capture\n",
        "!pip install onnx\n",
        "!pip install onnxruntime"
      ],
      "execution_count": 45,
      "outputs": []
    },
    {
      "cell_type": "code",
      "metadata": {
        "id": "Acn9Xe0jse_S"
      },
      "source": [
        "filepath = '/content/drive/MyDrive/chestmodel.onnx'\n",
        "input_sample = torch.randn((1,1, 224,224))\n",
        "model.to_onnx(filepath,input_sample, export_params=True)"
      ],
      "execution_count": 46,
      "outputs": []
    },
    {
      "cell_type": "code",
      "metadata": {
        "id": "xnl8BjOGEFx0"
      },
      "source": [
        "import onnx\n",
        "onnx_model = onnx.load(filepath)\n",
        "onnx.checker.check_model(onnx_model)"
      ],
      "execution_count": 47,
      "outputs": []
    }
  ]
}