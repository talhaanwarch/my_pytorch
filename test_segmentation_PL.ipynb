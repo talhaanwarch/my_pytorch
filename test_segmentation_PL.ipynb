{
  "nbformat": 4,
  "nbformat_minor": 0,
  "metadata": {
    "colab": {
      "name": "test segmentation PL.ipynb",
      "provenance": [],
      "collapsed_sections": [],
      "authorship_tag": "ABX9TyOr8bFA91EQexhAkpmZenPO",
      "include_colab_link": true
    },
    "kernelspec": {
      "name": "python3",
      "display_name": "Python 3"
    },
    "language_info": {
      "name": "python"
    },
    "accelerator": "TPU",
    "widgets": {
      "application/vnd.jupyter.widget-state+json": {
        "5e4ed8d579bb49369b49efcff38ce532": {
          "model_module": "@jupyter-widgets/controls",
          "model_name": "HBoxModel",
          "state": {
            "_view_name": "HBoxView",
            "_dom_classes": [],
            "_model_name": "HBoxModel",
            "_view_module": "@jupyter-widgets/controls",
            "_model_module_version": "1.5.0",
            "_view_count": null,
            "_view_module_version": "1.5.0",
            "box_style": "",
            "layout": "IPY_MODEL_42d6d0db9e404b019ed30159693383e4",
            "_model_module": "@jupyter-widgets/controls",
            "children": [
              "IPY_MODEL_874777801e4d45938774a44c4ad83c92",
              "IPY_MODEL_c483c1bf405a48e9b33d1a523e8772e6"
            ]
          }
        },
        "42d6d0db9e404b019ed30159693383e4": {
          "model_module": "@jupyter-widgets/base",
          "model_name": "LayoutModel",
          "state": {
            "_view_name": "LayoutView",
            "grid_template_rows": null,
            "right": null,
            "justify_content": null,
            "_view_module": "@jupyter-widgets/base",
            "overflow": null,
            "_model_module_version": "1.2.0",
            "_view_count": null,
            "flex_flow": "row wrap",
            "width": "100%",
            "min_width": null,
            "border": null,
            "align_items": null,
            "bottom": null,
            "_model_module": "@jupyter-widgets/base",
            "top": null,
            "grid_column": null,
            "overflow_y": null,
            "overflow_x": null,
            "grid_auto_flow": null,
            "grid_area": null,
            "grid_template_columns": null,
            "flex": null,
            "_model_name": "LayoutModel",
            "justify_items": null,
            "grid_row": null,
            "max_height": null,
            "align_content": null,
            "visibility": null,
            "align_self": null,
            "height": null,
            "min_height": null,
            "padding": null,
            "grid_auto_rows": null,
            "grid_gap": null,
            "max_width": null,
            "order": null,
            "_view_module_version": "1.2.0",
            "grid_template_areas": null,
            "object_position": null,
            "object_fit": null,
            "grid_auto_columns": null,
            "margin": null,
            "display": "inline-flex",
            "left": null
          }
        },
        "874777801e4d45938774a44c4ad83c92": {
          "model_module": "@jupyter-widgets/controls",
          "model_name": "FloatProgressModel",
          "state": {
            "_view_name": "ProgressView",
            "style": "IPY_MODEL_28aa90aa4f8547cc83885e92d5ffcbd3",
            "_dom_classes": [],
            "description": "Validation sanity check: 100%",
            "_model_name": "FloatProgressModel",
            "bar_style": "info",
            "max": 1,
            "_view_module": "@jupyter-widgets/controls",
            "_model_module_version": "1.5.0",
            "value": 1,
            "_view_count": null,
            "_view_module_version": "1.5.0",
            "orientation": "horizontal",
            "min": 0,
            "description_tooltip": null,
            "_model_module": "@jupyter-widgets/controls",
            "layout": "IPY_MODEL_3abebf559c9e4695a2eb217514eb897e"
          }
        },
        "c483c1bf405a48e9b33d1a523e8772e6": {
          "model_module": "@jupyter-widgets/controls",
          "model_name": "HTMLModel",
          "state": {
            "_view_name": "HTMLView",
            "style": "IPY_MODEL_7ebe843ca0f04be199e5492640f4b6fd",
            "_dom_classes": [],
            "description": "",
            "_model_name": "HTMLModel",
            "placeholder": "​",
            "_view_module": "@jupyter-widgets/controls",
            "_model_module_version": "1.5.0",
            "value": " 1/1 [00:54&lt;00:00, 54.91s/it]",
            "_view_count": null,
            "_view_module_version": "1.5.0",
            "description_tooltip": null,
            "_model_module": "@jupyter-widgets/controls",
            "layout": "IPY_MODEL_aa64ed77b02b4fcea0559de54b23e9fd"
          }
        },
        "28aa90aa4f8547cc83885e92d5ffcbd3": {
          "model_module": "@jupyter-widgets/controls",
          "model_name": "ProgressStyleModel",
          "state": {
            "_view_name": "StyleView",
            "_model_name": "ProgressStyleModel",
            "description_width": "initial",
            "_view_module": "@jupyter-widgets/base",
            "_model_module_version": "1.5.0",
            "_view_count": null,
            "_view_module_version": "1.2.0",
            "bar_color": null,
            "_model_module": "@jupyter-widgets/controls"
          }
        },
        "3abebf559c9e4695a2eb217514eb897e": {
          "model_module": "@jupyter-widgets/base",
          "model_name": "LayoutModel",
          "state": {
            "_view_name": "LayoutView",
            "grid_template_rows": null,
            "right": null,
            "justify_content": null,
            "_view_module": "@jupyter-widgets/base",
            "overflow": null,
            "_model_module_version": "1.2.0",
            "_view_count": null,
            "flex_flow": null,
            "width": null,
            "min_width": null,
            "border": null,
            "align_items": null,
            "bottom": null,
            "_model_module": "@jupyter-widgets/base",
            "top": null,
            "grid_column": null,
            "overflow_y": null,
            "overflow_x": null,
            "grid_auto_flow": null,
            "grid_area": null,
            "grid_template_columns": null,
            "flex": "2",
            "_model_name": "LayoutModel",
            "justify_items": null,
            "grid_row": null,
            "max_height": null,
            "align_content": null,
            "visibility": null,
            "align_self": null,
            "height": null,
            "min_height": null,
            "padding": null,
            "grid_auto_rows": null,
            "grid_gap": null,
            "max_width": null,
            "order": null,
            "_view_module_version": "1.2.0",
            "grid_template_areas": null,
            "object_position": null,
            "object_fit": null,
            "grid_auto_columns": null,
            "margin": null,
            "display": null,
            "left": null
          }
        },
        "7ebe843ca0f04be199e5492640f4b6fd": {
          "model_module": "@jupyter-widgets/controls",
          "model_name": "DescriptionStyleModel",
          "state": {
            "_view_name": "StyleView",
            "_model_name": "DescriptionStyleModel",
            "description_width": "",
            "_view_module": "@jupyter-widgets/base",
            "_model_module_version": "1.5.0",
            "_view_count": null,
            "_view_module_version": "1.2.0",
            "_model_module": "@jupyter-widgets/controls"
          }
        },
        "aa64ed77b02b4fcea0559de54b23e9fd": {
          "model_module": "@jupyter-widgets/base",
          "model_name": "LayoutModel",
          "state": {
            "_view_name": "LayoutView",
            "grid_template_rows": null,
            "right": null,
            "justify_content": null,
            "_view_module": "@jupyter-widgets/base",
            "overflow": null,
            "_model_module_version": "1.2.0",
            "_view_count": null,
            "flex_flow": null,
            "width": null,
            "min_width": null,
            "border": null,
            "align_items": null,
            "bottom": null,
            "_model_module": "@jupyter-widgets/base",
            "top": null,
            "grid_column": null,
            "overflow_y": null,
            "overflow_x": null,
            "grid_auto_flow": null,
            "grid_area": null,
            "grid_template_columns": null,
            "flex": null,
            "_model_name": "LayoutModel",
            "justify_items": null,
            "grid_row": null,
            "max_height": null,
            "align_content": null,
            "visibility": null,
            "align_self": null,
            "height": null,
            "min_height": null,
            "padding": null,
            "grid_auto_rows": null,
            "grid_gap": null,
            "max_width": null,
            "order": null,
            "_view_module_version": "1.2.0",
            "grid_template_areas": null,
            "object_position": null,
            "object_fit": null,
            "grid_auto_columns": null,
            "margin": null,
            "display": null,
            "left": null
          }
        },
        "fd3ef750e692453abdf2a272c86f1060": {
          "model_module": "@jupyter-widgets/controls",
          "model_name": "HBoxModel",
          "state": {
            "_view_name": "HBoxView",
            "_dom_classes": [],
            "_model_name": "HBoxModel",
            "_view_module": "@jupyter-widgets/controls",
            "_model_module_version": "1.5.0",
            "_view_count": null,
            "_view_module_version": "1.5.0",
            "box_style": "",
            "layout": "IPY_MODEL_5329ee563cb147ff9c59e7d3c176fdb6",
            "_model_module": "@jupyter-widgets/controls",
            "children": [
              "IPY_MODEL_574b6b55fa9b478bad32308ae8d63ff9",
              "IPY_MODEL_6fd6d7e47f2940809b93de0895849282"
            ]
          }
        },
        "5329ee563cb147ff9c59e7d3c176fdb6": {
          "model_module": "@jupyter-widgets/base",
          "model_name": "LayoutModel",
          "state": {
            "_view_name": "LayoutView",
            "grid_template_rows": null,
            "right": null,
            "justify_content": null,
            "_view_module": "@jupyter-widgets/base",
            "overflow": null,
            "_model_module_version": "1.2.0",
            "_view_count": null,
            "flex_flow": "row wrap",
            "width": "100%",
            "min_width": null,
            "border": null,
            "align_items": null,
            "bottom": null,
            "_model_module": "@jupyter-widgets/base",
            "top": null,
            "grid_column": null,
            "overflow_y": null,
            "overflow_x": null,
            "grid_auto_flow": null,
            "grid_area": null,
            "grid_template_columns": null,
            "flex": null,
            "_model_name": "LayoutModel",
            "justify_items": null,
            "grid_row": null,
            "max_height": null,
            "align_content": null,
            "visibility": null,
            "align_self": null,
            "height": null,
            "min_height": null,
            "padding": null,
            "grid_auto_rows": null,
            "grid_gap": null,
            "max_width": null,
            "order": null,
            "_view_module_version": "1.2.0",
            "grid_template_areas": null,
            "object_position": null,
            "object_fit": null,
            "grid_auto_columns": null,
            "margin": null,
            "display": "inline-flex",
            "left": null
          }
        },
        "574b6b55fa9b478bad32308ae8d63ff9": {
          "model_module": "@jupyter-widgets/controls",
          "model_name": "FloatProgressModel",
          "state": {
            "_view_name": "ProgressView",
            "style": "IPY_MODEL_58a24bab7ba64540a0e29f68b963d28b",
            "_dom_classes": [],
            "description": "Epoch 0: 100%",
            "_model_name": "FloatProgressModel",
            "bar_style": "success",
            "max": 2,
            "_view_module": "@jupyter-widgets/controls",
            "_model_module_version": "1.5.0",
            "value": 2,
            "_view_count": null,
            "_view_module_version": "1.5.0",
            "orientation": "horizontal",
            "min": 0,
            "description_tooltip": null,
            "_model_module": "@jupyter-widgets/controls",
            "layout": "IPY_MODEL_f847a31c843341d7a111d5c98a6c8aed"
          }
        },
        "6fd6d7e47f2940809b93de0895849282": {
          "model_module": "@jupyter-widgets/controls",
          "model_name": "HTMLModel",
          "state": {
            "_view_name": "HTMLView",
            "style": "IPY_MODEL_4a4a2c334b0644c89db087dfcd5d329b",
            "_dom_classes": [],
            "description": "",
            "_model_name": "HTMLModel",
            "placeholder": "​",
            "_view_module": "@jupyter-widgets/controls",
            "_model_module_version": "1.5.0",
            "value": " 2/2 [04:45&lt;00:00, 142.69s/it, loss=0.596, v_num=0, val/loss=0.600, train/loss_step=0.596, train/loss_epoch=0.596]",
            "_view_count": null,
            "_view_module_version": "1.5.0",
            "description_tooltip": null,
            "_model_module": "@jupyter-widgets/controls",
            "layout": "IPY_MODEL_91c7372b665048c69bec333e48e03a72"
          }
        },
        "58a24bab7ba64540a0e29f68b963d28b": {
          "model_module": "@jupyter-widgets/controls",
          "model_name": "ProgressStyleModel",
          "state": {
            "_view_name": "StyleView",
            "_model_name": "ProgressStyleModel",
            "description_width": "initial",
            "_view_module": "@jupyter-widgets/base",
            "_model_module_version": "1.5.0",
            "_view_count": null,
            "_view_module_version": "1.2.0",
            "bar_color": null,
            "_model_module": "@jupyter-widgets/controls"
          }
        },
        "f847a31c843341d7a111d5c98a6c8aed": {
          "model_module": "@jupyter-widgets/base",
          "model_name": "LayoutModel",
          "state": {
            "_view_name": "LayoutView",
            "grid_template_rows": null,
            "right": null,
            "justify_content": null,
            "_view_module": "@jupyter-widgets/base",
            "overflow": null,
            "_model_module_version": "1.2.0",
            "_view_count": null,
            "flex_flow": null,
            "width": null,
            "min_width": null,
            "border": null,
            "align_items": null,
            "bottom": null,
            "_model_module": "@jupyter-widgets/base",
            "top": null,
            "grid_column": null,
            "overflow_y": null,
            "overflow_x": null,
            "grid_auto_flow": null,
            "grid_area": null,
            "grid_template_columns": null,
            "flex": "2",
            "_model_name": "LayoutModel",
            "justify_items": null,
            "grid_row": null,
            "max_height": null,
            "align_content": null,
            "visibility": null,
            "align_self": null,
            "height": null,
            "min_height": null,
            "padding": null,
            "grid_auto_rows": null,
            "grid_gap": null,
            "max_width": null,
            "order": null,
            "_view_module_version": "1.2.0",
            "grid_template_areas": null,
            "object_position": null,
            "object_fit": null,
            "grid_auto_columns": null,
            "margin": null,
            "display": null,
            "left": null
          }
        },
        "4a4a2c334b0644c89db087dfcd5d329b": {
          "model_module": "@jupyter-widgets/controls",
          "model_name": "DescriptionStyleModel",
          "state": {
            "_view_name": "StyleView",
            "_model_name": "DescriptionStyleModel",
            "description_width": "",
            "_view_module": "@jupyter-widgets/base",
            "_model_module_version": "1.5.0",
            "_view_count": null,
            "_view_module_version": "1.2.0",
            "_model_module": "@jupyter-widgets/controls"
          }
        },
        "91c7372b665048c69bec333e48e03a72": {
          "model_module": "@jupyter-widgets/base",
          "model_name": "LayoutModel",
          "state": {
            "_view_name": "LayoutView",
            "grid_template_rows": null,
            "right": null,
            "justify_content": null,
            "_view_module": "@jupyter-widgets/base",
            "overflow": null,
            "_model_module_version": "1.2.0",
            "_view_count": null,
            "flex_flow": null,
            "width": null,
            "min_width": null,
            "border": null,
            "align_items": null,
            "bottom": null,
            "_model_module": "@jupyter-widgets/base",
            "top": null,
            "grid_column": null,
            "overflow_y": null,
            "overflow_x": null,
            "grid_auto_flow": null,
            "grid_area": null,
            "grid_template_columns": null,
            "flex": null,
            "_model_name": "LayoutModel",
            "justify_items": null,
            "grid_row": null,
            "max_height": null,
            "align_content": null,
            "visibility": null,
            "align_self": null,
            "height": null,
            "min_height": null,
            "padding": null,
            "grid_auto_rows": null,
            "grid_gap": null,
            "max_width": null,
            "order": null,
            "_view_module_version": "1.2.0",
            "grid_template_areas": null,
            "object_position": null,
            "object_fit": null,
            "grid_auto_columns": null,
            "margin": null,
            "display": null,
            "left": null
          }
        },
        "301d8d5c08dc4f4d84030a42c4649cfb": {
          "model_module": "@jupyter-widgets/controls",
          "model_name": "HBoxModel",
          "state": {
            "_view_name": "HBoxView",
            "_dom_classes": [],
            "_model_name": "HBoxModel",
            "_view_module": "@jupyter-widgets/controls",
            "_model_module_version": "1.5.0",
            "_view_count": null,
            "_view_module_version": "1.5.0",
            "box_style": "",
            "layout": "IPY_MODEL_a3e5541572e94dabb59ea660fbf0c8d1",
            "_model_module": "@jupyter-widgets/controls",
            "children": [
              "IPY_MODEL_809c3c51353446b0aa6edbc6423f8b79",
              "IPY_MODEL_6a8ea105a5234e5b807dfc0a13c57339"
            ]
          }
        },
        "a3e5541572e94dabb59ea660fbf0c8d1": {
          "model_module": "@jupyter-widgets/base",
          "model_name": "LayoutModel",
          "state": {
            "_view_name": "LayoutView",
            "grid_template_rows": null,
            "right": null,
            "justify_content": null,
            "_view_module": "@jupyter-widgets/base",
            "overflow": null,
            "_model_module_version": "1.2.0",
            "_view_count": null,
            "flex_flow": "row wrap",
            "width": "100%",
            "min_width": null,
            "border": null,
            "align_items": null,
            "bottom": null,
            "_model_module": "@jupyter-widgets/base",
            "top": null,
            "grid_column": null,
            "overflow_y": null,
            "overflow_x": null,
            "grid_auto_flow": null,
            "grid_area": null,
            "grid_template_columns": null,
            "flex": null,
            "_model_name": "LayoutModel",
            "justify_items": null,
            "grid_row": null,
            "max_height": null,
            "align_content": null,
            "visibility": null,
            "align_self": null,
            "height": null,
            "min_height": null,
            "padding": null,
            "grid_auto_rows": null,
            "grid_gap": null,
            "max_width": null,
            "order": null,
            "_view_module_version": "1.2.0",
            "grid_template_areas": null,
            "object_position": null,
            "object_fit": null,
            "grid_auto_columns": null,
            "margin": null,
            "display": "inline-flex",
            "left": null
          }
        },
        "809c3c51353446b0aa6edbc6423f8b79": {
          "model_module": "@jupyter-widgets/controls",
          "model_name": "FloatProgressModel",
          "state": {
            "_view_name": "ProgressView",
            "style": "IPY_MODEL_9f105b112eb848a99f5efaf93a38a4b2",
            "_dom_classes": [],
            "description": "Validating: 100%",
            "_model_name": "FloatProgressModel",
            "bar_style": "info",
            "max": 1,
            "_view_module": "@jupyter-widgets/controls",
            "_model_module_version": "1.5.0",
            "value": 1,
            "_view_count": null,
            "_view_module_version": "1.5.0",
            "orientation": "horizontal",
            "min": 0,
            "description_tooltip": null,
            "_model_module": "@jupyter-widgets/controls",
            "layout": "IPY_MODEL_836e828a18ff47d29c0cdacc1cf5973e"
          }
        },
        "6a8ea105a5234e5b807dfc0a13c57339": {
          "model_module": "@jupyter-widgets/controls",
          "model_name": "HTMLModel",
          "state": {
            "_view_name": "HTMLView",
            "style": "IPY_MODEL_0dd31ff672d54952afa081477e92ebac",
            "_dom_classes": [],
            "description": "",
            "_model_name": "HTMLModel",
            "placeholder": "​",
            "_view_module": "@jupyter-widgets/controls",
            "_model_module_version": "1.5.0",
            "value": " 1/1 [00:54&lt;00:00, 54.09s/it]",
            "_view_count": null,
            "_view_module_version": "1.5.0",
            "description_tooltip": null,
            "_model_module": "@jupyter-widgets/controls",
            "layout": "IPY_MODEL_1258a5e890c74669b642f126c6dded32"
          }
        },
        "9f105b112eb848a99f5efaf93a38a4b2": {
          "model_module": "@jupyter-widgets/controls",
          "model_name": "ProgressStyleModel",
          "state": {
            "_view_name": "StyleView",
            "_model_name": "ProgressStyleModel",
            "description_width": "initial",
            "_view_module": "@jupyter-widgets/base",
            "_model_module_version": "1.5.0",
            "_view_count": null,
            "_view_module_version": "1.2.0",
            "bar_color": null,
            "_model_module": "@jupyter-widgets/controls"
          }
        },
        "836e828a18ff47d29c0cdacc1cf5973e": {
          "model_module": "@jupyter-widgets/base",
          "model_name": "LayoutModel",
          "state": {
            "_view_name": "LayoutView",
            "grid_template_rows": null,
            "right": null,
            "justify_content": null,
            "_view_module": "@jupyter-widgets/base",
            "overflow": null,
            "_model_module_version": "1.2.0",
            "_view_count": null,
            "flex_flow": null,
            "width": null,
            "min_width": null,
            "border": null,
            "align_items": null,
            "bottom": null,
            "_model_module": "@jupyter-widgets/base",
            "top": null,
            "grid_column": null,
            "overflow_y": null,
            "overflow_x": null,
            "grid_auto_flow": null,
            "grid_area": null,
            "grid_template_columns": null,
            "flex": "2",
            "_model_name": "LayoutModel",
            "justify_items": null,
            "grid_row": null,
            "max_height": null,
            "align_content": null,
            "visibility": null,
            "align_self": null,
            "height": null,
            "min_height": null,
            "padding": null,
            "grid_auto_rows": null,
            "grid_gap": null,
            "max_width": null,
            "order": null,
            "_view_module_version": "1.2.0",
            "grid_template_areas": null,
            "object_position": null,
            "object_fit": null,
            "grid_auto_columns": null,
            "margin": null,
            "display": null,
            "left": null
          }
        },
        "0dd31ff672d54952afa081477e92ebac": {
          "model_module": "@jupyter-widgets/controls",
          "model_name": "DescriptionStyleModel",
          "state": {
            "_view_name": "StyleView",
            "_model_name": "DescriptionStyleModel",
            "description_width": "",
            "_view_module": "@jupyter-widgets/base",
            "_model_module_version": "1.5.0",
            "_view_count": null,
            "_view_module_version": "1.2.0",
            "_model_module": "@jupyter-widgets/controls"
          }
        },
        "1258a5e890c74669b642f126c6dded32": {
          "model_module": "@jupyter-widgets/base",
          "model_name": "LayoutModel",
          "state": {
            "_view_name": "LayoutView",
            "grid_template_rows": null,
            "right": null,
            "justify_content": null,
            "_view_module": "@jupyter-widgets/base",
            "overflow": null,
            "_model_module_version": "1.2.0",
            "_view_count": null,
            "flex_flow": null,
            "width": null,
            "min_width": null,
            "border": null,
            "align_items": null,
            "bottom": null,
            "_model_module": "@jupyter-widgets/base",
            "top": null,
            "grid_column": null,
            "overflow_y": null,
            "overflow_x": null,
            "grid_auto_flow": null,
            "grid_area": null,
            "grid_template_columns": null,
            "flex": null,
            "_model_name": "LayoutModel",
            "justify_items": null,
            "grid_row": null,
            "max_height": null,
            "align_content": null,
            "visibility": null,
            "align_self": null,
            "height": null,
            "min_height": null,
            "padding": null,
            "grid_auto_rows": null,
            "grid_gap": null,
            "max_width": null,
            "order": null,
            "_view_module_version": "1.2.0",
            "grid_template_areas": null,
            "object_position": null,
            "object_fit": null,
            "grid_auto_columns": null,
            "margin": null,
            "display": null,
            "left": null
          }
        }
      }
    }
  },
  "cells": [
    {
      "cell_type": "markdown",
      "metadata": {
        "id": "view-in-github",
        "colab_type": "text"
      },
      "source": [
        "<a href=\"https://colab.research.google.com/github/talhaanwarch/my_pytorch/blob/master/test_segmentation_PL.ipynb\" target=\"_parent\"><img src=\"https://colab.research.google.com/assets/colab-badge.svg\" alt=\"Open In Colab\"/></a>"
      ]
    },
    {
      "cell_type": "code",
      "metadata": {
        "id": "b8DePPPr0pdE"
      },
      "source": [
        "%%capture\n",
        "!pip install cloud-tpu-client==0.10 https://storage.googleapis.com/tpu-pytorch/wheels/torch_xla-1.9-cp37-cp37m-linux_x86_64.whl\n",
        "!pip install pytorch-lightning\n",
        "!pip install torchmetrics"
      ],
      "execution_count": 1,
      "outputs": []
    },
    {
      "cell_type": "code",
      "metadata": {
        "colab": {
          "base_uri": "https://localhost:8080/"
        },
        "id": "lzt4pBJN2VNO",
        "outputId": "6ace4b5d-344d-4742-8aee-80d6b7dd960d"
      },
      "source": [
        "!pip install monai-weekly"
      ],
      "execution_count": 10,
      "outputs": [
        {
          "output_type": "stream",
          "text": [
            "Collecting monai-weekly\n",
            "\u001b[?25l  Downloading https://files.pythonhosted.org/packages/2d/ab/c45cd4ec7ec94f3038afc8cce8d953a6273d6f17b1261d055dc8c2c31db6/monai_weekly-0.6.dev2127-py3-none-any.whl (579kB)\n",
            "\r\u001b[K     |▋                               | 10kB 16.1MB/s eta 0:00:01\r\u001b[K     |█▏                              | 20kB 22.7MB/s eta 0:00:01\r\u001b[K     |█▊                              | 30kB 13.8MB/s eta 0:00:01\r\u001b[K     |██▎                             | 40kB 10.9MB/s eta 0:00:01\r\u001b[K     |██▉                             | 51kB 5.1MB/s eta 0:00:01\r\u001b[K     |███▍                            | 61kB 5.5MB/s eta 0:00:01\r\u001b[K     |████                            | 71kB 5.6MB/s eta 0:00:01\r\u001b[K     |████▌                           | 81kB 5.7MB/s eta 0:00:01\r\u001b[K     |█████                           | 92kB 5.9MB/s eta 0:00:01\r\u001b[K     |█████▋                          | 102kB 5.9MB/s eta 0:00:01\r\u001b[K     |██████▎                         | 112kB 5.9MB/s eta 0:00:01\r\u001b[K     |██████▉                         | 122kB 5.9MB/s eta 0:00:01\r\u001b[K     |███████▍                        | 133kB 5.9MB/s eta 0:00:01\r\u001b[K     |████████                        | 143kB 5.9MB/s eta 0:00:01\r\u001b[K     |████████▌                       | 153kB 5.9MB/s eta 0:00:01\r\u001b[K     |█████████                       | 163kB 5.9MB/s eta 0:00:01\r\u001b[K     |█████████▋                      | 174kB 5.9MB/s eta 0:00:01\r\u001b[K     |██████████▏                     | 184kB 5.9MB/s eta 0:00:01\r\u001b[K     |██████████▊                     | 194kB 5.9MB/s eta 0:00:01\r\u001b[K     |███████████▎                    | 204kB 5.9MB/s eta 0:00:01\r\u001b[K     |███████████▉                    | 215kB 5.9MB/s eta 0:00:01\r\u001b[K     |████████████▌                   | 225kB 5.9MB/s eta 0:00:01\r\u001b[K     |█████████████                   | 235kB 5.9MB/s eta 0:00:01\r\u001b[K     |█████████████▋                  | 245kB 5.9MB/s eta 0:00:01\r\u001b[K     |██████████████▏                 | 256kB 5.9MB/s eta 0:00:01\r\u001b[K     |██████████████▊                 | 266kB 5.9MB/s eta 0:00:01\r\u001b[K     |███████████████▎                | 276kB 5.9MB/s eta 0:00:01\r\u001b[K     |███████████████▉                | 286kB 5.9MB/s eta 0:00:01\r\u001b[K     |████████████████▍               | 296kB 5.9MB/s eta 0:00:01\r\u001b[K     |█████████████████               | 307kB 5.9MB/s eta 0:00:01\r\u001b[K     |█████████████████▌              | 317kB 5.9MB/s eta 0:00:01\r\u001b[K     |██████████████████              | 327kB 5.9MB/s eta 0:00:01\r\u001b[K     |██████████████████▊             | 337kB 5.9MB/s eta 0:00:01\r\u001b[K     |███████████████████▎            | 348kB 5.9MB/s eta 0:00:01\r\u001b[K     |███████████████████▉            | 358kB 5.9MB/s eta 0:00:01\r\u001b[K     |████████████████████▍           | 368kB 5.9MB/s eta 0:00:01\r\u001b[K     |█████████████████████           | 378kB 5.9MB/s eta 0:00:01\r\u001b[K     |█████████████████████▌          | 389kB 5.9MB/s eta 0:00:01\r\u001b[K     |██████████████████████          | 399kB 5.9MB/s eta 0:00:01\r\u001b[K     |██████████████████████▋         | 409kB 5.9MB/s eta 0:00:01\r\u001b[K     |███████████████████████▏        | 419kB 5.9MB/s eta 0:00:01\r\u001b[K     |███████████████████████▊        | 430kB 5.9MB/s eta 0:00:01\r\u001b[K     |████████████████████████▎       | 440kB 5.9MB/s eta 0:00:01\r\u001b[K     |█████████████████████████       | 450kB 5.9MB/s eta 0:00:01\r\u001b[K     |█████████████████████████▌      | 460kB 5.9MB/s eta 0:00:01\r\u001b[K     |██████████████████████████      | 471kB 5.9MB/s eta 0:00:01\r\u001b[K     |██████████████████████████▋     | 481kB 5.9MB/s eta 0:00:01\r\u001b[K     |███████████████████████████▏    | 491kB 5.9MB/s eta 0:00:01\r\u001b[K     |███████████████████████████▊    | 501kB 5.9MB/s eta 0:00:01\r\u001b[K     |████████████████████████████▎   | 512kB 5.9MB/s eta 0:00:01\r\u001b[K     |████████████████████████████▉   | 522kB 5.9MB/s eta 0:00:01\r\u001b[K     |█████████████████████████████▍  | 532kB 5.9MB/s eta 0:00:01\r\u001b[K     |██████████████████████████████  | 542kB 5.9MB/s eta 0:00:01\r\u001b[K     |██████████████████████████████▌ | 552kB 5.9MB/s eta 0:00:01\r\u001b[K     |███████████████████████████████▏| 563kB 5.9MB/s eta 0:00:01\r\u001b[K     |███████████████████████████████▊| 573kB 5.9MB/s eta 0:00:01\r\u001b[K     |████████████████████████████████| 583kB 5.9MB/s \n",
            "\u001b[?25hRequirement already satisfied: numpy>=1.17 in /usr/local/lib/python3.7/dist-packages (from monai-weekly) (1.19.5)\n",
            "Requirement already satisfied: torch>=1.5 in /usr/local/lib/python3.7/dist-packages (from monai-weekly) (1.9.0+cu102)\n",
            "Requirement already satisfied: typing-extensions in /usr/local/lib/python3.7/dist-packages (from torch>=1.5->monai-weekly) (3.7.4.3)\n",
            "Installing collected packages: monai-weekly\n",
            "Successfully installed monai-weekly-0.6.dev2127\n"
          ],
          "name": "stdout"
        }
      ]
    },
    {
      "cell_type": "code",
      "metadata": {
        "colab": {
          "base_uri": "https://localhost:8080/"
        },
        "id": "qglCLbnO1Ep0",
        "outputId": "4e5495f6-7c99-42dd-faec-4743ca8aed94"
      },
      "source": [
        "import  pytorch_lightning as pl\n",
        "print(pl.__version__)"
      ],
      "execution_count": 2,
      "outputs": [
        {
          "output_type": "stream",
          "text": [
            "WARNING:root:Waiting for TPU to be start up with version pytorch-1.9...\n",
            "WARNING:root:Waiting for TPU to be start up with version pytorch-1.9...\n",
            "WARNING:root:TPU has started up successfully with version pytorch-1.9\n"
          ],
          "name": "stderr"
        },
        {
          "output_type": "stream",
          "text": [
            "1.3.8\n"
          ],
          "name": "stdout"
        }
      ]
    },
    {
      "cell_type": "code",
      "metadata": {
        "id": "M2zzZh0H1O_z"
      },
      "source": [
        ""
      ],
      "execution_count": null,
      "outputs": []
    },
    {
      "cell_type": "markdown",
      "metadata": {
        "id": "Yo5A09qH2c7b"
      },
      "source": [
        "# basic libs"
      ]
    },
    {
      "cell_type": "code",
      "metadata": {
        "id": "rtcxYKIM2fXJ"
      },
      "source": [
        "import numpy as np\n",
        "import pandas as pd\n",
        "import matplotlib.pyplot as plt\n",
        "import glob"
      ],
      "execution_count": 15,
      "outputs": []
    },
    {
      "cell_type": "markdown",
      "metadata": {
        "id": "rhb39iPj1QGa"
      },
      "source": [
        "#create dummy data"
      ]
    },
    {
      "cell_type": "code",
      "metadata": {
        "id": "nokzLQeg1bB1"
      },
      "source": [
        "import os\n",
        "os.mkdir('data')"
      ],
      "execution_count": 7,
      "outputs": []
    },
    {
      "cell_type": "code",
      "metadata": {
        "id": "1dstirv81RrO"
      },
      "source": [
        "from monai.data import ArrayDataset, create_test_image_3d\n",
        "import nibabel as nib\n",
        "\n",
        "root_dir='/content/data'\n",
        "for i in range(40):\n",
        "    im, seg = create_test_image_3d(128, 128, 64, num_seg_classes=1)\n",
        "\n",
        "    n = nib.Nifti1Image(im, np.eye(4))\n",
        "    nib.save(n, os.path.join(root_dir, f\"im{i}.nii.gz\"))\n",
        "\n",
        "    n = nib.Nifti1Image(seg, np.eye(4))\n",
        "    nib.save(n, os.path.join(root_dir, f\"seg{i}.nii.gz\"))\n",
        "\n",
        "images = sorted(glob.glob(os.path.join(root_dir, \"im*.nii.gz\")))\n",
        "segs = sorted(glob.glob(os.path.join(root_dir, \"seg*.nii.gz\")))"
      ],
      "execution_count": 16,
      "outputs": []
    },
    {
      "cell_type": "markdown",
      "metadata": {
        "id": "22B42kVP1t88"
      },
      "source": [
        "# transformation and data loading"
      ]
    },
    {
      "cell_type": "code",
      "metadata": {
        "id": "TrTjXr143Ux_"
      },
      "source": [
        "import torch"
      ],
      "execution_count": 19,
      "outputs": []
    },
    {
      "cell_type": "code",
      "metadata": {
        "id": "nOBMTNrO1Vrb"
      },
      "source": [
        "from monai import transforms \n",
        "# Define transforms for image and segmentation\n",
        "imtrans = transforms.Compose(\n",
        "    [\n",
        "        transforms.LoadImage(image_only=True),\n",
        "        transforms.ScaleIntensity(),\n",
        "        transforms.AddChannel(),\n",
        "        transforms.RandSpatialCrop((96, 96, 96), random_size=False),\n",
        "        transforms.ToTensor(),\n",
        "    ]\n",
        ")\n",
        "segtrans = transforms.Compose(\n",
        "    [\n",
        "        transforms.LoadImage(image_only=True),\n",
        "        transforms.AddChannel(),\n",
        "        transforms.RandSpatialCrop((96, 96, 96), random_size=False),\n",
        "        transforms.ToTensor(),\n",
        "    ]\n",
        ")\n",
        "\n"
      ],
      "execution_count": 21,
      "outputs": []
    },
    {
      "cell_type": "code",
      "metadata": {
        "colab": {
          "base_uri": "https://localhost:8080/"
        },
        "id": "CN-NEdU23Nj6",
        "outputId": "5cb87148-e8d1-4fca-a7b8-43aa34a62d5f"
      },
      "source": [
        "# Define nifti dataset, dataloader\n",
        "ds = ArrayDataset(images, imtrans, segs, segtrans)\n",
        "loader = torch.utils.data.DataLoader(ds, batch_size=10)\n",
        "im, seg = next(iter(loader))\n",
        "print(im.shape, seg.shape)"
      ],
      "execution_count": 22,
      "outputs": [
        {
          "output_type": "stream",
          "text": [
            "torch.Size([10, 1, 96, 96, 64]) torch.Size([10, 1, 96, 96, 64])\n"
          ],
          "name": "stdout"
        }
      ]
    },
    {
      "cell_type": "code",
      "metadata": {
        "id": "CIqVO8b74iiX"
      },
      "source": [
        "from monai.networks.nets import UNet\n",
        "\n",
        "model=UNet(\n",
        "                      dimensions=3,\n",
        "                      in_channels=1,\n",
        "                      out_channels=1,\n",
        "                      channels=(16, 32, 64, 128, 256),\n",
        "                      strides=(2, 2, 2, 2),\n",
        "                      num_res_units=2,\n",
        "                  )\n",
        "   "
      ],
      "execution_count": 26,
      "outputs": []
    },
    {
      "cell_type": "code",
      "metadata": {
        "colab": {
          "base_uri": "https://localhost:8080/"
        },
        "id": "vWucOCVc6glU",
        "outputId": "18959f40-a8ec-49b9-e9c6-10a1e56e606b"
      },
      "source": [
        "x=torch.randn(1,1,96,96,64)\n",
        "out=model(x)\n",
        "out.shape"
      ],
      "execution_count": 29,
      "outputs": [
        {
          "output_type": "execute_result",
          "data": {
            "text/plain": [
              "torch.Size([1, 1, 96, 96, 64])"
            ]
          },
          "metadata": {
            "tags": []
          },
          "execution_count": 29
        }
      ]
    },
    {
      "cell_type": "code",
      "metadata": {
        "id": "vwSKHKKe5ZC1"
      },
      "source": [
        "from sklearn.model_selection import train_test_split\n",
        "train_img,val_img,train_seg,val_seg=train_test_split(images,segs,test_size=0.2)\n",
        "train_img,test_img,train_seg,test_seg=train_test_split(train_img,train_seg,test_size=0.2)"
      ],
      "execution_count": 40,
      "outputs": []
    },
    {
      "cell_type": "code",
      "metadata": {
        "colab": {
          "base_uri": "https://localhost:8080/"
        },
        "id": "0z_atWy2-eAr",
        "outputId": "7ac5dec9-fe7f-4d73-80d1-45e317121861"
      },
      "source": [
        "print('train_img', len(train_img), 'train_seg', len(train_seg))\n",
        "print('val_img', len(val_img), 'val_seg', len(val_seg))\n",
        "print('test_img', len(test_img), 'test_seg', len(test_seg))"
      ],
      "execution_count": 42,
      "outputs": [
        {
          "output_type": "stream",
          "text": [
            "train_img 25 train_seg 25\n",
            "val_img 8 val_seg 8\n",
            "test_img 7 test_seg 7\n"
          ],
          "name": "stdout"
        }
      ]
    },
    {
      "cell_type": "markdown",
      "metadata": {
        "id": "oBlVcraC3lPV"
      },
      "source": [
        "# Create Model, Loss, Optimizer"
      ]
    },
    {
      "cell_type": "code",
      "metadata": {
        "id": "PABr_NSS8A6j"
      },
      "source": [
        "from pytorch_lightning import seed_everything, LightningModule, Trainer\n",
        "from pytorch_lightning.callbacks import EarlyStopping,ModelCheckpoint\n",
        "from monai.losses import DiceLoss\n"
      ],
      "execution_count": 36,
      "outputs": []
    },
    {
      "cell_type": "code",
      "metadata": {
        "id": "guFOpHRz3gZj"
      },
      "source": [
        "import torch.nn as nn\n",
        "class OurModel(LightningModule):\n",
        "  def __init__(self):\n",
        "    super(OurModel,self).__init__()\n",
        "    #architecute\n",
        "    self.layer = UNet(\n",
        "                      dimensions=3,\n",
        "                      in_channels=1,\n",
        "                      out_channels=1,\n",
        "                      channels=(16, 32, 64, 128, 256),\n",
        "                      strides=(2, 2, 2, 2),\n",
        "                      num_res_units=2,\n",
        "                  )\n",
        "\n",
        "  #parameters\n",
        "    self.lr=1e-3\n",
        "    self.batch_size=8\n",
        "    self.numworker=1\n",
        "    self.criterion=DiceLoss(sigmoid=True)\n",
        "    \n",
        "  def forward(self,x):\n",
        "    return self.layer(x)\n",
        "\n",
        "\n",
        "  def configure_optimizers(self):\n",
        "    opt=torch.optim.Adam(self.parameters(), lr=self.lr)\n",
        "    return opt\n",
        "\n",
        "  def train_dataloader(self):\n",
        "    ds = ArrayDataset(train_img, imtrans, train_seg, segtrans)\n",
        "    loader = torch.utils.data.DataLoader(ds, batch_size=self.batch_size)\n",
        "    return loader\n",
        "\n",
        "  def training_step(self,batch,batch_idx):\n",
        "    image,segment=batch\n",
        "    out=self(image)\n",
        "    loss=self.criterion(out,segment)\n",
        "\n",
        "    self.log('train/loss', loss, on_epoch=True,prog_bar=True)\n",
        "    return loss\n",
        "\n",
        "  def val_dataloader(self):\n",
        "    ds = ArrayDataset(test_img, imtrans, test_seg, segtrans)\n",
        "    loader = torch.utils.data.DataLoader(ds, batch_size=self.batch_size)\n",
        "    return loader\n",
        "    \n",
        "  def validation_step(self,batch,batch_idx):\n",
        "    image,segment=batch\n",
        "    out=self(image)\n",
        "    loss=self.criterion(out,segment)\n",
        "    self.log('val/loss', loss, on_epoch=True,prog_bar=True)\n",
        "    return loss\n"
      ],
      "execution_count": 37,
      "outputs": []
    },
    {
      "cell_type": "code",
      "metadata": {
        "colab": {
          "base_uri": "https://localhost:8080/"
        },
        "id": "LXaK8rCh7vx-",
        "outputId": "e88b86ce-e0af-480d-9f6c-8a959230e639"
      },
      "source": [
        "model = OurModel()\n",
        "trainer = Trainer(max_epochs=1, auto_lr_find=False, auto_scale_batch_size=False,\n",
        "                  tpu_cores=8,precision=16,\n",
        "                  #gpus=-1,\n",
        "                  progress_bar_refresh_rate=30)"
      ],
      "execution_count": 38,
      "outputs": [
        {
          "output_type": "stream",
          "text": [
            "GPU available: False, used: False\n",
            "TPU available: True, using: 8 TPU cores\n"
          ],
          "name": "stderr"
        }
      ]
    },
    {
      "cell_type": "code",
      "metadata": {
        "colab": {
          "base_uri": "https://localhost:8080/",
          "height": 297,
          "referenced_widgets": [
            "5e4ed8d579bb49369b49efcff38ce532",
            "42d6d0db9e404b019ed30159693383e4",
            "874777801e4d45938774a44c4ad83c92",
            "c483c1bf405a48e9b33d1a523e8772e6",
            "28aa90aa4f8547cc83885e92d5ffcbd3",
            "3abebf559c9e4695a2eb217514eb897e",
            "7ebe843ca0f04be199e5492640f4b6fd",
            "aa64ed77b02b4fcea0559de54b23e9fd",
            "fd3ef750e692453abdf2a272c86f1060",
            "5329ee563cb147ff9c59e7d3c176fdb6",
            "574b6b55fa9b478bad32308ae8d63ff9",
            "6fd6d7e47f2940809b93de0895849282",
            "58a24bab7ba64540a0e29f68b963d28b",
            "f847a31c843341d7a111d5c98a6c8aed",
            "4a4a2c334b0644c89db087dfcd5d329b",
            "91c7372b665048c69bec333e48e03a72",
            "301d8d5c08dc4f4d84030a42c4649cfb",
            "a3e5541572e94dabb59ea660fbf0c8d1",
            "809c3c51353446b0aa6edbc6423f8b79",
            "6a8ea105a5234e5b807dfc0a13c57339",
            "9f105b112eb848a99f5efaf93a38a4b2",
            "836e828a18ff47d29c0cdacc1cf5973e",
            "0dd31ff672d54952afa081477e92ebac",
            "1258a5e890c74669b642f126c6dded32"
          ]
        },
        "id": "0rJi9Fxs8ICo",
        "outputId": "9eb2c4d5-93a7-41bf-8e57-2e20057bd087"
      },
      "source": [
        "trainer.fit(model)"
      ],
      "execution_count": 39,
      "outputs": [
        {
          "output_type": "stream",
          "text": [
            "\n",
            "  | Name      | Type     | Params\n",
            "---------------------------------------\n",
            "0 | layer     | UNet     | 4.8 M \n",
            "1 | criterion | DiceLoss | 0     \n",
            "---------------------------------------\n",
            "4.8 M     Trainable params\n",
            "0         Non-trainable params\n",
            "4.8 M     Total params\n",
            "9.611     Total estimated model params size (MB)\n"
          ],
          "name": "stderr"
        },
        {
          "output_type": "display_data",
          "data": {
            "application/vnd.jupyter.widget-view+json": {
              "model_id": "5e4ed8d579bb49369b49efcff38ce532",
              "version_minor": 0,
              "version_major": 2
            },
            "text/plain": [
              "HBox(children=(FloatProgress(value=1.0, bar_style='info', description='Validation sanity check', layout=Layout…"
            ]
          },
          "metadata": {
            "tags": []
          }
        },
        {
          "output_type": "stream",
          "text": [
            "\r"
          ],
          "name": "stdout"
        },
        {
          "output_type": "display_data",
          "data": {
            "application/vnd.jupyter.widget-view+json": {
              "model_id": "fd3ef750e692453abdf2a272c86f1060",
              "version_minor": 0,
              "version_major": 2
            },
            "text/plain": [
              "HBox(children=(FloatProgress(value=1.0, bar_style='info', description='Training', layout=Layout(flex='2'), max…"
            ]
          },
          "metadata": {
            "tags": []
          }
        },
        {
          "output_type": "display_data",
          "data": {
            "application/vnd.jupyter.widget-view+json": {
              "model_id": "301d8d5c08dc4f4d84030a42c4649cfb",
              "version_minor": 0,
              "version_major": 2
            },
            "text/plain": [
              "HBox(children=(FloatProgress(value=1.0, bar_style='info', description='Validating', layout=Layout(flex='2'), m…"
            ]
          },
          "metadata": {
            "tags": []
          }
        },
        {
          "output_type": "stream",
          "text": [
            "\n"
          ],
          "name": "stdout"
        },
        {
          "output_type": "stream",
          "text": [
            "/usr/local/lib/python3.7/dist-packages/pytorch_lightning/plugins/training_type/tpu_spawn.py:193: UserWarning: cleaning up ddp environment...\n",
            "  rank_zero_warn(\"cleaning up ddp environment...\")\n"
          ],
          "name": "stderr"
        }
      ]
    },
    {
      "cell_type": "code",
      "metadata": {
        "id": "ztd-NUzv8Ro9"
      },
      "source": [
        "ds = ArrayDataset(test_img, imtrans, test_seg, segtrans)\n",
        "test_loader = torch.utils.data.DataLoader(ds, batch_size=2)\n",
        "model.eval()\n",
        "with torch.no_grad():\n",
        "  imgs,preds,labels=[],[],[]\n",
        "  for img, seg in test_loader:\n",
        "    pred=model(img)\n",
        "    img=img.detach().numpy()\n",
        "    pred=pred.detach().numpy()\n",
        "    seg=seg.detach().numpy()\n",
        "    imgs.append(img)\n",
        "    preds.append(pred)\n",
        "    labels.append(seg)"
      ],
      "execution_count": 60,
      "outputs": []
    },
    {
      "cell_type": "code",
      "metadata": {
        "colab": {
          "base_uri": "https://localhost:8080/"
        },
        "id": "Qe1nJ0sD_GCL",
        "outputId": "2dfa4e4d-5f72-4bc9-97a4-1028d4d98645"
      },
      "source": [
        "img.shape,pred.shape,seg.shape"
      ],
      "execution_count": 61,
      "outputs": [
        {
          "output_type": "execute_result",
          "data": {
            "text/plain": [
              "((1, 1, 96, 96, 64), (1, 1, 96, 96, 64), (1, 1, 96, 96, 64))"
            ]
          },
          "metadata": {
            "tags": []
          },
          "execution_count": 61
        }
      ]
    },
    {
      "cell_type": "code",
      "metadata": {
        "colab": {
          "base_uri": "https://localhost:8080/"
        },
        "id": "xkVewvboAGPq",
        "outputId": "ed164e2c-b7c2-40cf-905c-74e340dd7fd7"
      },
      "source": [
        "imgs_array=np.concatenate(imgs)\n",
        "preds_array=np.concatenate(preds)\n",
        "labels_array=np.concatenate(labels)\n",
        "imgs_array.shape,preds_array.shape,labels_array.shape"
      ],
      "execution_count": 63,
      "outputs": [
        {
          "output_type": "execute_result",
          "data": {
            "text/plain": [
              "((7, 1, 96, 96, 64), (7, 1, 96, 96, 64), (7, 1, 96, 96, 64))"
            ]
          },
          "metadata": {
            "tags": []
          },
          "execution_count": 63
        }
      ]
    },
    {
      "cell_type": "code",
      "metadata": {
        "colab": {
          "base_uri": "https://localhost:8080/",
          "height": 499
        },
        "id": "SbOiPITY_I6O",
        "outputId": "3aabc53f-6ada-4abc-be01-a84b74e8ae9e"
      },
      "source": [
        "fig,ax=plt.subplots(3,3,figsize=(16,8))\n",
        "for i in range(3):\n",
        "  ax[i,0].imshow(imgs_array[i,0,:,:,48],cmap='gray')\n",
        "  ax[i,0].set_title('image_{}'.format(i))\n",
        "  ax[i,1].imshow(labels_array[i,0,:,:,48],cmap='gray')\n",
        "  ax[i,1].set_title('segment_{}'.format(i))\n",
        "  ax[i,2].imshow(preds_array[i,0,:,:,48],cmap='gray')\n",
        "  ax[i,2].set_title('predicted_{}'.format(i))\n",
        "plt.subplots_adjust(wspace=-0.7, hspace=0.4)\n"
      ],
      "execution_count": 78,
      "outputs": [
        {
          "output_type": "display_data",
          "data": {
            "image/png": "[encoded data removed]",
            "text/plain": [
              "<Figure size 1152x576 with 9 Axes>"
            ]
          },
          "metadata": {
            "tags": [],
            "needs_background": "light"
          }
        }
      ]
    },
    {
      "cell_type": "code",
      "metadata": {
        "id": "DkidlUC7ADUu"
      },
      "source": [
        ""
      ],
      "execution_count": null,
      "outputs": []
    }
  ]
}